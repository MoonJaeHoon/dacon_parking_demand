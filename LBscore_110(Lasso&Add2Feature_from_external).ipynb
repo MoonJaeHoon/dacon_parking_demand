{
  "nbformat": 4,
  "nbformat_minor": 0,
  "metadata": {
    "kernelspec": {
      "display_name": "Python 3",
      "language": "python",
      "name": "python3"
    },
    "language_info": {
      "codemirror_mode": {
        "name": "ipython",
        "version": 3
      },
      "file_extension": ".py",
      "mimetype": "text/x-python",
      "name": "python",
      "nbconvert_exporter": "python",
      "pygments_lexer": "ipython3",
      "version": "3.8.5"
    },
    "colab": {
      "name": "[110.83537]Lasso_변수추가_외부데이터활용_단지코드별&지역별차량등록대수(111.079를수정).ipynb",
      "provenance": [],
      "collapsed_sections": [],
      "include_colab_link": true
    },
    "widgets": {
      "application/vnd.jupyter.widget-state+json": {
        "b2ea33c6e3e54b6fa05f51c741e38551": {
          "model_module": "@jupyter-widgets/controls",
          "model_name": "IntProgressModel",
          "state": {
            "_view_name": "ProgressView",
            "style": "IPY_MODEL_2282278be9594d88b6dea15cbd1cc1ce",
            "_dom_classes": [],
            "description": "Processing: ",
            "_model_name": "IntProgressModel",
            "bar_style": "",
            "max": 3,
            "_view_module": "@jupyter-widgets/controls",
            "_model_module_version": "1.5.0",
            "value": 3,
            "_view_count": null,
            "_view_module_version": "1.5.0",
            "orientation": "horizontal",
            "min": 0,
            "description_tooltip": null,
            "_model_module": "@jupyter-widgets/controls",
            "layout": "IPY_MODEL_3a6f2533e6f441af940d1fe12f93091b"
          }
        },
        "2282278be9594d88b6dea15cbd1cc1ce": {
          "model_module": "@jupyter-widgets/controls",
          "model_name": "ProgressStyleModel",
          "state": {
            "_view_name": "StyleView",
            "_model_name": "ProgressStyleModel",
            "description_width": "",
            "_view_module": "@jupyter-widgets/base",
            "_model_module_version": "1.5.0",
            "_view_count": null,
            "_view_module_version": "1.2.0",
            "bar_color": null,
            "_model_module": "@jupyter-widgets/controls"
          }
        },
        "3a6f2533e6f441af940d1fe12f93091b": {
          "model_module": "@jupyter-widgets/base",
          "model_name": "LayoutModel",
          "state": {
            "_view_name": "LayoutView",
            "grid_template_rows": null,
            "right": null,
            "justify_content": null,
            "_view_module": "@jupyter-widgets/base",
            "overflow": null,
            "_model_module_version": "1.2.0",
            "_view_count": null,
            "flex_flow": null,
            "width": null,
            "min_width": null,
            "border": null,
            "align_items": null,
            "bottom": null,
            "_model_module": "@jupyter-widgets/base",
            "top": null,
            "grid_column": null,
            "overflow_y": null,
            "overflow_x": null,
            "grid_auto_flow": null,
            "grid_area": null,
            "grid_template_columns": null,
            "flex": null,
            "_model_name": "LayoutModel",
            "justify_items": null,
            "grid_row": null,
            "max_height": null,
            "align_content": null,
            "visibility": null,
            "align_self": null,
            "height": null,
            "min_height": null,
            "padding": null,
            "grid_auto_rows": null,
            "grid_gap": null,
            "max_width": null,
            "order": null,
            "_view_module_version": "1.2.0",
            "grid_template_areas": null,
            "object_position": null,
            "object_fit": null,
            "grid_auto_columns": null,
            "margin": null,
            "display": null,
            "left": null
          }
        },
        "ffe2f6e15412442d931b063816768eb2": {
          "model_module": "@jupyter-widgets/controls",
          "model_name": "TextModel",
          "state": {
            "_view_name": "TextView",
            "style": "IPY_MODEL_31887d8e579345be987e3c136b343369",
            "_dom_classes": [],
            "description": "",
            "_model_name": "TextModel",
            "placeholder": "​",
            "_view_module": "@jupyter-widgets/controls",
            "_model_module_version": "1.5.0",
            "value": "Following data types have been inferred automatically, if they are correct press enter to continue or type 'quit' otherwise.",
            "_view_count": null,
            "disabled": false,
            "_view_module_version": "1.5.0",
            "continuous_update": true,
            "description_tooltip": null,
            "_model_module": "@jupyter-widgets/controls",
            "layout": "IPY_MODEL_fc5d5ce2f24b4f8b8ad1f9eb5f2ee53f"
          }
        },
        "31887d8e579345be987e3c136b343369": {
          "model_module": "@jupyter-widgets/controls",
          "model_name": "DescriptionStyleModel",
          "state": {
            "_view_name": "StyleView",
            "_model_name": "DescriptionStyleModel",
            "description_width": "",
            "_view_module": "@jupyter-widgets/base",
            "_model_module_version": "1.5.0",
            "_view_count": null,
            "_view_module_version": "1.2.0",
            "_model_module": "@jupyter-widgets/controls"
          }
        },
        "fc5d5ce2f24b4f8b8ad1f9eb5f2ee53f": {
          "model_module": "@jupyter-widgets/base",
          "model_name": "LayoutModel",
          "state": {
            "_view_name": "LayoutView",
            "grid_template_rows": null,
            "right": null,
            "justify_content": null,
            "_view_module": "@jupyter-widgets/base",
            "overflow": null,
            "_model_module_version": "1.2.0",
            "_view_count": null,
            "flex_flow": null,
            "width": "100%",
            "min_width": null,
            "border": null,
            "align_items": null,
            "bottom": null,
            "_model_module": "@jupyter-widgets/base",
            "top": null,
            "grid_column": null,
            "overflow_y": null,
            "overflow_x": null,
            "grid_auto_flow": null,
            "grid_area": null,
            "grid_template_columns": null,
            "flex": null,
            "_model_name": "LayoutModel",
            "justify_items": null,
            "grid_row": null,
            "max_height": null,
            "align_content": null,
            "visibility": null,
            "align_self": null,
            "height": null,
            "min_height": null,
            "padding": null,
            "grid_auto_rows": null,
            "grid_gap": null,
            "max_width": null,
            "order": null,
            "_view_module_version": "1.2.0",
            "grid_template_areas": null,
            "object_position": null,
            "object_fit": null,
            "grid_auto_columns": null,
            "margin": null,
            "display": null,
            "left": null
          }
        },
        "00b1f1b3fd3744e8b54a40df1ab531c9": {
          "model_module": "@jupyter-widgets/controls",
          "model_name": "IntProgressModel",
          "state": {
            "_view_name": "ProgressView",
            "style": "IPY_MODEL_6eb01058b6dc4235a739144ec57d0337",
            "_dom_classes": [],
            "description": "Processing: ",
            "_model_name": "IntProgressModel",
            "bar_style": "",
            "max": 99,
            "_view_module": "@jupyter-widgets/controls",
            "_model_module_version": "1.5.0",
            "value": 99,
            "_view_count": null,
            "_view_module_version": "1.5.0",
            "orientation": "horizontal",
            "min": 0,
            "description_tooltip": null,
            "_model_module": "@jupyter-widgets/controls",
            "layout": "IPY_MODEL_14bbeeee61814eabb4d9cae99063c3eb"
          }
        },
        "6eb01058b6dc4235a739144ec57d0337": {
          "model_module": "@jupyter-widgets/controls",
          "model_name": "ProgressStyleModel",
          "state": {
            "_view_name": "StyleView",
            "_model_name": "ProgressStyleModel",
            "description_width": "",
            "_view_module": "@jupyter-widgets/base",
            "_model_module_version": "1.5.0",
            "_view_count": null,
            "_view_module_version": "1.2.0",
            "bar_color": null,
            "_model_module": "@jupyter-widgets/controls"
          }
        },
        "14bbeeee61814eabb4d9cae99063c3eb": {
          "model_module": "@jupyter-widgets/base",
          "model_name": "LayoutModel",
          "state": {
            "_view_name": "LayoutView",
            "grid_template_rows": null,
            "right": null,
            "justify_content": null,
            "_view_module": "@jupyter-widgets/base",
            "overflow": null,
            "_model_module_version": "1.2.0",
            "_view_count": null,
            "flex_flow": null,
            "width": null,
            "min_width": null,
            "border": null,
            "align_items": null,
            "bottom": null,
            "_model_module": "@jupyter-widgets/base",
            "top": null,
            "grid_column": null,
            "overflow_y": null,
            "overflow_x": null,
            "grid_auto_flow": null,
            "grid_area": null,
            "grid_template_columns": null,
            "flex": null,
            "_model_name": "LayoutModel",
            "justify_items": null,
            "grid_row": null,
            "max_height": null,
            "align_content": null,
            "visibility": null,
            "align_self": null,
            "height": null,
            "min_height": null,
            "padding": null,
            "grid_auto_rows": null,
            "grid_gap": null,
            "max_width": null,
            "order": null,
            "_view_module_version": "1.2.0",
            "grid_template_areas": null,
            "object_position": null,
            "object_fit": null,
            "grid_auto_columns": null,
            "margin": null,
            "display": null,
            "left": null
          }
        },
        "59ec778d15fd483ab23277ab9ab411f2": {
          "model_module": "@jupyter-widgets/controls",
          "model_name": "IntProgressModel",
          "state": {
            "_view_name": "ProgressView",
            "style": "IPY_MODEL_ef21de98c0d54b9f88190ba5f36cd2e5",
            "_dom_classes": [],
            "description": "Processing: ",
            "_model_name": "IntProgressModel",
            "bar_style": "",
            "max": 3,
            "_view_module": "@jupyter-widgets/controls",
            "_model_module_version": "1.5.0",
            "value": 3,
            "_view_count": null,
            "_view_module_version": "1.5.0",
            "orientation": "horizontal",
            "min": 0,
            "description_tooltip": null,
            "_model_module": "@jupyter-widgets/controls",
            "layout": "IPY_MODEL_651259f98b8e4b7bace47f05cc559260"
          }
        },
        "ef21de98c0d54b9f88190ba5f36cd2e5": {
          "model_module": "@jupyter-widgets/controls",
          "model_name": "ProgressStyleModel",
          "state": {
            "_view_name": "StyleView",
            "_model_name": "ProgressStyleModel",
            "description_width": "",
            "_view_module": "@jupyter-widgets/base",
            "_model_module_version": "1.5.0",
            "_view_count": null,
            "_view_module_version": "1.2.0",
            "bar_color": null,
            "_model_module": "@jupyter-widgets/controls"
          }
        },
        "651259f98b8e4b7bace47f05cc559260": {
          "model_module": "@jupyter-widgets/base",
          "model_name": "LayoutModel",
          "state": {
            "_view_name": "LayoutView",
            "grid_template_rows": null,
            "right": null,
            "justify_content": null,
            "_view_module": "@jupyter-widgets/base",
            "overflow": null,
            "_model_module_version": "1.2.0",
            "_view_count": null,
            "flex_flow": null,
            "width": null,
            "min_width": null,
            "border": null,
            "align_items": null,
            "bottom": null,
            "_model_module": "@jupyter-widgets/base",
            "top": null,
            "grid_column": null,
            "overflow_y": null,
            "overflow_x": null,
            "grid_auto_flow": null,
            "grid_area": null,
            "grid_template_columns": null,
            "flex": null,
            "_model_name": "LayoutModel",
            "justify_items": null,
            "grid_row": null,
            "max_height": null,
            "align_content": null,
            "visibility": null,
            "align_self": null,
            "height": null,
            "min_height": null,
            "padding": null,
            "grid_auto_rows": null,
            "grid_gap": null,
            "max_width": null,
            "order": null,
            "_view_module_version": "1.2.0",
            "grid_template_areas": null,
            "object_position": null,
            "object_fit": null,
            "grid_auto_columns": null,
            "margin": null,
            "display": null,
            "left": null
          }
        },
        "900235b2a4ee4e5ab8bd259312a158a6": {
          "model_module": "@jupyter-widgets/controls",
          "model_name": "TextModel",
          "state": {
            "_view_name": "TextView",
            "style": "IPY_MODEL_8d09acbeb31a43a7ab3668146a50d067",
            "_dom_classes": [],
            "description": "",
            "_model_name": "TextModel",
            "placeholder": "​",
            "_view_module": "@jupyter-widgets/controls",
            "_model_module_version": "1.5.0",
            "value": "Following data types have been inferred automatically, if they are correct press enter to continue or type 'quit' otherwise.",
            "_view_count": null,
            "disabled": false,
            "_view_module_version": "1.5.0",
            "continuous_update": true,
            "description_tooltip": null,
            "_model_module": "@jupyter-widgets/controls",
            "layout": "IPY_MODEL_0d87cca3351e4426a8e123ab1ff3398b"
          }
        },
        "8d09acbeb31a43a7ab3668146a50d067": {
          "model_module": "@jupyter-widgets/controls",
          "model_name": "DescriptionStyleModel",
          "state": {
            "_view_name": "StyleView",
            "_model_name": "DescriptionStyleModel",
            "description_width": "",
            "_view_module": "@jupyter-widgets/base",
            "_model_module_version": "1.5.0",
            "_view_count": null,
            "_view_module_version": "1.2.0",
            "_model_module": "@jupyter-widgets/controls"
          }
        },
        "0d87cca3351e4426a8e123ab1ff3398b": {
          "model_module": "@jupyter-widgets/base",
          "model_name": "LayoutModel",
          "state": {
            "_view_name": "LayoutView",
            "grid_template_rows": null,
            "right": null,
            "justify_content": null,
            "_view_module": "@jupyter-widgets/base",
            "overflow": null,
            "_model_module_version": "1.2.0",
            "_view_count": null,
            "flex_flow": null,
            "width": "100%",
            "min_width": null,
            "border": null,
            "align_items": null,
            "bottom": null,
            "_model_module": "@jupyter-widgets/base",
            "top": null,
            "grid_column": null,
            "overflow_y": null,
            "overflow_x": null,
            "grid_auto_flow": null,
            "grid_area": null,
            "grid_template_columns": null,
            "flex": null,
            "_model_name": "LayoutModel",
            "justify_items": null,
            "grid_row": null,
            "max_height": null,
            "align_content": null,
            "visibility": null,
            "align_self": null,
            "height": null,
            "min_height": null,
            "padding": null,
            "grid_auto_rows": null,
            "grid_gap": null,
            "max_width": null,
            "order": null,
            "_view_module_version": "1.2.0",
            "grid_template_areas": null,
            "object_position": null,
            "object_fit": null,
            "grid_auto_columns": null,
            "margin": null,
            "display": null,
            "left": null
          }
        },
        "719a5cc3e66b498aba2fc1f5016a6869": {
          "model_module": "@jupyter-widgets/controls",
          "model_name": "IntProgressModel",
          "state": {
            "_view_name": "ProgressView",
            "style": "IPY_MODEL_beae6121a4f341cfbf9a10ee1cc4d898",
            "_dom_classes": [],
            "description": "Processing: ",
            "_model_name": "IntProgressModel",
            "bar_style": "",
            "max": 99,
            "_view_module": "@jupyter-widgets/controls",
            "_model_module_version": "1.5.0",
            "value": 99,
            "_view_count": null,
            "_view_module_version": "1.5.0",
            "orientation": "horizontal",
            "min": 0,
            "description_tooltip": null,
            "_model_module": "@jupyter-widgets/controls",
            "layout": "IPY_MODEL_3ad8f6a9a6254ca48619efc560517778"
          }
        },
        "beae6121a4f341cfbf9a10ee1cc4d898": {
          "model_module": "@jupyter-widgets/controls",
          "model_name": "ProgressStyleModel",
          "state": {
            "_view_name": "StyleView",
            "_model_name": "ProgressStyleModel",
            "description_width": "",
            "_view_module": "@jupyter-widgets/base",
            "_model_module_version": "1.5.0",
            "_view_count": null,
            "_view_module_version": "1.2.0",
            "bar_color": null,
            "_model_module": "@jupyter-widgets/controls"
          }
        },
        "3ad8f6a9a6254ca48619efc560517778": {
          "model_module": "@jupyter-widgets/base",
          "model_name": "LayoutModel",
          "state": {
            "_view_name": "LayoutView",
            "grid_template_rows": null,
            "right": null,
            "justify_content": null,
            "_view_module": "@jupyter-widgets/base",
            "overflow": null,
            "_model_module_version": "1.2.0",
            "_view_count": null,
            "flex_flow": null,
            "width": null,
            "min_width": null,
            "border": null,
            "align_items": null,
            "bottom": null,
            "_model_module": "@jupyter-widgets/base",
            "top": null,
            "grid_column": null,
            "overflow_y": null,
            "overflow_x": null,
            "grid_auto_flow": null,
            "grid_area": null,
            "grid_template_columns": null,
            "flex": null,
            "_model_name": "LayoutModel",
            "justify_items": null,
            "grid_row": null,
            "max_height": null,
            "align_content": null,
            "visibility": null,
            "align_self": null,
            "height": null,
            "min_height": null,
            "padding": null,
            "grid_auto_rows": null,
            "grid_gap": null,
            "max_width": null,
            "order": null,
            "_view_module_version": "1.2.0",
            "grid_template_areas": null,
            "object_position": null,
            "object_fit": null,
            "grid_auto_columns": null,
            "margin": null,
            "display": null,
            "left": null
          }
        },
        "fab8f28757a9447882652e2474345af0": {
          "model_module": "@jupyter-widgets/controls",
          "model_name": "IntProgressModel",
          "state": {
            "_view_name": "ProgressView",
            "style": "IPY_MODEL_518e5cb6d90a4beaa6bc6a8b943f5c6b",
            "_dom_classes": [],
            "description": "Processing: ",
            "_model_name": "IntProgressModel",
            "bar_style": "",
            "max": 3,
            "_view_module": "@jupyter-widgets/controls",
            "_model_module_version": "1.5.0",
            "value": 3,
            "_view_count": null,
            "_view_module_version": "1.5.0",
            "orientation": "horizontal",
            "min": 0,
            "description_tooltip": null,
            "_model_module": "@jupyter-widgets/controls",
            "layout": "IPY_MODEL_41b1376161354dc0b853163b8cef2cca"
          }
        },
        "518e5cb6d90a4beaa6bc6a8b943f5c6b": {
          "model_module": "@jupyter-widgets/controls",
          "model_name": "ProgressStyleModel",
          "state": {
            "_view_name": "StyleView",
            "_model_name": "ProgressStyleModel",
            "description_width": "",
            "_view_module": "@jupyter-widgets/base",
            "_model_module_version": "1.5.0",
            "_view_count": null,
            "_view_module_version": "1.2.0",
            "bar_color": null,
            "_model_module": "@jupyter-widgets/controls"
          }
        },
        "41b1376161354dc0b853163b8cef2cca": {
          "model_module": "@jupyter-widgets/base",
          "model_name": "LayoutModel",
          "state": {
            "_view_name": "LayoutView",
            "grid_template_rows": null,
            "right": null,
            "justify_content": null,
            "_view_module": "@jupyter-widgets/base",
            "overflow": null,
            "_model_module_version": "1.2.0",
            "_view_count": null,
            "flex_flow": null,
            "width": null,
            "min_width": null,
            "border": null,
            "align_items": null,
            "bottom": null,
            "_model_module": "@jupyter-widgets/base",
            "top": null,
            "grid_column": null,
            "overflow_y": null,
            "overflow_x": null,
            "grid_auto_flow": null,
            "grid_area": null,
            "grid_template_columns": null,
            "flex": null,
            "_model_name": "LayoutModel",
            "justify_items": null,
            "grid_row": null,
            "max_height": null,
            "align_content": null,
            "visibility": null,
            "align_self": null,
            "height": null,
            "min_height": null,
            "padding": null,
            "grid_auto_rows": null,
            "grid_gap": null,
            "max_width": null,
            "order": null,
            "_view_module_version": "1.2.0",
            "grid_template_areas": null,
            "object_position": null,
            "object_fit": null,
            "grid_auto_columns": null,
            "margin": null,
            "display": null,
            "left": null
          }
        },
        "e141c4c210fe4c598d03c4055b24de33": {
          "model_module": "@jupyter-widgets/controls",
          "model_name": "TextModel",
          "state": {
            "_view_name": "TextView",
            "style": "IPY_MODEL_e5bd8e4826d144ba982d6dee82a23623",
            "_dom_classes": [],
            "description": "",
            "_model_name": "TextModel",
            "placeholder": "​",
            "_view_module": "@jupyter-widgets/controls",
            "_model_module_version": "1.5.0",
            "value": "Following data types have been inferred automatically, if they are correct press enter to continue or type 'quit' otherwise.",
            "_view_count": null,
            "disabled": false,
            "_view_module_version": "1.5.0",
            "continuous_update": true,
            "description_tooltip": null,
            "_model_module": "@jupyter-widgets/controls",
            "layout": "IPY_MODEL_109fa51cc7bb4141a0215c14cf33a520"
          }
        },
        "e5bd8e4826d144ba982d6dee82a23623": {
          "model_module": "@jupyter-widgets/controls",
          "model_name": "DescriptionStyleModel",
          "state": {
            "_view_name": "StyleView",
            "_model_name": "DescriptionStyleModel",
            "description_width": "",
            "_view_module": "@jupyter-widgets/base",
            "_model_module_version": "1.5.0",
            "_view_count": null,
            "_view_module_version": "1.2.0",
            "_model_module": "@jupyter-widgets/controls"
          }
        },
        "109fa51cc7bb4141a0215c14cf33a520": {
          "model_module": "@jupyter-widgets/base",
          "model_name": "LayoutModel",
          "state": {
            "_view_name": "LayoutView",
            "grid_template_rows": null,
            "right": null,
            "justify_content": null,
            "_view_module": "@jupyter-widgets/base",
            "overflow": null,
            "_model_module_version": "1.2.0",
            "_view_count": null,
            "flex_flow": null,
            "width": "100%",
            "min_width": null,
            "border": null,
            "align_items": null,
            "bottom": null,
            "_model_module": "@jupyter-widgets/base",
            "top": null,
            "grid_column": null,
            "overflow_y": null,
            "overflow_x": null,
            "grid_auto_flow": null,
            "grid_area": null,
            "grid_template_columns": null,
            "flex": null,
            "_model_name": "LayoutModel",
            "justify_items": null,
            "grid_row": null,
            "max_height": null,
            "align_content": null,
            "visibility": null,
            "align_self": null,
            "height": null,
            "min_height": null,
            "padding": null,
            "grid_auto_rows": null,
            "grid_gap": null,
            "max_width": null,
            "order": null,
            "_view_module_version": "1.2.0",
            "grid_template_areas": null,
            "object_position": null,
            "object_fit": null,
            "grid_auto_columns": null,
            "margin": null,
            "display": null,
            "left": null
          }
        },
        "60c3dbe5230e4e2abc8d221d5b2ba6bd": {
          "model_module": "@jupyter-widgets/controls",
          "model_name": "IntProgressModel",
          "state": {
            "_view_name": "ProgressView",
            "style": "IPY_MODEL_51528094193d4ec0a8293390b199e019",
            "_dom_classes": [],
            "description": "Processing: ",
            "_model_name": "IntProgressModel",
            "bar_style": "",
            "max": 4,
            "_view_module": "@jupyter-widgets/controls",
            "_model_module_version": "1.5.0",
            "value": 4,
            "_view_count": null,
            "_view_module_version": "1.5.0",
            "orientation": "horizontal",
            "min": 0,
            "description_tooltip": null,
            "_model_module": "@jupyter-widgets/controls",
            "layout": "IPY_MODEL_91be102d2c80467393ccfeddd7582e93"
          }
        },
        "51528094193d4ec0a8293390b199e019": {
          "model_module": "@jupyter-widgets/controls",
          "model_name": "ProgressStyleModel",
          "state": {
            "_view_name": "StyleView",
            "_model_name": "ProgressStyleModel",
            "description_width": "",
            "_view_module": "@jupyter-widgets/base",
            "_model_module_version": "1.5.0",
            "_view_count": null,
            "_view_module_version": "1.2.0",
            "bar_color": null,
            "_model_module": "@jupyter-widgets/controls"
          }
        },
        "91be102d2c80467393ccfeddd7582e93": {
          "model_module": "@jupyter-widgets/base",
          "model_name": "LayoutModel",
          "state": {
            "_view_name": "LayoutView",
            "grid_template_rows": null,
            "right": null,
            "justify_content": null,
            "_view_module": "@jupyter-widgets/base",
            "overflow": null,
            "_model_module_version": "1.2.0",
            "_view_count": null,
            "flex_flow": null,
            "width": null,
            "min_width": null,
            "border": null,
            "align_items": null,
            "bottom": null,
            "_model_module": "@jupyter-widgets/base",
            "top": null,
            "grid_column": null,
            "overflow_y": null,
            "overflow_x": null,
            "grid_auto_flow": null,
            "grid_area": null,
            "grid_template_columns": null,
            "flex": null,
            "_model_name": "LayoutModel",
            "justify_items": null,
            "grid_row": null,
            "max_height": null,
            "align_content": null,
            "visibility": null,
            "align_self": null,
            "height": null,
            "min_height": null,
            "padding": null,
            "grid_auto_rows": null,
            "grid_gap": null,
            "max_width": null,
            "order": null,
            "_view_module_version": "1.2.0",
            "grid_template_areas": null,
            "object_position": null,
            "object_fit": null,
            "grid_auto_columns": null,
            "margin": null,
            "display": null,
            "left": null
          }
        },
        "7080729b3d2e4c15a7c8edac34cf6cbd": {
          "model_module": "@jupyter-widgets/controls",
          "model_name": "IntProgressModel",
          "state": {
            "_view_name": "ProgressView",
            "style": "IPY_MODEL_41cbb51e98844538b9f3ae58d7171143",
            "_dom_classes": [],
            "description": "Processing: ",
            "_model_name": "IntProgressModel",
            "bar_style": "",
            "max": 7,
            "_view_module": "@jupyter-widgets/controls",
            "_model_module_version": "1.5.0",
            "value": 7,
            "_view_count": null,
            "_view_module_version": "1.5.0",
            "orientation": "horizontal",
            "min": 0,
            "description_tooltip": null,
            "_model_module": "@jupyter-widgets/controls",
            "layout": "IPY_MODEL_704aa4f85cd44965b3e5a55f8f8a111b"
          }
        },
        "41cbb51e98844538b9f3ae58d7171143": {
          "model_module": "@jupyter-widgets/controls",
          "model_name": "ProgressStyleModel",
          "state": {
            "_view_name": "StyleView",
            "_model_name": "ProgressStyleModel",
            "description_width": "",
            "_view_module": "@jupyter-widgets/base",
            "_model_module_version": "1.5.0",
            "_view_count": null,
            "_view_module_version": "1.2.0",
            "bar_color": null,
            "_model_module": "@jupyter-widgets/controls"
          }
        },
        "704aa4f85cd44965b3e5a55f8f8a111b": {
          "model_module": "@jupyter-widgets/base",
          "model_name": "LayoutModel",
          "state": {
            "_view_name": "LayoutView",
            "grid_template_rows": null,
            "right": null,
            "justify_content": null,
            "_view_module": "@jupyter-widgets/base",
            "overflow": null,
            "_model_module_version": "1.2.0",
            "_view_count": null,
            "flex_flow": null,
            "width": null,
            "min_width": null,
            "border": null,
            "align_items": null,
            "bottom": null,
            "_model_module": "@jupyter-widgets/base",
            "top": null,
            "grid_column": null,
            "overflow_y": null,
            "overflow_x": null,
            "grid_auto_flow": null,
            "grid_area": null,
            "grid_template_columns": null,
            "flex": null,
            "_model_name": "LayoutModel",
            "justify_items": null,
            "grid_row": null,
            "max_height": null,
            "align_content": null,
            "visibility": null,
            "align_self": null,
            "height": null,
            "min_height": null,
            "padding": null,
            "grid_auto_rows": null,
            "grid_gap": null,
            "max_width": null,
            "order": null,
            "_view_module_version": "1.2.0",
            "grid_template_areas": null,
            "object_position": null,
            "object_fit": null,
            "grid_auto_columns": null,
            "margin": null,
            "display": null,
            "left": null
          }
        },
        "09929917e371473fabafdd8c592f67d1": {
          "model_module": "@jupyter-widgets/controls",
          "model_name": "IntProgressModel",
          "state": {
            "_view_name": "ProgressView",
            "style": "IPY_MODEL_c5179c9578a24906ba4451de85659823",
            "_dom_classes": [],
            "description": "Processing: ",
            "_model_name": "IntProgressModel",
            "bar_style": "",
            "max": 5,
            "_view_module": "@jupyter-widgets/controls",
            "_model_module_version": "1.5.0",
            "value": 5,
            "_view_count": null,
            "_view_module_version": "1.5.0",
            "orientation": "horizontal",
            "min": 0,
            "description_tooltip": null,
            "_model_module": "@jupyter-widgets/controls",
            "layout": "IPY_MODEL_c0c45ca947814b5c942e5126161e8a88"
          }
        },
        "c5179c9578a24906ba4451de85659823": {
          "model_module": "@jupyter-widgets/controls",
          "model_name": "ProgressStyleModel",
          "state": {
            "_view_name": "StyleView",
            "_model_name": "ProgressStyleModel",
            "description_width": "",
            "_view_module": "@jupyter-widgets/base",
            "_model_module_version": "1.5.0",
            "_view_count": null,
            "_view_module_version": "1.2.0",
            "bar_color": null,
            "_model_module": "@jupyter-widgets/controls"
          }
        },
        "c0c45ca947814b5c942e5126161e8a88": {
          "model_module": "@jupyter-widgets/base",
          "model_name": "LayoutModel",
          "state": {
            "_view_name": "LayoutView",
            "grid_template_rows": null,
            "right": null,
            "justify_content": null,
            "_view_module": "@jupyter-widgets/base",
            "overflow": null,
            "_model_module_version": "1.2.0",
            "_view_count": null,
            "flex_flow": null,
            "width": null,
            "min_width": null,
            "border": null,
            "align_items": null,
            "bottom": null,
            "_model_module": "@jupyter-widgets/base",
            "top": null,
            "grid_column": null,
            "overflow_y": null,
            "overflow_x": null,
            "grid_auto_flow": null,
            "grid_area": null,
            "grid_template_columns": null,
            "flex": null,
            "_model_name": "LayoutModel",
            "justify_items": null,
            "grid_row": null,
            "max_height": null,
            "align_content": null,
            "visibility": null,
            "align_self": null,
            "height": null,
            "min_height": null,
            "padding": null,
            "grid_auto_rows": null,
            "grid_gap": null,
            "max_width": null,
            "order": null,
            "_view_module_version": "1.2.0",
            "grid_template_areas": null,
            "object_position": null,
            "object_fit": null,
            "grid_auto_columns": null,
            "margin": null,
            "display": null,
            "left": null
          }
        }
      }
    }
  },
  "cells": [
    {
      "cell_type": "markdown",
      "metadata": {
        "id": "view-in-github",
        "colab_type": "text"
      },
      "source": [
        "<a href=\"https://colab.research.google.com/github/MoonJaeHoon/dacon_parking_demand/blob/master/LBscore_110(Lasso%26Add2Feature_from_external).ipynb\" target=\"_parent\"><img src=\"https://colab.research.google.com/assets/colab-badge.svg\" alt=\"Open In Colab\"/></a>"
      ]
    },
    {
      "cell_type": "markdown",
      "metadata": {
        "id": "LkX4ydRpEBYV"
      },
      "source": [
        "## 주제: 유형별 임대주택 설계 시 단지 내 적정 주차 수요를 예측\n",
        "\n",
        "+ 아파트 단지 내 필요한 주차대수는 ①법정주차대수 ②장래주차수요 중 큰 값에 따라 결정하게되어 있어, 정확한 ②장래주차수요의 산정을 필요로 함\n",
        "+ 현재 ②장래주차수요는 ‘주차원단위’와 ‘건축연면적’을 기초로하여 산출되고 있으며, ‘주차원단위’는 신규 건축예정 부지 인근의 유사 단지를 피크 시간대 방문하여 주차된 차량대수를 세는 방법으로 조사하고 있음\n",
        "+ 이 경우 인력조사로 인한 오차발생, 현장조사 시점과 실제 건축시점과의 시간차 등의 문제로 과대 또는 과소 산정의 가능성을 배제할 수 없음"
      ]
    },
    {
      "cell_type": "code",
      "metadata": {
        "colab": {
          "base_uri": "https://localhost:8080/"
        },
        "id": "fyhPCr0REETp",
        "outputId": "e6e18788-30c2-4caf-89f6-204c1a0c92ca"
      },
      "source": [
        "from google.colab import drive\n",
        "drive.mount('/content/drive')"
      ],
      "execution_count": null,
      "outputs": [
        {
          "output_type": "stream",
          "text": [
            "Drive already mounted at /content/drive; to attempt to forcibly remount, call drive.mount(\"/content/drive\", force_remount=True).\n"
          ],
          "name": "stdout"
        }
      ]
    },
    {
      "cell_type": "code",
      "metadata": {
        "id": "Zsxl66bZEBYa",
        "colab": {
          "base_uri": "https://localhost:8080/"
        },
        "outputId": "0e00fd57-db8b-4c34-8568-c800a79cc948"
      },
      "source": [
        "import pandas as pd\n",
        "import numpy as np\n",
        "from tqdm import tqdm, tqdm_notebook\n",
        "import os\n",
        "import random\n",
        "import time\n",
        "from datetime import timedelta, timezone, datetime\n",
        "from copy import deepcopy\n",
        "from collections import defaultdict\n",
        "# 한글폰트 설정, 그래프 마이너스 표시 설정\n",
        "import matplotlib\n",
        "from matplotlib import font_manager, rc\n",
        "from matplotlib import pyplot as plt\n",
        "plt.rcParams['font.family']=['NanumGothic', 'sans-serif']\n",
        "plt.rcParams['axes.unicode_minus'] = False\n",
        "import platform\n",
        "import seaborn as sns\n",
        "import warnings\n",
        "warnings.filterwarnings('ignore')\n",
        "if platform.system() == 'Windows':\n",
        "# 윈도우인 경우\n",
        "    font_name = font_manager.FontProperties(fname=\"c:/Windows/Fonts/malgun.ttf\").get_name()\n",
        "    rc('font', family=font_name)\n",
        "else:    \n",
        "# Mac 인 경우\n",
        "    rc('font', family='AppleGothic')\n",
        "\n",
        "matplotlib.rcParams['axes.unicode_minus'] = False\n",
        "\n",
        "seed=47\n",
        "def set_seed(seed: int = 42, contain_cuda: bool = False):\n",
        "    random.seed(seed)\n",
        "    np.random.seed(seed)\n",
        "\n",
        "    # if contain_cuda:\n",
        "    #     torch.backends.cudnn.deterministic = True\n",
        "    #     torch.backends.cudnn.benchmark = False\n",
        "\n",
        "    # torch.manual_seed(seed)\n",
        "    # torch.cuda.manual_seed(seed)\n",
        "    # torch.cuda.manual_seed_all(seed)\n",
        "    print(f\"Seed set as {seed}\")\n",
        "set_seed(seed)"
      ],
      "execution_count": null,
      "outputs": [
        {
          "output_type": "stream",
          "text": [
            "Seed set as 47\n"
          ],
          "name": "stdout"
        }
      ]
    },
    {
      "cell_type": "markdown",
      "metadata": {
        "id": "VYrPXniHEBYb"
      },
      "source": [
        "## 1. 데이터 탐색"
      ]
    },
    {
      "cell_type": "markdown",
      "metadata": {
        "id": "wlDiukquEBYc"
      },
      "source": [
        "### 1.1. 데이터 불러오기 & 간단한 탐색"
      ]
    },
    {
      "cell_type": "code",
      "metadata": {
        "colab": {
          "base_uri": "https://localhost:8080/"
        },
        "id": "SzrHD4CwEL5X",
        "outputId": "6825a760-30d8-4ca3-91aa-aec688a3fcae"
      },
      "source": [
        "cd /content/drive/MyDrive/dacon_parking_data"
      ],
      "execution_count": null,
      "outputs": [
        {
          "output_type": "stream",
          "text": [
            "/content/drive/MyDrive/dacon_parking_data\n"
          ],
          "name": "stdout"
        }
      ]
    },
    {
      "cell_type": "code",
      "metadata": {
        "id": "XevLpgFOEBYc"
      },
      "source": [
        "train = pd.read_csv('./data/train.csv')\n",
        "test = pd.read_csv('./data/test.csv')\n",
        "age_gender_info = pd.read_csv('./data/age_gender_info.csv')"
      ],
      "execution_count": null,
      "outputs": []
    },
    {
      "cell_type": "code",
      "metadata": {
        "colab": {
          "base_uri": "https://localhost:8080/"
        },
        "id": "uaQkyiy_Qv9J",
        "outputId": "ff793b05-d9ca-4af4-8473-7efb9efb2204"
      },
      "source": [
        "# 결측치가 1개라도 존재하는 row들 & 결측치가 전혀 없었던 단지코드들\n",
        "print(f\"train.shape : {train.shape}\")\n",
        "exist_nan_row_idx = train.isnull()[train.isnull().any(axis=1)].index\n",
        "print(f\"len of exist_nan_row_idx : {len(exist_nan_row_idx)}\")\n",
        "no_nan_danjicode = list(set(train['단지코드']) - set(train.loc[exist_nan_row_idx,:]['단지코드']))\n",
        "print(f\"len of exist_nan_danjicode : {len(set(train['단지코드']))-len(no_nan_danjicode)}\")\n",
        "print('='*30)\n",
        "print(f\"len of no_nan_danjicode : {len(no_nan_danjicode)}\")\n",
        "print(no_nan_danjicode)"
      ],
      "execution_count": null,
      "outputs": [
        {
          "output_type": "stream",
          "text": [
            "train.shape : (2952, 15)\n",
            "len of exist_nan_row_idx : 646\n",
            "len of exist_nan_danjicode : 45\n",
            "==============================\n",
            "len of no_nan_danjicode : 378\n",
            "['C2316', 'C2001', 'C1802', 'C2536', 'C1850', 'C1968', 'C1970', 'C2560', 'C1329', 'C2274', 'C1592', 'C2351', 'C2479', 'C1171', 'C1103', 'C2663', 'C2032', 'C2490', 'C1527', 'C1880', 'C1936', 'C1032', 'C1129', 'C2225', 'C1569', 'C1244', 'C1519', 'C2596', 'C2358', 'C1343', 'C1889', 'C2329', 'C1155', 'C1077', 'C1022', 'C1213', 'C1673', 'C2008', 'C2368', 'C1666', 'C1819', 'C1879', 'C2437', 'C2086', 'C1227', 'C2340', 'C2412', 'C2522', 'C2361', 'C1656', 'C2035', 'C2000', 'C2040', 'C2068', 'C1428', 'C1263', 'C1368', 'C1281', 'C2661', 'C1470', 'C2046', 'C2579', 'C2154', 'C2635', 'C1973', 'C1638', 'C2563', 'C1487', 'C1286', 'C1049', 'C1969', 'C1122', 'C2049', 'C2188', 'C2141', 'C1985', 'C2262', 'C2010', 'C1945', 'C1218', 'C1065', 'C1057', 'C1310', 'C2514', 'C2153', 'C1668', 'C1786', 'C2489', 'C1699', 'C1740', 'C1907', 'C2245', 'C2659', 'C2680', 'C1000', 'C2325', 'C2513', 'C1677', 'C1426', 'C2612', 'C1386', 'C1537', 'C1516', 'C1641', 'C2208', 'C2346', 'C1655', 'C1738', 'C2453', 'C2385', 'C1210', 'C2470', 'C2127', 'C1502', 'C1319', 'C2013', 'C2259', 'C1833', 'C2595', 'C1455', 'C2657', 'C2255', 'C2401', 'C1663', 'C2143', 'C2227', 'C1700', 'C1015', 'C2221', 'C2298', 'C1084', 'C2096', 'C1394', 'C1803', 'C1866', 'C1234', 'C2383', 'C1672', 'C2173', 'C2586', 'C1783', 'C2507', 'C1620', 'C2377', 'C1910', 'C2618', 'C2458', 'C1268', 'C1269', 'C1492', 'C1565', 'C2070', 'C2568', 'C2670', 'C1834', 'C1681', 'C2211', 'C2232', 'C1309', 'C1365', 'C2287', 'C2378', 'C1039', 'C1900', 'C2526', 'C2603', 'C1652', 'C2319', 'C2352', 'C1744', 'C2561', 'C1967', 'C2488', 'C2609', 'C1059', 'C1136', 'C1566', 'C2133', 'C1861', 'C2574', 'C2237', 'C1017', 'C1916', 'C1848', 'C1180', 'C1660', 'C1379', 'C2503', 'C1207', 'C2496', 'C2139', 'C2393', 'C1837', 'C2414', 'C1301', 'C1326', 'C1867', 'C1788', 'C1338', 'C1320', 'C2371', 'C2556', 'C1613', 'C2445', 'C1706', 'C2256', 'C2530', 'C1713', 'C1544', 'C2565', 'C1176', 'C1095', 'C1896', 'C1340', 'C1871', 'C2055', 'C1584', 'C1762', 'C2336', 'C2021', 'C1363', 'C1027', 'C1885', 'C1757', 'C2651', 'C2570', 'C2142', 'C1994', 'C1163', 'C2692', 'C2420', 'C2328', 'C1236', 'C1328', 'C1375', 'C2106', 'C1451', 'C1773', 'C1344', 'C1133', 'C2137', 'C2314', 'C2601', 'C2532', 'C2538', 'C1258', 'C2446', 'C2515', 'C2666', 'C2576', 'C2631', 'C1141', 'C2162', 'C1497', 'C1941', 'C1987', 'C2099', 'C1402', 'C2042', 'C2357', 'C1761', 'C1184', 'C2505', 'C1156', 'C2481', 'C1659', 'C1863', 'C1898', 'C1406', 'C1845', 'C1307', 'C1939', 'C1940', 'C2251', 'C2433', 'C2390', 'C1143', 'C1756', 'C2051', 'C2071', 'C1131', 'C2020', 'C1036', 'C2620', 'C1024', 'C1689', 'C1768', 'C2405', 'C1410', 'C2082', 'C2506', 'C1397', 'C1693', 'C1823', 'C2059', 'C1579', 'C1585', 'C1177', 'C1014', 'C1173', 'C2394', 'C2483', 'C1988', 'C1979', 'C1360', 'C1102', 'C2389', 'C2549', 'C1929', 'C2531', 'C1572', 'C2085', 'C2326', 'C1026', 'C2036', 'C2186', 'C1430', 'C2627', 'C2202', 'C1933', 'C1965', 'C2097', 'C1357', 'C1743', 'C1045', 'C1718', 'C2539', 'C1465', 'C1284', 'C1468', 'C2362', 'C1601', 'C1089', 'C1687', 'C2450', 'C2518', 'C1911', 'C1962', 'C2527', 'C1316', 'C2431', 'C1490', 'C2460', 'C1804', 'C2650', 'C1636', 'C2359', 'C2492', 'C2066', 'C2486', 'C1724', 'C1674', 'C2587', 'C1642', 'C1695', 'C1013', 'C2308', 'C1448', 'C1685', 'C2094', 'C2192', 'C2073', 'C2508', 'C2605', 'C1407', 'C1697', 'C2181', 'C2016', 'C1732', 'C2089', 'C2276', 'C1194', 'C1046', 'C1085', 'C2373', 'C1341', 'C1048', 'C1894']\n"
          ],
          "name": "stdout"
        }
      ]
    },
    {
      "cell_type": "code",
      "metadata": {
        "colab": {
          "base_uri": "https://localhost:8080/"
        },
        "id": "ZMjzpGB6APF1",
        "outputId": "fca12644-f4b2-48e1-875d-29741524d372"
      },
      "source": [
        "test.isnull().sum().to_dict()"
      ],
      "execution_count": null,
      "outputs": [
        {
          "output_type": "execute_result",
          "data": {
            "text/plain": [
              "{'공가수': 0,\n",
              " '공급유형': 0,\n",
              " '단지내주차면수': 0,\n",
              " '단지코드': 0,\n",
              " '도보 10분거리 내 버스정류장 수': 0,\n",
              " '도보 10분거리 내 지하철역 수(환승노선 수 반영)': 42,\n",
              " '임대건물구분': 0,\n",
              " '임대료': 180,\n",
              " '임대보증금': 180,\n",
              " '자격유형': 2,\n",
              " '전용면적': 0,\n",
              " '전용면적별세대수': 0,\n",
              " '지역': 0,\n",
              " '총세대수': 0}"
            ]
          },
          "metadata": {
            "tags": []
          },
          "execution_count": 109
        }
      ]
    },
    {
      "cell_type": "markdown",
      "metadata": {
        "id": "3x0bH116EBYe"
      },
      "source": [
        "+ train 데이터에서는 임대보증금, 임대료, 도보 10분거리 내 지하철역 수(환승노선 수 반영), 도보 10분거리 내 버스정류장 수에 NULL값 존재"
      ]
    },
    {
      "cell_type": "markdown",
      "metadata": {
        "id": "Cs5L9hJ9EBYg"
      },
      "source": [
        "+ test 데이터에서는 자격유형, 임대보증금, 임대료, 도보 10분거리 내 지하철역 수(환승노선 수 반영)에 NULL값 존재"
      ]
    },
    {
      "cell_type": "code",
      "metadata": {
        "id": "4Gw0FAskEBYg"
      },
      "source": [
        "# 임대보증금과 임대료는 '-'을 null로 바꾼 후 float로 타입 변경\n",
        "train.loc[train.임대보증금=='-', '임대보증금'] = np.nan\n",
        "test.loc[test.임대보증금=='-', '임대보증금'] = np.nan\n",
        "train['임대보증금'] = train['임대보증금'].astype(float)\n",
        "test['임대보증금'] = test['임대보증금'].astype(float)\n",
        "\n",
        "train.loc[train.임대료=='-', '임대료'] = np.nan\n",
        "test.loc[test.임대료=='-', '임대료'] = np.nan\n",
        "train['임대료'] = train['임대료'].astype(float)\n",
        "test['임대료'] = test['임대료'].astype(float)"
      ],
      "execution_count": null,
      "outputs": []
    },
    {
      "cell_type": "markdown",
      "metadata": {
        "id": "Xs2Eqve0EBYh"
      },
      "source": [
        "### 1.2. NULL 값이 있는 변수 탐색"
      ]
    },
    {
      "cell_type": "markdown",
      "metadata": {
        "id": "5wcEadFIEBYh"
      },
      "source": [
        "#### (1) 임대보증금, 임대료"
      ]
    },
    {
      "cell_type": "code",
      "metadata": {
        "colab": {
          "base_uri": "https://localhost:8080/"
        },
        "id": "VA4_i9sVEBYi",
        "outputId": "d1eae896-f963-49b0-8563-e0818107ba96"
      },
      "source": [
        "train[train.임대보증금.isnull()].공급유형.value_counts()"
      ],
      "execution_count": null,
      "outputs": [
        {
          "output_type": "execute_result",
          "data": {
            "text/plain": [
              "임대상가    562\n",
              "국민임대      8\n",
              "공공분양      7\n",
              "행복주택      4\n",
              "Name: 공급유형, dtype: int64"
            ]
          },
          "metadata": {
            "tags": []
          },
          "execution_count": 111
        }
      ]
    },
    {
      "cell_type": "code",
      "metadata": {
        "colab": {
          "base_uri": "https://localhost:8080/"
        },
        "id": "4EcxndfdEBYj",
        "outputId": "054f06dd-2dbd-4eff-85a0-3af15a548ab9"
      },
      "source": [
        "test[test.임대보증금.isnull()].공급유형.value_counts()"
      ],
      "execution_count": null,
      "outputs": [
        {
          "output_type": "execute_result",
          "data": {
            "text/plain": [
              "임대상가    177\n",
              "영구임대      5\n",
              "행복주택      4\n",
              "Name: 공급유형, dtype: int64"
            ]
          },
          "metadata": {
            "tags": []
          },
          "execution_count": 112
        }
      ]
    },
    {
      "cell_type": "code",
      "metadata": {
        "colab": {
          "base_uri": "https://localhost:8080/"
        },
        "id": "oBveXU-GEBYj",
        "outputId": "4d457bef-8ca0-45cb-d342-16dab46fbb28"
      },
      "source": [
        "train[train.임대보증금.isnull()].자격유형.value_counts()"
      ],
      "execution_count": null,
      "outputs": [
        {
          "output_type": "execute_result",
          "data": {
            "text/plain": [
              "D    569\n",
              "H      8\n",
              "K      4\n",
              "Name: 자격유형, dtype: int64"
            ]
          },
          "metadata": {
            "tags": []
          },
          "execution_count": 113
        }
      ]
    },
    {
      "cell_type": "code",
      "metadata": {
        "colab": {
          "base_uri": "https://localhost:8080/"
        },
        "id": "QL_T5r5UEBYk",
        "outputId": "23804a98-2e0d-422a-ea16-89074faec759"
      },
      "source": [
        "test[test.임대보증금.isnull()].자격유형.value_counts()"
      ],
      "execution_count": null,
      "outputs": [
        {
          "output_type": "execute_result",
          "data": {
            "text/plain": [
              "D    180\n",
              "L      4\n",
              "C      2\n",
              "Name: 자격유형, dtype: int64"
            ]
          },
          "metadata": {
            "tags": []
          },
          "execution_count": 114
        }
      ]
    },
    {
      "cell_type": "code",
      "metadata": {
        "colab": {
          "base_uri": "https://localhost:8080/"
        },
        "id": "NJ2-ZswuEBYk",
        "outputId": "3579b999-3ae2-4e89-edc4-bef7b3b06797"
      },
      "source": [
        "train[train.자격유형.isin(['D', 'H', 'K'])].info()"
      ],
      "execution_count": null,
      "outputs": [
        {
          "output_type": "stream",
          "text": [
            "<class 'pandas.core.frame.DataFrame'>\n",
            "Int64Index: 757 entries, 88 to 2919\n",
            "Data columns (total 15 columns):\n",
            " #   Column                        Non-Null Count  Dtype  \n",
            "---  ------                        --------------  -----  \n",
            " 0   단지코드                          757 non-null    object \n",
            " 1   총세대수                          757 non-null    int64  \n",
            " 2   임대건물구분                        757 non-null    object \n",
            " 3   지역                            757 non-null    object \n",
            " 4   공급유형                          757 non-null    object \n",
            " 5   전용면적                          757 non-null    float64\n",
            " 6   전용면적별세대수                      757 non-null    int64  \n",
            " 7   공가수                           757 non-null    float64\n",
            " 8   자격유형                          757 non-null    object \n",
            " 9   임대보증금                         176 non-null    float64\n",
            " 10  임대료                           176 non-null    float64\n",
            " 11  도보 10분거리 내 지하철역 수(환승노선 수 반영)  623 non-null    float64\n",
            " 12  도보 10분거리 내 버스정류장 수            757 non-null    float64\n",
            " 13  단지내주차면수                       757 non-null    float64\n",
            " 14  등록차량수                         757 non-null    float64\n",
            "dtypes: float64(8), int64(2), object(5)\n",
            "memory usage: 94.6+ KB\n"
          ],
          "name": "stdout"
        }
      ]
    },
    {
      "cell_type": "code",
      "metadata": {
        "colab": {
          "base_uri": "https://localhost:8080/"
        },
        "id": "ncshFzjrEBYk",
        "outputId": "b7afabe7-3908-4ef9-d9dc-acae6eda8311"
      },
      "source": [
        "test[test.자격유형.isin(['D', 'L', 'C'])].info()"
      ],
      "execution_count": null,
      "outputs": [
        {
          "output_type": "stream",
          "text": [
            "<class 'pandas.core.frame.DataFrame'>\n",
            "Int64Index: 226 entries, 73 to 1017\n",
            "Data columns (total 14 columns):\n",
            " #   Column                        Non-Null Count  Dtype  \n",
            "---  ------                        --------------  -----  \n",
            " 0   단지코드                          226 non-null    object \n",
            " 1   총세대수                          226 non-null    int64  \n",
            " 2   임대건물구분                        226 non-null    object \n",
            " 3   지역                            226 non-null    object \n",
            " 4   공급유형                          226 non-null    object \n",
            " 5   전용면적                          226 non-null    float64\n",
            " 6   전용면적별세대수                      226 non-null    int64  \n",
            " 7   공가수                           226 non-null    float64\n",
            " 8   자격유형                          226 non-null    object \n",
            " 9   임대보증금                         40 non-null     float64\n",
            " 10  임대료                           40 non-null     float64\n",
            " 11  도보 10분거리 내 지하철역 수(환승노선 수 반영)  201 non-null    float64\n",
            " 12  도보 10분거리 내 버스정류장 수            226 non-null    float64\n",
            " 13  단지내주차면수                       226 non-null    float64\n",
            "dtypes: float64(7), int64(2), object(5)\n",
            "memory usage: 26.5+ KB\n"
          ],
          "name": "stdout"
        }
      ]
    },
    {
      "cell_type": "code",
      "metadata": {
        "id": "jLRcFXRHEBYl"
      },
      "source": [
        "# 임대보증금과 임대료가 NULL인 경우는 0으로 대체하는 것이 좋아보임\n",
        "train[['임대보증금', '임대료']] = train[['임대보증금', '임대료']].fillna(0)\n",
        "test[['임대보증금', '임대료']] = test[['임대보증금', '임대료']].fillna(0)"
      ],
      "execution_count": null,
      "outputs": []
    },
    {
      "cell_type": "markdown",
      "metadata": {
        "id": "7uP42sEHEBYl"
      },
      "source": [
        "#### (2) 도보 10분거리 내 지하철역 수(환승노선 수 반영), 도보 10분거리 내 버스정류장 수\n",
        "\n",
        "+ NULL 값을 0으로 대체"
      ]
    },
    {
      "cell_type": "code",
      "metadata": {
        "colab": {
          "base_uri": "https://localhost:8080/"
        },
        "id": "-o875z92EBYm",
        "outputId": "36c26afb-f1ca-40b8-9705-c0d0e1670552"
      },
      "source": [
        "subway_null_codes = train[train['도보 10분거리 내 지하철역 수(환승노선 수 반영)'].isnull()].단지코드.unique()\n",
        "train.loc[train.단지코드.isin(subway_null_codes), '도보 10분거리 내 지하철역 수(환승노선 수 반영)'].value_counts(dropna=False)"
      ],
      "execution_count": null,
      "outputs": [
        {
          "output_type": "execute_result",
          "data": {
            "text/plain": [
              "NaN    211\n",
              "Name: 도보 10분거리 내 지하철역 수(환승노선 수 반영), dtype: int64"
            ]
          },
          "metadata": {
            "tags": []
          },
          "execution_count": 118
        }
      ]
    },
    {
      "cell_type": "code",
      "metadata": {
        "colab": {
          "base_uri": "https://localhost:8080/"
        },
        "id": "eEZXa3bQEBYn",
        "outputId": "7cd7eedc-4759-4a68-f820-7625b58222ab"
      },
      "source": [
        "subway_null_codes = test[test['도보 10분거리 내 지하철역 수(환승노선 수 반영)'].isnull()].단지코드.unique()\n",
        "test.loc[test.단지코드.isin(subway_null_codes), '도보 10분거리 내 지하철역 수(환승노선 수 반영)'].value_counts(dropna=False)"
      ],
      "execution_count": null,
      "outputs": [
        {
          "output_type": "execute_result",
          "data": {
            "text/plain": [
              "NaN    42\n",
              "Name: 도보 10분거리 내 지하철역 수(환승노선 수 반영), dtype: int64"
            ]
          },
          "metadata": {
            "tags": []
          },
          "execution_count": 119
        }
      ]
    },
    {
      "cell_type": "code",
      "metadata": {
        "colab": {
          "base_uri": "https://localhost:8080/"
        },
        "id": "7v76DpFrEBYn",
        "outputId": "9b2f28d6-452e-4c02-ddce-bdb30925064a"
      },
      "source": [
        "bus_null_codes = train[train['도보 10분거리 내 버스정류장 수'].isnull()].단지코드.unique()\n",
        "train.loc[train.단지코드.isin(bus_null_codes), '도보 10분거리 내 버스정류장 수'].value_counts(dropna=False)"
      ],
      "execution_count": null,
      "outputs": [
        {
          "output_type": "execute_result",
          "data": {
            "text/plain": [
              "NaN    4\n",
              "Name: 도보 10분거리 내 버스정류장 수, dtype: int64"
            ]
          },
          "metadata": {
            "tags": []
          },
          "execution_count": 120
        }
      ]
    },
    {
      "cell_type": "code",
      "metadata": {
        "id": "W-qknQZ0EBYo"
      },
      "source": [
        "cols = ['도보 10분거리 내 지하철역 수(환승노선 수 반영)', '도보 10분거리 내 버스정류장 수']\n",
        "train[cols] = train[cols].fillna(0)\n",
        "test[cols] = test[cols].fillna(0)"
      ],
      "execution_count": null,
      "outputs": []
    },
    {
      "cell_type": "markdown",
      "metadata": {
        "id": "lvTbRBu2EBYo"
      },
      "source": [
        "#### (3) 자격유형"
      ]
    },
    {
      "cell_type": "code",
      "metadata": {
        "colab": {
          "base_uri": "https://localhost:8080/",
          "height": 161
        },
        "id": "dYhlfV3jEBYo",
        "outputId": "60ff9d4a-9156-414f-c937-c09989bc9ba2"
      },
      "source": [
        "test[test.자격유형.isnull()]"
      ],
      "execution_count": null,
      "outputs": [
        {
          "output_type": "execute_result",
          "data": {
            "text/html": [
              "<div>\n",
              "<style scoped>\n",
              "    .dataframe tbody tr th:only-of-type {\n",
              "        vertical-align: middle;\n",
              "    }\n",
              "\n",
              "    .dataframe tbody tr th {\n",
              "        vertical-align: top;\n",
              "    }\n",
              "\n",
              "    .dataframe thead th {\n",
              "        text-align: right;\n",
              "    }\n",
              "</style>\n",
              "<table border=\"1\" class=\"dataframe\">\n",
              "  <thead>\n",
              "    <tr style=\"text-align: right;\">\n",
              "      <th></th>\n",
              "      <th>단지코드</th>\n",
              "      <th>총세대수</th>\n",
              "      <th>임대건물구분</th>\n",
              "      <th>지역</th>\n",
              "      <th>공급유형</th>\n",
              "      <th>전용면적</th>\n",
              "      <th>전용면적별세대수</th>\n",
              "      <th>공가수</th>\n",
              "      <th>자격유형</th>\n",
              "      <th>임대보증금</th>\n",
              "      <th>임대료</th>\n",
              "      <th>도보 10분거리 내 지하철역 수(환승노선 수 반영)</th>\n",
              "      <th>도보 10분거리 내 버스정류장 수</th>\n",
              "      <th>단지내주차면수</th>\n",
              "    </tr>\n",
              "  </thead>\n",
              "  <tbody>\n",
              "    <tr>\n",
              "      <th>196</th>\n",
              "      <td>C2411</td>\n",
              "      <td>962</td>\n",
              "      <td>아파트</td>\n",
              "      <td>경상남도</td>\n",
              "      <td>국민임대</td>\n",
              "      <td>46.90</td>\n",
              "      <td>240</td>\n",
              "      <td>25.0</td>\n",
              "      <td>NaN</td>\n",
              "      <td>71950000.0</td>\n",
              "      <td>37470.0</td>\n",
              "      <td>0.0</td>\n",
              "      <td>2.0</td>\n",
              "      <td>840.0</td>\n",
              "    </tr>\n",
              "    <tr>\n",
              "      <th>258</th>\n",
              "      <td>C2253</td>\n",
              "      <td>1161</td>\n",
              "      <td>아파트</td>\n",
              "      <td>강원도</td>\n",
              "      <td>영구임대</td>\n",
              "      <td>26.37</td>\n",
              "      <td>745</td>\n",
              "      <td>0.0</td>\n",
              "      <td>NaN</td>\n",
              "      <td>2249000.0</td>\n",
              "      <td>44770.0</td>\n",
              "      <td>0.0</td>\n",
              "      <td>2.0</td>\n",
              "      <td>173.0</td>\n",
              "    </tr>\n",
              "  </tbody>\n",
              "</table>\n",
              "</div>"
            ],
            "text/plain": [
              "      단지코드  총세대수  ... 도보 10분거리 내 버스정류장 수 단지내주차면수\n",
              "196  C2411   962  ...                2.0   840.0\n",
              "258  C2253  1161  ...                2.0   173.0\n",
              "\n",
              "[2 rows x 14 columns]"
            ]
          },
          "metadata": {
            "tags": []
          },
          "execution_count": 122
        }
      ]
    },
    {
      "cell_type": "code",
      "metadata": {
        "colab": {
          "base_uri": "https://localhost:8080/",
          "height": 304
        },
        "id": "icNM3OmdEBYp",
        "outputId": "169dcadd-5e96-4807-b8a1-1c7f4250da28"
      },
      "source": [
        "test[test.단지코드=='C2411'] # A로 채우면 될듯"
      ],
      "execution_count": null,
      "outputs": [
        {
          "output_type": "execute_result",
          "data": {
            "text/html": [
              "<div>\n",
              "<style scoped>\n",
              "    .dataframe tbody tr th:only-of-type {\n",
              "        vertical-align: middle;\n",
              "    }\n",
              "\n",
              "    .dataframe tbody tr th {\n",
              "        vertical-align: top;\n",
              "    }\n",
              "\n",
              "    .dataframe thead th {\n",
              "        text-align: right;\n",
              "    }\n",
              "</style>\n",
              "<table border=\"1\" class=\"dataframe\">\n",
              "  <thead>\n",
              "    <tr style=\"text-align: right;\">\n",
              "      <th></th>\n",
              "      <th>단지코드</th>\n",
              "      <th>총세대수</th>\n",
              "      <th>임대건물구분</th>\n",
              "      <th>지역</th>\n",
              "      <th>공급유형</th>\n",
              "      <th>전용면적</th>\n",
              "      <th>전용면적별세대수</th>\n",
              "      <th>공가수</th>\n",
              "      <th>자격유형</th>\n",
              "      <th>임대보증금</th>\n",
              "      <th>임대료</th>\n",
              "      <th>도보 10분거리 내 지하철역 수(환승노선 수 반영)</th>\n",
              "      <th>도보 10분거리 내 버스정류장 수</th>\n",
              "      <th>단지내주차면수</th>\n",
              "    </tr>\n",
              "  </thead>\n",
              "  <tbody>\n",
              "    <tr>\n",
              "      <th>193</th>\n",
              "      <td>C2411</td>\n",
              "      <td>962</td>\n",
              "      <td>아파트</td>\n",
              "      <td>경상남도</td>\n",
              "      <td>국민임대</td>\n",
              "      <td>39.43</td>\n",
              "      <td>56</td>\n",
              "      <td>25.0</td>\n",
              "      <td>A</td>\n",
              "      <td>11992000.0</td>\n",
              "      <td>100720.0</td>\n",
              "      <td>0.0</td>\n",
              "      <td>2.0</td>\n",
              "      <td>840.0</td>\n",
              "    </tr>\n",
              "    <tr>\n",
              "      <th>194</th>\n",
              "      <td>C2411</td>\n",
              "      <td>962</td>\n",
              "      <td>아파트</td>\n",
              "      <td>경상남도</td>\n",
              "      <td>국민임대</td>\n",
              "      <td>39.72</td>\n",
              "      <td>336</td>\n",
              "      <td>25.0</td>\n",
              "      <td>A</td>\n",
              "      <td>11992000.0</td>\n",
              "      <td>100720.0</td>\n",
              "      <td>0.0</td>\n",
              "      <td>2.0</td>\n",
              "      <td>840.0</td>\n",
              "    </tr>\n",
              "    <tr>\n",
              "      <th>195</th>\n",
              "      <td>C2411</td>\n",
              "      <td>962</td>\n",
              "      <td>아파트</td>\n",
              "      <td>경상남도</td>\n",
              "      <td>국민임대</td>\n",
              "      <td>39.82</td>\n",
              "      <td>179</td>\n",
              "      <td>25.0</td>\n",
              "      <td>A</td>\n",
              "      <td>11992000.0</td>\n",
              "      <td>100720.0</td>\n",
              "      <td>0.0</td>\n",
              "      <td>2.0</td>\n",
              "      <td>840.0</td>\n",
              "    </tr>\n",
              "    <tr>\n",
              "      <th>196</th>\n",
              "      <td>C2411</td>\n",
              "      <td>962</td>\n",
              "      <td>아파트</td>\n",
              "      <td>경상남도</td>\n",
              "      <td>국민임대</td>\n",
              "      <td>46.90</td>\n",
              "      <td>240</td>\n",
              "      <td>25.0</td>\n",
              "      <td>NaN</td>\n",
              "      <td>71950000.0</td>\n",
              "      <td>37470.0</td>\n",
              "      <td>0.0</td>\n",
              "      <td>2.0</td>\n",
              "      <td>840.0</td>\n",
              "    </tr>\n",
              "    <tr>\n",
              "      <th>197</th>\n",
              "      <td>C2411</td>\n",
              "      <td>962</td>\n",
              "      <td>아파트</td>\n",
              "      <td>경상남도</td>\n",
              "      <td>국민임대</td>\n",
              "      <td>51.93</td>\n",
              "      <td>150</td>\n",
              "      <td>25.0</td>\n",
              "      <td>A</td>\n",
              "      <td>21586000.0</td>\n",
              "      <td>171480.0</td>\n",
              "      <td>0.0</td>\n",
              "      <td>2.0</td>\n",
              "      <td>840.0</td>\n",
              "    </tr>\n",
              "  </tbody>\n",
              "</table>\n",
              "</div>"
            ],
            "text/plain": [
              "      단지코드  총세대수  ... 도보 10분거리 내 버스정류장 수 단지내주차면수\n",
              "193  C2411   962  ...                2.0   840.0\n",
              "194  C2411   962  ...                2.0   840.0\n",
              "195  C2411   962  ...                2.0   840.0\n",
              "196  C2411   962  ...                2.0   840.0\n",
              "197  C2411   962  ...                2.0   840.0\n",
              "\n",
              "[5 rows x 14 columns]"
            ]
          },
          "metadata": {
            "tags": []
          },
          "execution_count": 123
        }
      ]
    },
    {
      "cell_type": "code",
      "metadata": {
        "id": "qGT1CyRjEBYp"
      },
      "source": [
        "test.loc[test.단지코드.isin(['C2411']) & test.자격유형.isnull(), '자격유형'] = 'A'"
      ],
      "execution_count": null,
      "outputs": []
    },
    {
      "cell_type": "code",
      "metadata": {
        "colab": {
          "base_uri": "https://localhost:8080/",
          "height": 304
        },
        "id": "WZ3GD_aLEBYq",
        "outputId": "13ac665b-a5be-495a-9cb6-627036d9e57f"
      },
      "source": [
        "test[test.단지코드=='C2253'].head() # 임대보증금과 임대료가 존재하는 경우 자격유형이 C => C로 채우면 될듯"
      ],
      "execution_count": null,
      "outputs": [
        {
          "output_type": "execute_result",
          "data": {
            "text/html": [
              "<div>\n",
              "<style scoped>\n",
              "    .dataframe tbody tr th:only-of-type {\n",
              "        vertical-align: middle;\n",
              "    }\n",
              "\n",
              "    .dataframe tbody tr th {\n",
              "        vertical-align: top;\n",
              "    }\n",
              "\n",
              "    .dataframe thead th {\n",
              "        text-align: right;\n",
              "    }\n",
              "</style>\n",
              "<table border=\"1\" class=\"dataframe\">\n",
              "  <thead>\n",
              "    <tr style=\"text-align: right;\">\n",
              "      <th></th>\n",
              "      <th>단지코드</th>\n",
              "      <th>총세대수</th>\n",
              "      <th>임대건물구분</th>\n",
              "      <th>지역</th>\n",
              "      <th>공급유형</th>\n",
              "      <th>전용면적</th>\n",
              "      <th>전용면적별세대수</th>\n",
              "      <th>공가수</th>\n",
              "      <th>자격유형</th>\n",
              "      <th>임대보증금</th>\n",
              "      <th>임대료</th>\n",
              "      <th>도보 10분거리 내 지하철역 수(환승노선 수 반영)</th>\n",
              "      <th>도보 10분거리 내 버스정류장 수</th>\n",
              "      <th>단지내주차면수</th>\n",
              "    </tr>\n",
              "  </thead>\n",
              "  <tbody>\n",
              "    <tr>\n",
              "      <th>258</th>\n",
              "      <td>C2253</td>\n",
              "      <td>1161</td>\n",
              "      <td>아파트</td>\n",
              "      <td>강원도</td>\n",
              "      <td>영구임대</td>\n",
              "      <td>26.37</td>\n",
              "      <td>745</td>\n",
              "      <td>0.0</td>\n",
              "      <td>NaN</td>\n",
              "      <td>2249000.0</td>\n",
              "      <td>44770.0</td>\n",
              "      <td>0.0</td>\n",
              "      <td>2.0</td>\n",
              "      <td>173.0</td>\n",
              "    </tr>\n",
              "    <tr>\n",
              "      <th>259</th>\n",
              "      <td>C2253</td>\n",
              "      <td>1161</td>\n",
              "      <td>아파트</td>\n",
              "      <td>강원도</td>\n",
              "      <td>영구임대</td>\n",
              "      <td>31.32</td>\n",
              "      <td>239</td>\n",
              "      <td>0.0</td>\n",
              "      <td>C</td>\n",
              "      <td>3731000.0</td>\n",
              "      <td>83020.0</td>\n",
              "      <td>0.0</td>\n",
              "      <td>2.0</td>\n",
              "      <td>173.0</td>\n",
              "    </tr>\n",
              "    <tr>\n",
              "      <th>260</th>\n",
              "      <td>C2253</td>\n",
              "      <td>1161</td>\n",
              "      <td>아파트</td>\n",
              "      <td>강원도</td>\n",
              "      <td>영구임대</td>\n",
              "      <td>31.32</td>\n",
              "      <td>149</td>\n",
              "      <td>0.0</td>\n",
              "      <td>C</td>\n",
              "      <td>3731000.0</td>\n",
              "      <td>83020.0</td>\n",
              "      <td>0.0</td>\n",
              "      <td>2.0</td>\n",
              "      <td>173.0</td>\n",
              "    </tr>\n",
              "    <tr>\n",
              "      <th>261</th>\n",
              "      <td>C2253</td>\n",
              "      <td>1161</td>\n",
              "      <td>상가</td>\n",
              "      <td>강원도</td>\n",
              "      <td>임대상가</td>\n",
              "      <td>13.77</td>\n",
              "      <td>1</td>\n",
              "      <td>0.0</td>\n",
              "      <td>D</td>\n",
              "      <td>0.0</td>\n",
              "      <td>0.0</td>\n",
              "      <td>0.0</td>\n",
              "      <td>2.0</td>\n",
              "      <td>173.0</td>\n",
              "    </tr>\n",
              "    <tr>\n",
              "      <th>262</th>\n",
              "      <td>C2253</td>\n",
              "      <td>1161</td>\n",
              "      <td>상가</td>\n",
              "      <td>강원도</td>\n",
              "      <td>임대상가</td>\n",
              "      <td>22.89</td>\n",
              "      <td>1</td>\n",
              "      <td>0.0</td>\n",
              "      <td>D</td>\n",
              "      <td>0.0</td>\n",
              "      <td>0.0</td>\n",
              "      <td>0.0</td>\n",
              "      <td>2.0</td>\n",
              "      <td>173.0</td>\n",
              "    </tr>\n",
              "  </tbody>\n",
              "</table>\n",
              "</div>"
            ],
            "text/plain": [
              "      단지코드  총세대수  ... 도보 10분거리 내 버스정류장 수 단지내주차면수\n",
              "258  C2253  1161  ...                2.0   173.0\n",
              "259  C2253  1161  ...                2.0   173.0\n",
              "260  C2253  1161  ...                2.0   173.0\n",
              "261  C2253  1161  ...                2.0   173.0\n",
              "262  C2253  1161  ...                2.0   173.0\n",
              "\n",
              "[5 rows x 14 columns]"
            ]
          },
          "metadata": {
            "tags": []
          },
          "execution_count": 125
        }
      ]
    },
    {
      "cell_type": "code",
      "metadata": {
        "id": "GktJw0aWEBYq"
      },
      "source": [
        "test.loc[test.단지코드.isin(['C2253']) & test.자격유형.isnull(), '자격유형'] = 'C'"
      ],
      "execution_count": null,
      "outputs": []
    },
    {
      "cell_type": "markdown",
      "metadata": {
        "id": "E203o-yGEBYq"
      },
      "source": [
        "### 1.3. 중복확인"
      ]
    },
    {
      "cell_type": "code",
      "metadata": {
        "colab": {
          "base_uri": "https://localhost:8080/"
        },
        "id": "1sIL7EIPEBYr",
        "outputId": "a1fd460d-e589-4dd8-daf3-7b936cddc4b0"
      },
      "source": [
        "train.shape, train.drop_duplicates().shape # 중복 존재"
      ],
      "execution_count": null,
      "outputs": [
        {
          "output_type": "execute_result",
          "data": {
            "text/plain": [
              "((2952, 15), (2632, 15))"
            ]
          },
          "metadata": {
            "tags": []
          },
          "execution_count": 127
        }
      ]
    },
    {
      "cell_type": "code",
      "metadata": {
        "colab": {
          "base_uri": "https://localhost:8080/"
        },
        "id": "NUTdbRRfEBYr",
        "outputId": "31fcfbcc-9d8f-44c1-abd6-d53c7bd14596"
      },
      "source": [
        "test.shape, test.drop_duplicates().shape # 중복 존재"
      ],
      "execution_count": null,
      "outputs": [
        {
          "output_type": "execute_result",
          "data": {
            "text/plain": [
              "((1022, 14), (949, 14))"
            ]
          },
          "metadata": {
            "tags": []
          },
          "execution_count": 128
        }
      ]
    },
    {
      "cell_type": "markdown",
      "metadata": {
        "id": "PS9beTxBEBYs"
      },
      "source": [
        "+ 중복되는 데이터는 제거하고 분석을 진행하는 것이 좋아보임"
      ]
    },
    {
      "cell_type": "code",
      "metadata": {
        "id": "xL32o0D3EBYs"
      },
      "source": [
        "train = train.drop_duplicates()\n",
        "test = test.drop_duplicates()"
      ],
      "execution_count": null,
      "outputs": []
    },
    {
      "cell_type": "code",
      "metadata": {
        "colab": {
          "base_uri": "https://localhost:8080/",
          "height": 446
        },
        "id": "O8Gkg2XSEBYs",
        "outputId": "e64afa54-cf35-42aa-894f-8176c3096070"
      },
      "source": [
        "train[train.단지코드=='C2483']"
      ],
      "execution_count": null,
      "outputs": [
        {
          "output_type": "execute_result",
          "data": {
            "text/html": [
              "<div>\n",
              "<style scoped>\n",
              "    .dataframe tbody tr th:only-of-type {\n",
              "        vertical-align: middle;\n",
              "    }\n",
              "\n",
              "    .dataframe tbody tr th {\n",
              "        vertical-align: top;\n",
              "    }\n",
              "\n",
              "    .dataframe thead th {\n",
              "        text-align: right;\n",
              "    }\n",
              "</style>\n",
              "<table border=\"1\" class=\"dataframe\">\n",
              "  <thead>\n",
              "    <tr style=\"text-align: right;\">\n",
              "      <th></th>\n",
              "      <th>단지코드</th>\n",
              "      <th>총세대수</th>\n",
              "      <th>임대건물구분</th>\n",
              "      <th>지역</th>\n",
              "      <th>공급유형</th>\n",
              "      <th>전용면적</th>\n",
              "      <th>전용면적별세대수</th>\n",
              "      <th>공가수</th>\n",
              "      <th>자격유형</th>\n",
              "      <th>임대보증금</th>\n",
              "      <th>임대료</th>\n",
              "      <th>도보 10분거리 내 지하철역 수(환승노선 수 반영)</th>\n",
              "      <th>도보 10분거리 내 버스정류장 수</th>\n",
              "      <th>단지내주차면수</th>\n",
              "      <th>등록차량수</th>\n",
              "    </tr>\n",
              "  </thead>\n",
              "  <tbody>\n",
              "    <tr>\n",
              "      <th>0</th>\n",
              "      <td>C2483</td>\n",
              "      <td>900</td>\n",
              "      <td>아파트</td>\n",
              "      <td>경상북도</td>\n",
              "      <td>국민임대</td>\n",
              "      <td>39.72</td>\n",
              "      <td>134</td>\n",
              "      <td>38.0</td>\n",
              "      <td>A</td>\n",
              "      <td>15667000.0</td>\n",
              "      <td>103680.0</td>\n",
              "      <td>0.0</td>\n",
              "      <td>3.0</td>\n",
              "      <td>1425.0</td>\n",
              "      <td>1015.0</td>\n",
              "    </tr>\n",
              "    <tr>\n",
              "      <th>1</th>\n",
              "      <td>C2483</td>\n",
              "      <td>900</td>\n",
              "      <td>아파트</td>\n",
              "      <td>경상북도</td>\n",
              "      <td>국민임대</td>\n",
              "      <td>39.72</td>\n",
              "      <td>15</td>\n",
              "      <td>38.0</td>\n",
              "      <td>A</td>\n",
              "      <td>15667000.0</td>\n",
              "      <td>103680.0</td>\n",
              "      <td>0.0</td>\n",
              "      <td>3.0</td>\n",
              "      <td>1425.0</td>\n",
              "      <td>1015.0</td>\n",
              "    </tr>\n",
              "    <tr>\n",
              "      <th>2</th>\n",
              "      <td>C2483</td>\n",
              "      <td>900</td>\n",
              "      <td>아파트</td>\n",
              "      <td>경상북도</td>\n",
              "      <td>국민임대</td>\n",
              "      <td>51.93</td>\n",
              "      <td>385</td>\n",
              "      <td>38.0</td>\n",
              "      <td>A</td>\n",
              "      <td>27304000.0</td>\n",
              "      <td>184330.0</td>\n",
              "      <td>0.0</td>\n",
              "      <td>3.0</td>\n",
              "      <td>1425.0</td>\n",
              "      <td>1015.0</td>\n",
              "    </tr>\n",
              "    <tr>\n",
              "      <th>3</th>\n",
              "      <td>C2483</td>\n",
              "      <td>900</td>\n",
              "      <td>아파트</td>\n",
              "      <td>경상북도</td>\n",
              "      <td>국민임대</td>\n",
              "      <td>51.93</td>\n",
              "      <td>15</td>\n",
              "      <td>38.0</td>\n",
              "      <td>A</td>\n",
              "      <td>27304000.0</td>\n",
              "      <td>184330.0</td>\n",
              "      <td>0.0</td>\n",
              "      <td>3.0</td>\n",
              "      <td>1425.0</td>\n",
              "      <td>1015.0</td>\n",
              "    </tr>\n",
              "    <tr>\n",
              "      <th>4</th>\n",
              "      <td>C2483</td>\n",
              "      <td>900</td>\n",
              "      <td>아파트</td>\n",
              "      <td>경상북도</td>\n",
              "      <td>국민임대</td>\n",
              "      <td>51.93</td>\n",
              "      <td>41</td>\n",
              "      <td>38.0</td>\n",
              "      <td>A</td>\n",
              "      <td>27304000.0</td>\n",
              "      <td>184330.0</td>\n",
              "      <td>0.0</td>\n",
              "      <td>3.0</td>\n",
              "      <td>1425.0</td>\n",
              "      <td>1015.0</td>\n",
              "    </tr>\n",
              "    <tr>\n",
              "      <th>5</th>\n",
              "      <td>C2483</td>\n",
              "      <td>900</td>\n",
              "      <td>아파트</td>\n",
              "      <td>경상북도</td>\n",
              "      <td>국민임대</td>\n",
              "      <td>51.95</td>\n",
              "      <td>89</td>\n",
              "      <td>38.0</td>\n",
              "      <td>A</td>\n",
              "      <td>27304000.0</td>\n",
              "      <td>184330.0</td>\n",
              "      <td>0.0</td>\n",
              "      <td>3.0</td>\n",
              "      <td>1425.0</td>\n",
              "      <td>1015.0</td>\n",
              "    </tr>\n",
              "    <tr>\n",
              "      <th>6</th>\n",
              "      <td>C2483</td>\n",
              "      <td>900</td>\n",
              "      <td>아파트</td>\n",
              "      <td>경상북도</td>\n",
              "      <td>국민임대</td>\n",
              "      <td>51.95</td>\n",
              "      <td>135</td>\n",
              "      <td>38.0</td>\n",
              "      <td>A</td>\n",
              "      <td>27304000.0</td>\n",
              "      <td>184330.0</td>\n",
              "      <td>0.0</td>\n",
              "      <td>3.0</td>\n",
              "      <td>1425.0</td>\n",
              "      <td>1015.0</td>\n",
              "    </tr>\n",
              "    <tr>\n",
              "      <th>7</th>\n",
              "      <td>C2483</td>\n",
              "      <td>900</td>\n",
              "      <td>아파트</td>\n",
              "      <td>경상북도</td>\n",
              "      <td>국민임대</td>\n",
              "      <td>59.88</td>\n",
              "      <td>86</td>\n",
              "      <td>38.0</td>\n",
              "      <td>A</td>\n",
              "      <td>30357000.0</td>\n",
              "      <td>214270.0</td>\n",
              "      <td>0.0</td>\n",
              "      <td>3.0</td>\n",
              "      <td>1425.0</td>\n",
              "      <td>1015.0</td>\n",
              "    </tr>\n",
              "  </tbody>\n",
              "</table>\n",
              "</div>"
            ],
            "text/plain": [
              "    단지코드  총세대수 임대건물구분  ... 도보 10분거리 내 버스정류장 수 단지내주차면수   등록차량수\n",
              "0  C2483   900    아파트  ...                3.0  1425.0  1015.0\n",
              "1  C2483   900    아파트  ...                3.0  1425.0  1015.0\n",
              "2  C2483   900    아파트  ...                3.0  1425.0  1015.0\n",
              "3  C2483   900    아파트  ...                3.0  1425.0  1015.0\n",
              "4  C2483   900    아파트  ...                3.0  1425.0  1015.0\n",
              "5  C2483   900    아파트  ...                3.0  1425.0  1015.0\n",
              "6  C2483   900    아파트  ...                3.0  1425.0  1015.0\n",
              "7  C2483   900    아파트  ...                3.0  1425.0  1015.0\n",
              "\n",
              "[8 rows x 15 columns]"
            ]
          },
          "metadata": {
            "tags": []
          },
          "execution_count": 130
        }
      ]
    },
    {
      "cell_type": "code",
      "metadata": {
        "colab": {
          "base_uri": "https://localhost:8080/"
        },
        "id": "KpbQw7amEBYt",
        "outputId": "42538983-6721-43a8-8ed5-7270029c5ea0"
      },
      "source": [
        "print(f\"단지코드 C2483에서 유일한 값을 가지는 변수들:\\n{list(train.columns[train[train.단지코드=='C2483'].nunique()==1])}\")"
      ],
      "execution_count": null,
      "outputs": [
        {
          "output_type": "stream",
          "text": [
            "단지코드 C2483에서 유일한 값을 가지는 변수들:\n",
            "['단지코드', '총세대수', '임대건물구분', '지역', '공급유형', '공가수', '자격유형', '도보 10분거리 내 지하철역 수(환승노선 수 반영)', '도보 10분거리 내 버스정류장 수', '단지내주차면수', '등록차량수']\n"
          ],
          "name": "stdout"
        }
      ]
    },
    {
      "cell_type": "code",
      "metadata": {
        "colab": {
          "base_uri": "https://localhost:8080/",
          "height": 481
        },
        "id": "644Pi_vWEBYt",
        "outputId": "f780c144-f446-4cc4-ceaf-c2ceec20c819"
      },
      "source": [
        "train.groupby(['단지코드']).nunique(dropna=False)"
      ],
      "execution_count": null,
      "outputs": [
        {
          "output_type": "execute_result",
          "data": {
            "text/html": [
              "<div>\n",
              "<style scoped>\n",
              "    .dataframe tbody tr th:only-of-type {\n",
              "        vertical-align: middle;\n",
              "    }\n",
              "\n",
              "    .dataframe tbody tr th {\n",
              "        vertical-align: top;\n",
              "    }\n",
              "\n",
              "    .dataframe thead th {\n",
              "        text-align: right;\n",
              "    }\n",
              "</style>\n",
              "<table border=\"1\" class=\"dataframe\">\n",
              "  <thead>\n",
              "    <tr style=\"text-align: right;\">\n",
              "      <th></th>\n",
              "      <th>총세대수</th>\n",
              "      <th>임대건물구분</th>\n",
              "      <th>지역</th>\n",
              "      <th>공급유형</th>\n",
              "      <th>전용면적</th>\n",
              "      <th>전용면적별세대수</th>\n",
              "      <th>공가수</th>\n",
              "      <th>자격유형</th>\n",
              "      <th>임대보증금</th>\n",
              "      <th>임대료</th>\n",
              "      <th>도보 10분거리 내 지하철역 수(환승노선 수 반영)</th>\n",
              "      <th>도보 10분거리 내 버스정류장 수</th>\n",
              "      <th>단지내주차면수</th>\n",
              "      <th>등록차량수</th>\n",
              "    </tr>\n",
              "    <tr>\n",
              "      <th>단지코드</th>\n",
              "      <th></th>\n",
              "      <th></th>\n",
              "      <th></th>\n",
              "      <th></th>\n",
              "      <th></th>\n",
              "      <th></th>\n",
              "      <th></th>\n",
              "      <th></th>\n",
              "      <th></th>\n",
              "      <th></th>\n",
              "      <th></th>\n",
              "      <th></th>\n",
              "      <th></th>\n",
              "      <th></th>\n",
              "    </tr>\n",
              "  </thead>\n",
              "  <tbody>\n",
              "    <tr>\n",
              "      <th>C1000</th>\n",
              "      <td>1</td>\n",
              "      <td>1</td>\n",
              "      <td>1</td>\n",
              "      <td>1</td>\n",
              "      <td>5</td>\n",
              "      <td>6</td>\n",
              "      <td>1</td>\n",
              "      <td>1</td>\n",
              "      <td>3</td>\n",
              "      <td>3</td>\n",
              "      <td>1</td>\n",
              "      <td>1</td>\n",
              "      <td>1</td>\n",
              "      <td>1</td>\n",
              "    </tr>\n",
              "    <tr>\n",
              "      <th>C1004</th>\n",
              "      <td>1</td>\n",
              "      <td>2</td>\n",
              "      <td>1</td>\n",
              "      <td>2</td>\n",
              "      <td>15</td>\n",
              "      <td>3</td>\n",
              "      <td>1</td>\n",
              "      <td>2</td>\n",
              "      <td>3</td>\n",
              "      <td>3</td>\n",
              "      <td>1</td>\n",
              "      <td>1</td>\n",
              "      <td>1</td>\n",
              "      <td>1</td>\n",
              "    </tr>\n",
              "    <tr>\n",
              "      <th>C1005</th>\n",
              "      <td>1</td>\n",
              "      <td>1</td>\n",
              "      <td>1</td>\n",
              "      <td>1</td>\n",
              "      <td>3</td>\n",
              "      <td>3</td>\n",
              "      <td>1</td>\n",
              "      <td>1</td>\n",
              "      <td>3</td>\n",
              "      <td>3</td>\n",
              "      <td>1</td>\n",
              "      <td>1</td>\n",
              "      <td>1</td>\n",
              "      <td>1</td>\n",
              "    </tr>\n",
              "    <tr>\n",
              "      <th>C1013</th>\n",
              "      <td>1</td>\n",
              "      <td>1</td>\n",
              "      <td>1</td>\n",
              "      <td>1</td>\n",
              "      <td>4</td>\n",
              "      <td>5</td>\n",
              "      <td>1</td>\n",
              "      <td>1</td>\n",
              "      <td>3</td>\n",
              "      <td>3</td>\n",
              "      <td>1</td>\n",
              "      <td>1</td>\n",
              "      <td>1</td>\n",
              "      <td>1</td>\n",
              "    </tr>\n",
              "    <tr>\n",
              "      <th>C1014</th>\n",
              "      <td>1</td>\n",
              "      <td>1</td>\n",
              "      <td>1</td>\n",
              "      <td>1</td>\n",
              "      <td>6</td>\n",
              "      <td>7</td>\n",
              "      <td>1</td>\n",
              "      <td>1</td>\n",
              "      <td>4</td>\n",
              "      <td>4</td>\n",
              "      <td>1</td>\n",
              "      <td>1</td>\n",
              "      <td>1</td>\n",
              "      <td>1</td>\n",
              "    </tr>\n",
              "    <tr>\n",
              "      <th>...</th>\n",
              "      <td>...</td>\n",
              "      <td>...</td>\n",
              "      <td>...</td>\n",
              "      <td>...</td>\n",
              "      <td>...</td>\n",
              "      <td>...</td>\n",
              "      <td>...</td>\n",
              "      <td>...</td>\n",
              "      <td>...</td>\n",
              "      <td>...</td>\n",
              "      <td>...</td>\n",
              "      <td>...</td>\n",
              "      <td>...</td>\n",
              "      <td>...</td>\n",
              "    </tr>\n",
              "    <tr>\n",
              "      <th>C2663</th>\n",
              "      <td>1</td>\n",
              "      <td>1</td>\n",
              "      <td>1</td>\n",
              "      <td>1</td>\n",
              "      <td>5</td>\n",
              "      <td>6</td>\n",
              "      <td>1</td>\n",
              "      <td>1</td>\n",
              "      <td>4</td>\n",
              "      <td>4</td>\n",
              "      <td>1</td>\n",
              "      <td>1</td>\n",
              "      <td>1</td>\n",
              "      <td>1</td>\n",
              "    </tr>\n",
              "    <tr>\n",
              "      <th>C2666</th>\n",
              "      <td>1</td>\n",
              "      <td>1</td>\n",
              "      <td>1</td>\n",
              "      <td>1</td>\n",
              "      <td>4</td>\n",
              "      <td>6</td>\n",
              "      <td>1</td>\n",
              "      <td>1</td>\n",
              "      <td>2</td>\n",
              "      <td>2</td>\n",
              "      <td>1</td>\n",
              "      <td>1</td>\n",
              "      <td>1</td>\n",
              "      <td>1</td>\n",
              "    </tr>\n",
              "    <tr>\n",
              "      <th>C2670</th>\n",
              "      <td>1</td>\n",
              "      <td>1</td>\n",
              "      <td>1</td>\n",
              "      <td>1</td>\n",
              "      <td>4</td>\n",
              "      <td>3</td>\n",
              "      <td>1</td>\n",
              "      <td>1</td>\n",
              "      <td>3</td>\n",
              "      <td>3</td>\n",
              "      <td>1</td>\n",
              "      <td>1</td>\n",
              "      <td>1</td>\n",
              "      <td>1</td>\n",
              "    </tr>\n",
              "    <tr>\n",
              "      <th>C2680</th>\n",
              "      <td>1</td>\n",
              "      <td>1</td>\n",
              "      <td>1</td>\n",
              "      <td>1</td>\n",
              "      <td>2</td>\n",
              "      <td>3</td>\n",
              "      <td>1</td>\n",
              "      <td>1</td>\n",
              "      <td>2</td>\n",
              "      <td>2</td>\n",
              "      <td>1</td>\n",
              "      <td>1</td>\n",
              "      <td>1</td>\n",
              "      <td>1</td>\n",
              "    </tr>\n",
              "    <tr>\n",
              "      <th>C2692</th>\n",
              "      <td>1</td>\n",
              "      <td>1</td>\n",
              "      <td>1</td>\n",
              "      <td>1</td>\n",
              "      <td>3</td>\n",
              "      <td>4</td>\n",
              "      <td>1</td>\n",
              "      <td>1</td>\n",
              "      <td>3</td>\n",
              "      <td>3</td>\n",
              "      <td>1</td>\n",
              "      <td>1</td>\n",
              "      <td>1</td>\n",
              "      <td>1</td>\n",
              "    </tr>\n",
              "  </tbody>\n",
              "</table>\n",
              "<p>423 rows × 14 columns</p>\n",
              "</div>"
            ],
            "text/plain": [
              "       총세대수  임대건물구분  지역  ...  도보 10분거리 내 버스정류장 수  단지내주차면수  등록차량수\n",
              "단지코드                     ...                                    \n",
              "C1000     1       1   1  ...                   1        1      1\n",
              "C1004     1       2   1  ...                   1        1      1\n",
              "C1005     1       1   1  ...                   1        1      1\n",
              "C1013     1       1   1  ...                   1        1      1\n",
              "C1014     1       1   1  ...                   1        1      1\n",
              "...     ...     ...  ..  ...                 ...      ...    ...\n",
              "C2663     1       1   1  ...                   1        1      1\n",
              "C2666     1       1   1  ...                   1        1      1\n",
              "C2670     1       1   1  ...                   1        1      1\n",
              "C2680     1       1   1  ...                   1        1      1\n",
              "C2692     1       1   1  ...                   1        1      1\n",
              "\n",
              "[423 rows x 14 columns]"
            ]
          },
          "metadata": {
            "tags": []
          },
          "execution_count": 132
        }
      ]
    },
    {
      "cell_type": "code",
      "metadata": {
        "colab": {
          "base_uri": "https://localhost:8080/"
        },
        "id": "Y0txtdIjEBYt",
        "outputId": "fc1d17fd-c462-4ce6-b04d-0f38edf0c175"
      },
      "source": [
        "train.groupby(['단지코드']).nunique(dropna=False).sum(axis=0)"
      ],
      "execution_count": null,
      "outputs": [
        {
          "output_type": "execute_result",
          "data": {
            "text/plain": [
              "총세대수                             423\n",
              "임대건물구분                           456\n",
              "지역                               423\n",
              "공급유형                             488\n",
              "전용면적                            1898\n",
              "전용면적별세대수                        2230\n",
              "공가수                              423\n",
              "자격유형                             510\n",
              "임대보증금                           1277\n",
              "임대료                             1289\n",
              "도보 10분거리 내 지하철역 수(환승노선 수 반영)     423\n",
              "도보 10분거리 내 버스정류장 수               423\n",
              "단지내주차면수                          423\n",
              "등록차량수                            423\n",
              "dtype: int64"
            ]
          },
          "metadata": {
            "tags": []
          },
          "execution_count": 133
        }
      ]
    },
    {
      "cell_type": "markdown",
      "metadata": {
        "id": "ZbYUcOQFEBYu"
      },
      "source": [
        "+ 값이 423보다 크면 하나의 단지코드에 대해 둘 이상의 항목이 존재하는 것\n",
        "+ 임대건물구분, 공급유형, 전용면적, 전용면적별세대수, 자격유형, 임대보증금, 임대료는 하나의 단지코드에 대해 둘 이상의 항목 존재\n",
        "+ 단지코드별 집계시 총세대수, 지역, 공가수, 도보 10분거리 내 지하철역 수(환승노선 수 반영), 도보 10분거리 내 버스정류장 수, 단지내주차면수, 등록차량수는 그대로 사용하고, 나머지 변수들은 각 항목들을 변수로 만들어 사용하는 것이 좋아보임"
      ]
    },
    {
      "cell_type": "markdown",
      "metadata": {
        "id": "UMzGgs-lEBYu"
      },
      "source": [
        "## 1.4 단지코드 별 집계"
      ]
    },
    {
      "cell_type": "markdown",
      "metadata": {
        "id": "2fiwEcHHEBYu"
      },
      "source": [
        "#### (1) 하나의 단지코드에 하나의 값만 존재하는 변수들\n",
        "\n",
        "+ 총세대수, 지역, 공가수, 도보 10분거리 내 지하철역 수(환승노선 수 반영), 도보 10분거리 내 버스정류장 수, 단지내주차면수, 등록차량수"
      ]
    },
    {
      "cell_type": "code",
      "metadata": {
        "id": "ZK5fV5Q2EBYv"
      },
      "source": [
        "unique_cols = ['총세대수', '지역', '공가수', \n",
        "               '도보 10분거리 내 지하철역 수(환승노선 수 반영)',\n",
        "               '도보 10분거리 내 버스정류장 수',\n",
        "               '단지내주차면수', '등록차량수']\n",
        "train_agg = train.set_index('단지코드')[unique_cols].drop_duplicates()\n",
        "test_agg = test.set_index('단지코드')[[col for col in unique_cols if col!='등록차량수']].drop_duplicates()"
      ],
      "execution_count": null,
      "outputs": []
    },
    {
      "cell_type": "code",
      "metadata": {
        "colab": {
          "base_uri": "https://localhost:8080/",
          "height": 447
        },
        "id": "AXJH8yp-EBYv",
        "outputId": "a53cba0e-f291-4066-d0a3-912d3451048e"
      },
      "source": [
        "train_agg"
      ],
      "execution_count": null,
      "outputs": [
        {
          "output_type": "execute_result",
          "data": {
            "text/html": [
              "<div>\n",
              "<style scoped>\n",
              "    .dataframe tbody tr th:only-of-type {\n",
              "        vertical-align: middle;\n",
              "    }\n",
              "\n",
              "    .dataframe tbody tr th {\n",
              "        vertical-align: top;\n",
              "    }\n",
              "\n",
              "    .dataframe thead th {\n",
              "        text-align: right;\n",
              "    }\n",
              "</style>\n",
              "<table border=\"1\" class=\"dataframe\">\n",
              "  <thead>\n",
              "    <tr style=\"text-align: right;\">\n",
              "      <th></th>\n",
              "      <th>총세대수</th>\n",
              "      <th>지역</th>\n",
              "      <th>공가수</th>\n",
              "      <th>도보 10분거리 내 지하철역 수(환승노선 수 반영)</th>\n",
              "      <th>도보 10분거리 내 버스정류장 수</th>\n",
              "      <th>단지내주차면수</th>\n",
              "      <th>등록차량수</th>\n",
              "    </tr>\n",
              "    <tr>\n",
              "      <th>단지코드</th>\n",
              "      <th></th>\n",
              "      <th></th>\n",
              "      <th></th>\n",
              "      <th></th>\n",
              "      <th></th>\n",
              "      <th></th>\n",
              "      <th></th>\n",
              "    </tr>\n",
              "  </thead>\n",
              "  <tbody>\n",
              "    <tr>\n",
              "      <th>C2483</th>\n",
              "      <td>900</td>\n",
              "      <td>경상북도</td>\n",
              "      <td>38.0</td>\n",
              "      <td>0.0</td>\n",
              "      <td>3.0</td>\n",
              "      <td>1425.0</td>\n",
              "      <td>1015.0</td>\n",
              "    </tr>\n",
              "    <tr>\n",
              "      <th>C2515</th>\n",
              "      <td>545</td>\n",
              "      <td>경상남도</td>\n",
              "      <td>17.0</td>\n",
              "      <td>0.0</td>\n",
              "      <td>3.0</td>\n",
              "      <td>624.0</td>\n",
              "      <td>205.0</td>\n",
              "    </tr>\n",
              "    <tr>\n",
              "      <th>C1407</th>\n",
              "      <td>1216</td>\n",
              "      <td>대전광역시</td>\n",
              "      <td>13.0</td>\n",
              "      <td>1.0</td>\n",
              "      <td>1.0</td>\n",
              "      <td>1285.0</td>\n",
              "      <td>1064.0</td>\n",
              "    </tr>\n",
              "    <tr>\n",
              "      <th>C1945</th>\n",
              "      <td>755</td>\n",
              "      <td>경기도</td>\n",
              "      <td>6.0</td>\n",
              "      <td>1.0</td>\n",
              "      <td>3.0</td>\n",
              "      <td>734.0</td>\n",
              "      <td>730.0</td>\n",
              "    </tr>\n",
              "    <tr>\n",
              "      <th>C1470</th>\n",
              "      <td>696</td>\n",
              "      <td>전라북도</td>\n",
              "      <td>14.0</td>\n",
              "      <td>0.0</td>\n",
              "      <td>2.0</td>\n",
              "      <td>645.0</td>\n",
              "      <td>553.0</td>\n",
              "    </tr>\n",
              "    <tr>\n",
              "      <th>...</th>\n",
              "      <td>...</td>\n",
              "      <td>...</td>\n",
              "      <td>...</td>\n",
              "      <td>...</td>\n",
              "      <td>...</td>\n",
              "      <td>...</td>\n",
              "      <td>...</td>\n",
              "    </tr>\n",
              "    <tr>\n",
              "      <th>C2586</th>\n",
              "      <td>90</td>\n",
              "      <td>제주특별자치도</td>\n",
              "      <td>7.0</td>\n",
              "      <td>0.0</td>\n",
              "      <td>3.0</td>\n",
              "      <td>66.0</td>\n",
              "      <td>57.0</td>\n",
              "    </tr>\n",
              "    <tr>\n",
              "      <th>C2035</th>\n",
              "      <td>492</td>\n",
              "      <td>강원도</td>\n",
              "      <td>24.0</td>\n",
              "      <td>0.0</td>\n",
              "      <td>1.0</td>\n",
              "      <td>521.0</td>\n",
              "      <td>246.0</td>\n",
              "    </tr>\n",
              "    <tr>\n",
              "      <th>C2020</th>\n",
              "      <td>40</td>\n",
              "      <td>부산광역시</td>\n",
              "      <td>7.0</td>\n",
              "      <td>1.0</td>\n",
              "      <td>2.0</td>\n",
              "      <td>25.0</td>\n",
              "      <td>19.0</td>\n",
              "    </tr>\n",
              "    <tr>\n",
              "      <th>C2437</th>\n",
              "      <td>90</td>\n",
              "      <td>충청북도</td>\n",
              "      <td>12.0</td>\n",
              "      <td>0.0</td>\n",
              "      <td>1.0</td>\n",
              "      <td>30.0</td>\n",
              "      <td>16.0</td>\n",
              "    </tr>\n",
              "    <tr>\n",
              "      <th>C2532</th>\n",
              "      <td>239</td>\n",
              "      <td>강원도</td>\n",
              "      <td>7.0</td>\n",
              "      <td>0.0</td>\n",
              "      <td>1.0</td>\n",
              "      <td>166.0</td>\n",
              "      <td>146.0</td>\n",
              "    </tr>\n",
              "  </tbody>\n",
              "</table>\n",
              "<p>423 rows × 7 columns</p>\n",
              "</div>"
            ],
            "text/plain": [
              "       총세대수       지역   공가수  ...  도보 10분거리 내 버스정류장 수  단지내주차면수   등록차량수\n",
              "단지코드                        ...                                     \n",
              "C2483   900     경상북도  38.0  ...                 3.0   1425.0  1015.0\n",
              "C2515   545     경상남도  17.0  ...                 3.0    624.0   205.0\n",
              "C1407  1216    대전광역시  13.0  ...                 1.0   1285.0  1064.0\n",
              "C1945   755      경기도   6.0  ...                 3.0    734.0   730.0\n",
              "C1470   696     전라북도  14.0  ...                 2.0    645.0   553.0\n",
              "...     ...      ...   ...  ...                 ...      ...     ...\n",
              "C2586    90  제주특별자치도   7.0  ...                 3.0     66.0    57.0\n",
              "C2035   492      강원도  24.0  ...                 1.0    521.0   246.0\n",
              "C2020    40    부산광역시   7.0  ...                 2.0     25.0    19.0\n",
              "C2437    90     충청북도  12.0  ...                 1.0     30.0    16.0\n",
              "C2532   239      강원도   7.0  ...                 1.0    166.0   146.0\n",
              "\n",
              "[423 rows x 7 columns]"
            ]
          },
          "metadata": {
            "tags": []
          },
          "execution_count": 135
        }
      ]
    },
    {
      "cell_type": "code",
      "metadata": {
        "colab": {
          "base_uri": "https://localhost:8080/",
          "height": 447
        },
        "id": "mCNyrcjQEBYv",
        "outputId": "c22a4cd1-b110-42ef-a710-cc5531a8981d"
      },
      "source": [
        "test_agg"
      ],
      "execution_count": null,
      "outputs": [
        {
          "output_type": "execute_result",
          "data": {
            "text/html": [
              "<div>\n",
              "<style scoped>\n",
              "    .dataframe tbody tr th:only-of-type {\n",
              "        vertical-align: middle;\n",
              "    }\n",
              "\n",
              "    .dataframe tbody tr th {\n",
              "        vertical-align: top;\n",
              "    }\n",
              "\n",
              "    .dataframe thead th {\n",
              "        text-align: right;\n",
              "    }\n",
              "</style>\n",
              "<table border=\"1\" class=\"dataframe\">\n",
              "  <thead>\n",
              "    <tr style=\"text-align: right;\">\n",
              "      <th></th>\n",
              "      <th>총세대수</th>\n",
              "      <th>지역</th>\n",
              "      <th>공가수</th>\n",
              "      <th>도보 10분거리 내 지하철역 수(환승노선 수 반영)</th>\n",
              "      <th>도보 10분거리 내 버스정류장 수</th>\n",
              "      <th>단지내주차면수</th>\n",
              "    </tr>\n",
              "    <tr>\n",
              "      <th>단지코드</th>\n",
              "      <th></th>\n",
              "      <th></th>\n",
              "      <th></th>\n",
              "      <th></th>\n",
              "      <th></th>\n",
              "      <th></th>\n",
              "    </tr>\n",
              "  </thead>\n",
              "  <tbody>\n",
              "    <tr>\n",
              "      <th>C1072</th>\n",
              "      <td>754</td>\n",
              "      <td>경기도</td>\n",
              "      <td>14.0</td>\n",
              "      <td>0.0</td>\n",
              "      <td>2.0</td>\n",
              "      <td>683.0</td>\n",
              "    </tr>\n",
              "    <tr>\n",
              "      <th>C1128</th>\n",
              "      <td>1354</td>\n",
              "      <td>경기도</td>\n",
              "      <td>9.0</td>\n",
              "      <td>0.0</td>\n",
              "      <td>3.0</td>\n",
              "      <td>1216.0</td>\n",
              "    </tr>\n",
              "    <tr>\n",
              "      <th>C1456</th>\n",
              "      <td>619</td>\n",
              "      <td>부산광역시</td>\n",
              "      <td>18.0</td>\n",
              "      <td>0.0</td>\n",
              "      <td>16.0</td>\n",
              "      <td>547.0</td>\n",
              "    </tr>\n",
              "    <tr>\n",
              "      <th>C1840</th>\n",
              "      <td>593</td>\n",
              "      <td>전라북도</td>\n",
              "      <td>7.0</td>\n",
              "      <td>0.0</td>\n",
              "      <td>3.0</td>\n",
              "      <td>543.0</td>\n",
              "    </tr>\n",
              "    <tr>\n",
              "      <th>C1332</th>\n",
              "      <td>1297</td>\n",
              "      <td>경기도</td>\n",
              "      <td>11.0</td>\n",
              "      <td>0.0</td>\n",
              "      <td>2.0</td>\n",
              "      <td>1112.0</td>\n",
              "    </tr>\n",
              "    <tr>\n",
              "      <th>...</th>\n",
              "      <td>...</td>\n",
              "      <td>...</td>\n",
              "      <td>...</td>\n",
              "      <td>...</td>\n",
              "      <td>...</td>\n",
              "      <td>...</td>\n",
              "    </tr>\n",
              "    <tr>\n",
              "      <th>C2456</th>\n",
              "      <td>349</td>\n",
              "      <td>제주특별자치도</td>\n",
              "      <td>17.0</td>\n",
              "      <td>0.0</td>\n",
              "      <td>4.0</td>\n",
              "      <td>270.0</td>\n",
              "    </tr>\n",
              "    <tr>\n",
              "      <th>C1266</th>\n",
              "      <td>596</td>\n",
              "      <td>충청북도</td>\n",
              "      <td>35.0</td>\n",
              "      <td>0.0</td>\n",
              "      <td>1.0</td>\n",
              "      <td>593.0</td>\n",
              "    </tr>\n",
              "    <tr>\n",
              "      <th>C2152</th>\n",
              "      <td>120</td>\n",
              "      <td>강원도</td>\n",
              "      <td>9.0</td>\n",
              "      <td>0.0</td>\n",
              "      <td>1.0</td>\n",
              "      <td>40.0</td>\n",
              "    </tr>\n",
              "    <tr>\n",
              "      <th>C1267</th>\n",
              "      <td>675</td>\n",
              "      <td>경상남도</td>\n",
              "      <td>38.0</td>\n",
              "      <td>0.0</td>\n",
              "      <td>1.0</td>\n",
              "      <td>467.0</td>\n",
              "    </tr>\n",
              "    <tr>\n",
              "      <th>C2189</th>\n",
              "      <td>382</td>\n",
              "      <td>전라북도</td>\n",
              "      <td>45.0</td>\n",
              "      <td>0.0</td>\n",
              "      <td>2.0</td>\n",
              "      <td>300.0</td>\n",
              "    </tr>\n",
              "  </tbody>\n",
              "</table>\n",
              "<p>150 rows × 6 columns</p>\n",
              "</div>"
            ],
            "text/plain": [
              "       총세대수       지역  ...  도보 10분거리 내 버스정류장 수  단지내주차면수\n",
              "단지코드                  ...                             \n",
              "C1072   754      경기도  ...                 2.0    683.0\n",
              "C1128  1354      경기도  ...                 3.0   1216.0\n",
              "C1456   619    부산광역시  ...                16.0    547.0\n",
              "C1840   593     전라북도  ...                 3.0    543.0\n",
              "C1332  1297      경기도  ...                 2.0   1112.0\n",
              "...     ...      ...  ...                 ...      ...\n",
              "C2456   349  제주특별자치도  ...                 4.0    270.0\n",
              "C1266   596     충청북도  ...                 1.0    593.0\n",
              "C2152   120      강원도  ...                 1.0     40.0\n",
              "C1267   675     경상남도  ...                 1.0    467.0\n",
              "C2189   382     전라북도  ...                 2.0    300.0\n",
              "\n",
              "[150 rows x 6 columns]"
            ]
          },
          "metadata": {
            "tags": []
          },
          "execution_count": 136
        }
      ]
    },
    {
      "cell_type": "markdown",
      "metadata": {
        "id": "r91DJzG7EBYw"
      },
      "source": [
        "#### (2) 하나의 단지코드에 둘 이상의 값이 존재하는 변수들\n",
        "\n",
        "+ 임대건물구분, 공급유형, 전용면적, 전용면적별세대수, 자격유형, 임대보증금, 임대료"
      ]
    },
    {
      "cell_type": "code",
      "metadata": {
        "id": "3YwnYCAOEBYw"
      },
      "source": [
        "def reshape_cat_features(data, cast_col, value_col):\n",
        "    res = data.drop_duplicates(['단지코드', cast_col]).assign(counter=1).pivot(index='단지코드', columns=cast_col, values=value_col).fillna(0)\n",
        "    res.columns.name = None\n",
        "    res = res.rename(columns={col:cast_col+'_'+col for col in res.columns})\n",
        "    return res"
      ],
      "execution_count": null,
      "outputs": []
    },
    {
      "cell_type": "markdown",
      "metadata": {
        "id": "C-rpBWjGEBYw"
      },
      "source": [
        "#### 1) 임대건물구분: 아파트/상가 \n",
        "\n",
        "+ 주상복합인 경우 주차수요가 주거only인 경우보다 많지 않을까? => 상가 직원들도 차량 등록이 가능하면 상가 당 주차수요는 일반 가구보다 높을  수 있음\n",
        "+ 상가의 전용면적별세대수는 모두 1\n",
        "+ 우선 임대건물구분을 열로 올려서 단지가 주상복합인지 아닌지 구분할 수 있게 해야함"
      ]
    },
    {
      "cell_type": "code",
      "metadata": {
        "colab": {
          "base_uri": "https://localhost:8080/",
          "height": 447
        },
        "id": "4cuVPOcWEBYx",
        "outputId": "8d7daae1-e790-42db-f6d4-0759f596eb59"
      },
      "source": [
        "reshape_cat_features(data=train, cast_col='임대건물구분', value_col='counter')"
      ],
      "execution_count": null,
      "outputs": [
        {
          "output_type": "execute_result",
          "data": {
            "text/html": [
              "<div>\n",
              "<style scoped>\n",
              "    .dataframe tbody tr th:only-of-type {\n",
              "        vertical-align: middle;\n",
              "    }\n",
              "\n",
              "    .dataframe tbody tr th {\n",
              "        vertical-align: top;\n",
              "    }\n",
              "\n",
              "    .dataframe thead th {\n",
              "        text-align: right;\n",
              "    }\n",
              "</style>\n",
              "<table border=\"1\" class=\"dataframe\">\n",
              "  <thead>\n",
              "    <tr style=\"text-align: right;\">\n",
              "      <th></th>\n",
              "      <th>임대건물구분_상가</th>\n",
              "      <th>임대건물구분_아파트</th>\n",
              "    </tr>\n",
              "    <tr>\n",
              "      <th>단지코드</th>\n",
              "      <th></th>\n",
              "      <th></th>\n",
              "    </tr>\n",
              "  </thead>\n",
              "  <tbody>\n",
              "    <tr>\n",
              "      <th>C1000</th>\n",
              "      <td>0.0</td>\n",
              "      <td>1.0</td>\n",
              "    </tr>\n",
              "    <tr>\n",
              "      <th>C1004</th>\n",
              "      <td>1.0</td>\n",
              "      <td>1.0</td>\n",
              "    </tr>\n",
              "    <tr>\n",
              "      <th>C1005</th>\n",
              "      <td>0.0</td>\n",
              "      <td>1.0</td>\n",
              "    </tr>\n",
              "    <tr>\n",
              "      <th>C1013</th>\n",
              "      <td>0.0</td>\n",
              "      <td>1.0</td>\n",
              "    </tr>\n",
              "    <tr>\n",
              "      <th>C1014</th>\n",
              "      <td>0.0</td>\n",
              "      <td>1.0</td>\n",
              "    </tr>\n",
              "    <tr>\n",
              "      <th>...</th>\n",
              "      <td>...</td>\n",
              "      <td>...</td>\n",
              "    </tr>\n",
              "    <tr>\n",
              "      <th>C2663</th>\n",
              "      <td>0.0</td>\n",
              "      <td>1.0</td>\n",
              "    </tr>\n",
              "    <tr>\n",
              "      <th>C2666</th>\n",
              "      <td>0.0</td>\n",
              "      <td>1.0</td>\n",
              "    </tr>\n",
              "    <tr>\n",
              "      <th>C2670</th>\n",
              "      <td>0.0</td>\n",
              "      <td>1.0</td>\n",
              "    </tr>\n",
              "    <tr>\n",
              "      <th>C2680</th>\n",
              "      <td>0.0</td>\n",
              "      <td>1.0</td>\n",
              "    </tr>\n",
              "    <tr>\n",
              "      <th>C2692</th>\n",
              "      <td>0.0</td>\n",
              "      <td>1.0</td>\n",
              "    </tr>\n",
              "  </tbody>\n",
              "</table>\n",
              "<p>423 rows × 2 columns</p>\n",
              "</div>"
            ],
            "text/plain": [
              "       임대건물구분_상가  임대건물구분_아파트\n",
              "단지코드                        \n",
              "C1000        0.0         1.0\n",
              "C1004        1.0         1.0\n",
              "C1005        0.0         1.0\n",
              "C1013        0.0         1.0\n",
              "C1014        0.0         1.0\n",
              "...          ...         ...\n",
              "C2663        0.0         1.0\n",
              "C2666        0.0         1.0\n",
              "C2670        0.0         1.0\n",
              "C2680        0.0         1.0\n",
              "C2692        0.0         1.0\n",
              "\n",
              "[423 rows x 2 columns]"
            ]
          },
          "metadata": {
            "tags": []
          },
          "execution_count": 138
        }
      ]
    },
    {
      "cell_type": "code",
      "metadata": {
        "colab": {
          "base_uri": "https://localhost:8080/",
          "height": 447
        },
        "id": "nV2q60noEBYx",
        "outputId": "af303acd-58e6-4e75-a8d9-e40039075113"
      },
      "source": [
        "reshape_cat_features(data=test, cast_col='임대건물구분', value_col='counter')"
      ],
      "execution_count": null,
      "outputs": [
        {
          "output_type": "execute_result",
          "data": {
            "text/html": [
              "<div>\n",
              "<style scoped>\n",
              "    .dataframe tbody tr th:only-of-type {\n",
              "        vertical-align: middle;\n",
              "    }\n",
              "\n",
              "    .dataframe tbody tr th {\n",
              "        vertical-align: top;\n",
              "    }\n",
              "\n",
              "    .dataframe thead th {\n",
              "        text-align: right;\n",
              "    }\n",
              "</style>\n",
              "<table border=\"1\" class=\"dataframe\">\n",
              "  <thead>\n",
              "    <tr style=\"text-align: right;\">\n",
              "      <th></th>\n",
              "      <th>임대건물구분_상가</th>\n",
              "      <th>임대건물구분_아파트</th>\n",
              "    </tr>\n",
              "    <tr>\n",
              "      <th>단지코드</th>\n",
              "      <th></th>\n",
              "      <th></th>\n",
              "    </tr>\n",
              "  </thead>\n",
              "  <tbody>\n",
              "    <tr>\n",
              "      <th>C1003</th>\n",
              "      <td>0.0</td>\n",
              "      <td>1.0</td>\n",
              "    </tr>\n",
              "    <tr>\n",
              "      <th>C1006</th>\n",
              "      <td>1.0</td>\n",
              "      <td>1.0</td>\n",
              "    </tr>\n",
              "    <tr>\n",
              "      <th>C1016</th>\n",
              "      <td>0.0</td>\n",
              "      <td>1.0</td>\n",
              "    </tr>\n",
              "    <tr>\n",
              "      <th>C1019</th>\n",
              "      <td>0.0</td>\n",
              "      <td>1.0</td>\n",
              "    </tr>\n",
              "    <tr>\n",
              "      <th>C1030</th>\n",
              "      <td>0.0</td>\n",
              "      <td>1.0</td>\n",
              "    </tr>\n",
              "    <tr>\n",
              "      <th>...</th>\n",
              "      <td>...</td>\n",
              "      <td>...</td>\n",
              "    </tr>\n",
              "    <tr>\n",
              "      <th>C2653</th>\n",
              "      <td>0.0</td>\n",
              "      <td>1.0</td>\n",
              "    </tr>\n",
              "    <tr>\n",
              "      <th>C2675</th>\n",
              "      <td>0.0</td>\n",
              "      <td>1.0</td>\n",
              "    </tr>\n",
              "    <tr>\n",
              "      <th>C2676</th>\n",
              "      <td>1.0</td>\n",
              "      <td>1.0</td>\n",
              "    </tr>\n",
              "    <tr>\n",
              "      <th>C2688</th>\n",
              "      <td>0.0</td>\n",
              "      <td>1.0</td>\n",
              "    </tr>\n",
              "    <tr>\n",
              "      <th>C2691</th>\n",
              "      <td>0.0</td>\n",
              "      <td>1.0</td>\n",
              "    </tr>\n",
              "  </tbody>\n",
              "</table>\n",
              "<p>150 rows × 2 columns</p>\n",
              "</div>"
            ],
            "text/plain": [
              "       임대건물구분_상가  임대건물구분_아파트\n",
              "단지코드                        \n",
              "C1003        0.0         1.0\n",
              "C1006        1.0         1.0\n",
              "C1016        0.0         1.0\n",
              "C1019        0.0         1.0\n",
              "C1030        0.0         1.0\n",
              "...          ...         ...\n",
              "C2653        0.0         1.0\n",
              "C2675        0.0         1.0\n",
              "C2676        1.0         1.0\n",
              "C2688        0.0         1.0\n",
              "C2691        0.0         1.0\n",
              "\n",
              "[150 rows x 2 columns]"
            ]
          },
          "metadata": {
            "tags": []
          },
          "execution_count": 139
        }
      ]
    },
    {
      "cell_type": "markdown",
      "metadata": {
        "id": "cHRa_0JfEBYy"
      },
      "source": [
        "#### 공급유형\n",
        "\n",
        "+ [국민임대와 공공임대의 차이](https://brunch.co.kr/@leeeeesh/91)\n",
        "+ LH공사와 SH공사에서 제공하는 국민임대는 국가 재정과 국민주택기금을 지원받아 국가, 지방자치단체, 한국토지주택공사 또는 지방공사가 건설, 공급하는 주택을 의미한다. 저렴한 임대료를 지불하고 장기(30년) 임대가 가능하다. 장기 거주는 가능하지만 해당 주거지를 매입할 수 없다는 단점이 있다.\n",
        "+ 반면 공공임대는 5년 또는 10년 후 임대기간이 종료되었을 때 입주자에게 우선 분양전환혜택을 준다."
      ]
    },
    {
      "cell_type": "code",
      "metadata": {
        "colab": {
          "base_uri": "https://localhost:8080/",
          "height": 357
        },
        "id": "47Swom98EBYy",
        "outputId": "06245fe9-8df0-4915-e31b-1aa95de6e763"
      },
      "source": [
        "pd.concat([train.공급유형.value_counts(), test.공급유형.value_counts()], axis=1)"
      ],
      "execution_count": null,
      "outputs": [
        {
          "output_type": "execute_result",
          "data": {
            "text/html": [
              "<div>\n",
              "<style scoped>\n",
              "    .dataframe tbody tr th:only-of-type {\n",
              "        vertical-align: middle;\n",
              "    }\n",
              "\n",
              "    .dataframe tbody tr th {\n",
              "        vertical-align: top;\n",
              "    }\n",
              "\n",
              "    .dataframe thead th {\n",
              "        text-align: right;\n",
              "    }\n",
              "</style>\n",
              "<table border=\"1\" class=\"dataframe\">\n",
              "  <thead>\n",
              "    <tr style=\"text-align: right;\">\n",
              "      <th></th>\n",
              "      <th>공급유형</th>\n",
              "      <th>공급유형</th>\n",
              "    </tr>\n",
              "  </thead>\n",
              "  <tbody>\n",
              "    <tr>\n",
              "      <th>국민임대</th>\n",
              "      <td>1730</td>\n",
              "      <td>619.0</td>\n",
              "    </tr>\n",
              "    <tr>\n",
              "      <th>임대상가</th>\n",
              "      <td>285</td>\n",
              "      <td>112.0</td>\n",
              "    </tr>\n",
              "    <tr>\n",
              "      <th>공공임대(10년)</th>\n",
              "      <td>203</td>\n",
              "      <td>34.0</td>\n",
              "    </tr>\n",
              "    <tr>\n",
              "      <th>행복주택</th>\n",
              "      <td>203</td>\n",
              "      <td>121.0</td>\n",
              "    </tr>\n",
              "    <tr>\n",
              "      <th>영구임대</th>\n",
              "      <td>149</td>\n",
              "      <td>44.0</td>\n",
              "    </tr>\n",
              "    <tr>\n",
              "      <th>공공임대(50년)</th>\n",
              "      <td>31</td>\n",
              "      <td>13.0</td>\n",
              "    </tr>\n",
              "    <tr>\n",
              "      <th>공공임대(분납)</th>\n",
              "      <td>12</td>\n",
              "      <td>6.0</td>\n",
              "    </tr>\n",
              "    <tr>\n",
              "      <th>장기전세</th>\n",
              "      <td>9</td>\n",
              "      <td>NaN</td>\n",
              "    </tr>\n",
              "    <tr>\n",
              "      <th>공공분양</th>\n",
              "      <td>7</td>\n",
              "      <td>NaN</td>\n",
              "    </tr>\n",
              "    <tr>\n",
              "      <th>공공임대(5년)</th>\n",
              "      <td>3</td>\n",
              "      <td>NaN</td>\n",
              "    </tr>\n",
              "  </tbody>\n",
              "</table>\n",
              "</div>"
            ],
            "text/plain": [
              "           공급유형   공급유형\n",
              "국민임대       1730  619.0\n",
              "임대상가        285  112.0\n",
              "공공임대(10년)   203   34.0\n",
              "행복주택        203  121.0\n",
              "영구임대        149   44.0\n",
              "공공임대(50년)    31   13.0\n",
              "공공임대(분납)     12    6.0\n",
              "장기전세          9    NaN\n",
              "공공분양          7    NaN\n",
              "공공임대(5년)      3    NaN"
            ]
          },
          "metadata": {
            "tags": []
          },
          "execution_count": 140
        }
      ]
    },
    {
      "cell_type": "code",
      "metadata": {
        "id": "yQvU_50xEBYy"
      },
      "source": [
        "train.loc[train.공급유형.isin(['공공임대(5년)', '공공분양', '공공임대(10년)', '공공임대(분납)']), '공급유형'] = '공공임대(5년/10년/분납/분양)'\n",
        "test.loc[test.공급유형.isin(['공공임대(5년)', '공공분양', '공공임대(10년)', '공공임대(분납)']), '공급유형'] = '공공임대(5년/10년/분납/분양)'\n",
        "train.loc[train.공급유형.isin(['장기전세', '국민임대']), '공급유형'] = '국민임대/장기전세'\n",
        "test.loc[test.공급유형.isin(['장기전세', '국민임대']), '공급유형'] = '국민임대/장기전세'"
      ],
      "execution_count": null,
      "outputs": []
    },
    {
      "cell_type": "code",
      "metadata": {
        "colab": {
          "base_uri": "https://localhost:8080/"
        },
        "id": "F5jCD6r_EBYz",
        "outputId": "02307e14-3774-41e1-be12-4bbd52bdbaa6"
      },
      "source": [
        "set(train.공급유형)"
      ],
      "execution_count": null,
      "outputs": [
        {
          "output_type": "execute_result",
          "data": {
            "text/plain": [
              "{'공공임대(50년)', '공공임대(5년/10년/분납/분양)', '국민임대/장기전세', '영구임대', '임대상가', '행복주택'}"
            ]
          },
          "metadata": {
            "tags": []
          },
          "execution_count": 142
        }
      ]
    },
    {
      "cell_type": "code",
      "metadata": {
        "colab": {
          "base_uri": "https://localhost:8080/"
        },
        "id": "z5a6OObLEBYz",
        "outputId": "01904576-ce89-4eec-c27c-86e3ec055613"
      },
      "source": [
        "set(test.공급유형)"
      ],
      "execution_count": null,
      "outputs": [
        {
          "output_type": "execute_result",
          "data": {
            "text/plain": [
              "{'공공임대(50년)', '공공임대(5년/10년/분납/분양)', '국민임대/장기전세', '영구임대', '임대상가', '행복주택'}"
            ]
          },
          "metadata": {
            "tags": []
          },
          "execution_count": 143
        }
      ]
    },
    {
      "cell_type": "code",
      "metadata": {
        "colab": {
          "base_uri": "https://localhost:8080/",
          "height": 447
        },
        "id": "b-Gatnl2EBY0",
        "outputId": "a026f605-73a1-4998-ca95-e6eef7f69a15"
      },
      "source": [
        "reshape_cat_features(data=train, cast_col='공급유형', value_col='counter')"
      ],
      "execution_count": null,
      "outputs": [
        {
          "output_type": "execute_result",
          "data": {
            "text/html": [
              "<div>\n",
              "<style scoped>\n",
              "    .dataframe tbody tr th:only-of-type {\n",
              "        vertical-align: middle;\n",
              "    }\n",
              "\n",
              "    .dataframe tbody tr th {\n",
              "        vertical-align: top;\n",
              "    }\n",
              "\n",
              "    .dataframe thead th {\n",
              "        text-align: right;\n",
              "    }\n",
              "</style>\n",
              "<table border=\"1\" class=\"dataframe\">\n",
              "  <thead>\n",
              "    <tr style=\"text-align: right;\">\n",
              "      <th></th>\n",
              "      <th>공급유형_공공임대(50년)</th>\n",
              "      <th>공급유형_공공임대(5년/10년/분납/분양)</th>\n",
              "      <th>공급유형_국민임대/장기전세</th>\n",
              "      <th>공급유형_영구임대</th>\n",
              "      <th>공급유형_임대상가</th>\n",
              "      <th>공급유형_행복주택</th>\n",
              "    </tr>\n",
              "    <tr>\n",
              "      <th>단지코드</th>\n",
              "      <th></th>\n",
              "      <th></th>\n",
              "      <th></th>\n",
              "      <th></th>\n",
              "      <th></th>\n",
              "      <th></th>\n",
              "    </tr>\n",
              "  </thead>\n",
              "  <tbody>\n",
              "    <tr>\n",
              "      <th>C1000</th>\n",
              "      <td>0.0</td>\n",
              "      <td>0.0</td>\n",
              "      <td>1.0</td>\n",
              "      <td>0.0</td>\n",
              "      <td>0.0</td>\n",
              "      <td>0.0</td>\n",
              "    </tr>\n",
              "    <tr>\n",
              "      <th>C1004</th>\n",
              "      <td>0.0</td>\n",
              "      <td>0.0</td>\n",
              "      <td>0.0</td>\n",
              "      <td>1.0</td>\n",
              "      <td>1.0</td>\n",
              "      <td>0.0</td>\n",
              "    </tr>\n",
              "    <tr>\n",
              "      <th>C1005</th>\n",
              "      <td>0.0</td>\n",
              "      <td>0.0</td>\n",
              "      <td>1.0</td>\n",
              "      <td>0.0</td>\n",
              "      <td>0.0</td>\n",
              "      <td>0.0</td>\n",
              "    </tr>\n",
              "    <tr>\n",
              "      <th>C1013</th>\n",
              "      <td>0.0</td>\n",
              "      <td>0.0</td>\n",
              "      <td>1.0</td>\n",
              "      <td>0.0</td>\n",
              "      <td>0.0</td>\n",
              "      <td>0.0</td>\n",
              "    </tr>\n",
              "    <tr>\n",
              "      <th>C1014</th>\n",
              "      <td>0.0</td>\n",
              "      <td>0.0</td>\n",
              "      <td>1.0</td>\n",
              "      <td>0.0</td>\n",
              "      <td>0.0</td>\n",
              "      <td>0.0</td>\n",
              "    </tr>\n",
              "    <tr>\n",
              "      <th>...</th>\n",
              "      <td>...</td>\n",
              "      <td>...</td>\n",
              "      <td>...</td>\n",
              "      <td>...</td>\n",
              "      <td>...</td>\n",
              "      <td>...</td>\n",
              "    </tr>\n",
              "    <tr>\n",
              "      <th>C2663</th>\n",
              "      <td>0.0</td>\n",
              "      <td>0.0</td>\n",
              "      <td>1.0</td>\n",
              "      <td>0.0</td>\n",
              "      <td>0.0</td>\n",
              "      <td>0.0</td>\n",
              "    </tr>\n",
              "    <tr>\n",
              "      <th>C2666</th>\n",
              "      <td>0.0</td>\n",
              "      <td>0.0</td>\n",
              "      <td>1.0</td>\n",
              "      <td>0.0</td>\n",
              "      <td>0.0</td>\n",
              "      <td>0.0</td>\n",
              "    </tr>\n",
              "    <tr>\n",
              "      <th>C2670</th>\n",
              "      <td>0.0</td>\n",
              "      <td>0.0</td>\n",
              "      <td>1.0</td>\n",
              "      <td>0.0</td>\n",
              "      <td>0.0</td>\n",
              "      <td>0.0</td>\n",
              "    </tr>\n",
              "    <tr>\n",
              "      <th>C2680</th>\n",
              "      <td>0.0</td>\n",
              "      <td>0.0</td>\n",
              "      <td>1.0</td>\n",
              "      <td>0.0</td>\n",
              "      <td>0.0</td>\n",
              "      <td>0.0</td>\n",
              "    </tr>\n",
              "    <tr>\n",
              "      <th>C2692</th>\n",
              "      <td>0.0</td>\n",
              "      <td>0.0</td>\n",
              "      <td>1.0</td>\n",
              "      <td>0.0</td>\n",
              "      <td>0.0</td>\n",
              "      <td>0.0</td>\n",
              "    </tr>\n",
              "  </tbody>\n",
              "</table>\n",
              "<p>423 rows × 6 columns</p>\n",
              "</div>"
            ],
            "text/plain": [
              "       공급유형_공공임대(50년)  공급유형_공공임대(5년/10년/분납/분양)  ...  공급유형_임대상가  공급유형_행복주택\n",
              "단지코드                                            ...                      \n",
              "C1000             0.0                      0.0  ...        0.0        0.0\n",
              "C1004             0.0                      0.0  ...        1.0        0.0\n",
              "C1005             0.0                      0.0  ...        0.0        0.0\n",
              "C1013             0.0                      0.0  ...        0.0        0.0\n",
              "C1014             0.0                      0.0  ...        0.0        0.0\n",
              "...               ...                      ...  ...        ...        ...\n",
              "C2663             0.0                      0.0  ...        0.0        0.0\n",
              "C2666             0.0                      0.0  ...        0.0        0.0\n",
              "C2670             0.0                      0.0  ...        0.0        0.0\n",
              "C2680             0.0                      0.0  ...        0.0        0.0\n",
              "C2692             0.0                      0.0  ...        0.0        0.0\n",
              "\n",
              "[423 rows x 6 columns]"
            ]
          },
          "metadata": {
            "tags": []
          },
          "execution_count": 144
        }
      ]
    },
    {
      "cell_type": "code",
      "metadata": {
        "colab": {
          "base_uri": "https://localhost:8080/",
          "height": 447
        },
        "id": "-Cdf8HjyEBY0",
        "outputId": "6754aea0-ce11-4a45-958e-aff28a111211"
      },
      "source": [
        "reshape_cat_features(data=test, cast_col='공급유형', value_col='counter')"
      ],
      "execution_count": null,
      "outputs": [
        {
          "output_type": "execute_result",
          "data": {
            "text/html": [
              "<div>\n",
              "<style scoped>\n",
              "    .dataframe tbody tr th:only-of-type {\n",
              "        vertical-align: middle;\n",
              "    }\n",
              "\n",
              "    .dataframe tbody tr th {\n",
              "        vertical-align: top;\n",
              "    }\n",
              "\n",
              "    .dataframe thead th {\n",
              "        text-align: right;\n",
              "    }\n",
              "</style>\n",
              "<table border=\"1\" class=\"dataframe\">\n",
              "  <thead>\n",
              "    <tr style=\"text-align: right;\">\n",
              "      <th></th>\n",
              "      <th>공급유형_공공임대(50년)</th>\n",
              "      <th>공급유형_공공임대(5년/10년/분납/분양)</th>\n",
              "      <th>공급유형_국민임대/장기전세</th>\n",
              "      <th>공급유형_영구임대</th>\n",
              "      <th>공급유형_임대상가</th>\n",
              "      <th>공급유형_행복주택</th>\n",
              "    </tr>\n",
              "    <tr>\n",
              "      <th>단지코드</th>\n",
              "      <th></th>\n",
              "      <th></th>\n",
              "      <th></th>\n",
              "      <th></th>\n",
              "      <th></th>\n",
              "      <th></th>\n",
              "    </tr>\n",
              "  </thead>\n",
              "  <tbody>\n",
              "    <tr>\n",
              "      <th>C1003</th>\n",
              "      <td>0.0</td>\n",
              "      <td>0.0</td>\n",
              "      <td>0.0</td>\n",
              "      <td>0.0</td>\n",
              "      <td>0.0</td>\n",
              "      <td>1.0</td>\n",
              "    </tr>\n",
              "    <tr>\n",
              "      <th>C1006</th>\n",
              "      <td>0.0</td>\n",
              "      <td>0.0</td>\n",
              "      <td>0.0</td>\n",
              "      <td>1.0</td>\n",
              "      <td>1.0</td>\n",
              "      <td>0.0</td>\n",
              "    </tr>\n",
              "    <tr>\n",
              "      <th>C1016</th>\n",
              "      <td>0.0</td>\n",
              "      <td>0.0</td>\n",
              "      <td>1.0</td>\n",
              "      <td>0.0</td>\n",
              "      <td>0.0</td>\n",
              "      <td>0.0</td>\n",
              "    </tr>\n",
              "    <tr>\n",
              "      <th>C1019</th>\n",
              "      <td>0.0</td>\n",
              "      <td>0.0</td>\n",
              "      <td>1.0</td>\n",
              "      <td>0.0</td>\n",
              "      <td>0.0</td>\n",
              "      <td>0.0</td>\n",
              "    </tr>\n",
              "    <tr>\n",
              "      <th>C1030</th>\n",
              "      <td>0.0</td>\n",
              "      <td>0.0</td>\n",
              "      <td>0.0</td>\n",
              "      <td>0.0</td>\n",
              "      <td>0.0</td>\n",
              "      <td>1.0</td>\n",
              "    </tr>\n",
              "    <tr>\n",
              "      <th>...</th>\n",
              "      <td>...</td>\n",
              "      <td>...</td>\n",
              "      <td>...</td>\n",
              "      <td>...</td>\n",
              "      <td>...</td>\n",
              "      <td>...</td>\n",
              "    </tr>\n",
              "    <tr>\n",
              "      <th>C2653</th>\n",
              "      <td>0.0</td>\n",
              "      <td>0.0</td>\n",
              "      <td>1.0</td>\n",
              "      <td>0.0</td>\n",
              "      <td>0.0</td>\n",
              "      <td>0.0</td>\n",
              "    </tr>\n",
              "    <tr>\n",
              "      <th>C2675</th>\n",
              "      <td>0.0</td>\n",
              "      <td>0.0</td>\n",
              "      <td>1.0</td>\n",
              "      <td>0.0</td>\n",
              "      <td>0.0</td>\n",
              "      <td>0.0</td>\n",
              "    </tr>\n",
              "    <tr>\n",
              "      <th>C2676</th>\n",
              "      <td>0.0</td>\n",
              "      <td>0.0</td>\n",
              "      <td>0.0</td>\n",
              "      <td>1.0</td>\n",
              "      <td>1.0</td>\n",
              "      <td>0.0</td>\n",
              "    </tr>\n",
              "    <tr>\n",
              "      <th>C2688</th>\n",
              "      <td>0.0</td>\n",
              "      <td>0.0</td>\n",
              "      <td>1.0</td>\n",
              "      <td>1.0</td>\n",
              "      <td>0.0</td>\n",
              "      <td>0.0</td>\n",
              "    </tr>\n",
              "    <tr>\n",
              "      <th>C2691</th>\n",
              "      <td>0.0</td>\n",
              "      <td>1.0</td>\n",
              "      <td>0.0</td>\n",
              "      <td>0.0</td>\n",
              "      <td>0.0</td>\n",
              "      <td>0.0</td>\n",
              "    </tr>\n",
              "  </tbody>\n",
              "</table>\n",
              "<p>150 rows × 6 columns</p>\n",
              "</div>"
            ],
            "text/plain": [
              "       공급유형_공공임대(50년)  공급유형_공공임대(5년/10년/분납/분양)  ...  공급유형_임대상가  공급유형_행복주택\n",
              "단지코드                                            ...                      \n",
              "C1003             0.0                      0.0  ...        0.0        1.0\n",
              "C1006             0.0                      0.0  ...        1.0        0.0\n",
              "C1016             0.0                      0.0  ...        0.0        0.0\n",
              "C1019             0.0                      0.0  ...        0.0        0.0\n",
              "C1030             0.0                      0.0  ...        0.0        1.0\n",
              "...               ...                      ...  ...        ...        ...\n",
              "C2653             0.0                      0.0  ...        0.0        0.0\n",
              "C2675             0.0                      0.0  ...        0.0        0.0\n",
              "C2676             0.0                      0.0  ...        1.0        0.0\n",
              "C2688             0.0                      0.0  ...        0.0        0.0\n",
              "C2691             0.0                      1.0  ...        0.0        0.0\n",
              "\n",
              "[150 rows x 6 columns]"
            ]
          },
          "metadata": {
            "tags": []
          },
          "execution_count": 145
        }
      ]
    },
    {
      "cell_type": "markdown",
      "metadata": {
        "id": "2LJyaWngEBY0"
      },
      "source": [
        "#### 자격유형\n",
        "\n",
        "+ 변수생성 컨셉: 특정자격 유형이 많으면 그 단지는 등록차량수가 적을 것이다.\n",
        "    + 예를들어, 소득수준이 낮은 자격유형의 세대가 많으면 주차수요가 적을 가능성이 높을 것으로 예상해볼 수 있다.\n",
        "+ 문제는 특성이 비슷한 항목끼리 묶어야 의미가 있을 것 같은데, 비식별화 되어 있어서 각 코드값이 무엇인지 정확히 알 수 없다는 것임\n",
        "+ 단지코드별로 자격유형별 세대수를 알 수 있으면 좋을 것 같지만 이 데이터에서는 파악 불가능\n",
        "+ 자격유형별 소득수준을 간접적으로 파악하기 위해 자격유형별 임대보증금의 평균, 임대료의 평균을 변수로 사용해 볼 수 있을 것 같음"
      ]
    },
    {
      "cell_type": "code",
      "metadata": {
        "colab": {
          "base_uri": "https://localhost:8080/",
          "height": 511
        },
        "id": "F2-ztHIfEBY1",
        "outputId": "6026c0d6-15bc-4cb8-d4be-d9dc017b404a"
      },
      "source": [
        "pd.concat([train.자격유형.value_counts(), \n",
        "           test.자격유형.value_counts()], axis=1)"
      ],
      "execution_count": null,
      "outputs": [
        {
          "output_type": "execute_result",
          "data": {
            "text/html": [
              "<div>\n",
              "<style scoped>\n",
              "    .dataframe tbody tr th:only-of-type {\n",
              "        vertical-align: middle;\n",
              "    }\n",
              "\n",
              "    .dataframe tbody tr th {\n",
              "        vertical-align: top;\n",
              "    }\n",
              "\n",
              "    .dataframe thead th {\n",
              "        text-align: right;\n",
              "    }\n",
              "</style>\n",
              "<table border=\"1\" class=\"dataframe\">\n",
              "  <thead>\n",
              "    <tr style=\"text-align: right;\">\n",
              "      <th></th>\n",
              "      <th>자격유형</th>\n",
              "      <th>자격유형</th>\n",
              "    </tr>\n",
              "  </thead>\n",
              "  <tbody>\n",
              "    <tr>\n",
              "      <th>A</th>\n",
              "      <td>1775</td>\n",
              "      <td>569.0</td>\n",
              "    </tr>\n",
              "    <tr>\n",
              "      <th>D</th>\n",
              "      <td>292</td>\n",
              "      <td>114.0</td>\n",
              "    </tr>\n",
              "    <tr>\n",
              "      <th>H</th>\n",
              "      <td>154</td>\n",
              "      <td>92.0</td>\n",
              "    </tr>\n",
              "    <tr>\n",
              "      <th>J</th>\n",
              "      <td>105</td>\n",
              "      <td>81.0</td>\n",
              "    </tr>\n",
              "    <tr>\n",
              "      <th>C</th>\n",
              "      <td>92</td>\n",
              "      <td>35.0</td>\n",
              "    </tr>\n",
              "    <tr>\n",
              "      <th>I</th>\n",
              "      <td>49</td>\n",
              "      <td>7.0</td>\n",
              "    </tr>\n",
              "    <tr>\n",
              "      <th>E</th>\n",
              "      <td>37</td>\n",
              "      <td>10.0</td>\n",
              "    </tr>\n",
              "    <tr>\n",
              "      <th>L</th>\n",
              "      <td>33</td>\n",
              "      <td>12.0</td>\n",
              "    </tr>\n",
              "    <tr>\n",
              "      <th>K</th>\n",
              "      <td>33</td>\n",
              "      <td>16.0</td>\n",
              "    </tr>\n",
              "    <tr>\n",
              "      <th>N</th>\n",
              "      <td>29</td>\n",
              "      <td>10.0</td>\n",
              "    </tr>\n",
              "    <tr>\n",
              "      <th>B</th>\n",
              "      <td>18</td>\n",
              "      <td>NaN</td>\n",
              "    </tr>\n",
              "    <tr>\n",
              "      <th>G</th>\n",
              "      <td>9</td>\n",
              "      <td>1.0</td>\n",
              "    </tr>\n",
              "    <tr>\n",
              "      <th>F</th>\n",
              "      <td>3</td>\n",
              "      <td>NaN</td>\n",
              "    </tr>\n",
              "    <tr>\n",
              "      <th>M</th>\n",
              "      <td>2</td>\n",
              "      <td>2.0</td>\n",
              "    </tr>\n",
              "    <tr>\n",
              "      <th>O</th>\n",
              "      <td>1</td>\n",
              "      <td>NaN</td>\n",
              "    </tr>\n",
              "  </tbody>\n",
              "</table>\n",
              "</div>"
            ],
            "text/plain": [
              "   자격유형   자격유형\n",
              "A  1775  569.0\n",
              "D   292  114.0\n",
              "H   154   92.0\n",
              "J   105   81.0\n",
              "C    92   35.0\n",
              "I    49    7.0\n",
              "E    37   10.0\n",
              "L    33   12.0\n",
              "K    33   16.0\n",
              "N    29   10.0\n",
              "B    18    NaN\n",
              "G     9    1.0\n",
              "F     3    NaN\n",
              "M     2    2.0\n",
              "O     1    NaN"
            ]
          },
          "metadata": {
            "tags": []
          },
          "execution_count": 146
        }
      ]
    },
    {
      "cell_type": "markdown",
      "metadata": {
        "id": "sHJBfsbJEBY1"
      },
      "source": [
        "+ B, F, O가 train에만 있고 test에는 없음\n",
        "\n",
        "+ [공공임대주택 공급대상](https://www.myhome.go.kr/hws/portal/cont/selectContRentalView.do#guide=RH101)\n",
        "    + 영구임대: 생계급여 또는 의료급여 수급자 등[소득 1분위] - 1\n",
        "    + 국민임대: 무주택세대구성원[소득 2~4분위] - 3\n",
        "    + 장기전세: 무주택세대구성원[소득 3~4분위] - 2\n",
        "    + 공공임대(5년/10년/분납): 무주택세대구성원[소득 3~5분위] - 3 \n",
        "    + 행복주택: 무주택세대구성원/무주택자[소득 2~5분위] - 4\n",
        "    + 이렇게 나누면 13개 항목인데 자격유형의 항목수는 15개"
      ]
    },
    {
      "cell_type": "code",
      "metadata": {
        "colab": {
          "base_uri": "https://localhost:8080/",
          "height": 80
        },
        "id": "hoo4ywajEBY2",
        "outputId": "62602ecd-e3f4-41fc-99ce-c437e21d8f92"
      },
      "source": [
        "train.loc[train.자격유형=='B', ['임대건물구분', '공급유형']].drop_duplicates()\n",
        "# 자격유형 B는 공급유형이 모두 국민임대/장기전세, 공급유형이 국민임대/장기전세 일때 자격유형이 어떤게 있는지 보는게 좋을 듯"
      ],
      "execution_count": null,
      "outputs": [
        {
          "output_type": "execute_result",
          "data": {
            "text/html": [
              "<div>\n",
              "<style scoped>\n",
              "    .dataframe tbody tr th:only-of-type {\n",
              "        vertical-align: middle;\n",
              "    }\n",
              "\n",
              "    .dataframe tbody tr th {\n",
              "        vertical-align: top;\n",
              "    }\n",
              "\n",
              "    .dataframe thead th {\n",
              "        text-align: right;\n",
              "    }\n",
              "</style>\n",
              "<table border=\"1\" class=\"dataframe\">\n",
              "  <thead>\n",
              "    <tr style=\"text-align: right;\">\n",
              "      <th></th>\n",
              "      <th>임대건물구분</th>\n",
              "      <th>공급유형</th>\n",
              "    </tr>\n",
              "  </thead>\n",
              "  <tbody>\n",
              "    <tr>\n",
              "      <th>26</th>\n",
              "      <td>아파트</td>\n",
              "      <td>국민임대/장기전세</td>\n",
              "    </tr>\n",
              "  </tbody>\n",
              "</table>\n",
              "</div>"
            ],
            "text/plain": [
              "   임대건물구분       공급유형\n",
              "26    아파트  국민임대/장기전세"
            ]
          },
          "metadata": {
            "tags": []
          },
          "execution_count": 147
        }
      ]
    },
    {
      "cell_type": "code",
      "metadata": {
        "colab": {
          "base_uri": "https://localhost:8080/"
        },
        "id": "GPLDFrQuEBY2",
        "outputId": "e16fc5cd-b1da-4d1f-e030-9c638c32bcfe"
      },
      "source": [
        "train.loc[train.공급유형.isin(['국민임대/장기전세']), '자격유형'].value_counts()"
      ],
      "execution_count": null,
      "outputs": [
        {
          "output_type": "execute_result",
          "data": {
            "text/plain": [
              "A    1524\n",
              "H     154\n",
              "E      34\n",
              "B      18\n",
              "G       9\n",
              "Name: 자격유형, dtype: int64"
            ]
          },
          "metadata": {
            "tags": []
          },
          "execution_count": 148
        }
      ]
    },
    {
      "cell_type": "markdown",
      "metadata": {
        "id": "qcO0DdmOEBY3"
      },
      "source": [
        "국민임대/장기전세\n",
        "\n",
        "+ (일반)해당지역 거주 무주택세대구성원\n",
        "+ (특별/우선)3자녀 이상 가구\n",
        "+ (특별/우선)국가유공자\n",
        "+ (특별/우선)영구임대 입주자\n",
        "+ (특별/우선)비닐간이공작물 거주자\n",
        "+ (특별/우선)신혼부부(혼인기간 5년이내)\n",
        "+ (특별/우선)사업지구 철거민\n",
        "+ (특별/우선)기타 공급대상(고령자, 노부모부양자, 장애인, 파독근로자 등)\n",
        "+ 건수가 가장 많은 A는 해당지역 거주 무주택세대구성원으로 예상됨"
      ]
    },
    {
      "cell_type": "code",
      "metadata": {
        "colab": {
          "base_uri": "https://localhost:8080/"
        },
        "id": "zEOZ6yPuEBY4",
        "outputId": "1148298b-4f0e-4ca0-82f0-8a7aa6781c35"
      },
      "source": [
        "# 다른 공급유형별 자격유형도 살펴보자\n",
        "train.loc[train.공급유형.isin(['영구임대']), '자격유형'].value_counts()"
      ],
      "execution_count": null,
      "outputs": [
        {
          "output_type": "execute_result",
          "data": {
            "text/plain": [
              "C    92\n",
              "I    49\n",
              "F     3\n",
              "E     3\n",
              "A     2\n",
              "Name: 자격유형, dtype: int64"
            ]
          },
          "metadata": {
            "tags": []
          },
          "execution_count": 149
        }
      ]
    },
    {
      "cell_type": "markdown",
      "metadata": {
        "id": "8JgcSBQWEBY4"
      },
      "source": [
        "영구임대\n",
        "\n",
        "+ (일반)생계급여 또는 의료급여 수급자\n",
        "+ (일반)국가유공자\n",
        "+ (특별/우선)수급자 선정기준의 소득인정액 이하인 국가유공자\n",
        "+ (특별/우선)귀환국군포로\n",
        "+ (특별/우선)수급자 신혼부부"
      ]
    },
    {
      "cell_type": "code",
      "metadata": {
        "colab": {
          "base_uri": "https://localhost:8080/"
        },
        "id": "il4YSs5eEBY5",
        "outputId": "bacc80aa-e91e-4eee-f049-2902bdd1e37c"
      },
      "source": [
        "train.loc[train.공급유형.isin(['공공임대(5년/10년/분납/분양)']), '자격유형'].value_counts()"
      ],
      "execution_count": null,
      "outputs": [
        {
          "output_type": "execute_result",
          "data": {
            "text/plain": [
              "A    218\n",
              "D      7\n",
              "Name: 자격유형, dtype: int64"
            ]
          },
          "metadata": {
            "tags": []
          },
          "execution_count": 150
        }
      ]
    },
    {
      "cell_type": "markdown",
      "metadata": {
        "id": "dWNo5OR_EBY6"
      },
      "source": [
        "공공임대(5년/10년/분납/분양)\n",
        "\n",
        "+ (일반)해당지역 거주무주택세대구성원\n",
        "+ (특별/우선)다자녀 특별\n",
        "+ (특별/우선)신혼부부 특별\n",
        "+ (특별/우선)생애최초 특별\n",
        "+ (특별/우선)노부모부양 특별\n",
        "+ (특별/우선)국가유공자 특별\n",
        "+ (특별/우선)기타 특별(장애인, 철거민 등)\n",
        "+ A는 '(일반)해당지역 거주무주택세대구성원'으로 추정됨"
      ]
    },
    {
      "cell_type": "code",
      "metadata": {
        "colab": {
          "base_uri": "https://localhost:8080/"
        },
        "id": "gQ2LoTleEBY7",
        "outputId": "1dabe92c-61b6-4a9b-8d67-f7cb591bc7a9"
      },
      "source": [
        "train.loc[train.공급유형.isin(['행복주택']), '자격유형'].value_counts()"
      ],
      "execution_count": null,
      "outputs": [
        {
          "output_type": "execute_result",
          "data": {
            "text/plain": [
              "J    105\n",
              "K     33\n",
              "L     33\n",
              "N     29\n",
              "M      2\n",
              "O      1\n",
              "Name: 자격유형, dtype: int64"
            ]
          },
          "metadata": {
            "tags": []
          },
          "execution_count": 151
        }
      ]
    },
    {
      "cell_type": "markdown",
      "metadata": {
        "id": "mbiFTQUfEBY7"
      },
      "source": [
        "행복주택\n",
        "\n",
        "+ 대학생(취준생 포함), 사회초년생(제취준생 포함), 신혼부부(예비신혼부부, 대학생, 취준생 신혼부부 포함), 고령자, 주거급여수급자, 산업단지 근로자\n",
        "+ 이렇게 6개 항목이랑 매핑 될듯"
      ]
    },
    {
      "cell_type": "code",
      "metadata": {
        "colab": {
          "base_uri": "https://localhost:8080/"
        },
        "id": "gQt1sI_0EBY8",
        "outputId": "c747ede4-3fa0-4113-b21c-d1ee522fb2b0"
      },
      "source": [
        "train.loc[train.자격유형.isin(['J', 'L', 'K', 'N', 'M', 'O']), '공급유형'].value_counts()\n",
        "# 'J', 'L', 'K', 'N', 'M', 'O' 는 공급유형이 행복주택인 경우에서만 나타남 이것만 따로 묶는게 좋을듯"
      ],
      "execution_count": null,
      "outputs": [
        {
          "output_type": "execute_result",
          "data": {
            "text/plain": [
              "행복주택    203\n",
              "Name: 공급유형, dtype: int64"
            ]
          },
          "metadata": {
            "tags": []
          },
          "execution_count": 152
        }
      ]
    },
    {
      "cell_type": "code",
      "metadata": {
        "id": "6WTHIG4CEBY8"
      },
      "source": [
        "train.loc[train.자격유형.isin(['J', 'L', 'K', 'N', 'M', 'O']), '자격유형'] = '행복주택_공급대상'\n",
        "test.loc[test.자격유형.isin(['J', 'L', 'K', 'N', 'M', 'O']), '자격유형'] = '행복주택_공급대상'"
      ],
      "execution_count": null,
      "outputs": []
    },
    {
      "cell_type": "code",
      "metadata": {
        "colab": {
          "base_uri": "https://localhost:8080/"
        },
        "id": "_MEB-XBwEBY9",
        "outputId": "870f4bce-1232-49c5-acdc-dd01207b92dc"
      },
      "source": [
        "train.loc[train.자격유형.isin(['A']), '공급유형'].value_counts()"
      ],
      "execution_count": null,
      "outputs": [
        {
          "output_type": "execute_result",
          "data": {
            "text/plain": [
              "국민임대/장기전세             1524\n",
              "공공임대(5년/10년/분납/분양)     218\n",
              "공공임대(50년)               31\n",
              "영구임대                     2\n",
              "Name: 공급유형, dtype: int64"
            ]
          },
          "metadata": {
            "tags": []
          },
          "execution_count": 154
        }
      ]
    },
    {
      "cell_type": "code",
      "metadata": {
        "colab": {
          "base_uri": "https://localhost:8080/"
        },
        "id": "hwk9a6rYEBY9",
        "outputId": "a42f2584-0e8c-4edf-d3dd-6b2ba26c0db8"
      },
      "source": [
        "train.loc[train.자격유형.isin(['D']), '공급유형'].value_counts()"
      ],
      "execution_count": null,
      "outputs": [
        {
          "output_type": "execute_result",
          "data": {
            "text/plain": [
              "임대상가                  285\n",
              "공공임대(5년/10년/분납/분양)      7\n",
              "Name: 공급유형, dtype: int64"
            ]
          },
          "metadata": {
            "tags": []
          },
          "execution_count": 155
        }
      ]
    },
    {
      "cell_type": "code",
      "metadata": {
        "colab": {
          "base_uri": "https://localhost:8080/"
        },
        "id": "unCfW0ChEBY-",
        "outputId": "7fb2273c-7a39-442d-b22b-f9d34fd69dcc"
      },
      "source": [
        "train.loc[train.자격유형.isin(['H']), '공급유형'].value_counts()"
      ],
      "execution_count": null,
      "outputs": [
        {
          "output_type": "execute_result",
          "data": {
            "text/plain": [
              "국민임대/장기전세    154\n",
              "Name: 공급유형, dtype: int64"
            ]
          },
          "metadata": {
            "tags": []
          },
          "execution_count": 156
        }
      ]
    },
    {
      "cell_type": "code",
      "metadata": {
        "colab": {
          "base_uri": "https://localhost:8080/"
        },
        "id": "Muvusu1yEBY_",
        "outputId": "ecbb5d3a-4ebe-4cc5-93d3-0b8a780a3edd"
      },
      "source": [
        "train.loc[train.자격유형.isin(['C']), '공급유형'].value_counts()"
      ],
      "execution_count": null,
      "outputs": [
        {
          "output_type": "execute_result",
          "data": {
            "text/plain": [
              "영구임대    92\n",
              "Name: 공급유형, dtype: int64"
            ]
          },
          "metadata": {
            "tags": []
          },
          "execution_count": 157
        }
      ]
    },
    {
      "cell_type": "code",
      "metadata": {
        "colab": {
          "base_uri": "https://localhost:8080/"
        },
        "id": "ruc0zyf0EBY_",
        "outputId": "61d5343c-ae6e-4026-9886-2b011d96f47a"
      },
      "source": [
        "train.loc[train.자격유형.isin(['I']), '공급유형'].value_counts()"
      ],
      "execution_count": null,
      "outputs": [
        {
          "output_type": "execute_result",
          "data": {
            "text/plain": [
              "영구임대    49\n",
              "Name: 공급유형, dtype: int64"
            ]
          },
          "metadata": {
            "tags": []
          },
          "execution_count": 158
        }
      ]
    },
    {
      "cell_type": "code",
      "metadata": {
        "colab": {
          "base_uri": "https://localhost:8080/"
        },
        "id": "DC9cc_EZEBZA",
        "outputId": "cd3bb13c-c336-4a67-f3d3-38c8af30ec1d"
      },
      "source": [
        "train.loc[train.자격유형.isin(['E']), '공급유형'].value_counts()"
      ],
      "execution_count": null,
      "outputs": [
        {
          "output_type": "execute_result",
          "data": {
            "text/plain": [
              "국민임대/장기전세    34\n",
              "영구임대          3\n",
              "Name: 공급유형, dtype: int64"
            ]
          },
          "metadata": {
            "tags": []
          },
          "execution_count": 159
        }
      ]
    },
    {
      "cell_type": "code",
      "metadata": {
        "colab": {
          "base_uri": "https://localhost:8080/"
        },
        "id": "CJGQvQoTEBZA",
        "outputId": "41ba3a2d-85ac-45af-97ee-55518c03461f"
      },
      "source": [
        "train.loc[train.자격유형.isin(['B']), '공급유형'].value_counts()"
      ],
      "execution_count": null,
      "outputs": [
        {
          "output_type": "execute_result",
          "data": {
            "text/plain": [
              "국민임대/장기전세    18\n",
              "Name: 공급유형, dtype: int64"
            ]
          },
          "metadata": {
            "tags": []
          },
          "execution_count": 160
        }
      ]
    },
    {
      "cell_type": "code",
      "metadata": {
        "colab": {
          "base_uri": "https://localhost:8080/"
        },
        "id": "kdbWuW16EBZB",
        "outputId": "563b29ef-6004-44b9-926a-653f11fea9cc"
      },
      "source": [
        "train.loc[train.자격유형.isin(['G']), '공급유형'].value_counts()"
      ],
      "execution_count": null,
      "outputs": [
        {
          "output_type": "execute_result",
          "data": {
            "text/plain": [
              "국민임대/장기전세    9\n",
              "Name: 공급유형, dtype: int64"
            ]
          },
          "metadata": {
            "tags": []
          },
          "execution_count": 161
        }
      ]
    },
    {
      "cell_type": "code",
      "metadata": {
        "colab": {
          "base_uri": "https://localhost:8080/"
        },
        "id": "yLQFRn4AEBZC",
        "outputId": "6cbfbab9-00d5-4890-b92b-15cb67130f20"
      },
      "source": [
        "train.loc[train.자격유형.isin(['F']), '공급유형'].value_counts()"
      ],
      "execution_count": null,
      "outputs": [
        {
          "output_type": "execute_result",
          "data": {
            "text/plain": [
              "영구임대    3\n",
              "Name: 공급유형, dtype: int64"
            ]
          },
          "metadata": {
            "tags": []
          },
          "execution_count": 162
        }
      ]
    },
    {
      "cell_type": "markdown",
      "metadata": {
        "id": "dkkO_NzoEBZC"
      },
      "source": [
        "+ 'H', 'B', 'E', 'G' 는 국민임대/장기전세 공급대상(E는 영구임대인 경우도 있긴 하지만 국민임대/장기전세인 경우가 더 많아서 여기에 포함시킴)\n",
        "+ 'C', 'I', 'F' 는 영구임대 공급대상으로 묶어 보겠음"
      ]
    },
    {
      "cell_type": "code",
      "metadata": {
        "id": "OuH3XraQEBZC"
      },
      "source": [
        "train.loc[train.자격유형.isin(['H', 'B', 'E', 'G']), '자격유형'] = '국민임대/장기전세_공급대상'\n",
        "test.loc[test.자격유형.isin(['H', 'B', 'E', 'G']), '자격유형'] = '국민임대/장기전세_공급대상'\n",
        "\n",
        "train.loc[train.자격유형.isin(['C', 'I', 'F']), '자격유형'] = '영구임대_공급대상'\n",
        "test.loc[test.자격유형.isin(['C', 'I', 'F']), '자격유형'] = '영구임대_공급대상'"
      ],
      "execution_count": null,
      "outputs": []
    },
    {
      "cell_type": "code",
      "metadata": {
        "colab": {
          "base_uri": "https://localhost:8080/",
          "height": 203
        },
        "id": "E1IPT4rvEBZD",
        "outputId": "c87932fb-4470-446e-c460-83f489de5e62"
      },
      "source": [
        "pd.concat([train.자격유형.value_counts(), \n",
        "           test.자격유형.value_counts()], axis=1)"
      ],
      "execution_count": null,
      "outputs": [
        {
          "output_type": "execute_result",
          "data": {
            "text/html": [
              "<div>\n",
              "<style scoped>\n",
              "    .dataframe tbody tr th:only-of-type {\n",
              "        vertical-align: middle;\n",
              "    }\n",
              "\n",
              "    .dataframe tbody tr th {\n",
              "        vertical-align: top;\n",
              "    }\n",
              "\n",
              "    .dataframe thead th {\n",
              "        text-align: right;\n",
              "    }\n",
              "</style>\n",
              "<table border=\"1\" class=\"dataframe\">\n",
              "  <thead>\n",
              "    <tr style=\"text-align: right;\">\n",
              "      <th></th>\n",
              "      <th>자격유형</th>\n",
              "      <th>자격유형</th>\n",
              "    </tr>\n",
              "  </thead>\n",
              "  <tbody>\n",
              "    <tr>\n",
              "      <th>A</th>\n",
              "      <td>1775</td>\n",
              "      <td>569</td>\n",
              "    </tr>\n",
              "    <tr>\n",
              "      <th>D</th>\n",
              "      <td>292</td>\n",
              "      <td>114</td>\n",
              "    </tr>\n",
              "    <tr>\n",
              "      <th>국민임대/장기전세_공급대상</th>\n",
              "      <td>218</td>\n",
              "      <td>103</td>\n",
              "    </tr>\n",
              "    <tr>\n",
              "      <th>행복주택_공급대상</th>\n",
              "      <td>203</td>\n",
              "      <td>121</td>\n",
              "    </tr>\n",
              "    <tr>\n",
              "      <th>영구임대_공급대상</th>\n",
              "      <td>144</td>\n",
              "      <td>42</td>\n",
              "    </tr>\n",
              "  </tbody>\n",
              "</table>\n",
              "</div>"
            ],
            "text/plain": [
              "                자격유형  자격유형\n",
              "A               1775   569\n",
              "D                292   114\n",
              "국민임대/장기전세_공급대상   218   103\n",
              "행복주택_공급대상        203   121\n",
              "영구임대_공급대상        144    42"
            ]
          },
          "metadata": {
            "tags": []
          },
          "execution_count": 164
        }
      ]
    },
    {
      "cell_type": "code",
      "metadata": {
        "colab": {
          "base_uri": "https://localhost:8080/",
          "height": 447
        },
        "id": "TPx2jql1EBZD",
        "outputId": "5ccb4bbb-d686-4d2a-8c62-6c82c094a97f"
      },
      "source": [
        "reshape_cat_features(data=train, cast_col='자격유형', value_col='counter')"
      ],
      "execution_count": null,
      "outputs": [
        {
          "output_type": "execute_result",
          "data": {
            "text/html": [
              "<div>\n",
              "<style scoped>\n",
              "    .dataframe tbody tr th:only-of-type {\n",
              "        vertical-align: middle;\n",
              "    }\n",
              "\n",
              "    .dataframe tbody tr th {\n",
              "        vertical-align: top;\n",
              "    }\n",
              "\n",
              "    .dataframe thead th {\n",
              "        text-align: right;\n",
              "    }\n",
              "</style>\n",
              "<table border=\"1\" class=\"dataframe\">\n",
              "  <thead>\n",
              "    <tr style=\"text-align: right;\">\n",
              "      <th></th>\n",
              "      <th>자격유형_A</th>\n",
              "      <th>자격유형_D</th>\n",
              "      <th>자격유형_국민임대/장기전세_공급대상</th>\n",
              "      <th>자격유형_영구임대_공급대상</th>\n",
              "      <th>자격유형_행복주택_공급대상</th>\n",
              "    </tr>\n",
              "    <tr>\n",
              "      <th>단지코드</th>\n",
              "      <th></th>\n",
              "      <th></th>\n",
              "      <th></th>\n",
              "      <th></th>\n",
              "      <th></th>\n",
              "    </tr>\n",
              "  </thead>\n",
              "  <tbody>\n",
              "    <tr>\n",
              "      <th>C1000</th>\n",
              "      <td>1.0</td>\n",
              "      <td>0.0</td>\n",
              "      <td>0.0</td>\n",
              "      <td>0.0</td>\n",
              "      <td>0.0</td>\n",
              "    </tr>\n",
              "    <tr>\n",
              "      <th>C1004</th>\n",
              "      <td>0.0</td>\n",
              "      <td>1.0</td>\n",
              "      <td>0.0</td>\n",
              "      <td>1.0</td>\n",
              "      <td>0.0</td>\n",
              "    </tr>\n",
              "    <tr>\n",
              "      <th>C1005</th>\n",
              "      <td>1.0</td>\n",
              "      <td>0.0</td>\n",
              "      <td>0.0</td>\n",
              "      <td>0.0</td>\n",
              "      <td>0.0</td>\n",
              "    </tr>\n",
              "    <tr>\n",
              "      <th>C1013</th>\n",
              "      <td>1.0</td>\n",
              "      <td>0.0</td>\n",
              "      <td>0.0</td>\n",
              "      <td>0.0</td>\n",
              "      <td>0.0</td>\n",
              "    </tr>\n",
              "    <tr>\n",
              "      <th>C1014</th>\n",
              "      <td>1.0</td>\n",
              "      <td>0.0</td>\n",
              "      <td>0.0</td>\n",
              "      <td>0.0</td>\n",
              "      <td>0.0</td>\n",
              "    </tr>\n",
              "    <tr>\n",
              "      <th>...</th>\n",
              "      <td>...</td>\n",
              "      <td>...</td>\n",
              "      <td>...</td>\n",
              "      <td>...</td>\n",
              "      <td>...</td>\n",
              "    </tr>\n",
              "    <tr>\n",
              "      <th>C2663</th>\n",
              "      <td>0.0</td>\n",
              "      <td>0.0</td>\n",
              "      <td>1.0</td>\n",
              "      <td>0.0</td>\n",
              "      <td>0.0</td>\n",
              "    </tr>\n",
              "    <tr>\n",
              "      <th>C2666</th>\n",
              "      <td>1.0</td>\n",
              "      <td>0.0</td>\n",
              "      <td>0.0</td>\n",
              "      <td>0.0</td>\n",
              "      <td>0.0</td>\n",
              "    </tr>\n",
              "    <tr>\n",
              "      <th>C2670</th>\n",
              "      <td>1.0</td>\n",
              "      <td>0.0</td>\n",
              "      <td>0.0</td>\n",
              "      <td>0.0</td>\n",
              "      <td>0.0</td>\n",
              "    </tr>\n",
              "    <tr>\n",
              "      <th>C2680</th>\n",
              "      <td>1.0</td>\n",
              "      <td>0.0</td>\n",
              "      <td>0.0</td>\n",
              "      <td>0.0</td>\n",
              "      <td>0.0</td>\n",
              "    </tr>\n",
              "    <tr>\n",
              "      <th>C2692</th>\n",
              "      <td>1.0</td>\n",
              "      <td>0.0</td>\n",
              "      <td>0.0</td>\n",
              "      <td>0.0</td>\n",
              "      <td>0.0</td>\n",
              "    </tr>\n",
              "  </tbody>\n",
              "</table>\n",
              "<p>423 rows × 5 columns</p>\n",
              "</div>"
            ],
            "text/plain": [
              "       자격유형_A  자격유형_D  자격유형_국민임대/장기전세_공급대상  자격유형_영구임대_공급대상  자격유형_행복주택_공급대상\n",
              "단지코드                                                                      \n",
              "C1000     1.0     0.0                  0.0             0.0             0.0\n",
              "C1004     0.0     1.0                  0.0             1.0             0.0\n",
              "C1005     1.0     0.0                  0.0             0.0             0.0\n",
              "C1013     1.0     0.0                  0.0             0.0             0.0\n",
              "C1014     1.0     0.0                  0.0             0.0             0.0\n",
              "...       ...     ...                  ...             ...             ...\n",
              "C2663     0.0     0.0                  1.0             0.0             0.0\n",
              "C2666     1.0     0.0                  0.0             0.0             0.0\n",
              "C2670     1.0     0.0                  0.0             0.0             0.0\n",
              "C2680     1.0     0.0                  0.0             0.0             0.0\n",
              "C2692     1.0     0.0                  0.0             0.0             0.0\n",
              "\n",
              "[423 rows x 5 columns]"
            ]
          },
          "metadata": {
            "tags": []
          },
          "execution_count": 165
        }
      ]
    },
    {
      "cell_type": "code",
      "metadata": {
        "colab": {
          "base_uri": "https://localhost:8080/",
          "height": 447
        },
        "id": "8YFT3flXEBZE",
        "outputId": "df076519-fc8e-4994-867c-c88eea28c507"
      },
      "source": [
        "reshape_cat_features(data=train, cast_col='공급유형', value_col='counter')"
      ],
      "execution_count": null,
      "outputs": [
        {
          "output_type": "execute_result",
          "data": {
            "text/html": [
              "<div>\n",
              "<style scoped>\n",
              "    .dataframe tbody tr th:only-of-type {\n",
              "        vertical-align: middle;\n",
              "    }\n",
              "\n",
              "    .dataframe tbody tr th {\n",
              "        vertical-align: top;\n",
              "    }\n",
              "\n",
              "    .dataframe thead th {\n",
              "        text-align: right;\n",
              "    }\n",
              "</style>\n",
              "<table border=\"1\" class=\"dataframe\">\n",
              "  <thead>\n",
              "    <tr style=\"text-align: right;\">\n",
              "      <th></th>\n",
              "      <th>공급유형_공공임대(50년)</th>\n",
              "      <th>공급유형_공공임대(5년/10년/분납/분양)</th>\n",
              "      <th>공급유형_국민임대/장기전세</th>\n",
              "      <th>공급유형_영구임대</th>\n",
              "      <th>공급유형_임대상가</th>\n",
              "      <th>공급유형_행복주택</th>\n",
              "    </tr>\n",
              "    <tr>\n",
              "      <th>단지코드</th>\n",
              "      <th></th>\n",
              "      <th></th>\n",
              "      <th></th>\n",
              "      <th></th>\n",
              "      <th></th>\n",
              "      <th></th>\n",
              "    </tr>\n",
              "  </thead>\n",
              "  <tbody>\n",
              "    <tr>\n",
              "      <th>C1000</th>\n",
              "      <td>0.0</td>\n",
              "      <td>0.0</td>\n",
              "      <td>1.0</td>\n",
              "      <td>0.0</td>\n",
              "      <td>0.0</td>\n",
              "      <td>0.0</td>\n",
              "    </tr>\n",
              "    <tr>\n",
              "      <th>C1004</th>\n",
              "      <td>0.0</td>\n",
              "      <td>0.0</td>\n",
              "      <td>0.0</td>\n",
              "      <td>1.0</td>\n",
              "      <td>1.0</td>\n",
              "      <td>0.0</td>\n",
              "    </tr>\n",
              "    <tr>\n",
              "      <th>C1005</th>\n",
              "      <td>0.0</td>\n",
              "      <td>0.0</td>\n",
              "      <td>1.0</td>\n",
              "      <td>0.0</td>\n",
              "      <td>0.0</td>\n",
              "      <td>0.0</td>\n",
              "    </tr>\n",
              "    <tr>\n",
              "      <th>C1013</th>\n",
              "      <td>0.0</td>\n",
              "      <td>0.0</td>\n",
              "      <td>1.0</td>\n",
              "      <td>0.0</td>\n",
              "      <td>0.0</td>\n",
              "      <td>0.0</td>\n",
              "    </tr>\n",
              "    <tr>\n",
              "      <th>C1014</th>\n",
              "      <td>0.0</td>\n",
              "      <td>0.0</td>\n",
              "      <td>1.0</td>\n",
              "      <td>0.0</td>\n",
              "      <td>0.0</td>\n",
              "      <td>0.0</td>\n",
              "    </tr>\n",
              "    <tr>\n",
              "      <th>...</th>\n",
              "      <td>...</td>\n",
              "      <td>...</td>\n",
              "      <td>...</td>\n",
              "      <td>...</td>\n",
              "      <td>...</td>\n",
              "      <td>...</td>\n",
              "    </tr>\n",
              "    <tr>\n",
              "      <th>C2663</th>\n",
              "      <td>0.0</td>\n",
              "      <td>0.0</td>\n",
              "      <td>1.0</td>\n",
              "      <td>0.0</td>\n",
              "      <td>0.0</td>\n",
              "      <td>0.0</td>\n",
              "    </tr>\n",
              "    <tr>\n",
              "      <th>C2666</th>\n",
              "      <td>0.0</td>\n",
              "      <td>0.0</td>\n",
              "      <td>1.0</td>\n",
              "      <td>0.0</td>\n",
              "      <td>0.0</td>\n",
              "      <td>0.0</td>\n",
              "    </tr>\n",
              "    <tr>\n",
              "      <th>C2670</th>\n",
              "      <td>0.0</td>\n",
              "      <td>0.0</td>\n",
              "      <td>1.0</td>\n",
              "      <td>0.0</td>\n",
              "      <td>0.0</td>\n",
              "      <td>0.0</td>\n",
              "    </tr>\n",
              "    <tr>\n",
              "      <th>C2680</th>\n",
              "      <td>0.0</td>\n",
              "      <td>0.0</td>\n",
              "      <td>1.0</td>\n",
              "      <td>0.0</td>\n",
              "      <td>0.0</td>\n",
              "      <td>0.0</td>\n",
              "    </tr>\n",
              "    <tr>\n",
              "      <th>C2692</th>\n",
              "      <td>0.0</td>\n",
              "      <td>0.0</td>\n",
              "      <td>1.0</td>\n",
              "      <td>0.0</td>\n",
              "      <td>0.0</td>\n",
              "      <td>0.0</td>\n",
              "    </tr>\n",
              "  </tbody>\n",
              "</table>\n",
              "<p>423 rows × 6 columns</p>\n",
              "</div>"
            ],
            "text/plain": [
              "       공급유형_공공임대(50년)  공급유형_공공임대(5년/10년/분납/분양)  ...  공급유형_임대상가  공급유형_행복주택\n",
              "단지코드                                            ...                      \n",
              "C1000             0.0                      0.0  ...        0.0        0.0\n",
              "C1004             0.0                      0.0  ...        1.0        0.0\n",
              "C1005             0.0                      0.0  ...        0.0        0.0\n",
              "C1013             0.0                      0.0  ...        0.0        0.0\n",
              "C1014             0.0                      0.0  ...        0.0        0.0\n",
              "...               ...                      ...  ...        ...        ...\n",
              "C2663             0.0                      0.0  ...        0.0        0.0\n",
              "C2666             0.0                      0.0  ...        0.0        0.0\n",
              "C2670             0.0                      0.0  ...        0.0        0.0\n",
              "C2680             0.0                      0.0  ...        0.0        0.0\n",
              "C2692             0.0                      0.0  ...        0.0        0.0\n",
              "\n",
              "[423 rows x 6 columns]"
            ]
          },
          "metadata": {
            "tags": []
          },
          "execution_count": 166
        }
      ]
    },
    {
      "cell_type": "code",
      "metadata": {
        "id": "-xN4JLRbEBZE",
        "colab": {
          "base_uri": "https://localhost:8080/"
        },
        "outputId": "e1665a75-db96-478c-dce3-057bdac02833"
      },
      "source": [
        "print(train_agg.shape)\n",
        "train_agg = pd.concat([train_agg,\n",
        "                       reshape_cat_features(data=train, cast_col='임대건물구분', value_col='counter'),\n",
        "                       reshape_cat_features(data=train, cast_col='공급유형', value_col='counter'),\n",
        "                       reshape_cat_features(data=train, cast_col='자격유형', value_col='counter')], axis=1)\n",
        "\n",
        "print(test_agg.shape)\n",
        "test_agg = pd.concat([test_agg,\n",
        "                       reshape_cat_features(data=test, cast_col='임대건물구분', value_col='counter'),\n",
        "                       reshape_cat_features(data=test, cast_col='공급유형', value_col='counter'),\n",
        "                       reshape_cat_features(data=test, cast_col='자격유형', value_col='counter')], axis=1)"
      ],
      "execution_count": null,
      "outputs": [
        {
          "output_type": "stream",
          "text": [
            "(423, 7)\n",
            "(150, 6)\n"
          ],
          "name": "stdout"
        }
      ]
    },
    {
      "cell_type": "code",
      "metadata": {
        "colab": {
          "base_uri": "https://localhost:8080/"
        },
        "id": "r5m_5eXYEBZF",
        "outputId": "f6d03659-462b-4ba3-9fcb-bfaf3fc82f5f"
      },
      "source": [
        "train_agg.shape, test_agg.shape"
      ],
      "execution_count": null,
      "outputs": [
        {
          "output_type": "execute_result",
          "data": {
            "text/plain": [
              "((423, 20), (150, 19))"
            ]
          },
          "metadata": {
            "tags": []
          },
          "execution_count": 168
        }
      ]
    },
    {
      "cell_type": "code",
      "metadata": {
        "id": "QOFiO-VFMikJ"
      },
      "source": [
        "final_age_gender_info = pd.read_csv('./data/final_age_gender_info.csv',index_col=0)\n",
        "final_age_gender_info_dict = final_age_gender_info['지역별차량등록대수(연령분포고려)'].to_dict()\n",
        "train_agg['지역별차량등록대수(연령분포고려)'] = train_agg['지역'].map(final_age_gender_info_dict)\n",
        "test_agg['지역별차량등록대수(연령분포고려)'] = test_agg['지역'].map(final_age_gender_info_dict)"
      ],
      "execution_count": null,
      "outputs": []
    },
    {
      "cell_type": "code",
      "metadata": {
        "id": "6FbTiEZPbR8l"
      },
      "source": [
        "total_num_saedae_per_sido_dict = train_agg.groupby(['지역'])['총세대수'].sum().to_dict()\n",
        "train_agg['단지코드내차량등록대수'] = train_agg['지역별차량등록대수(연령분포고려)'] * train_agg['총세대수'] / train_agg['지역'].map(total_num_saedae_per_sido_dict)\n",
        "total_num_saedae_per_sido_dict = test_agg.groupby(['지역'])['총세대수'].sum().to_dict()\n",
        "test_agg['단지코드내차량등록대수'] = test_agg['지역별차량등록대수(연령분포고려)'] * test_agg['총세대수'] / test_agg['지역'].map(total_num_saedae_per_sido_dict)\n",
        "train_agg"
      ],
      "execution_count": null,
      "outputs": []
    },
    {
      "cell_type": "code",
      "metadata": {
        "colab": {
          "base_uri": "https://localhost:8080/"
        },
        "id": "N1Z-sgSPM5zj",
        "outputId": "97f4f778-7224-449a-de90-2bfd838df6a1"
      },
      "source": [
        "train_agg.shape, test_agg.shape"
      ],
      "execution_count": null,
      "outputs": [
        {
          "output_type": "execute_result",
          "data": {
            "text/plain": [
              "((423, 22), (150, 21))"
            ]
          },
          "metadata": {
            "tags": []
          },
          "execution_count": 179
        }
      ]
    },
    {
      "cell_type": "markdown",
      "metadata": {
        "id": "ftYv_x-aEBZF"
      },
      "source": [
        "# 2. Pycaret 모델링"
      ]
    },
    {
      "cell_type": "code",
      "metadata": {
        "id": "aTPIxvu4EBZF"
      },
      "source": [
        "cat_features = ['지역']\n",
        "target_col = '등록차량수'"
      ],
      "execution_count": null,
      "outputs": []
    },
    {
      "cell_type": "code",
      "metadata": {
        "colab": {
          "base_uri": "https://localhost:8080/",
          "height": 1000
        },
        "id": "yI2VaHdiEcTp",
        "outputId": "ac0ae66d-8091-4638-d53d-cbd91e747e12"
      },
      "source": [
        "!pip uninstall pycaret -y\n",
        "\n",
        "!pip install pycaret[full] ngboost shap"
      ],
      "execution_count": null,
      "outputs": [
        {
          "output_type": "stream",
          "text": [
            "\u001b[33mWARNING: Skipping pycaret as it is not installed.\u001b[0m\n",
            "Collecting pycaret[full]\n",
            "\u001b[?25l  Downloading https://files.pythonhosted.org/packages/da/99/18f151991b0f06107af9723417c64e304ae2133587f85ea734a90136b4ae/pycaret-2.3.1-py3-none-any.whl (261kB)\n",
            "\u001b[K     |████████████████████████████████| 266kB 29.2MB/s \n",
            "\u001b[?25hCollecting ngboost\n",
            "  Downloading https://files.pythonhosted.org/packages/ba/96/7725e66ffde980ccf8ea445cd2eed26e9730fee3b98a1dbc2a23acf50b46/ngboost-0.3.11-py3-none-any.whl\n",
            "Collecting shap\n",
            "\u001b[?25l  Downloading https://files.pythonhosted.org/packages/b9/f4/c5b95cddae15be80f8e58b25edceca105aa83c0b8c86a1edad24a6af80d3/shap-0.39.0.tar.gz (356kB)\n",
            "\u001b[K     |████████████████████████████████| 358kB 39.4MB/s \n",
            "\u001b[?25hCollecting umap-learn\n",
            "\u001b[?25l  Downloading https://files.pythonhosted.org/packages/75/69/85e7f950bb75792ad5d666d86c5f3e62eedbb942848e7e3126513af9999c/umap-learn-0.5.1.tar.gz (80kB)\n",
            "\u001b[K     |████████████████████████████████| 81kB 9.4MB/s \n",
            "\u001b[?25hRequirement already satisfied: ipywidgets in /usr/local/lib/python3.7/dist-packages (from pycaret[full]) (7.6.3)\n",
            "Requirement already satisfied: joblib in /usr/local/lib/python3.7/dist-packages (from pycaret[full]) (1.0.1)\n",
            "Collecting kmodes>=0.10.1\n",
            "  Downloading https://files.pythonhosted.org/packages/9b/34/fffc601aa4d44b94e945a7cc72f477e09dffa7dce888898f2ffd9f4e343e/kmodes-0.11.0-py2.py3-none-any.whl\n",
            "Collecting pyod\n",
            "\u001b[?25l  Downloading https://files.pythonhosted.org/packages/81/dd/1cef53031ad8926df628e78d7cc9d57bb2aee62bc2f66215b2bef4deae64/pyod-0.8.9.tar.gz (104kB)\n",
            "\u001b[K     |████████████████████████████████| 112kB 50.1MB/s \n",
            "\u001b[?25hCollecting pandas-profiling>=2.8.0\n",
            "\u001b[?25l  Downloading https://files.pythonhosted.org/packages/3b/a3/34519d16e5ebe69bad30c5526deea2c3912634ced7f9b5e6e0bb9dbbd567/pandas_profiling-3.0.0-py2.py3-none-any.whl (248kB)\n",
            "\u001b[K     |████████████████████████████████| 256kB 34.3MB/s \n",
            "\u001b[?25hRequirement already satisfied: numpy==1.19.5 in /usr/local/lib/python3.7/dist-packages (from pycaret[full]) (1.19.5)\n",
            "Requirement already satisfied: cufflinks>=0.17.0 in /usr/local/lib/python3.7/dist-packages (from pycaret[full]) (0.17.3)\n",
            "Collecting pyLDAvis\n",
            "\u001b[?25l  Downloading https://files.pythonhosted.org/packages/03/a5/15a0da6b0150b8b68610cc78af80364a80a9a4c8b6dd5ee549b8989d4b60/pyLDAvis-3.3.1.tar.gz (1.7MB)\n",
            "\u001b[K     |████████████████████████████████| 1.7MB 33.4MB/s \n",
            "\u001b[?25h  Installing build dependencies ... \u001b[?25l\u001b[?25hdone\n",
            "  Getting requirements to build wheel ... \u001b[?25l\u001b[?25hdone\n",
            "  Installing backend dependencies ... \u001b[?25l\u001b[?25hdone\n",
            "    Preparing wheel metadata ... \u001b[?25l\u001b[?25hdone\n",
            "Collecting lightgbm>=2.3.1\n",
            "\u001b[?25l  Downloading https://files.pythonhosted.org/packages/18/b2/fff8370f48549ce223f929fe8cab4ee6bf285a41f86037d91312b48ed95b/lightgbm-3.2.1-py3-none-manylinux1_x86_64.whl (2.0MB)\n",
            "\u001b[K     |████████████████████████████████| 2.0MB 34.8MB/s \n",
            "\u001b[?25hRequirement already satisfied: gensim<4.0.0 in /usr/local/lib/python3.7/dist-packages (from pycaret[full]) (3.6.0)\n",
            "Collecting Boruta\n",
            "\u001b[?25l  Downloading https://files.pythonhosted.org/packages/b2/11/583f4eac99d802c79af9217e1eff56027742a69e6c866b295cce6a5a8fc2/Boruta-0.3-py3-none-any.whl (56kB)\n",
            "\u001b[K     |████████████████████████████████| 61kB 6.9MB/s \n",
            "\u001b[?25hCollecting scikit-learn==0.23.2\n",
            "\u001b[?25l  Downloading https://files.pythonhosted.org/packages/f4/cb/64623369f348e9bfb29ff898a57ac7c91ed4921f228e9726546614d63ccb/scikit_learn-0.23.2-cp37-cp37m-manylinux1_x86_64.whl (6.8MB)\n",
            "\u001b[K     |████████████████████████████████| 6.8MB 31.9MB/s \n",
            "\u001b[?25hRequirement already satisfied: plotly>=4.4.1 in /usr/local/lib/python3.7/dist-packages (from pycaret[full]) (4.4.1)\n",
            "Requirement already satisfied: textblob in /usr/local/lib/python3.7/dist-packages (from pycaret[full]) (0.15.3)\n",
            "Requirement already satisfied: spacy<2.4.0 in /usr/local/lib/python3.7/dist-packages (from pycaret[full]) (2.2.4)\n",
            "Collecting imbalanced-learn==0.7.0\n",
            "\u001b[?25l  Downloading https://files.pythonhosted.org/packages/c8/81/8db4d87b03b998fda7c6f835d807c9ae4e3b141f978597b8d7f31600be15/imbalanced_learn-0.7.0-py3-none-any.whl (167kB)\n",
            "\u001b[K     |████████████████████████████████| 174kB 43.8MB/s \n",
            "\u001b[?25hCollecting yellowbrick>=1.0.1\n",
            "\u001b[?25l  Downloading https://files.pythonhosted.org/packages/3a/15/58feb940b6a2f52d3335cccf9e5d00704ec5ba62782da83f7e2abeca5e4b/yellowbrick-1.3.post1-py3-none-any.whl (271kB)\n",
            "\u001b[K     |████████████████████████████████| 276kB 41.4MB/s \n",
            "\u001b[?25hCollecting scikit-plot\n",
            "  Downloading https://files.pythonhosted.org/packages/7c/47/32520e259340c140a4ad27c1b97050dd3254fdc517b1d59974d47037510e/scikit_plot-0.3.7-py3-none-any.whl\n",
            "Collecting mlflow\n",
            "\u001b[?25l  Downloading https://files.pythonhosted.org/packages/f3/c9/190a45e667b63edb76112deefa70629c2d9985603a85cb1968015fe0f327/mlflow-1.18.0-py3-none-any.whl (14.2MB)\n",
            "\u001b[K     |████████████████████████████████| 14.2MB 140kB/s \n",
            "\u001b[?25hRequirement already satisfied: pandas in /usr/local/lib/python3.7/dist-packages (from pycaret[full]) (1.1.5)\n",
            "Requirement already satisfied: scipy<=1.5.4 in /usr/local/lib/python3.7/dist-packages (from pycaret[full]) (1.4.1)\n",
            "Requirement already satisfied: nltk in /usr/local/lib/python3.7/dist-packages (from pycaret[full]) (3.2.5)\n",
            "Requirement already satisfied: matplotlib in /usr/local/lib/python3.7/dist-packages (from pycaret[full]) (3.2.2)\n",
            "Requirement already satisfied: seaborn in /usr/local/lib/python3.7/dist-packages (from pycaret[full]) (0.11.1)\n",
            "Requirement already satisfied: IPython in /usr/local/lib/python3.7/dist-packages (from pycaret[full]) (5.5.0)\n",
            "Collecting mlxtend>=0.17.0\n",
            "\u001b[?25l  Downloading https://files.pythonhosted.org/packages/86/30/781c0b962a70848db83339567ecab656638c62f05adb064cb33c0ae49244/mlxtend-0.18.0-py2.py3-none-any.whl (1.3MB)\n",
            "\u001b[K     |████████████████████████████████| 1.4MB 28.0MB/s \n",
            "\u001b[?25hRequirement already satisfied: wordcloud in /usr/local/lib/python3.7/dist-packages (from pycaret[full]) (1.5.0)\n",
            "Collecting ray[tune]>=1.0.0; extra == \"full\"\n",
            "\u001b[?25l  Downloading https://files.pythonhosted.org/packages/5c/7a/34d018cc6a72b0dd42c6d9fad5fb34c8cc2140a785450bed201d4b2f3427/ray-1.4.0-cp37-cp37m-manylinux2014_x86_64.whl (49.4MB)\n",
            "\u001b[K     |████████████████████████████████| 49.4MB 50kB/s \n",
            "\u001b[?25hCollecting awscli; extra == \"full\"\n",
            "\u001b[?25l  Downloading https://files.pythonhosted.org/packages/b0/06/4c6a3db5d539da06368af43914f8a0e2e91c31c0b30b54a61f77c8c4a85d/awscli-1.19.102-py2.py3-none-any.whl (3.6MB)\n",
            "\u001b[K     |████████████████████████████████| 3.6MB 33.1MB/s \n",
            "\u001b[?25hRequirement already satisfied: psutil; extra == \"full\" in /usr/local/lib/python3.7/dist-packages (from pycaret[full]) (5.4.8)\n",
            "Requirement already satisfied: google-cloud-storage; extra == \"full\" in /usr/local/lib/python3.7/dist-packages (from pycaret[full]) (1.18.1)\n",
            "Collecting azure-storage-blob; extra == \"full\"\n",
            "\u001b[?25l  Downloading https://files.pythonhosted.org/packages/01/e5/ff9609a85f71cd41d759307b9d385ace34d29378e4750d0a0240aad535cb/azure_storage_blob-12.8.1-py2.py3-none-any.whl (345kB)\n",
            "\u001b[K     |████████████████████████████████| 348kB 40.6MB/s \n",
            "\u001b[?25hRequirement already satisfied: hyperopt; extra == \"full\" in /usr/local/lib/python3.7/dist-packages (from pycaret[full]) (0.1.2)\n",
            "Collecting scikit-optimize>=0.8.1; extra == \"full\"\n",
            "\u001b[?25l  Downloading https://files.pythonhosted.org/packages/8b/03/be33e89f55866065a02e515c5b319304a801a9f1027a9b311a9b1d1f8dc7/scikit_optimize-0.8.1-py2.py3-none-any.whl (101kB)\n",
            "\u001b[K     |████████████████████████████████| 102kB 10.8MB/s \n",
            "\u001b[?25hCollecting tune-sklearn>=0.2.1; extra == \"full\"\n",
            "  Downloading https://files.pythonhosted.org/packages/a3/ab/51c5384ae892cf985b0c1f7e468767af53102b20ca631d2e3764cb2908dc/tune_sklearn-0.3.0-py3-none-any.whl\n",
            "Collecting optuna; extra == \"full\"\n",
            "\u001b[?25l  Downloading https://files.pythonhosted.org/packages/1a/18/b49ca91cf592747e19f2d333c2a86cd7c81895b922a5a09adf6335471576/optuna-2.8.0-py3-none-any.whl (301kB)\n",
            "\u001b[K     |████████████████████████████████| 307kB 38.8MB/s \n",
            "\u001b[?25hCollecting xgboost>=1.1.0; extra == \"full\"\n",
            "\u001b[?25l  Downloading https://files.pythonhosted.org/packages/bb/35/169eec194bf1f9ef52ed670f5032ef2abaf6ed285cfadcb4b6026b800fc9/xgboost-1.4.2-py3-none-manylinux2010_x86_64.whl (166.7MB)\n",
            "\u001b[K     |████████████████████████████████| 166.7MB 73kB/s \n",
            "\u001b[?25hCollecting catboost>=0.23.2; extra == \"full\"\n",
            "\u001b[?25l  Downloading https://files.pythonhosted.org/packages/5a/41/24e14322b9986cf72a8763e0a0a69cc256cf963cf9502c8f0044a62c1ae8/catboost-0.26-cp37-none-manylinux1_x86_64.whl (69.2MB)\n",
            "\u001b[K     |████████████████████████████████| 69.2MB 64kB/s \n",
            "\u001b[?25hCollecting lifelines>=0.25\n",
            "\u001b[?25l  Downloading https://files.pythonhosted.org/packages/50/ba/d010b22c8bcdfe3bbba753bd976f5deddfa4ec1c842b991579e9c2c3cd61/lifelines-0.26.0-py3-none-any.whl (348kB)\n",
            "\u001b[K     |████████████████████████████████| 358kB 45.6MB/s \n",
            "\u001b[?25hRequirement already satisfied: tqdm>=4.3 in /usr/local/lib/python3.7/dist-packages (from ngboost) (4.41.1)\n",
            "Collecting slicer==0.0.7\n",
            "  Downloading https://files.pythonhosted.org/packages/78/c2/b3f55dfdb8af9812fdb9baf70cacf3b9e82e505b2bd4324d588888b81202/slicer-0.0.7-py3-none-any.whl\n",
            "Requirement already satisfied: numba in /usr/local/lib/python3.7/dist-packages (from shap) (0.51.2)\n",
            "Requirement already satisfied: cloudpickle in /usr/local/lib/python3.7/dist-packages (from shap) (1.3.0)\n",
            "Collecting pynndescent>=0.5\n",
            "\u001b[?25l  Downloading https://files.pythonhosted.org/packages/af/65/8189298dd3a05bbad716ee8e249764ff8800e365d8dc652ad2192ca01b4a/pynndescent-0.5.2.tar.gz (1.1MB)\n",
            "\u001b[K     |████████████████████████████████| 1.2MB 36.0MB/s \n",
            "\u001b[?25hRequirement already satisfied: widgetsnbextension~=3.5.0 in /usr/local/lib/python3.7/dist-packages (from ipywidgets->pycaret[full]) (3.5.1)\n",
            "Requirement already satisfied: traitlets>=4.3.1 in /usr/local/lib/python3.7/dist-packages (from ipywidgets->pycaret[full]) (5.0.5)\n",
            "Requirement already satisfied: nbformat>=4.2.0 in /usr/local/lib/python3.7/dist-packages (from ipywidgets->pycaret[full]) (5.1.3)\n",
            "Requirement already satisfied: ipykernel>=4.5.1 in /usr/local/lib/python3.7/dist-packages (from ipywidgets->pycaret[full]) (4.10.1)\n",
            "Requirement already satisfied: jupyterlab-widgets>=1.0.0; python_version >= \"3.6\" in /usr/local/lib/python3.7/dist-packages (from ipywidgets->pycaret[full]) (1.0.0)\n",
            "Requirement already satisfied: six in /usr/local/lib/python3.7/dist-packages (from pyod->pycaret[full]) (1.15.0)\n",
            "Requirement already satisfied: statsmodels in /usr/local/lib/python3.7/dist-packages (from pyod->pycaret[full]) (0.10.2)\n",
            "Collecting PyYAML>=5.0.0\n",
            "\u001b[?25l  Downloading https://files.pythonhosted.org/packages/7a/a5/393c087efdc78091afa2af9f1378762f9821c9c1d7a22c5753fb5ac5f97a/PyYAML-5.4.1-cp37-cp37m-manylinux1_x86_64.whl (636kB)\n",
            "\u001b[K     |████████████████████████████████| 645kB 29.2MB/s \n",
            "\u001b[?25hRequirement already satisfied: missingno>=0.4.2 in /usr/local/lib/python3.7/dist-packages (from pandas-profiling>=2.8.0->pycaret[full]) (0.4.2)\n",
            "Requirement already satisfied: jinja2>=2.11.1 in /usr/local/lib/python3.7/dist-packages (from pandas-profiling>=2.8.0->pycaret[full]) (2.11.3)\n",
            "Collecting requests>=2.24.0\n",
            "\u001b[?25l  Downloading https://files.pythonhosted.org/packages/29/c1/24814557f1d22c56d50280771a17307e6bf87b70727d975fd6b2ce6b014a/requests-2.25.1-py2.py3-none-any.whl (61kB)\n",
            "\u001b[K     |████████████████████████████████| 61kB 6.4MB/s \n",
            "\u001b[?25hCollecting tangled-up-in-unicode==0.1.0\n",
            "\u001b[?25l  Downloading https://files.pythonhosted.org/packages/93/3e/cb354fb2097fcf2fd5b5a342b10ae2a6e9363ba435b64e3e00c414064bc7/tangled_up_in_unicode-0.1.0-py3-none-any.whl (3.1MB)\n",
            "\u001b[K     |████████████████████████████████| 3.1MB 38.4MB/s \n",
            "\u001b[?25hCollecting visions[type_image_path]==0.7.1\n",
            "\u001b[?25l  Downloading https://files.pythonhosted.org/packages/80/96/01e4ba22cef96ae5035dbcf0451c2f4f859f8f17393b98406b23f0034279/visions-0.7.1-py3-none-any.whl (102kB)\n",
            "\u001b[K     |████████████████████████████████| 112kB 42.5MB/s \n",
            "\u001b[?25hCollecting phik>=0.11.1\n",
            "\u001b[?25l  Downloading https://files.pythonhosted.org/packages/b7/ce/193e8ddf62d4be643b9b4b20e8e9c63b2f6a20f92778c0410c629f89bdaa/phik-0.11.2.tar.gz (1.1MB)\n",
            "\u001b[K     |████████████████████████████████| 1.1MB 35.3MB/s \n",
            "\u001b[?25hCollecting htmlmin>=0.1.12\n",
            "  Downloading https://files.pythonhosted.org/packages/b3/e7/fcd59e12169de19f0131ff2812077f964c6b960e7c09804d30a7bf2ab461/htmlmin-0.1.12.tar.gz\n",
            "Collecting pydantic>=1.8.1\n",
            "\u001b[?25l  Downloading https://files.pythonhosted.org/packages/9f/f2/2d5425efe57f6c4e06cbe5e587c1fd16929dcf0eb90bd4d3d1e1c97d1151/pydantic-1.8.2-cp37-cp37m-manylinux2014_x86_64.whl (10.1MB)\n",
            "\u001b[K     |████████████████████████████████| 10.1MB 40.0MB/s \n",
            "\u001b[?25hRequirement already satisfied: colorlover>=0.2.1 in /usr/local/lib/python3.7/dist-packages (from cufflinks>=0.17.0->pycaret[full]) (0.3.0)\n",
            "Requirement already satisfied: setuptools>=34.4.1 in /usr/local/lib/python3.7/dist-packages (from cufflinks>=0.17.0->pycaret[full]) (57.0.0)\n",
            "Collecting funcy\n",
            "  Downloading https://files.pythonhosted.org/packages/44/52/5cf7401456a461e4b481650dfb8279bc000f31a011d0918904f86e755947/funcy-1.16-py2.py3-none-any.whl\n",
            "Requirement already satisfied: numexpr in /usr/local/lib/python3.7/dist-packages (from pyLDAvis->pycaret[full]) (2.7.3)\n",
            "Requirement already satisfied: sklearn in /usr/local/lib/python3.7/dist-packages (from pyLDAvis->pycaret[full]) (0.0)\n",
            "Requirement already satisfied: future in /usr/local/lib/python3.7/dist-packages (from pyLDAvis->pycaret[full]) (0.16.0)\n",
            "Requirement already satisfied: wheel in /usr/local/lib/python3.7/dist-packages (from lightgbm>=2.3.1->pycaret[full]) (0.36.2)\n",
            "Requirement already satisfied: smart-open>=1.2.1 in /usr/local/lib/python3.7/dist-packages (from gensim<4.0.0->pycaret[full]) (5.1.0)\n",
            "Collecting threadpoolctl>=2.0.0\n",
            "  Downloading https://files.pythonhosted.org/packages/f7/12/ec3f2e203afa394a149911729357aa48affc59c20e2c1c8297a60f33f133/threadpoolctl-2.1.0-py3-none-any.whl\n",
            "Requirement already satisfied: retrying>=1.3.3 in /usr/local/lib/python3.7/dist-packages (from plotly>=4.4.1->pycaret[full]) (1.3.3)\n",
            "Requirement already satisfied: wasabi<1.1.0,>=0.4.0 in /usr/local/lib/python3.7/dist-packages (from spacy<2.4.0->pycaret[full]) (0.8.2)\n",
            "Requirement already satisfied: srsly<1.1.0,>=1.0.2 in /usr/local/lib/python3.7/dist-packages (from spacy<2.4.0->pycaret[full]) (1.0.5)\n",
            "Requirement already satisfied: plac<1.2.0,>=0.9.6 in /usr/local/lib/python3.7/dist-packages (from spacy<2.4.0->pycaret[full]) (1.1.3)\n",
            "Requirement already satisfied: thinc==7.4.0 in /usr/local/lib/python3.7/dist-packages (from spacy<2.4.0->pycaret[full]) (7.4.0)\n",
            "Requirement already satisfied: blis<0.5.0,>=0.4.0 in /usr/local/lib/python3.7/dist-packages (from spacy<2.4.0->pycaret[full]) (0.4.1)\n",
            "Requirement already satisfied: catalogue<1.1.0,>=0.0.7 in /usr/local/lib/python3.7/dist-packages (from spacy<2.4.0->pycaret[full]) (1.0.0)\n",
            "Requirement already satisfied: preshed<3.1.0,>=3.0.2 in /usr/local/lib/python3.7/dist-packages (from spacy<2.4.0->pycaret[full]) (3.0.5)\n",
            "Requirement already satisfied: murmurhash<1.1.0,>=0.28.0 in /usr/local/lib/python3.7/dist-packages (from spacy<2.4.0->pycaret[full]) (1.0.5)\n",
            "Requirement already satisfied: cymem<2.1.0,>=2.0.2 in /usr/local/lib/python3.7/dist-packages (from spacy<2.4.0->pycaret[full]) (2.0.5)\n",
            "Requirement already satisfied: cycler>=0.10.0 in /usr/local/lib/python3.7/dist-packages (from yellowbrick>=1.0.1->pycaret[full]) (0.10.0)\n",
            "Requirement already satisfied: sqlparse>=0.3.1 in /usr/local/lib/python3.7/dist-packages (from mlflow->pycaret[full]) (0.4.1)\n",
            "Requirement already satisfied: packaging in /usr/local/lib/python3.7/dist-packages (from mlflow->pycaret[full]) (20.9)\n",
            "Collecting docker>=4.0.0\n",
            "\u001b[?25l  Downloading https://files.pythonhosted.org/packages/b2/5a/f988909dfed18c1ac42ad8d9e611e6c5657e270aa6eb68559985dbb69c13/docker-5.0.0-py2.py3-none-any.whl (146kB)\n",
            "\u001b[K     |████████████████████████████████| 153kB 47.5MB/s \n",
            "\u001b[?25hCollecting gunicorn; platform_system != \"Windows\"\n",
            "\u001b[?25l  Downloading https://files.pythonhosted.org/packages/e4/dd/5b190393e6066286773a67dfcc2f9492058e9b57c4867a95f1ba5caf0a83/gunicorn-20.1.0-py3-none-any.whl (79kB)\n",
            "\u001b[K     |████████████████████████████████| 81kB 9.9MB/s \n",
            "\u001b[?25hCollecting prometheus-flask-exporter\n",
            "  Downloading https://files.pythonhosted.org/packages/f3/c1/2cc385fadf18dc75fe24c18899269eda4dcc60221d61eff7da4a6cc5c01d/prometheus_flask_exporter-0.18.2.tar.gz\n",
            "Requirement already satisfied: entrypoints in /usr/local/lib/python3.7/dist-packages (from mlflow->pycaret[full]) (0.3)\n",
            "Collecting gitpython>=2.1.0\n",
            "\u001b[?25l  Downloading https://files.pythonhosted.org/packages/bc/91/b38c4fabb6e5092ab23492ded4f318ab7299b19263272b703478038c0fbc/GitPython-3.1.18-py3-none-any.whl (170kB)\n",
            "\u001b[K     |████████████████████████████████| 174kB 45.4MB/s \n",
            "\u001b[?25hCollecting querystring-parser\n",
            "  Downloading https://files.pythonhosted.org/packages/88/6b/572b2590fd55114118bf08bde63c0a421dcc82d593700f3e2ad89908a8a9/querystring_parser-1.2.4-py2.py3-none-any.whl\n",
            "Requirement already satisfied: protobuf>=3.7.0 in /usr/local/lib/python3.7/dist-packages (from mlflow->pycaret[full]) (3.12.4)\n",
            "Collecting databricks-cli>=0.8.7\n",
            "\u001b[?25l  Downloading https://files.pythonhosted.org/packages/bc/af/631375abc29e59cedfa4467a5f7755503ba19898890751e1f2636ef02f92/databricks-cli-0.14.3.tar.gz (54kB)\n",
            "\u001b[K     |████████████████████████████████| 61kB 7.5MB/s \n",
            "\u001b[?25hRequirement already satisfied: sqlalchemy in /usr/local/lib/python3.7/dist-packages (from mlflow->pycaret[full]) (1.4.18)\n",
            "Collecting alembic<=1.4.1\n",
            "\u001b[?25l  Downloading https://files.pythonhosted.org/packages/e0/e9/359dbb77c35c419df0aedeb1d53e71e7e3f438ff64a8fdb048c907404de3/alembic-1.4.1.tar.gz (1.1MB)\n",
            "\u001b[K     |████████████████████████████████| 1.1MB 34.8MB/s \n",
            "\u001b[?25hRequirement already satisfied: pytz in /usr/local/lib/python3.7/dist-packages (from mlflow->pycaret[full]) (2018.9)\n",
            "Requirement already satisfied: Flask in /usr/local/lib/python3.7/dist-packages (from mlflow->pycaret[full]) (1.1.4)\n",
            "Requirement already satisfied: click>=7.0 in /usr/local/lib/python3.7/dist-packages (from mlflow->pycaret[full]) (7.1.2)\n",
            "Requirement already satisfied: python-dateutil>=2.7.3 in /usr/local/lib/python3.7/dist-packages (from pandas->pycaret[full]) (2.8.1)\n",
            "Requirement already satisfied: pyparsing!=2.0.4,!=2.1.2,!=2.1.6,>=2.0.1 in /usr/local/lib/python3.7/dist-packages (from matplotlib->pycaret[full]) (2.4.7)\n",
            "Requirement already satisfied: kiwisolver>=1.0.1 in /usr/local/lib/python3.7/dist-packages (from matplotlib->pycaret[full]) (1.3.1)\n",
            "Requirement already satisfied: pexpect; sys_platform != \"win32\" in /usr/local/lib/python3.7/dist-packages (from IPython->pycaret[full]) (4.8.0)\n",
            "Requirement already satisfied: decorator in /usr/local/lib/python3.7/dist-packages (from IPython->pycaret[full]) (4.4.2)\n",
            "Requirement already satisfied: prompt-toolkit<2.0.0,>=1.0.4 in /usr/local/lib/python3.7/dist-packages (from IPython->pycaret[full]) (1.0.18)\n",
            "Requirement already satisfied: pygments in /usr/local/lib/python3.7/dist-packages (from IPython->pycaret[full]) (2.6.1)\n",
            "Requirement already satisfied: pickleshare in /usr/local/lib/python3.7/dist-packages (from IPython->pycaret[full]) (0.7.5)\n",
            "Requirement already satisfied: simplegeneric>0.8 in /usr/local/lib/python3.7/dist-packages (from IPython->pycaret[full]) (0.8.1)\n",
            "Requirement already satisfied: pillow in /usr/local/lib/python3.7/dist-packages (from wordcloud->pycaret[full]) (7.1.2)\n",
            "Requirement already satisfied: prometheus-client>=0.7.1 in /usr/local/lib/python3.7/dist-packages (from ray[tune]>=1.0.0; extra == \"full\"->pycaret[full]) (0.11.0)\n",
            "Collecting colorama\n",
            "  Downloading https://files.pythonhosted.org/packages/44/98/5b86278fbbf250d239ae0ecb724f8572af1c91f4a11edf4d36a206189440/colorama-0.4.4-py2.py3-none-any.whl\n",
            "Requirement already satisfied: filelock in /usr/local/lib/python3.7/dist-packages (from ray[tune]>=1.0.0; extra == \"full\"->pycaret[full]) (3.0.12)\n",
            "Collecting py-spy>=0.2.0\n",
            "\u001b[?25l  Downloading https://files.pythonhosted.org/packages/9d/4d/1a9cbe9a0b543e6733cb38afe26451522a9ef8e4897b59e74cc76838f245/py_spy-0.3.7-py2.py3-none-manylinux1_x86_64.whl (3.1MB)\n",
            "\u001b[K     |████████████████████████████████| 3.1MB 41.5MB/s \n",
            "\u001b[?25hCollecting gpustat\n",
            "\u001b[?25l  Downloading https://files.pythonhosted.org/packages/b4/69/d8c849715171aeabd61af7da080fdc60948b5a396d2422f1f4672e43d008/gpustat-0.6.0.tar.gz (78kB)\n",
            "\u001b[K     |████████████████████████████████| 81kB 9.4MB/s \n",
            "\u001b[?25hRequirement already satisfied: msgpack<2.0.0,>=1.0.0 in /usr/local/lib/python3.7/dist-packages (from ray[tune]>=1.0.0; extra == \"full\"->pycaret[full]) (1.0.2)\n",
            "Collecting aiohttp-cors\n",
            "  Downloading https://files.pythonhosted.org/packages/13/e7/e436a0c0eb5127d8b491a9b83ecd2391c6ff7dcd5548dfaec2080a2340fd/aiohttp_cors-0.7.0-py3-none-any.whl\n",
            "Collecting opencensus\n",
            "\u001b[?25l  Downloading https://files.pythonhosted.org/packages/18/59/12044123133d000f705383ad98579aeb0dd82d66b33a254a21b54bf0d6bb/opencensus-0.7.13-py2.py3-none-any.whl (127kB)\n",
            "\u001b[K     |████████████████████████████████| 133kB 42.7MB/s \n",
            "\u001b[?25hCollecting redis>=3.5.0\n",
            "\u001b[?25l  Downloading https://files.pythonhosted.org/packages/a7/7c/24fb0511df653cf1a5d938d8f5d19802a88cef255706fdda242ff97e91b7/redis-3.5.3-py2.py3-none-any.whl (72kB)\n",
            "\u001b[K     |████████████████████████████████| 81kB 8.9MB/s \n",
            "\u001b[?25hRequirement already satisfied: jsonschema in /usr/local/lib/python3.7/dist-packages (from ray[tune]>=1.0.0; extra == \"full\"->pycaret[full]) (2.6.0)\n",
            "Collecting aioredis\n",
            "\u001b[?25l  Downloading https://files.pythonhosted.org/packages/b0/64/1b1612d0a104f21f80eb4c6e1b6075f2e6aba8e228f46f229cfd3fdac859/aioredis-1.3.1-py3-none-any.whl (65kB)\n",
            "\u001b[K     |████████████████████████████████| 71kB 7.5MB/s \n",
            "\u001b[?25hCollecting aiohttp\n",
            "\u001b[?25l  Downloading https://files.pythonhosted.org/packages/88/c0/5890b4c8b04a79b7360e8fe4490feb0bb3ab179743f199f0e6220cebd568/aiohttp-3.7.4.post0-cp37-cp37m-manylinux2014_x86_64.whl (1.3MB)\n",
            "\u001b[K     |████████████████████████████████| 1.3MB 37.4MB/s \n",
            "\u001b[?25hRequirement already satisfied: grpcio>=1.28.1 in /usr/local/lib/python3.7/dist-packages (from ray[tune]>=1.0.0; extra == \"full\"->pycaret[full]) (1.34.1)\n",
            "Collecting tensorboardX; extra == \"tune\"\n",
            "\u001b[?25l  Downloading https://files.pythonhosted.org/packages/42/36/2b147652c40c3a858efa0afbf7b8236fae968e88ff530511a4cfa299a506/tensorboardX-2.3-py2.py3-none-any.whl (124kB)\n",
            "\u001b[K     |████████████████████████████████| 133kB 45.3MB/s \n",
            "\u001b[?25hRequirement already satisfied: tabulate; extra == \"tune\" in /usr/local/lib/python3.7/dist-packages (from ray[tune]>=1.0.0; extra == \"full\"->pycaret[full]) (0.8.9)\n",
            "Collecting docutils<0.16,>=0.10\n",
            "\u001b[?25l  Downloading https://files.pythonhosted.org/packages/22/cd/a6aa959dca619918ccb55023b4cb151949c64d4d5d55b3f4ffd7eee0c6e8/docutils-0.15.2-py3-none-any.whl (547kB)\n",
            "\u001b[K     |████████████████████████████████| 552kB 44.1MB/s \n",
            "\u001b[?25hCollecting botocore==1.20.102\n",
            "\u001b[?25l  Downloading https://files.pythonhosted.org/packages/2f/ae/55b37b5f87c31d391fe2befa0d49c8d7fcad5a2908147ab28c44e661d029/botocore-1.20.102-py2.py3-none-any.whl (7.7MB)\n",
            "\u001b[K     |████████████████████████████████| 7.7MB 36.6MB/s \n",
            "\u001b[?25hRequirement already satisfied: rsa<4.8,>=3.1.2; python_version > \"2.7\" in /usr/local/lib/python3.7/dist-packages (from awscli; extra == \"full\"->pycaret[full]) (4.7.2)\n",
            "Collecting s3transfer<0.5.0,>=0.4.0\n",
            "\u001b[?25l  Downloading https://files.pythonhosted.org/packages/63/d0/693477c688348654ddc21dcdce0817653a294aa43f41771084c25e7ff9c7/s3transfer-0.4.2-py2.py3-none-any.whl (79kB)\n",
            "\u001b[K     |████████████████████████████████| 81kB 3.1MB/s \n",
            "\u001b[?25hRequirement already satisfied: google-cloud-core<2.0dev,>=1.0.0 in /usr/local/lib/python3.7/dist-packages (from google-cloud-storage; extra == \"full\"->pycaret[full]) (1.0.3)\n",
            "Requirement already satisfied: google-auth>=1.2.0 in /usr/local/lib/python3.7/dist-packages (from google-cloud-storage; extra == \"full\"->pycaret[full]) (1.31.0)\n",
            "Requirement already satisfied: google-resumable-media<0.5.0dev,>=0.3.1 in /usr/local/lib/python3.7/dist-packages (from google-cloud-storage; extra == \"full\"->pycaret[full]) (0.4.1)\n",
            "Collecting msrest>=0.6.18\n",
            "\u001b[?25l  Downloading https://files.pythonhosted.org/packages/e8/cc/6c96bfb3d3cf4c3bdedfa6b46503223f4c2a4fa388377697e0f8082a4fed/msrest-0.6.21-py2.py3-none-any.whl (85kB)\n",
            "\u001b[K     |████████████████████████████████| 92kB 10.1MB/s \n",
            "\u001b[?25hCollecting cryptography>=2.1.4\n",
            "\u001b[?25l  Downloading https://files.pythonhosted.org/packages/b2/26/7af637e6a7e87258b963f1731c5982fb31cd507f0d90d91836e446955d02/cryptography-3.4.7-cp36-abi3-manylinux2014_x86_64.whl (3.2MB)\n",
            "\u001b[K     |████████████████████████████████| 3.2MB 36.1MB/s \n",
            "\u001b[?25hCollecting azure-core<2.0.0,>=1.10.0\n",
            "\u001b[?25l  Downloading https://files.pythonhosted.org/packages/c7/2f/3d25c8dfea7c9bdf96142f019bfb47bd08dca3ce0eea6511fdeecf281e87/azure_core-1.15.0-py2.py3-none-any.whl (138kB)\n",
            "\u001b[K     |████████████████████████████████| 143kB 38.0MB/s \n",
            "\u001b[?25hRequirement already satisfied: networkx in /usr/local/lib/python3.7/dist-packages (from hyperopt; extra == \"full\"->pycaret[full]) (2.5.1)\n",
            "Requirement already satisfied: pymongo in /usr/local/lib/python3.7/dist-packages (from hyperopt; extra == \"full\"->pycaret[full]) (3.11.4)\n",
            "Collecting pyaml>=16.9\n",
            "  Downloading https://files.pythonhosted.org/packages/15/c4/1310a054d33abc318426a956e7d6df0df76a6ddfa9c66f6310274fb75d42/pyaml-20.4.0-py2.py3-none-any.whl\n",
            "Collecting cmaes>=0.8.2\n",
            "  Downloading https://files.pythonhosted.org/packages/01/1f/43b01223a0366171f474320c6e966c39a11587287f098a5f09809b45e05f/cmaes-0.8.2-py3-none-any.whl\n",
            "Collecting cliff\n",
            "\u001b[?25l  Downloading https://files.pythonhosted.org/packages/87/11/aea1cacbd4cf8262809c4d6f95dcb3f2802594de1f51c5bd454d69bf15c5/cliff-3.8.0-py3-none-any.whl (80kB)\n",
            "\u001b[K     |████████████████████████████████| 81kB 8.7MB/s \n",
            "\u001b[?25hCollecting colorlog\n",
            "  Downloading https://files.pythonhosted.org/packages/32/e6/e9ddc6fa1104fda718338b341e4b3dc31cd8039ab29e52fc73b508515361/colorlog-5.0.1-py2.py3-none-any.whl\n",
            "Requirement already satisfied: graphviz in /usr/local/lib/python3.7/dist-packages (from catboost>=0.23.2; extra == \"full\"->pycaret[full]) (0.10.1)\n",
            "Collecting autograd-gamma>=0.3\n",
            "  Downloading https://files.pythonhosted.org/packages/85/ae/7f2031ea76140444b2453fa139041e5afd4a09fc5300cfefeb1103291f80/autograd-gamma-0.5.0.tar.gz\n",
            "Collecting formulaic<0.3,>=0.2.2\n",
            "\u001b[?25l  Downloading https://files.pythonhosted.org/packages/02/64/6702b5cadc89ece93af2e01996504f3a895196354a35713e2ef22f089d3e/formulaic-0.2.3-py3-none-any.whl (55kB)\n",
            "\u001b[K     |████████████████████████████████| 61kB 6.2MB/s \n",
            "\u001b[?25hRequirement already satisfied: autograd>=1.3 in /usr/local/lib/python3.7/dist-packages (from lifelines>=0.25->ngboost) (1.3)\n",
            "Requirement already satisfied: llvmlite<0.35,>=0.34.0.dev0 in /usr/local/lib/python3.7/dist-packages (from numba->shap) (0.34.0)\n",
            "Requirement already satisfied: notebook>=4.4.1 in /usr/local/lib/python3.7/dist-packages (from widgetsnbextension~=3.5.0->ipywidgets->pycaret[full]) (5.3.1)\n",
            "Requirement already satisfied: ipython-genutils in /usr/local/lib/python3.7/dist-packages (from traitlets>=4.3.1->ipywidgets->pycaret[full]) (0.2.0)\n",
            "Requirement already satisfied: jupyter-core in /usr/local/lib/python3.7/dist-packages (from nbformat>=4.2.0->ipywidgets->pycaret[full]) (4.7.1)\n",
            "Requirement already satisfied: tornado>=4.0 in /usr/local/lib/python3.7/dist-packages (from ipykernel>=4.5.1->ipywidgets->pycaret[full]) (5.1.1)\n",
            "Requirement already satisfied: jupyter-client in /usr/local/lib/python3.7/dist-packages (from ipykernel>=4.5.1->ipywidgets->pycaret[full]) (5.3.5)\n",
            "Requirement already satisfied: patsy>=0.4.0 in /usr/local/lib/python3.7/dist-packages (from statsmodels->pyod->pycaret[full]) (0.5.1)\n",
            "Requirement already satisfied: MarkupSafe>=0.23 in /usr/local/lib/python3.7/dist-packages (from jinja2>=2.11.1->pandas-profiling>=2.8.0->pycaret[full]) (2.0.1)\n",
            "Requirement already satisfied: certifi>=2017.4.17 in /usr/local/lib/python3.7/dist-packages (from requests>=2.24.0->pandas-profiling>=2.8.0->pycaret[full]) (2021.5.30)\n",
            "Requirement already satisfied: chardet<5,>=3.0.2 in /usr/local/lib/python3.7/dist-packages (from requests>=2.24.0->pandas-profiling>=2.8.0->pycaret[full]) (3.0.4)\n",
            "Requirement already satisfied: urllib3<1.27,>=1.21.1 in /usr/local/lib/python3.7/dist-packages (from requests>=2.24.0->pandas-profiling>=2.8.0->pycaret[full]) (1.24.3)\n",
            "Requirement already satisfied: idna<3,>=2.5 in /usr/local/lib/python3.7/dist-packages (from requests>=2.24.0->pandas-profiling>=2.8.0->pycaret[full]) (2.10)\n",
            "Requirement already satisfied: attrs>=19.3.0 in /usr/local/lib/python3.7/dist-packages (from visions[type_image_path]==0.7.1->pandas-profiling>=2.8.0->pycaret[full]) (21.2.0)\n",
            "Requirement already satisfied: bottleneck in /usr/local/lib/python3.7/dist-packages (from visions[type_image_path]==0.7.1->pandas-profiling>=2.8.0->pycaret[full]) (1.3.2)\n",
            "Collecting multimethod==1.4\n",
            "  Downloading https://files.pythonhosted.org/packages/7a/d0/ce5ad0392aa12645b7ad91a5983d6b625b704b021d9cd48c587630c1a9ac/multimethod-1.4-py2.py3-none-any.whl\n",
            "Collecting imagehash; extra == \"type_image_path\"\n",
            "\u001b[?25l  Downloading https://files.pythonhosted.org/packages/8e/18/9dbb772b5ef73a3069c66bb5bf29b9fb4dd57af0d5790c781c3f559bcca6/ImageHash-4.2.0-py2.py3-none-any.whl (295kB)\n",
            "\u001b[K     |████████████████████████████████| 296kB 45.0MB/s \n",
            "\u001b[?25hRequirement already satisfied: typing-extensions>=3.7.4.3 in /usr/local/lib/python3.7/dist-packages (from pydantic>=1.8.1->pandas-profiling>=2.8.0->pycaret[full]) (3.7.4.3)\n",
            "Requirement already satisfied: importlib-metadata>=0.20; python_version < \"3.8\" in /usr/local/lib/python3.7/dist-packages (from catalogue<1.1.0,>=0.0.7->spacy<2.4.0->pycaret[full]) (4.5.0)\n",
            "Collecting websocket-client>=0.32.0\n",
            "\u001b[?25l  Downloading https://files.pythonhosted.org/packages/ca/5f/3c211d168b2e9f9342cfb53bcfc26aab0eac63b998015e7af7bcae66119d/websocket_client-1.1.0-py2.py3-none-any.whl (68kB)\n",
            "\u001b[K     |████████████████████████████████| 71kB 7.9MB/s \n",
            "\u001b[?25hCollecting gitdb<5,>=4.0.1\n",
            "\u001b[?25l  Downloading https://files.pythonhosted.org/packages/ea/e8/f414d1a4f0bbc668ed441f74f44c116d9816833a48bf81d22b697090dba8/gitdb-4.0.7-py3-none-any.whl (63kB)\n",
            "\u001b[K     |████████████████████████████████| 71kB 8.7MB/s \n",
            "\u001b[?25hRequirement already satisfied: greenlet!=0.4.17; python_version >= \"3\" in /usr/local/lib/python3.7/dist-packages (from sqlalchemy->mlflow->pycaret[full]) (1.1.0)\n",
            "Collecting Mako\n",
            "\u001b[?25l  Downloading https://files.pythonhosted.org/packages/f3/54/dbc07fbb20865d3b78fdb7cf7fa713e2cba4f87f71100074ef2dc9f9d1f7/Mako-1.1.4-py2.py3-none-any.whl (75kB)\n",
            "\u001b[K     |████████████████████████████████| 81kB 9.1MB/s \n",
            "\u001b[?25hCollecting python-editor>=0.3\n",
            "  Downloading https://files.pythonhosted.org/packages/c6/d3/201fc3abe391bbae6606e6f1d598c15d367033332bd54352b12f35513717/python_editor-1.0.4-py3-none-any.whl\n",
            "Requirement already satisfied: itsdangerous<2.0,>=0.24 in /usr/local/lib/python3.7/dist-packages (from Flask->mlflow->pycaret[full]) (1.1.0)\n",
            "Requirement already satisfied: Werkzeug<2.0,>=0.15 in /usr/local/lib/python3.7/dist-packages (from Flask->mlflow->pycaret[full]) (1.0.1)\n",
            "Requirement already satisfied: ptyprocess>=0.5 in /usr/local/lib/python3.7/dist-packages (from pexpect; sys_platform != \"win32\"->IPython->pycaret[full]) (0.7.0)\n",
            "Requirement already satisfied: wcwidth in /usr/local/lib/python3.7/dist-packages (from prompt-toolkit<2.0.0,>=1.0.4->IPython->pycaret[full]) (0.2.5)\n",
            "Requirement already satisfied: nvidia-ml-py3>=7.352.0 in /usr/local/lib/python3.7/dist-packages (from gpustat->ray[tune]>=1.0.0; extra == \"full\"->pycaret[full]) (7.352.0)\n",
            "Collecting blessings>=1.6\n",
            "  Downloading https://files.pythonhosted.org/packages/03/74/489f85a78247609c6b4f13733cbf3ba0d864b11aa565617b645d6fdf2a4a/blessings-1.7-py3-none-any.whl\n",
            "Requirement already satisfied: google-api-core<2.0.0,>=1.0.0 in /usr/local/lib/python3.7/dist-packages (from opencensus->ray[tune]>=1.0.0; extra == \"full\"->pycaret[full]) (1.26.3)\n",
            "Collecting opencensus-context==0.1.2\n",
            "  Downloading https://files.pythonhosted.org/packages/f1/33/990f1bd9e7ee770fc8d3c154fc24743a96f16a0e49e14e1b7540cc2fdd93/opencensus_context-0.1.2-py2.py3-none-any.whl\n",
            "Collecting hiredis\n",
            "\u001b[?25l  Downloading https://files.pythonhosted.org/packages/ed/33/290cea35b09c80b4634773ad5572a8030a87b5d39736719f698f521d2a13/hiredis-2.0.0-cp37-cp37m-manylinux2010_x86_64.whl (85kB)\n",
            "\u001b[K     |████████████████████████████████| 92kB 10.3MB/s \n",
            "\u001b[?25hCollecting async-timeout\n",
            "  Downloading https://files.pythonhosted.org/packages/e1/1e/5a4441be21b0726c4464f3f23c8b19628372f606755a9d2e46c187e65ec4/async_timeout-3.0.1-py3-none-any.whl\n",
            "Collecting multidict<7.0,>=4.5\n",
            "\u001b[?25l  Downloading https://files.pythonhosted.org/packages/7c/a6/4123b8165acbe773d1a8dc8e3f0d1edea16d29f7de018eda769abb56bd30/multidict-5.1.0-cp37-cp37m-manylinux2014_x86_64.whl (142kB)\n",
            "\u001b[K     |████████████████████████████████| 143kB 48.8MB/s \n",
            "\u001b[?25hCollecting yarl<2.0,>=1.0\n",
            "\u001b[?25l  Downloading https://files.pythonhosted.org/packages/f1/62/046834c5fc998c88ab2ef722f5d42122230a632212c8afa76418324f53ff/yarl-1.6.3-cp37-cp37m-manylinux2014_x86_64.whl (294kB)\n",
            "\u001b[K     |████████████████████████████████| 296kB 36.5MB/s \n",
            "\u001b[?25hCollecting jmespath<1.0.0,>=0.7.1\n",
            "  Downloading https://files.pythonhosted.org/packages/07/cb/5f001272b6faeb23c1c9e0acc04d48eaaf5c862c17709d20e3469c6e0139/jmespath-0.10.0-py2.py3-none-any.whl\n",
            "Requirement already satisfied: pyasn1>=0.1.3 in /usr/local/lib/python3.7/dist-packages (from rsa<4.8,>=3.1.2; python_version > \"2.7\"->awscli; extra == \"full\"->pycaret[full]) (0.4.8)\n",
            "Requirement already satisfied: pyasn1-modules>=0.2.1 in /usr/local/lib/python3.7/dist-packages (from google-auth>=1.2.0->google-cloud-storage; extra == \"full\"->pycaret[full]) (0.2.8)\n",
            "Requirement already satisfied: cachetools<5.0,>=2.0.0 in /usr/local/lib/python3.7/dist-packages (from google-auth>=1.2.0->google-cloud-storage; extra == \"full\"->pycaret[full]) (4.2.2)\n",
            "Collecting isodate>=0.6.0\n",
            "\u001b[?25l  Downloading https://files.pythonhosted.org/packages/9b/9f/b36f7774ff5ea8e428fdcfc4bb332c39ee5b9362ddd3d40d9516a55221b2/isodate-0.6.0-py2.py3-none-any.whl (45kB)\n",
            "\u001b[K     |████████████████████████████████| 51kB 5.8MB/s \n",
            "\u001b[?25hRequirement already satisfied: requests-oauthlib>=0.5.0 in /usr/local/lib/python3.7/dist-packages (from msrest>=0.6.18->azure-storage-blob; extra == \"full\"->pycaret[full]) (1.3.0)\n",
            "Requirement already satisfied: cffi>=1.12 in /usr/local/lib/python3.7/dist-packages (from cryptography>=2.1.4->azure-storage-blob; extra == \"full\"->pycaret[full]) (1.14.5)\n",
            "Collecting cmd2>=1.0.0\n",
            "\u001b[?25l  Downloading https://files.pythonhosted.org/packages/e3/6a/e929ec70ca05c5962f6541ef29fb9c207dd41f0f2333680fa39f44fa4357/cmd2-2.1.1-py3-none-any.whl (140kB)\n",
            "\u001b[K     |████████████████████████████████| 143kB 38.4MB/s \n",
            "\u001b[?25hCollecting stevedore>=2.0.1\n",
            "\u001b[?25l  Downloading https://files.pythonhosted.org/packages/d4/49/b602307aeac3df3384ff1fcd05da9c0376c622a6c48bb5325f28ab165b57/stevedore-3.3.0-py3-none-any.whl (49kB)\n",
            "\u001b[K     |████████████████████████████████| 51kB 6.4MB/s \n",
            "\u001b[?25hRequirement already satisfied: PrettyTable>=0.7.2 in /usr/local/lib/python3.7/dist-packages (from cliff->optuna; extra == \"full\"->pycaret[full]) (2.1.0)\n",
            "Collecting pbr!=2.1.0,>=2.0.0\n",
            "\u001b[?25l  Downloading https://files.pythonhosted.org/packages/18/e0/1d4702dd81121d04a477c272d47ee5b6bc970d1a0990b11befa275c55cf2/pbr-5.6.0-py2.py3-none-any.whl (111kB)\n",
            "\u001b[K     |████████████████████████████████| 112kB 48.0MB/s \n",
            "\u001b[?25hCollecting interface-meta>=1.2\n",
            "  Downloading https://files.pythonhosted.org/packages/71/31/5e474208f5df9012ebecfaa23884b14f93671ea4f4f6d468eb096b73e499/interface_meta-1.2.3-py2.py3-none-any.whl\n",
            "Requirement already satisfied: wrapt in /usr/local/lib/python3.7/dist-packages (from formulaic<0.3,>=0.2.2->lifelines>=0.25->ngboost) (1.12.1)\n",
            "Requirement already satisfied: astor in /usr/local/lib/python3.7/dist-packages (from formulaic<0.3,>=0.2.2->lifelines>=0.25->ngboost) (0.8.1)\n",
            "Requirement already satisfied: terminado>=0.8.1 in /usr/local/lib/python3.7/dist-packages (from notebook>=4.4.1->widgetsnbextension~=3.5.0->ipywidgets->pycaret[full]) (0.10.1)\n",
            "Requirement already satisfied: Send2Trash in /usr/local/lib/python3.7/dist-packages (from notebook>=4.4.1->widgetsnbextension~=3.5.0->ipywidgets->pycaret[full]) (1.5.0)\n",
            "Requirement already satisfied: nbconvert in /usr/local/lib/python3.7/dist-packages (from notebook>=4.4.1->widgetsnbextension~=3.5.0->ipywidgets->pycaret[full]) (5.6.1)\n",
            "Requirement already satisfied: pyzmq>=13 in /usr/local/lib/python3.7/dist-packages (from jupyter-client->ipykernel>=4.5.1->ipywidgets->pycaret[full]) (22.1.0)\n",
            "Requirement already satisfied: PyWavelets in /usr/local/lib/python3.7/dist-packages (from imagehash; extra == \"type_image_path\"->visions[type_image_path]==0.7.1->pandas-profiling>=2.8.0->pycaret[full]) (1.1.1)\n",
            "Requirement already satisfied: zipp>=0.5 in /usr/local/lib/python3.7/dist-packages (from importlib-metadata>=0.20; python_version < \"3.8\"->catalogue<1.1.0,>=0.0.7->spacy<2.4.0->pycaret[full]) (3.4.1)\n",
            "Collecting smmap<5,>=3.0.1\n",
            "  Downloading https://files.pythonhosted.org/packages/68/ee/d540eb5e5996eb81c26ceffac6ee49041d473bc5125f2aa995cf51ec1cf1/smmap-4.0.0-py2.py3-none-any.whl\n",
            "Requirement already satisfied: googleapis-common-protos<2.0dev,>=1.6.0 in /usr/local/lib/python3.7/dist-packages (from google-api-core<2.0.0,>=1.0.0->opencensus->ray[tune]>=1.0.0; extra == \"full\"->pycaret[full]) (1.53.0)\n",
            "Requirement already satisfied: oauthlib>=3.0.0 in /usr/local/lib/python3.7/dist-packages (from requests-oauthlib>=0.5.0->msrest>=0.6.18->azure-storage-blob; extra == \"full\"->pycaret[full]) (3.1.1)\n",
            "Requirement already satisfied: pycparser in /usr/local/lib/python3.7/dist-packages (from cffi>=1.12->cryptography>=2.1.4->azure-storage-blob; extra == \"full\"->pycaret[full]) (2.20)\n",
            "Collecting pyperclip>=1.6\n",
            "  Downloading https://files.pythonhosted.org/packages/a7/2c/4c64579f847bd5d539803c8b909e54ba087a79d01bb3aba433a95879a6c5/pyperclip-1.8.2.tar.gz\n",
            "Requirement already satisfied: mistune<2,>=0.8.1 in /usr/local/lib/python3.7/dist-packages (from nbconvert->notebook>=4.4.1->widgetsnbextension~=3.5.0->ipywidgets->pycaret[full]) (0.8.4)\n",
            "Requirement already satisfied: bleach in /usr/local/lib/python3.7/dist-packages (from nbconvert->notebook>=4.4.1->widgetsnbextension~=3.5.0->ipywidgets->pycaret[full]) (3.3.0)\n",
            "Requirement already satisfied: defusedxml in /usr/local/lib/python3.7/dist-packages (from nbconvert->notebook>=4.4.1->widgetsnbextension~=3.5.0->ipywidgets->pycaret[full]) (0.7.1)\n",
            "Requirement already satisfied: pandocfilters>=1.4.1 in /usr/local/lib/python3.7/dist-packages (from nbconvert->notebook>=4.4.1->widgetsnbextension~=3.5.0->ipywidgets->pycaret[full]) (1.4.3)\n",
            "Requirement already satisfied: testpath in /usr/local/lib/python3.7/dist-packages (from nbconvert->notebook>=4.4.1->widgetsnbextension~=3.5.0->ipywidgets->pycaret[full]) (0.5.0)\n",
            "Requirement already satisfied: webencodings in /usr/local/lib/python3.7/dist-packages (from bleach->nbconvert->notebook>=4.4.1->widgetsnbextension~=3.5.0->ipywidgets->pycaret[full]) (0.5.1)\n",
            "Building wheels for collected packages: pyLDAvis\n",
            "  Building wheel for pyLDAvis (PEP 517) ... \u001b[?25l\u001b[?25hdone\n",
            "  Created wheel for pyLDAvis: filename=pyLDAvis-3.3.1-cp37-none-any.whl size=136897 sha256=3c605a660444ab806cf2c27c143d9795b97dd29fc67b045df3663722204d2285\n",
            "  Stored in directory: /root/.cache/pip/wheels/a0/9c/fc/c6e00689d35c82cf96a8adc70edfe7ba7904374fdac3240ac2\n",
            "Successfully built pyLDAvis\n",
            "Building wheels for collected packages: shap, umap-learn, pyod, pynndescent, phik, htmlmin, prometheus-flask-exporter, databricks-cli, alembic, gpustat, autograd-gamma, pyperclip\n",
            "  Building wheel for shap (setup.py) ... \u001b[?25l\u001b[?25hdone\n",
            "  Created wheel for shap: filename=shap-0.39.0-cp37-cp37m-linux_x86_64.whl size=491620 sha256=2e6f06404be4925163d05916550406c20a1f8010e418fc3396967a36c4617a6e\n",
            "  Stored in directory: /root/.cache/pip/wheels/15/27/f5/a8ab9da52fd159aae6477b5ede6eaaec69fd130fa0fa59f283\n",
            "  Building wheel for umap-learn (setup.py) ... \u001b[?25l\u001b[?25hdone\n",
            "  Created wheel for umap-learn: filename=umap_learn-0.5.1-cp37-none-any.whl size=76569 sha256=bfa5e6d50934c503a8e4c1ef3e1f16a4735e3ac4d6e8d5619887874f4eb79683\n",
            "  Stored in directory: /root/.cache/pip/wheels/ad/df/d5/a3691296ff779f25cd1cf415a3af954b987fb53111e3392cf4\n",
            "  Building wheel for pyod (setup.py) ... \u001b[?25l\u001b[?25hdone\n",
            "  Created wheel for pyod: filename=pyod-0.8.9-cp37-none-any.whl size=121413 sha256=f2e6414f5ff12b482b17d087d67aadc9cb697b0ea740eaab484cfe88c0c4b18d\n",
            "  Stored in directory: /root/.cache/pip/wheels/9b/31/18/f12932b880f1ce4c181cbe51454ddaaa02665ad7cfc663f639\n",
            "  Building wheel for pynndescent (setup.py) ... \u001b[?25l\u001b[?25hdone\n",
            "  Created wheel for pynndescent: filename=pynndescent-0.5.2-cp37-none-any.whl size=51362 sha256=7f1d4a53019a9c2476d08a14b78844b06f651624d8cfe77efd88c32bd609f126\n",
            "  Stored in directory: /root/.cache/pip/wheels/ba/52/4e/4c28d04d144a28f89e2575fb63628df6e6d49b56c5ddd0c74e\n",
            "  Building wheel for phik (setup.py) ... \u001b[?25l\u001b[?25hdone\n",
            "  Created wheel for phik: filename=phik-0.11.2-cp37-none-any.whl size=1107437 sha256=52ffefa37cb3aaac1bd40d343588d7356915459b0ceb4230a150550513e6dfcf\n",
            "  Stored in directory: /root/.cache/pip/wheels/c0/a3/b0/f27b1cfe32ea131a3715169132ff6d85653789e80e966c3bf6\n",
            "  Building wheel for htmlmin (setup.py) ... \u001b[?25l\u001b[?25hdone\n",
            "  Created wheel for htmlmin: filename=htmlmin-0.1.12-cp37-none-any.whl size=27099 sha256=6b050322d6c07304f79f0f669feedc273a7f395e6a1cc4635af42bda75bd2968\n",
            "  Stored in directory: /root/.cache/pip/wheels/43/07/ac/7c5a9d708d65247ac1f94066cf1db075540b85716c30255459\n",
            "  Building wheel for prometheus-flask-exporter (setup.py) ... \u001b[?25l\u001b[?25hdone\n",
            "  Created wheel for prometheus-flask-exporter: filename=prometheus_flask_exporter-0.18.2-cp37-none-any.whl size=17415 sha256=69f433a07428f8ee589c360ea3c1b30cc98fc6d990c0b94240fe060f4583a3ca\n",
            "  Stored in directory: /root/.cache/pip/wheels/c0/e2/9c/4f3ee23964802940f81a8b476d0b9be6fb6348cb12df2e2226\n",
            "  Building wheel for databricks-cli (setup.py) ... \u001b[?25l\u001b[?25hdone\n",
            "  Created wheel for databricks-cli: filename=databricks_cli-0.14.3-cp37-none-any.whl size=100560 sha256=301deb0b7ca35507d58068601d7a76c6346b38eecf126996f4b8be1b71991a86\n",
            "  Stored in directory: /root/.cache/pip/wheels/5b/24/f3/34d8e3964dac4ba849d844273c49a679111b00d5799ebb934a\n",
            "  Building wheel for alembic (setup.py) ... \u001b[?25l\u001b[?25hdone\n",
            "  Created wheel for alembic: filename=alembic-1.4.1-py2.py3-none-any.whl size=158170 sha256=904c1ae04b607ca65b58e1311d97705fd85c13fd71fde4703a2a6f401e93f97d\n",
            "  Stored in directory: /root/.cache/pip/wheels/84/07/f7/12f7370ca47a66030c2edeedcc23dec26ea0ac22dcb4c4a0f3\n",
            "  Building wheel for gpustat (setup.py) ... \u001b[?25l\u001b[?25hdone\n",
            "  Created wheel for gpustat: filename=gpustat-0.6.0-cp37-none-any.whl size=12621 sha256=d5fe08579ffc73f22a540a21ffddd006d854c1c96bc38b926b63814d94740063\n",
            "  Stored in directory: /root/.cache/pip/wheels/48/b4/d5/fb5b7f1d040f2ff20687e3bad6867d63155dbde5a7c10f4293\n",
            "  Building wheel for autograd-gamma (setup.py) ... \u001b[?25l\u001b[?25hdone\n",
            "  Created wheel for autograd-gamma: filename=autograd_gamma-0.5.0-cp37-none-any.whl size=4050 sha256=f15b2e58f185cf03dd318ef533aaba2869aeb97128adb904ab1b8ff7b55daf13\n",
            "  Stored in directory: /root/.cache/pip/wheels/dc/68/dc/91321c55fba449755524481854f5be70d41912b8f886f908bb\n",
            "  Building wheel for pyperclip (setup.py) ... \u001b[?25l\u001b[?25hdone\n",
            "  Created wheel for pyperclip: filename=pyperclip-1.8.2-cp37-none-any.whl size=11136 sha256=7b21c0dd72759383d1971839286c348af2eb9de37590e76e3a5957e5579ebd4f\n",
            "  Stored in directory: /root/.cache/pip/wheels/25/af/b8/3407109267803f4015e1ee2ff23be0c8c19ce4008665931ee1\n",
            "Successfully built shap umap-learn pyod pynndescent phik htmlmin prometheus-flask-exporter databricks-cli alembic gpustat autograd-gamma pyperclip\n",
            "\u001b[31mERROR: pandas-profiling 3.0.0 has requirement tqdm>=4.48.2, but you'll have tqdm 4.41.1 which is incompatible.\u001b[0m\n",
            "\u001b[31mERROR: google-colab 1.0.0 has requirement requests~=2.23.0, but you'll have requests 2.25.1 which is incompatible.\u001b[0m\n",
            "\u001b[31mERROR: datascience 0.10.6 has requirement folium==0.2.1, but you'll have folium 0.8.3 which is incompatible.\u001b[0m\n",
            "\u001b[31mERROR: phik 0.11.2 has requirement scipy>=1.5.2, but you'll have scipy 1.4.1 which is incompatible.\u001b[0m\n",
            "\u001b[31mERROR: pyldavis 3.3.1 has requirement numpy>=1.20.0, but you'll have numpy 1.19.5 which is incompatible.\u001b[0m\n",
            "\u001b[31mERROR: pyldavis 3.3.1 has requirement pandas>=1.2.0, but you'll have pandas 1.1.5 which is incompatible.\u001b[0m\n",
            "\u001b[31mERROR: ray 1.4.0 has requirement protobuf>=3.15.3, but you'll have protobuf 3.12.4 which is incompatible.\u001b[0m\n",
            "\u001b[31mERROR: botocore 1.20.102 has requirement urllib3<1.27,>=1.25.4, but you'll have urllib3 1.24.3 which is incompatible.\u001b[0m\n",
            "\u001b[31mERROR: awscli 1.19.102 has requirement colorama<0.4.4,>=0.2.5, but you'll have colorama 0.4.4 which is incompatible.\u001b[0m\n",
            "Installing collected packages: threadpoolctl, scikit-learn, pynndescent, umap-learn, kmodes, pyod, PyYAML, requests, tangled-up-in-unicode, multimethod, imagehash, visions, phik, htmlmin, pydantic, pandas-profiling, funcy, pyLDAvis, lightgbm, Boruta, imbalanced-learn, yellowbrick, scikit-plot, websocket-client, docker, gunicorn, prometheus-flask-exporter, smmap, gitdb, gitpython, querystring-parser, databricks-cli, Mako, python-editor, alembic, mlflow, mlxtend, colorama, py-spy, blessings, gpustat, multidict, async-timeout, yarl, aiohttp, aiohttp-cors, opencensus-context, opencensus, redis, hiredis, aioredis, tensorboardX, ray, docutils, jmespath, botocore, s3transfer, awscli, slicer, shap, isodate, msrest, cryptography, azure-core, azure-storage-blob, pyaml, scikit-optimize, tune-sklearn, cmaes, pyperclip, cmd2, pbr, stevedore, cliff, colorlog, optuna, xgboost, catboost, pycaret, autograd-gamma, interface-meta, formulaic, lifelines, ngboost\n",
            "  Found existing installation: scikit-learn 0.22.2.post1\n",
            "    Uninstalling scikit-learn-0.22.2.post1:\n",
            "      Successfully uninstalled scikit-learn-0.22.2.post1\n",
            "  Found existing installation: PyYAML 3.13\n",
            "    Uninstalling PyYAML-3.13:\n",
            "      Successfully uninstalled PyYAML-3.13\n",
            "  Found existing installation: requests 2.23.0\n",
            "    Uninstalling requests-2.23.0:\n",
            "      Successfully uninstalled requests-2.23.0\n",
            "  Found existing installation: pandas-profiling 1.4.1\n",
            "    Uninstalling pandas-profiling-1.4.1:\n",
            "      Successfully uninstalled pandas-profiling-1.4.1\n",
            "  Found existing installation: lightgbm 2.2.3\n",
            "    Uninstalling lightgbm-2.2.3:\n",
            "      Successfully uninstalled lightgbm-2.2.3\n",
            "  Found existing installation: imbalanced-learn 0.4.3\n",
            "    Uninstalling imbalanced-learn-0.4.3:\n",
            "      Successfully uninstalled imbalanced-learn-0.4.3\n",
            "  Found existing installation: yellowbrick 0.9.1\n",
            "    Uninstalling yellowbrick-0.9.1:\n",
            "      Successfully uninstalled yellowbrick-0.9.1\n",
            "  Found existing installation: mlxtend 0.14.0\n",
            "    Uninstalling mlxtend-0.14.0:\n",
            "      Successfully uninstalled mlxtend-0.14.0\n",
            "  Found existing installation: docutils 0.17.1\n",
            "    Uninstalling docutils-0.17.1:\n",
            "      Successfully uninstalled docutils-0.17.1\n",
            "  Found existing installation: xgboost 0.90\n",
            "    Uninstalling xgboost-0.90:\n",
            "      Successfully uninstalled xgboost-0.90\n",
            "Successfully installed Boruta-0.3 Mako-1.1.4 PyYAML-5.4.1 aiohttp-3.7.4.post0 aiohttp-cors-0.7.0 aioredis-1.3.1 alembic-1.4.1 async-timeout-3.0.1 autograd-gamma-0.5.0 awscli-1.19.102 azure-core-1.15.0 azure-storage-blob-12.8.1 blessings-1.7 botocore-1.20.102 catboost-0.26 cliff-3.8.0 cmaes-0.8.2 cmd2-2.1.1 colorama-0.4.4 colorlog-5.0.1 cryptography-3.4.7 databricks-cli-0.14.3 docker-5.0.0 docutils-0.15.2 formulaic-0.2.3 funcy-1.16 gitdb-4.0.7 gitpython-3.1.18 gpustat-0.6.0 gunicorn-20.1.0 hiredis-2.0.0 htmlmin-0.1.12 imagehash-4.2.0 imbalanced-learn-0.7.0 interface-meta-1.2.3 isodate-0.6.0 jmespath-0.10.0 kmodes-0.11.0 lifelines-0.26.0 lightgbm-3.2.1 mlflow-1.18.0 mlxtend-0.18.0 msrest-0.6.21 multidict-5.1.0 multimethod-1.4 ngboost-0.3.11 opencensus-0.7.13 opencensus-context-0.1.2 optuna-2.8.0 pandas-profiling-3.0.0 pbr-5.6.0 phik-0.11.2 prometheus-flask-exporter-0.18.2 py-spy-0.3.7 pyLDAvis-3.3.1 pyaml-20.4.0 pycaret-2.3.1 pydantic-1.8.2 pynndescent-0.5.2 pyod-0.8.9 pyperclip-1.8.2 python-editor-1.0.4 querystring-parser-1.2.4 ray-1.4.0 redis-3.5.3 requests-2.25.1 s3transfer-0.4.2 scikit-learn-0.23.2 scikit-optimize-0.8.1 scikit-plot-0.3.7 shap-0.39.0 slicer-0.0.7 smmap-4.0.0 stevedore-3.3.0 tangled-up-in-unicode-0.1.0 tensorboardX-2.3 threadpoolctl-2.1.0 tune-sklearn-0.3.0 umap-learn-0.5.1 visions-0.7.1 websocket-client-1.1.0 xgboost-1.4.2 yarl-1.6.3 yellowbrick-1.3.post1\n"
          ],
          "name": "stdout"
        },
        {
          "output_type": "display_data",
          "data": {
            "application/vnd.colab-display-data+json": {
              "pip_warning": {
                "packages": [
                  "requests"
                ]
              }
            }
          },
          "metadata": {
            "tags": []
          }
        }
      ]
    },
    {
      "cell_type": "code",
      "metadata": {
        "id": "akfnwsJXO8Eq",
        "colab": {
          "base_uri": "https://localhost:8080/"
        },
        "outputId": "3ba212d6-ec2f-41a1-eb78-4186c63dde67"
      },
      "source": [
        "train_agg.columns"
      ],
      "execution_count": null,
      "outputs": [
        {
          "output_type": "execute_result",
          "data": {
            "text/plain": [
              "Index(['총세대수', '지역', '공가수', '도보 10분거리 내 지하철역 수(환승노선 수 반영)',\n",
              "       '도보 10분거리 내 버스정류장 수', '단지내주차면수', '등록차량수', '임대건물구분_상가', '임대건물구분_아파트',\n",
              "       '공급유형_공공임대(50년)', '공급유형_공공임대(5년/10년/분납/분양)', '공급유형_국민임대/장기전세',\n",
              "       '공급유형_영구임대', '공급유형_임대상가', '공급유형_행복주택', '자격유형_A', '자격유형_D',\n",
              "       '자격유형_국민임대/장기전세_공급대상', '자격유형_영구임대_공급대상', '자격유형_행복주택_공급대상',\n",
              "       '지역별차량등록대수(연령분포고려)', '단지코드내차량등록대수'],\n",
              "      dtype='object')"
            ]
          },
          "metadata": {
            "tags": []
          },
          "execution_count": 183
        }
      ]
    },
    {
      "cell_type": "code",
      "metadata": {
        "colab": {
          "base_uri": "https://localhost:8080/",
          "height": 818,
          "referenced_widgets": [
            "b2ea33c6e3e54b6fa05f51c741e38551",
            "2282278be9594d88b6dea15cbd1cc1ce",
            "3a6f2533e6f441af940d1fe12f93091b",
            "ffe2f6e15412442d931b063816768eb2",
            "31887d8e579345be987e3c136b343369",
            "fc5d5ce2f24b4f8b8ad1f9eb5f2ee53f",
            "00b1f1b3fd3744e8b54a40df1ab531c9",
            "6eb01058b6dc4235a739144ec57d0337",
            "14bbeeee61814eabb4d9cae99063c3eb"
          ]
        },
        "id": "yL9xwoF7yO9F",
        "outputId": "25f46cd4-0daa-4b5e-d948-1f7845dcb572"
      },
      "source": [
        "# Compare Models\n",
        "from pycaret.classification import *\n",
        "from pycaret.regression import *\n",
        "from pycaret.utils import check_metric\n",
        "\n",
        "FEATS = ['총세대수', '지역', '공가수', '도보 10분거리 내 지하철역 수(환승노선 수 반영)',\n",
        "       '도보 10분거리 내 버스정류장 수', '단지내주차면수', '등록차량수', '임대건물구분_상가', '임대건물구분_아파트',\n",
        "       '공급유형_공공임대(50년)', '공급유형_공공임대(5년/10년/분납/분양)', '공급유형_국민임대/장기전세',\n",
        "       '공급유형_영구임대', '공급유형_임대상가', '공급유형_행복주택', '자격유형_A', '자격유형_D',\n",
        "       '자격유형_국민임대/장기전세_공급대상', '자격유형_영구임대_공급대상', '자격유형_행복주택_공급대상',\n",
        "       '지역별차량등록대수(연령분포고려)', '단지코드내차량등록대수']\n",
        "# categorical_features = ['지역']\n",
        "# numeric_features = [c for c in FEATS if c not in [target_col]+categorical_features]\n",
        "categorical_features = []\n",
        "numeric_features = []\n",
        "\n",
        "reg1 = setup(data = train_agg[FEATS], \n",
        "             train_size=0.9,  \n",
        "             target = '등록차량수', \n",
        "             session_id=seed,\n",
        "             categorical_features = categorical_features,\n",
        "             numeric_features = numeric_features ,             \n",
        "             )\n",
        "top5 = compare_models(n_select = 5, sort = 'MAE')\n",
        "print('\\n'.join([str(t) for t in top5]))\n",
        "df_top_by_comparing = pull()"
      ],
      "execution_count": null,
      "outputs": [
        {
          "output_type": "display_data",
          "data": {
            "text/html": [
              "<div>\n",
              "<style scoped>\n",
              "    .dataframe tbody tr th:only-of-type {\n",
              "        vertical-align: middle;\n",
              "    }\n",
              "\n",
              "    .dataframe tbody tr th {\n",
              "        vertical-align: top;\n",
              "    }\n",
              "\n",
              "    .dataframe thead th {\n",
              "        text-align: right;\n",
              "    }\n",
              "</style>\n",
              "<table border=\"1\" class=\"dataframe\">\n",
              "  <thead>\n",
              "    <tr style=\"text-align: right;\">\n",
              "      <th></th>\n",
              "      <th>Model</th>\n",
              "      <th>MAE</th>\n",
              "      <th>MSE</th>\n",
              "      <th>RMSE</th>\n",
              "      <th>R2</th>\n",
              "      <th>RMSLE</th>\n",
              "      <th>MAPE</th>\n",
              "      <th>TT (Sec)</th>\n",
              "    </tr>\n",
              "  </thead>\n",
              "  <tbody>\n",
              "    <tr>\n",
              "      <th>lasso</th>\n",
              "      <td>Lasso Regression</td>\n",
              "      <td>126.0136</td>\n",
              "      <td>3.176651e+04</td>\n",
              "      <td>176.2453</td>\n",
              "      <td>0.7695</td>\n",
              "      <td>0.4267</td>\n",
              "      <td>0.3765</td>\n",
              "      <td>0.018</td>\n",
              "    </tr>\n",
              "    <tr>\n",
              "      <th>ridge</th>\n",
              "      <td>Ridge Regression</td>\n",
              "      <td>127.3502</td>\n",
              "      <td>3.219914e+04</td>\n",
              "      <td>177.4537</td>\n",
              "      <td>0.7674</td>\n",
              "      <td>0.4749</td>\n",
              "      <td>0.3970</td>\n",
              "      <td>0.014</td>\n",
              "    </tr>\n",
              "    <tr>\n",
              "      <th>llar</th>\n",
              "      <td>Lasso Least Angle Regression</td>\n",
              "      <td>127.3556</td>\n",
              "      <td>3.325250e+04</td>\n",
              "      <td>180.3429</td>\n",
              "      <td>0.7584</td>\n",
              "      <td>0.4069</td>\n",
              "      <td>0.3863</td>\n",
              "      <td>0.018</td>\n",
              "    </tr>\n",
              "    <tr>\n",
              "      <th>lr</th>\n",
              "      <td>Linear Regression</td>\n",
              "      <td>128.4673</td>\n",
              "      <td>3.288001e+04</td>\n",
              "      <td>179.3238</td>\n",
              "      <td>0.7619</td>\n",
              "      <td>0.4853</td>\n",
              "      <td>0.4025</td>\n",
              "      <td>0.015</td>\n",
              "    </tr>\n",
              "    <tr>\n",
              "      <th>catboost</th>\n",
              "      <td>CatBoost Regressor</td>\n",
              "      <td>130.7232</td>\n",
              "      <td>3.736707e+04</td>\n",
              "      <td>189.9629</td>\n",
              "      <td>0.7393</td>\n",
              "      <td>0.4029</td>\n",
              "      <td>0.3593</td>\n",
              "      <td>2.294</td>\n",
              "    </tr>\n",
              "    <tr>\n",
              "      <th>gbr</th>\n",
              "      <td>Gradient Boosting Regressor</td>\n",
              "      <td>131.4920</td>\n",
              "      <td>3.588848e+04</td>\n",
              "      <td>186.4765</td>\n",
              "      <td>0.7421</td>\n",
              "      <td>0.4146</td>\n",
              "      <td>0.3639</td>\n",
              "      <td>0.085</td>\n",
              "    </tr>\n",
              "    <tr>\n",
              "      <th>omp</th>\n",
              "      <td>Orthogonal Matching Pursuit</td>\n",
              "      <td>132.4994</td>\n",
              "      <td>3.368691e+04</td>\n",
              "      <td>181.7300</td>\n",
              "      <td>0.7541</td>\n",
              "      <td>0.4153</td>\n",
              "      <td>0.3912</td>\n",
              "      <td>0.016</td>\n",
              "    </tr>\n",
              "    <tr>\n",
              "      <th>rf</th>\n",
              "      <td>Random Forest Regressor</td>\n",
              "      <td>132.6098</td>\n",
              "      <td>3.743328e+04</td>\n",
              "      <td>189.8867</td>\n",
              "      <td>0.7357</td>\n",
              "      <td>0.3845</td>\n",
              "      <td>0.3492</td>\n",
              "      <td>0.527</td>\n",
              "    </tr>\n",
              "    <tr>\n",
              "      <th>lightgbm</th>\n",
              "      <td>Light Gradient Boosting Machine</td>\n",
              "      <td>133.3367</td>\n",
              "      <td>3.818191e+04</td>\n",
              "      <td>191.5537</td>\n",
              "      <td>0.7278</td>\n",
              "      <td>0.4009</td>\n",
              "      <td>0.3523</td>\n",
              "      <td>0.036</td>\n",
              "    </tr>\n",
              "    <tr>\n",
              "      <th>en</th>\n",
              "      <td>Elastic Net</td>\n",
              "      <td>133.4587</td>\n",
              "      <td>3.610493e+04</td>\n",
              "      <td>187.2142</td>\n",
              "      <td>0.7415</td>\n",
              "      <td>0.4727</td>\n",
              "      <td>0.4081</td>\n",
              "      <td>0.016</td>\n",
              "    </tr>\n",
              "    <tr>\n",
              "      <th>et</th>\n",
              "      <td>Extra Trees Regressor</td>\n",
              "      <td>136.4352</td>\n",
              "      <td>3.908959e+04</td>\n",
              "      <td>195.2505</td>\n",
              "      <td>0.7180</td>\n",
              "      <td>0.3898</td>\n",
              "      <td>0.3539</td>\n",
              "      <td>0.450</td>\n",
              "    </tr>\n",
              "    <tr>\n",
              "      <th>br</th>\n",
              "      <td>Bayesian Ridge</td>\n",
              "      <td>138.3130</td>\n",
              "      <td>3.855778e+04</td>\n",
              "      <td>193.4891</td>\n",
              "      <td>0.7232</td>\n",
              "      <td>0.4868</td>\n",
              "      <td>0.4265</td>\n",
              "      <td>0.017</td>\n",
              "    </tr>\n",
              "    <tr>\n",
              "      <th>huber</th>\n",
              "      <td>Huber Regressor</td>\n",
              "      <td>138.4278</td>\n",
              "      <td>3.859462e+04</td>\n",
              "      <td>194.1467</td>\n",
              "      <td>0.7207</td>\n",
              "      <td>0.4336</td>\n",
              "      <td>0.3970</td>\n",
              "      <td>0.051</td>\n",
              "    </tr>\n",
              "    <tr>\n",
              "      <th>xgboost</th>\n",
              "      <td>Extreme Gradient Boosting</td>\n",
              "      <td>146.0710</td>\n",
              "      <td>4.456943e+04</td>\n",
              "      <td>207.3089</td>\n",
              "      <td>0.6864</td>\n",
              "      <td>0.4132</td>\n",
              "      <td>0.3629</td>\n",
              "      <td>5.579</td>\n",
              "    </tr>\n",
              "    <tr>\n",
              "      <th>ada</th>\n",
              "      <td>AdaBoost Regressor</td>\n",
              "      <td>151.3318</td>\n",
              "      <td>4.253550e+04</td>\n",
              "      <td>203.8125</td>\n",
              "      <td>0.6968</td>\n",
              "      <td>0.5421</td>\n",
              "      <td>0.6430</td>\n",
              "      <td>0.103</td>\n",
              "    </tr>\n",
              "    <tr>\n",
              "      <th>knn</th>\n",
              "      <td>K Neighbors Regressor</td>\n",
              "      <td>159.9621</td>\n",
              "      <td>5.441465e+04</td>\n",
              "      <td>231.0207</td>\n",
              "      <td>0.6130</td>\n",
              "      <td>0.4841</td>\n",
              "      <td>0.5021</td>\n",
              "      <td>0.064</td>\n",
              "    </tr>\n",
              "    <tr>\n",
              "      <th>dt</th>\n",
              "      <td>Decision Tree Regressor</td>\n",
              "      <td>182.3526</td>\n",
              "      <td>6.926623e+04</td>\n",
              "      <td>260.6347</td>\n",
              "      <td>0.4840</td>\n",
              "      <td>0.5080</td>\n",
              "      <td>0.4373</td>\n",
              "      <td>0.018</td>\n",
              "    </tr>\n",
              "    <tr>\n",
              "      <th>par</th>\n",
              "      <td>Passive Aggressive Regressor</td>\n",
              "      <td>193.7240</td>\n",
              "      <td>6.880453e+04</td>\n",
              "      <td>257.6609</td>\n",
              "      <td>0.5140</td>\n",
              "      <td>0.5500</td>\n",
              "      <td>0.5647</td>\n",
              "      <td>0.016</td>\n",
              "    </tr>\n",
              "    <tr>\n",
              "      <th>lar</th>\n",
              "      <td>Least Angle Regression</td>\n",
              "      <td>373.2301</td>\n",
              "      <td>1.722026e+06</td>\n",
              "      <td>703.8552</td>\n",
              "      <td>-18.2365</td>\n",
              "      <td>0.6976</td>\n",
              "      <td>1.4788</td>\n",
              "      <td>0.022</td>\n",
              "    </tr>\n",
              "  </tbody>\n",
              "</table>\n",
              "</div>"
            ],
            "text/plain": [
              "                                    Model       MAE           MSE      RMSE  \\\n",
              "lasso                    Lasso Regression  126.0136  3.176651e+04  176.2453   \n",
              "ridge                    Ridge Regression  127.3502  3.219914e+04  177.4537   \n",
              "llar         Lasso Least Angle Regression  127.3556  3.325250e+04  180.3429   \n",
              "lr                      Linear Regression  128.4673  3.288001e+04  179.3238   \n",
              "catboost               CatBoost Regressor  130.7232  3.736707e+04  189.9629   \n",
              "gbr           Gradient Boosting Regressor  131.4920  3.588848e+04  186.4765   \n",
              "omp           Orthogonal Matching Pursuit  132.4994  3.368691e+04  181.7300   \n",
              "rf                Random Forest Regressor  132.6098  3.743328e+04  189.8867   \n",
              "lightgbm  Light Gradient Boosting Machine  133.3367  3.818191e+04  191.5537   \n",
              "en                            Elastic Net  133.4587  3.610493e+04  187.2142   \n",
              "et                  Extra Trees Regressor  136.4352  3.908959e+04  195.2505   \n",
              "br                         Bayesian Ridge  138.3130  3.855778e+04  193.4891   \n",
              "huber                     Huber Regressor  138.4278  3.859462e+04  194.1467   \n",
              "xgboost         Extreme Gradient Boosting  146.0710  4.456943e+04  207.3089   \n",
              "ada                    AdaBoost Regressor  151.3318  4.253550e+04  203.8125   \n",
              "knn                 K Neighbors Regressor  159.9621  5.441465e+04  231.0207   \n",
              "dt                Decision Tree Regressor  182.3526  6.926623e+04  260.6347   \n",
              "par          Passive Aggressive Regressor  193.7240  6.880453e+04  257.6609   \n",
              "lar                Least Angle Regression  373.2301  1.722026e+06  703.8552   \n",
              "\n",
              "               R2   RMSLE    MAPE  TT (Sec)  \n",
              "lasso      0.7695  0.4267  0.3765     0.018  \n",
              "ridge      0.7674  0.4749  0.3970     0.014  \n",
              "llar       0.7584  0.4069  0.3863     0.018  \n",
              "lr         0.7619  0.4853  0.4025     0.015  \n",
              "catboost   0.7393  0.4029  0.3593     2.294  \n",
              "gbr        0.7421  0.4146  0.3639     0.085  \n",
              "omp        0.7541  0.4153  0.3912     0.016  \n",
              "rf         0.7357  0.3845  0.3492     0.527  \n",
              "lightgbm   0.7278  0.4009  0.3523     0.036  \n",
              "en         0.7415  0.4727  0.4081     0.016  \n",
              "et         0.7180  0.3898  0.3539     0.450  \n",
              "br         0.7232  0.4868  0.4265     0.017  \n",
              "huber      0.7207  0.4336  0.3970     0.051  \n",
              "xgboost    0.6864  0.4132  0.3629     5.579  \n",
              "ada        0.6968  0.5421  0.6430     0.103  \n",
              "knn        0.6130  0.4841  0.5021     0.064  \n",
              "dt         0.4840  0.5080  0.4373     0.018  \n",
              "par        0.5140  0.5500  0.5647     0.016  \n",
              "lar      -18.2365  0.6976  1.4788     0.022  "
            ]
          },
          "metadata": {
            "tags": []
          }
        },
        {
          "output_type": "stream",
          "text": [
            "Lasso(alpha=1.0, copy_X=True, fit_intercept=True, max_iter=1000,\n",
            "      normalize=False, positive=False, precompute=False, random_state=47,\n",
            "      selection='cyclic', tol=0.0001, warm_start=False)\n",
            "Ridge(alpha=1.0, copy_X=True, fit_intercept=True, max_iter=None,\n",
            "      normalize=False, random_state=47, solver='auto', tol=0.001)\n",
            "LassoLars(alpha=1.0, copy_X=True, eps=2.220446049250313e-16, fit_intercept=True,\n",
            "          fit_path=True, jitter=None, max_iter=500, normalize=True,\n",
            "          positive=False, precompute='auto', random_state=47, verbose=False)\n",
            "LinearRegression(copy_X=True, fit_intercept=True, n_jobs=-1, normalize=False)\n",
            "<catboost.core.CatBoostRegressor object at 0x7f284889bc50>\n"
          ],
          "name": "stdout"
        }
      ]
    },
    {
      "cell_type": "code",
      "metadata": {
        "colab": {
          "base_uri": "https://localhost:8080/",
          "height": 892,
          "referenced_widgets": [
            "59ec778d15fd483ab23277ab9ab411f2",
            "ef21de98c0d54b9f88190ba5f36cd2e5",
            "651259f98b8e4b7bace47f05cc559260",
            "900235b2a4ee4e5ab8bd259312a158a6",
            "8d09acbeb31a43a7ab3668146a50d067",
            "0d87cca3351e4426a8e123ab1ff3398b",
            "719a5cc3e66b498aba2fc1f5016a6869",
            "beae6121a4f341cfbf9a10ee1cc4d898",
            "3ad8f6a9a6254ca48619efc560517778"
          ]
        },
        "id": "BLMtC6kHOuov",
        "outputId": "6243f8af-0978-4e34-c21d-8cea3d21cc7f"
      },
      "source": [
        "# Compare Models\n",
        "from pycaret.classification import *\n",
        "from pycaret.regression import *\n",
        "from pycaret.utils import check_metric\n",
        "\n",
        "FEATS = ['총세대수', '지역', '공가수', '도보 10분거리 내 지하철역 수(환승노선 수 반영)',\n",
        "       '도보 10분거리 내 버스정류장 수', '단지내주차면수', '등록차량수', '임대건물구분_상가', '임대건물구분_아파트',\n",
        "       '공급유형_공공임대(50년)', '공급유형_공공임대(5년/10년/분납/분양)', '공급유형_국민임대/장기전세',\n",
        "       '공급유형_영구임대', '공급유형_임대상가', '공급유형_행복주택', '자격유형_A', '자격유형_D',\n",
        "       '자격유형_국민임대/장기전세_공급대상', '자격유형_영구임대_공급대상', '자격유형_행복주택_공급대상']\n",
        "\n",
        "categorical_features = []\n",
        "numeric_features = []\n",
        "\n",
        "reg1 = setup(data = train_agg[FEATS], \n",
        "             train_size=0.9,  \n",
        "             target = '등록차량수', \n",
        "             session_id=seed,\n",
        "             categorical_features = categorical_features,\n",
        "             numeric_features = numeric_features ,             \n",
        "             )\n",
        "top5 = compare_models(n_select = 5, sort = 'MAE')\n",
        "print('\\n'.join([str(t) for t in top5]))\n",
        "df_top_by_comparing = pull()"
      ],
      "execution_count": null,
      "outputs": [
        {
          "output_type": "display_data",
          "data": {
            "text/html": [
              "<div>\n",
              "<style scoped>\n",
              "    .dataframe tbody tr th:only-of-type {\n",
              "        vertical-align: middle;\n",
              "    }\n",
              "\n",
              "    .dataframe tbody tr th {\n",
              "        vertical-align: top;\n",
              "    }\n",
              "\n",
              "    .dataframe thead th {\n",
              "        text-align: right;\n",
              "    }\n",
              "</style>\n",
              "<table border=\"1\" class=\"dataframe\">\n",
              "  <thead>\n",
              "    <tr style=\"text-align: right;\">\n",
              "      <th></th>\n",
              "      <th>Model</th>\n",
              "      <th>MAE</th>\n",
              "      <th>MSE</th>\n",
              "      <th>RMSE</th>\n",
              "      <th>R2</th>\n",
              "      <th>RMSLE</th>\n",
              "      <th>MAPE</th>\n",
              "      <th>TT (Sec)</th>\n",
              "    </tr>\n",
              "  </thead>\n",
              "  <tbody>\n",
              "    <tr>\n",
              "      <th>br</th>\n",
              "      <td>Bayesian Ridge</td>\n",
              "      <td>125.8689</td>\n",
              "      <td>3.145419e+04</td>\n",
              "      <td>175.2943</td>\n",
              "      <td>0.7731</td>\n",
              "      <td>0.4452</td>\n",
              "      <td>0.3831</td>\n",
              "      <td>0.016</td>\n",
              "    </tr>\n",
              "    <tr>\n",
              "      <th>lasso</th>\n",
              "      <td>Lasso Regression</td>\n",
              "      <td>126.4382</td>\n",
              "      <td>3.174636e+04</td>\n",
              "      <td>176.1957</td>\n",
              "      <td>0.7695</td>\n",
              "      <td>0.4218</td>\n",
              "      <td>0.3778</td>\n",
              "      <td>0.015</td>\n",
              "    </tr>\n",
              "    <tr>\n",
              "      <th>ridge</th>\n",
              "      <td>Ridge Regression</td>\n",
              "      <td>127.3426</td>\n",
              "      <td>3.202328e+04</td>\n",
              "      <td>176.9684</td>\n",
              "      <td>0.7679</td>\n",
              "      <td>0.4765</td>\n",
              "      <td>0.4024</td>\n",
              "      <td>0.014</td>\n",
              "    </tr>\n",
              "    <tr>\n",
              "      <th>llar</th>\n",
              "      <td>Lasso Least Angle Regression</td>\n",
              "      <td>127.3522</td>\n",
              "      <td>3.325125e+04</td>\n",
              "      <td>180.3386</td>\n",
              "      <td>0.7584</td>\n",
              "      <td>0.4069</td>\n",
              "      <td>0.3862</td>\n",
              "      <td>0.016</td>\n",
              "    </tr>\n",
              "    <tr>\n",
              "      <th>huber</th>\n",
              "      <td>Huber Regressor</td>\n",
              "      <td>128.4279</td>\n",
              "      <td>3.433354e+04</td>\n",
              "      <td>182.9095</td>\n",
              "      <td>0.7548</td>\n",
              "      <td>0.4224</td>\n",
              "      <td>0.3590</td>\n",
              "      <td>0.044</td>\n",
              "    </tr>\n",
              "    <tr>\n",
              "      <th>lr</th>\n",
              "      <td>Linear Regression</td>\n",
              "      <td>128.9851</td>\n",
              "      <td>3.290567e+04</td>\n",
              "      <td>179.2391</td>\n",
              "      <td>0.7606</td>\n",
              "      <td>0.4671</td>\n",
              "      <td>0.4104</td>\n",
              "      <td>0.292</td>\n",
              "    </tr>\n",
              "    <tr>\n",
              "      <th>en</th>\n",
              "      <td>Elastic Net</td>\n",
              "      <td>132.3368</td>\n",
              "      <td>3.561246e+04</td>\n",
              "      <td>185.9203</td>\n",
              "      <td>0.7447</td>\n",
              "      <td>0.4712</td>\n",
              "      <td>0.4071</td>\n",
              "      <td>0.016</td>\n",
              "    </tr>\n",
              "    <tr>\n",
              "      <th>omp</th>\n",
              "      <td>Orthogonal Matching Pursuit</td>\n",
              "      <td>132.4994</td>\n",
              "      <td>3.368691e+04</td>\n",
              "      <td>181.7300</td>\n",
              "      <td>0.7541</td>\n",
              "      <td>0.4153</td>\n",
              "      <td>0.3912</td>\n",
              "      <td>0.015</td>\n",
              "    </tr>\n",
              "    <tr>\n",
              "      <th>catboost</th>\n",
              "      <td>CatBoost Regressor</td>\n",
              "      <td>132.7945</td>\n",
              "      <td>3.694632e+04</td>\n",
              "      <td>190.0083</td>\n",
              "      <td>0.7392</td>\n",
              "      <td>0.4040</td>\n",
              "      <td>0.3664</td>\n",
              "      <td>2.007</td>\n",
              "    </tr>\n",
              "    <tr>\n",
              "      <th>lightgbm</th>\n",
              "      <td>Light Gradient Boosting Machine</td>\n",
              "      <td>133.8985</td>\n",
              "      <td>3.831522e+04</td>\n",
              "      <td>192.8646</td>\n",
              "      <td>0.7243</td>\n",
              "      <td>0.4088</td>\n",
              "      <td>0.3632</td>\n",
              "      <td>0.081</td>\n",
              "    </tr>\n",
              "    <tr>\n",
              "      <th>gbr</th>\n",
              "      <td>Gradient Boosting Regressor</td>\n",
              "      <td>134.3470</td>\n",
              "      <td>3.700606e+04</td>\n",
              "      <td>190.0797</td>\n",
              "      <td>0.7336</td>\n",
              "      <td>0.4231</td>\n",
              "      <td>0.3579</td>\n",
              "      <td>0.070</td>\n",
              "    </tr>\n",
              "    <tr>\n",
              "      <th>rf</th>\n",
              "      <td>Random Forest Regressor</td>\n",
              "      <td>135.1976</td>\n",
              "      <td>3.839849e+04</td>\n",
              "      <td>193.3763</td>\n",
              "      <td>0.7255</td>\n",
              "      <td>0.3852</td>\n",
              "      <td>0.3489</td>\n",
              "      <td>0.496</td>\n",
              "    </tr>\n",
              "    <tr>\n",
              "      <th>et</th>\n",
              "      <td>Extra Trees Regressor</td>\n",
              "      <td>137.6322</td>\n",
              "      <td>3.950695e+04</td>\n",
              "      <td>196.6047</td>\n",
              "      <td>0.7160</td>\n",
              "      <td>0.3912</td>\n",
              "      <td>0.3565</td>\n",
              "      <td>0.449</td>\n",
              "    </tr>\n",
              "    <tr>\n",
              "      <th>xgboost</th>\n",
              "      <td>Extreme Gradient Boosting</td>\n",
              "      <td>147.9209</td>\n",
              "      <td>4.506527e+04</td>\n",
              "      <td>208.6484</td>\n",
              "      <td>0.6848</td>\n",
              "      <td>0.4214</td>\n",
              "      <td>0.3721</td>\n",
              "      <td>1.003</td>\n",
              "    </tr>\n",
              "    <tr>\n",
              "      <th>ada</th>\n",
              "      <td>AdaBoost Regressor</td>\n",
              "      <td>151.7161</td>\n",
              "      <td>4.298350e+04</td>\n",
              "      <td>205.7409</td>\n",
              "      <td>0.6906</td>\n",
              "      <td>0.5344</td>\n",
              "      <td>0.6185</td>\n",
              "      <td>0.089</td>\n",
              "    </tr>\n",
              "    <tr>\n",
              "      <th>knn</th>\n",
              "      <td>K Neighbors Regressor</td>\n",
              "      <td>154.4932</td>\n",
              "      <td>5.140862e+04</td>\n",
              "      <td>224.2644</td>\n",
              "      <td>0.6363</td>\n",
              "      <td>0.4222</td>\n",
              "      <td>0.3918</td>\n",
              "      <td>0.063</td>\n",
              "    </tr>\n",
              "    <tr>\n",
              "      <th>par</th>\n",
              "      <td>Passive Aggressive Regressor</td>\n",
              "      <td>179.1108</td>\n",
              "      <td>6.776005e+04</td>\n",
              "      <td>242.7797</td>\n",
              "      <td>0.4176</td>\n",
              "      <td>0.6093</td>\n",
              "      <td>0.4221</td>\n",
              "      <td>0.014</td>\n",
              "    </tr>\n",
              "    <tr>\n",
              "      <th>dt</th>\n",
              "      <td>Decision Tree Regressor</td>\n",
              "      <td>191.5053</td>\n",
              "      <td>7.272564e+04</td>\n",
              "      <td>267.3165</td>\n",
              "      <td>0.4727</td>\n",
              "      <td>0.5237</td>\n",
              "      <td>0.4536</td>\n",
              "      <td>0.020</td>\n",
              "    </tr>\n",
              "    <tr>\n",
              "      <th>lar</th>\n",
              "      <td>Least Angle Regression</td>\n",
              "      <td>976.2411</td>\n",
              "      <td>2.635929e+08</td>\n",
              "      <td>5319.0313</td>\n",
              "      <td>-2723.1744</td>\n",
              "      <td>0.5932</td>\n",
              "      <td>4.0759</td>\n",
              "      <td>0.020</td>\n",
              "    </tr>\n",
              "  </tbody>\n",
              "</table>\n",
              "</div>"
            ],
            "text/plain": [
              "                                    Model       MAE           MSE       RMSE  \\\n",
              "br                         Bayesian Ridge  125.8689  3.145419e+04   175.2943   \n",
              "lasso                    Lasso Regression  126.4382  3.174636e+04   176.1957   \n",
              "ridge                    Ridge Regression  127.3426  3.202328e+04   176.9684   \n",
              "llar         Lasso Least Angle Regression  127.3522  3.325125e+04   180.3386   \n",
              "huber                     Huber Regressor  128.4279  3.433354e+04   182.9095   \n",
              "lr                      Linear Regression  128.9851  3.290567e+04   179.2391   \n",
              "en                            Elastic Net  132.3368  3.561246e+04   185.9203   \n",
              "omp           Orthogonal Matching Pursuit  132.4994  3.368691e+04   181.7300   \n",
              "catboost               CatBoost Regressor  132.7945  3.694632e+04   190.0083   \n",
              "lightgbm  Light Gradient Boosting Machine  133.8985  3.831522e+04   192.8646   \n",
              "gbr           Gradient Boosting Regressor  134.3470  3.700606e+04   190.0797   \n",
              "rf                Random Forest Regressor  135.1976  3.839849e+04   193.3763   \n",
              "et                  Extra Trees Regressor  137.6322  3.950695e+04   196.6047   \n",
              "xgboost         Extreme Gradient Boosting  147.9209  4.506527e+04   208.6484   \n",
              "ada                    AdaBoost Regressor  151.7161  4.298350e+04   205.7409   \n",
              "knn                 K Neighbors Regressor  154.4932  5.140862e+04   224.2644   \n",
              "par          Passive Aggressive Regressor  179.1108  6.776005e+04   242.7797   \n",
              "dt                Decision Tree Regressor  191.5053  7.272564e+04   267.3165   \n",
              "lar                Least Angle Regression  976.2411  2.635929e+08  5319.0313   \n",
              "\n",
              "                 R2   RMSLE    MAPE  TT (Sec)  \n",
              "br           0.7731  0.4452  0.3831     0.016  \n",
              "lasso        0.7695  0.4218  0.3778     0.015  \n",
              "ridge        0.7679  0.4765  0.4024     0.014  \n",
              "llar         0.7584  0.4069  0.3862     0.016  \n",
              "huber        0.7548  0.4224  0.3590     0.044  \n",
              "lr           0.7606  0.4671  0.4104     0.292  \n",
              "en           0.7447  0.4712  0.4071     0.016  \n",
              "omp          0.7541  0.4153  0.3912     0.015  \n",
              "catboost     0.7392  0.4040  0.3664     2.007  \n",
              "lightgbm     0.7243  0.4088  0.3632     0.081  \n",
              "gbr          0.7336  0.4231  0.3579     0.070  \n",
              "rf           0.7255  0.3852  0.3489     0.496  \n",
              "et           0.7160  0.3912  0.3565     0.449  \n",
              "xgboost      0.6848  0.4214  0.3721     1.003  \n",
              "ada          0.6906  0.5344  0.6185     0.089  \n",
              "knn          0.6363  0.4222  0.3918     0.063  \n",
              "par          0.4176  0.6093  0.4221     0.014  \n",
              "dt           0.4727  0.5237  0.4536     0.020  \n",
              "lar      -2723.1744  0.5932  4.0759     0.020  "
            ]
          },
          "metadata": {
            "tags": []
          }
        },
        {
          "output_type": "stream",
          "text": [
            "BayesianRidge(alpha_1=1e-06, alpha_2=1e-06, alpha_init=None,\n",
            "              compute_score=False, copy_X=True, fit_intercept=True,\n",
            "              lambda_1=1e-06, lambda_2=1e-06, lambda_init=None, n_iter=300,\n",
            "              normalize=False, tol=0.001, verbose=False)\n",
            "Lasso(alpha=1.0, copy_X=True, fit_intercept=True, max_iter=1000,\n",
            "      normalize=False, positive=False, precompute=False, random_state=47,\n",
            "      selection='cyclic', tol=0.0001, warm_start=False)\n",
            "Ridge(alpha=1.0, copy_X=True, fit_intercept=True, max_iter=None,\n",
            "      normalize=False, random_state=47, solver='auto', tol=0.001)\n",
            "LassoLars(alpha=1.0, copy_X=True, eps=2.220446049250313e-16, fit_intercept=True,\n",
            "          fit_path=True, jitter=None, max_iter=500, normalize=True,\n",
            "          positive=False, precompute='auto', random_state=47, verbose=False)\n",
            "HuberRegressor(alpha=0.0001, epsilon=1.35, fit_intercept=True, max_iter=100,\n",
            "               tol=1e-05, warm_start=False)\n"
          ],
          "name": "stdout"
        }
      ]
    },
    {
      "cell_type": "code",
      "metadata": {
        "colab": {
          "base_uri": "https://localhost:8080/"
        },
        "id": "UZvqiVe9O3xh",
        "outputId": "1eb2ae0f-19ef-47ab-d84a-b5acc310e9c3"
      },
      "source": [
        "# df_top_by_comparing.to_csv('./output_pycaret/00_compare_models.csv',index=True)\n",
        "df_top_by_comparing.index"
      ],
      "execution_count": null,
      "outputs": [
        {
          "output_type": "execute_result",
          "data": {
            "text/plain": [
              "Index(['lasso', 'ridge', 'llar', 'lr', 'catboost', 'gbr', 'omp', 'rf',\n",
              "       'lightgbm', 'en', 'et', 'br', 'huber', 'xgboost', 'ada', 'knn', 'dt',\n",
              "       'par', 'lar'],\n",
              "      dtype='object')"
            ]
          },
          "metadata": {
            "tags": []
          },
          "execution_count": 188
        }
      ]
    },
    {
      "cell_type": "code",
      "metadata": {
        "colab": {
          "base_uri": "https://localhost:8080/"
        },
        "id": "nhxnh14sQEtX",
        "outputId": "2d48b692-7988-4649-ff49-f88b565322b2"
      },
      "source": [
        "# 모델들, grid score df, plot 등이 모두 저장되는 상위경로\n",
        "now_time = datetime.now(timezone(timedelta(hours=9))).strftime('%m%d_%H%M')\n",
        "experiment_name = '_' + 'LB111수정_lasso_외부데이터활용_단지코드별&지역별차량등록대수_변수추가'\n",
        "\n",
        "now_time += experiment_name\n",
        "\n",
        "upper_dir_of_pycaret = f'/content/drive/MyDrive/dacon_parking_data/output_pycaret/{now_time}'\n",
        "print(f\"upper_dir_of_pycaret : {upper_dir_of_pycaret}\")\n",
        "\n",
        "fold=10\n",
        "# FEATS = [c for c in final_df.columns if c not in ['단지코드']]\n",
        "target_feature = '등록차량수'\n",
        "\n",
        "print(f'FEATS : {len(FEATS)}')\n",
        "print(f\"target : {target_feature}\")\n",
        "print(f'cat_features : {len(categorical_features)}')\n",
        "print(f'numeric_features : {len(numeric_features)}')"
      ],
      "execution_count": null,
      "outputs": [
        {
          "output_type": "stream",
          "text": [
            "upper_dir_of_pycaret : /content/drive/MyDrive/dacon_parking_data/output_pycaret/0630_0059_LB111수정_lasso_외부데이터활용_단지코드별&지역별차량등록대수_변수추가\n",
            "FEATS : 22\n",
            "target : 등록차량수\n",
            "cat_features : 0\n",
            "numeric_features : 0\n"
          ],
          "name": "stdout"
        }
      ]
    },
    {
      "cell_type": "code",
      "metadata": {
        "id": "nGGcez4GR4Ng"
      },
      "source": [
        "copy_train = train[['단지코드','등록차량수']].drop_duplicates().reset_index(drop=True)\n",
        "no_nan_danjicode_idxes = copy_train.loc[copy_train['단지코드'].isin(no_nan_danjicode),:].index"
      ],
      "execution_count": null,
      "outputs": []
    },
    {
      "cell_type": "code",
      "metadata": {
        "colab": {
          "base_uri": "https://localhost:8080/"
        },
        "id": "drhpQphGRXOs",
        "outputId": "3dfb2f8b-331b-4d34-b9e9-bfd4b389ccc1"
      },
      "source": [
        "holdout = train_agg[FEATS].iloc[no_nan_danjicode_idxes]\n",
        "holdout.shape"
      ],
      "execution_count": null,
      "outputs": [
        {
          "output_type": "execute_result",
          "data": {
            "text/plain": [
              "(378, 22)"
            ]
          },
          "metadata": {
            "tags": []
          },
          "execution_count": 192
        }
      ]
    },
    {
      "cell_type": "markdown",
      "metadata": {
        "id": "3uLp5yziPQJO"
      },
      "source": [
        "# Training"
      ]
    },
    {
      "cell_type": "code",
      "metadata": {
        "id": "31G3JfUjOr9z"
      },
      "source": [
        "n_iter = 20"
      ],
      "execution_count": null,
      "outputs": []
    },
    {
      "cell_type": "code",
      "metadata": {
        "colab": {
          "base_uri": "https://localhost:8080/",
          "height": 1000,
          "referenced_widgets": [
            "fab8f28757a9447882652e2474345af0",
            "518e5cb6d90a4beaa6bc6a8b943f5c6b",
            "41b1376161354dc0b853163b8cef2cca",
            "e141c4c210fe4c598d03c4055b24de33",
            "e5bd8e4826d144ba982d6dee82a23623",
            "109fa51cc7bb4141a0215c14cf33a520"
          ]
        },
        "id": "9sMO4fEaPZtv",
        "outputId": "65567930-0e01-4177-f7a2-378aaec80512"
      },
      "source": [
        "settings = setup(\n",
        "                data=train_agg[FEATS], \n",
        "                target=target_feature, \n",
        "                train_size=0.95, \n",
        "                categorical_features = categorical_features,\n",
        "                numeric_features = numeric_features ,                        \n",
        "                data_split_shuffle = True, # True가 default\n",
        "                session_id = seed,\n",
        "                # fold_strategy = last_fold,\n",
        "                # experiment_name=experiment_name,\n",
        "                # log_experiment=False,   # compare_model 할 때에는 하이퍼파라미터가 어떻게 튜닝되었는지 볼 수 있어서 유용하다고 한다.\n",
        "                )\n",
        "\n",
        "# from ngboost import NGBClassifier\n",
        "# ngc = NGBClassifier()\n",
        "# ngboost = create_model(ngc)\n",
        "\n",
        "model_name_list=['lasso']   # 'et', 'catboost', 'rf', 'gbr', 'llar', 'omp', 'en', 'ada', 'br', 'lr', 'lasso', 'dt', 'ridge',\n",
        "ensemble_method = 'blend_models'  # 'blend_models', 'stack_models' ->  (Regression : 'create_stacknet'), (Classifier : 'stack_models'),\n",
        "meta_model_for_stack = 'xgboost' # If using stack_models"
      ],
      "execution_count": null,
      "outputs": [
        {
          "output_type": "display_data",
          "data": {
            "text/html": [
              "<div>\n",
              "<style scoped>\n",
              "    .dataframe tbody tr th:only-of-type {\n",
              "        vertical-align: middle;\n",
              "    }\n",
              "\n",
              "    .dataframe tbody tr th {\n",
              "        vertical-align: top;\n",
              "    }\n",
              "\n",
              "    .dataframe thead th {\n",
              "        text-align: right;\n",
              "    }\n",
              "</style>\n",
              "<table border=\"1\" class=\"dataframe\">\n",
              "  <thead>\n",
              "    <tr style=\"text-align: right;\">\n",
              "      <th></th>\n",
              "      <th>Description</th>\n",
              "      <th>Value</th>\n",
              "    </tr>\n",
              "  </thead>\n",
              "  <tbody>\n",
              "    <tr>\n",
              "      <th>0</th>\n",
              "      <td>session_id</td>\n",
              "      <td>47</td>\n",
              "    </tr>\n",
              "    <tr>\n",
              "      <th>1</th>\n",
              "      <td>Target</td>\n",
              "      <td>등록차량수</td>\n",
              "    </tr>\n",
              "    <tr>\n",
              "      <th>2</th>\n",
              "      <td>Original Data</td>\n",
              "      <td>(423, 22)</td>\n",
              "    </tr>\n",
              "    <tr>\n",
              "      <th>3</th>\n",
              "      <td>Missing Values</td>\n",
              "      <td>False</td>\n",
              "    </tr>\n",
              "    <tr>\n",
              "      <th>4</th>\n",
              "      <td>Numeric Features</td>\n",
              "      <td>8</td>\n",
              "    </tr>\n",
              "    <tr>\n",
              "      <th>5</th>\n",
              "      <td>Categorical Features</td>\n",
              "      <td>13</td>\n",
              "    </tr>\n",
              "    <tr>\n",
              "      <th>6</th>\n",
              "      <td>Ordinal Features</td>\n",
              "      <td>False</td>\n",
              "    </tr>\n",
              "    <tr>\n",
              "      <th>7</th>\n",
              "      <td>High Cardinality Features</td>\n",
              "      <td>False</td>\n",
              "    </tr>\n",
              "    <tr>\n",
              "      <th>8</th>\n",
              "      <td>High Cardinality Method</td>\n",
              "      <td>None</td>\n",
              "    </tr>\n",
              "    <tr>\n",
              "      <th>9</th>\n",
              "      <td>Transformed Train Set</td>\n",
              "      <td>(401, 33)</td>\n",
              "    </tr>\n",
              "    <tr>\n",
              "      <th>10</th>\n",
              "      <td>Transformed Test Set</td>\n",
              "      <td>(22, 33)</td>\n",
              "    </tr>\n",
              "    <tr>\n",
              "      <th>11</th>\n",
              "      <td>Shuffle Train-Test</td>\n",
              "      <td>True</td>\n",
              "    </tr>\n",
              "    <tr>\n",
              "      <th>12</th>\n",
              "      <td>Stratify Train-Test</td>\n",
              "      <td>False</td>\n",
              "    </tr>\n",
              "    <tr>\n",
              "      <th>13</th>\n",
              "      <td>Fold Generator</td>\n",
              "      <td>KFold</td>\n",
              "    </tr>\n",
              "    <tr>\n",
              "      <th>14</th>\n",
              "      <td>Fold Number</td>\n",
              "      <td>10</td>\n",
              "    </tr>\n",
              "    <tr>\n",
              "      <th>15</th>\n",
              "      <td>CPU Jobs</td>\n",
              "      <td>-1</td>\n",
              "    </tr>\n",
              "    <tr>\n",
              "      <th>16</th>\n",
              "      <td>Use GPU</td>\n",
              "      <td>False</td>\n",
              "    </tr>\n",
              "    <tr>\n",
              "      <th>17</th>\n",
              "      <td>Log Experiment</td>\n",
              "      <td>False</td>\n",
              "    </tr>\n",
              "    <tr>\n",
              "      <th>18</th>\n",
              "      <td>Experiment Name</td>\n",
              "      <td>reg-default-name</td>\n",
              "    </tr>\n",
              "    <tr>\n",
              "      <th>19</th>\n",
              "      <td>USI</td>\n",
              "      <td>752f</td>\n",
              "    </tr>\n",
              "    <tr>\n",
              "      <th>20</th>\n",
              "      <td>Imputation Type</td>\n",
              "      <td>simple</td>\n",
              "    </tr>\n",
              "    <tr>\n",
              "      <th>21</th>\n",
              "      <td>Iterative Imputation Iteration</td>\n",
              "      <td>None</td>\n",
              "    </tr>\n",
              "    <tr>\n",
              "      <th>22</th>\n",
              "      <td>Numeric Imputer</td>\n",
              "      <td>mean</td>\n",
              "    </tr>\n",
              "    <tr>\n",
              "      <th>23</th>\n",
              "      <td>Iterative Imputation Numeric Model</td>\n",
              "      <td>None</td>\n",
              "    </tr>\n",
              "    <tr>\n",
              "      <th>24</th>\n",
              "      <td>Categorical Imputer</td>\n",
              "      <td>constant</td>\n",
              "    </tr>\n",
              "    <tr>\n",
              "      <th>25</th>\n",
              "      <td>Iterative Imputation Categorical Model</td>\n",
              "      <td>None</td>\n",
              "    </tr>\n",
              "    <tr>\n",
              "      <th>26</th>\n",
              "      <td>Unknown Categoricals Handling</td>\n",
              "      <td>least_frequent</td>\n",
              "    </tr>\n",
              "    <tr>\n",
              "      <th>27</th>\n",
              "      <td>Normalize</td>\n",
              "      <td>False</td>\n",
              "    </tr>\n",
              "    <tr>\n",
              "      <th>28</th>\n",
              "      <td>Normalize Method</td>\n",
              "      <td>None</td>\n",
              "    </tr>\n",
              "    <tr>\n",
              "      <th>29</th>\n",
              "      <td>Transformation</td>\n",
              "      <td>False</td>\n",
              "    </tr>\n",
              "    <tr>\n",
              "      <th>30</th>\n",
              "      <td>Transformation Method</td>\n",
              "      <td>None</td>\n",
              "    </tr>\n",
              "    <tr>\n",
              "      <th>31</th>\n",
              "      <td>PCA</td>\n",
              "      <td>False</td>\n",
              "    </tr>\n",
              "    <tr>\n",
              "      <th>32</th>\n",
              "      <td>PCA Method</td>\n",
              "      <td>None</td>\n",
              "    </tr>\n",
              "    <tr>\n",
              "      <th>33</th>\n",
              "      <td>PCA Components</td>\n",
              "      <td>None</td>\n",
              "    </tr>\n",
              "    <tr>\n",
              "      <th>34</th>\n",
              "      <td>Ignore Low Variance</td>\n",
              "      <td>False</td>\n",
              "    </tr>\n",
              "    <tr>\n",
              "      <th>35</th>\n",
              "      <td>Combine Rare Levels</td>\n",
              "      <td>False</td>\n",
              "    </tr>\n",
              "    <tr>\n",
              "      <th>36</th>\n",
              "      <td>Rare Level Threshold</td>\n",
              "      <td>None</td>\n",
              "    </tr>\n",
              "    <tr>\n",
              "      <th>37</th>\n",
              "      <td>Numeric Binning</td>\n",
              "      <td>False</td>\n",
              "    </tr>\n",
              "    <tr>\n",
              "      <th>38</th>\n",
              "      <td>Remove Outliers</td>\n",
              "      <td>False</td>\n",
              "    </tr>\n",
              "    <tr>\n",
              "      <th>39</th>\n",
              "      <td>Outliers Threshold</td>\n",
              "      <td>None</td>\n",
              "    </tr>\n",
              "    <tr>\n",
              "      <th>40</th>\n",
              "      <td>Remove Multicollinearity</td>\n",
              "      <td>False</td>\n",
              "    </tr>\n",
              "    <tr>\n",
              "      <th>41</th>\n",
              "      <td>Multicollinearity Threshold</td>\n",
              "      <td>None</td>\n",
              "    </tr>\n",
              "    <tr>\n",
              "      <th>42</th>\n",
              "      <td>Clustering</td>\n",
              "      <td>False</td>\n",
              "    </tr>\n",
              "    <tr>\n",
              "      <th>43</th>\n",
              "      <td>Clustering Iteration</td>\n",
              "      <td>None</td>\n",
              "    </tr>\n",
              "    <tr>\n",
              "      <th>44</th>\n",
              "      <td>Polynomial Features</td>\n",
              "      <td>False</td>\n",
              "    </tr>\n",
              "    <tr>\n",
              "      <th>45</th>\n",
              "      <td>Polynomial Degree</td>\n",
              "      <td>None</td>\n",
              "    </tr>\n",
              "    <tr>\n",
              "      <th>46</th>\n",
              "      <td>Trignometry Features</td>\n",
              "      <td>False</td>\n",
              "    </tr>\n",
              "    <tr>\n",
              "      <th>47</th>\n",
              "      <td>Polynomial Threshold</td>\n",
              "      <td>None</td>\n",
              "    </tr>\n",
              "    <tr>\n",
              "      <th>48</th>\n",
              "      <td>Group Features</td>\n",
              "      <td>False</td>\n",
              "    </tr>\n",
              "    <tr>\n",
              "      <th>49</th>\n",
              "      <td>Feature Selection</td>\n",
              "      <td>False</td>\n",
              "    </tr>\n",
              "    <tr>\n",
              "      <th>50</th>\n",
              "      <td>Feature Selection Method</td>\n",
              "      <td>classic</td>\n",
              "    </tr>\n",
              "    <tr>\n",
              "      <th>51</th>\n",
              "      <td>Features Selection Threshold</td>\n",
              "      <td>None</td>\n",
              "    </tr>\n",
              "    <tr>\n",
              "      <th>52</th>\n",
              "      <td>Feature Interaction</td>\n",
              "      <td>False</td>\n",
              "    </tr>\n",
              "    <tr>\n",
              "      <th>53</th>\n",
              "      <td>Feature Ratio</td>\n",
              "      <td>False</td>\n",
              "    </tr>\n",
              "    <tr>\n",
              "      <th>54</th>\n",
              "      <td>Interaction Threshold</td>\n",
              "      <td>None</td>\n",
              "    </tr>\n",
              "    <tr>\n",
              "      <th>55</th>\n",
              "      <td>Transform Target</td>\n",
              "      <td>False</td>\n",
              "    </tr>\n",
              "    <tr>\n",
              "      <th>56</th>\n",
              "      <td>Transform Target Method</td>\n",
              "      <td>box-cox</td>\n",
              "    </tr>\n",
              "  </tbody>\n",
              "</table>\n",
              "</div>"
            ],
            "text/plain": [
              "                               Description             Value\n",
              "0                               session_id                47\n",
              "1                                   Target             등록차량수\n",
              "2                            Original Data         (423, 22)\n",
              "3                           Missing Values             False\n",
              "4                         Numeric Features                 8\n",
              "5                     Categorical Features                13\n",
              "6                         Ordinal Features             False\n",
              "7                High Cardinality Features             False\n",
              "8                  High Cardinality Method              None\n",
              "9                    Transformed Train Set         (401, 33)\n",
              "10                    Transformed Test Set          (22, 33)\n",
              "11                      Shuffle Train-Test              True\n",
              "12                     Stratify Train-Test             False\n",
              "13                          Fold Generator             KFold\n",
              "14                             Fold Number                10\n",
              "15                                CPU Jobs                -1\n",
              "16                                 Use GPU             False\n",
              "17                          Log Experiment             False\n",
              "18                         Experiment Name  reg-default-name\n",
              "19                                     USI              752f\n",
              "20                         Imputation Type            simple\n",
              "21          Iterative Imputation Iteration              None\n",
              "22                         Numeric Imputer              mean\n",
              "23      Iterative Imputation Numeric Model              None\n",
              "24                     Categorical Imputer          constant\n",
              "25  Iterative Imputation Categorical Model              None\n",
              "26           Unknown Categoricals Handling    least_frequent\n",
              "27                               Normalize             False\n",
              "28                        Normalize Method              None\n",
              "29                          Transformation             False\n",
              "30                   Transformation Method              None\n",
              "31                                     PCA             False\n",
              "32                              PCA Method              None\n",
              "33                          PCA Components              None\n",
              "34                     Ignore Low Variance             False\n",
              "35                     Combine Rare Levels             False\n",
              "36                    Rare Level Threshold              None\n",
              "37                         Numeric Binning             False\n",
              "38                         Remove Outliers             False\n",
              "39                      Outliers Threshold              None\n",
              "40                Remove Multicollinearity             False\n",
              "41             Multicollinearity Threshold              None\n",
              "42                              Clustering             False\n",
              "43                    Clustering Iteration              None\n",
              "44                     Polynomial Features             False\n",
              "45                       Polynomial Degree              None\n",
              "46                    Trignometry Features             False\n",
              "47                    Polynomial Threshold              None\n",
              "48                          Group Features             False\n",
              "49                       Feature Selection             False\n",
              "50                Feature Selection Method           classic\n",
              "51            Features Selection Threshold              None\n",
              "52                     Feature Interaction             False\n",
              "53                           Feature Ratio             False\n",
              "54                   Interaction Threshold              None\n",
              "55                        Transform Target             False\n",
              "56                 Transform Target Method           box-cox"
            ]
          },
          "metadata": {
            "tags": []
          }
        }
      ]
    },
    {
      "cell_type": "code",
      "metadata": {
        "id": "xOkkuFjqPz4O"
      },
      "source": [
        "## Classification Models :  https://github.com/pycaret/pycaret/blob/master/pycaret/containers/models/classification.py\n",
        "## Regression Modelss : https://github.com/pycaret/pycaret/blob/master/pycaret/containers/models/regression.py\n",
        "\n",
        "## 각 단계마다 (create - tune - ensemble - finalize) 모델, 정보, plot 저장해주는 코드\n",
        "\n",
        "def plot_save_pycaret_model(name, model,mode='tune'):\n",
        "    # Feature Importance Plot 저장하기\n",
        "    plot_dir = f'{upper_dir_of_pycaret}/plot_result'\n",
        "    os.makedirs(plot_dir, exist_ok=True)\n",
        "    os.chdir(plot_dir)\n",
        "    # top10 feature\n",
        "    feature_importance_plot = plot_model(model, plot = 'feature', save=True)\n",
        "    os.rename(f'{plot_dir}/Feature Importance.png',f'{plot_dir}/{mode}_{name}_10_feature_importance.png')\n",
        "    # all feature\n",
        "    feature_importance_plot = plot_model(model, plot = 'feature_all', save=True)\n",
        "    os.rename(f'{plot_dir}/Feature Importance (All).png',f'{plot_dir}/{mode}_{name}_all_feature_importance.png')\n",
        "\n",
        "# def create_and_save_pycaret_model(name):\n",
        "#     created_model = create_model(name, cross_validation = True)\n",
        "#     # Display되는 score grid dataframe도 가져올 수가 있다. \n",
        "#     df_result_model = pull()\n",
        "#     df_result_model.to_csv(f'{upper_dir_of_pycaret}/{name}_create_grid_df.csv')\n",
        "#     # 실험결과를 저장하는 것도 가능하다.\n",
        "#     save_experiment(f'{upper_dir_of_pycaret}/{name}_create_exp_result')\n",
        "#     # 모델을 저장하는 것도 가능하다.\n",
        "#     save_model(created_model, f'{upper_dir_of_pycaret}/{name}_model_saved')\n",
        "#     return created_model\n",
        "\n",
        "def tune_and_save_pycaret_model(name, model, optimize = 'MAE', fold = fold, n_iter = n_iter):\n",
        "    print('Now Tuning the models....')\n",
        "    tuned_model = tune_model(model, optimize = optimize, fold = fold, n_iter = n_iter)   # \n",
        "    # Display되는 score grid dataframe도 가져올 수가 있다. \n",
        "    df_result_model = pull()\n",
        "    os.makedirs(f\"{upper_dir_of_pycaret}/grid_df\",exist_ok=True)\n",
        "    df_result_model.to_csv(f'{upper_dir_of_pycaret}/grid_df/{name}_tuned_grid_df.csv')\n",
        "    # 모델의 각종 plot을 저장하는 것도 가능하다.\n",
        "    plot_save_pycaret_model(name, tuned_model, mode='tune')\n",
        "    # 실험결과를 저장하는 것도 가능하다.\n",
        "    os.makedirs(f\"{upper_dir_of_pycaret}/expr\",exist_ok=True)\n",
        "    try:\n",
        "        save_experiment(f'{upper_dir_of_pycaret}/expr/{name}_tuned_exp_result')\n",
        "    except:\n",
        "        print('tuned model의 실험결과는 저장할 수 없습니다.')\n",
        "    # 모델을 저장하는 것도 가능하다.\n",
        "    os.makedirs(f\"{upper_dir_of_pycaret}/models\",exist_ok=True)\n",
        "    save_model(tuned_model, f'{upper_dir_of_pycaret}/models/{name}_tuned_model_saved')\n",
        "    return tuned_model\n",
        "\n",
        "def ensemble_and_save_pycaret_model(\n",
        "                                    model_name_list,\n",
        "                                    estimator_list,\n",
        "                                    fold = fold,\n",
        "                                    optimize = 'MAE',\n",
        "                                    meta_model = None,\n",
        "                                    mode = None,\n",
        "                                    ):\n",
        "    print('Now Ensemble the models....')\n",
        "    if mode=='blend_models':\n",
        "        ensembled_model = blend_models(estimator_list = estimator_list, fold = fold, optimize = optimize)\n",
        "    elif mode=='stack_models':\n",
        "        ensembled_model = stack_models(estimator_list = estimator_list, fold = fold, optimize = optimize, meta_model = meta_model)\n",
        "    # Display되는 score grid dataframe도 가져올 수가 있다. \n",
        "    df_result_model = pull()\n",
        "    name = '_'.join(model_name_list)\n",
        "    os.makedirs(f\"{upper_dir_of_pycaret}/grid_df\",exist_ok=True)\n",
        "    df_result_model.to_csv(f'{upper_dir_of_pycaret}/grid_df/{name}_ensembled_grid_df.csv')\n",
        "    # 모델의 각종 plot을 저장하는 것도 가능하다.\n",
        "    try:\n",
        "        plot_save_pycaret_model(name, ensembled_model, mode='ensemble')\n",
        "    except:\n",
        "        print(f'ensemble model은 변수중요도 plot을 저장할 수 없습니다')\n",
        "    # 실험결과를 저장하는 것도 가능하다.\n",
        "    os.makedirs(f\"{upper_dir_of_pycaret}/expr\",exist_ok=True)\n",
        "    try:\n",
        "        save_experiment(f'{upper_dir_of_pycaret}/expr/{name}_ensembled_exp_result')\n",
        "    except:\n",
        "        print(f'ensemble model은 실험결과를 저장할 수 없습니다')\n",
        "    # 모델을 저장하는 것도 가능하다.\n",
        "    os.makedirs(f\"{upper_dir_of_pycaret}/models\",exist_ok=True)\n",
        "    save_model(ensembled_model, f'{upper_dir_of_pycaret}/models/{name}_ensembled_model_saved')\n",
        "    return ensembled_model\n",
        "\n",
        "def finalize_and_save_pycaret_model(model_name_list,model,):\n",
        "    print('Now Finalizing the model....')\n",
        "    finalized_model = finalize_model(model)\n",
        "    # Display되는 score grid dataframe도 가져올 수가 있다. \n",
        "    df_result_model = pull()\n",
        "    name = '_'.join(model_name_list)\n",
        "    os.makedirs(f\"{upper_dir_of_pycaret}/grid_df\",exist_ok=True)\n",
        "    df_result_model.to_csv(f'{upper_dir_of_pycaret}/grid_df/{name}_finalized_grid_df.csv')\n",
        "    # 모델의 각종 plot을 저장하는 것도 가능하다.\n",
        "    try:\n",
        "        plot_save_pycaret_model(name, finalized_model, mode='finalize')\n",
        "    except:\n",
        "        print(f'final model은 변수중요도 plot을 저장할 수 없습니다')\n",
        "    # 실험결과를 저장하는 것도 가능하다.\n",
        "    os.makedirs(f\"{upper_dir_of_pycaret}/expr\",exist_ok=True)\n",
        "    try:\n",
        "        save_experiment(f'{upper_dir_of_pycaret}/expr/{name}_finalized_exp_result')\n",
        "    except:\n",
        "        print(f'final model은 실험결과를 저장할 수 없습니다')\n",
        "    # 모델을 저장하는 것도 가능하다.\n",
        "    os.makedirs(f\"{upper_dir_of_pycaret}/models\",exist_ok=True)\n",
        "    save_model(finalized_model, f'{upper_dir_of_pycaret}/models/{name}_finalized_model_saved')\n",
        "    return finalized_model\n"
      ],
      "execution_count": null,
      "outputs": []
    },
    {
      "cell_type": "code",
      "metadata": {
        "id": "obgJ11vXTe8-"
      },
      "source": [
        "def ensemble_automl(\n",
        "                    final_df,\n",
        "                    holdout,\n",
        "                    FEATS,\n",
        "                    cat_features=[],\n",
        "                    continuous_features=[],\n",
        "                    seed=seed,\n",
        "                    model_name_list = model_name_list,\n",
        "                    ensemble_method = ensemble_method,\n",
        "                    meta_model_for_stack = meta_model_for_stack,\n",
        "                    settings = settings,\n",
        "                    ):\n",
        "\n",
        "    # final_df, holdout = datasets\n",
        "    random.seed(seed)\n",
        "    # fold_strategy = KFold(n_splits=10, shuffle=True, random_state=42)\n",
        "    settings = settings\n",
        "\n",
        "    # train_size만큼을 가지고 선언된 model_name_list 모델들을 학습을 함\n",
        "    # create_model(name, sort='MAE', cross_validation = True)\n",
        "    models_before_tune = [\n",
        "                            create_model(\n",
        "                                name, \n",
        "                                fold=fold,\n",
        "                                cross_validation = True,\n",
        "                                # cross_validation = False,\n",
        "                                ) \n",
        "                            for name in model_name_list]\n",
        "    # 앞서만든 모델들을 train_size만큼 가지고 튜닝함 (n_iter만큼 AutoML)\n",
        "    # models_after_tune = [tune_model(model, optimize = 'MAE', fold = 10, n_iter = 10) for model in models_before_tune]\n",
        "    models_after_tune = [tune_and_save_pycaret_model(name, model, optimize = 'MAE', fold = fold, n_iter = 10) for name, model in zip(model_name_list, models_before_tune)]\n",
        "\n",
        "\n",
        "    # 튜닝된 모델들을 train_size만큼 가지고 앙상블\n",
        "    if len(models_after_tune)<=1:\n",
        "        ensembled = models_after_tune[0]\n",
        "    else:\n",
        "        ensembled = ensemble_and_save_pycaret_model(model_name_list,estimator_list=models_after_tune,fold = fold,optimize = 'MAE',method = method,meta_model = meta_model_for_stack,mode = ensemble_method)\n",
        "    # elif ensemble_method=='blend_models':\n",
        "    #     ensembled = blend_models(estimator_list = models_after_tune, fold = 10, method = 'soft', optimize = 'MAE')\n",
        "    # elif ensemble_method=='stack_models':\n",
        "    #     ensembled = stack_models(estimator_list = models_after_tune, meta_model = meta_model_for_stack, fold = 10, optimize = 'MAE')\n",
        "\n",
        "    # 마지막 학습(Finalize)\n",
        "    # 앞서 앙상블된 모델을 => setup으로 나눠져 쓰지않았던 valid까지 포함된 100퍼센트를 사용하여 fitting함\n",
        "    final_model = finalize_and_save_pycaret_model(model_name_list,ensembled)\n",
        "\n",
        "    metric_result = []\n",
        "    prediction = predict_model(final_model, data=holdout[FEATS], )  # raw_score = True\n",
        "    # df_holdout_score = pull()\n",
        "\n",
        "    # os.makedirs(f\"{upper_dir_of_pycaret}/holdout_score\",exist_ok=True)\n",
        "    # df_holdout_score.to_csv(f'{upper_dir_of_pycaret}/holdout_score/finalize_holdout_score.csv')\n",
        "\n",
        "    metric_result.append(f\"HoldOut 데이터 MAE = {check_metric(prediction['등록차량수'], prediction['Label'], metric = 'MAE')}\")\n",
        "    return final_model, metric_result\n"
      ],
      "execution_count": null,
      "outputs": []
    },
    {
      "cell_type": "code",
      "metadata": {
        "colab": {
          "base_uri": "https://localhost:8080/",
          "height": 450,
          "referenced_widgets": [
            "60c3dbe5230e4e2abc8d221d5b2ba6bd",
            "51528094193d4ec0a8293390b199e019",
            "91be102d2c80467393ccfeddd7582e93",
            "7080729b3d2e4c15a7c8edac34cf6cbd",
            "41cbb51e98844538b9f3ae58d7171143",
            "704aa4f85cd44965b3e5a55f8f8a111b",
            "09929917e371473fabafdd8c592f67d1",
            "c5179c9578a24906ba4451de85659823",
            "c0c45ca947814b5c942e5126161e8a88"
          ]
        },
        "id": "TILoS_O7126Q",
        "outputId": "f9ecb11a-6e12-42db-dff8-b22f3f896a85"
      },
      "source": [
        "final_model, metric_result = ensemble_automl(\n",
        "                                            train_agg,\n",
        "                                            holdout,\n",
        "                                            FEATS,\n",
        "                                            categorical_features,\n",
        "                                            numeric_features,\n",
        "                                            seed=seed,\n",
        "                                            model_name_list=model_name_list,\n",
        "                                            ensemble_method = ensemble_method,\n",
        "                                            meta_model_for_stack = meta_model_for_stack,\n",
        "                                            )\n",
        "\n",
        "print(final_model)\n",
        "\n",
        "print(f\"Error : \",'\\n'.join(metric_result))\n",
        "\n",
        "# BayesianRidge(alpha_1=1e-06, alpha_2=0.15, alpha_init=None, compute_score=False,\n",
        "#               copy_X=True, fit_intercept=False, lambda_1=0.1, lambda_2=0.15,\n",
        "#               lambda_init=None, n_iter=300, normalize=False, tol=0.001,\n",
        "#               verbose=False)\n",
        "# ACC & AUC :  HoldOut 데이터 MAE: 120.8852\n",
        "\n",
        "# BayesianRidge(alpha_1=1e-06, alpha_2=0.15, alpha_init=None, compute_score=False,\n",
        "#               copy_X=True, fit_intercept=False, lambda_1=0.1, lambda_2=0.15,\n",
        "#               lambda_init=None, n_iter=300, normalize=False, tol=0.001,\n",
        "#               verbose=False)\n",
        "# ACC & AUC :  HoldOut 데이터 MAE: 120.7506"
      ],
      "execution_count": null,
      "outputs": [
        {
          "output_type": "stream",
          "text": [
            "final model은 실험결과를 저장할 수 없습니다\n",
            "Transformation Pipeline and Model Succesfully Saved\n",
            "Lasso(alpha=1.73, copy_X=True, fit_intercept=False, max_iter=1000,\n",
            "      normalize=False, positive=False, precompute=False, random_state=47,\n",
            "      selection='cyclic', tol=0.0001, warm_start=False)\n",
            "Error :  HoldOut 데이터 MAE = 121.9396\n"
          ],
          "name": "stdout"
        }
      ]
    },
    {
      "cell_type": "code",
      "metadata": {
        "id": "6qh3wmcOT4MG"
      },
      "source": [
        "# 이번 Experiment Arg 관리\n",
        "config_key = [\n",
        "            'now_time',\n",
        "            'seed','fold','model_name_list','ensemble_method','meta_model_for_stack',\n",
        "            'categocategorical_features','numeric_features','FEATS','LENGTH_FEATS','n_iter','metric_result'\n",
        "            ]\n",
        "config_value = [\n",
        "                now_time,\n",
        "                seed, fold, model_name_list, ensemble_method, meta_model_for_stack, \n",
        "             categorical_features, numeric_features, FEATS,len(FEATS),n_iter,metric_result,]\n"
      ],
      "execution_count": null,
      "outputs": []
    },
    {
      "cell_type": "code",
      "metadata": {
        "colab": {
          "base_uri": "https://localhost:8080/"
        },
        "id": "2fG3J6rPT99h",
        "outputId": "4104716a-1e4b-4d0e-f8c4-c121c0511539"
      },
      "source": [
        "cd /content/drive/MyDrive/dacon_parking_data"
      ],
      "execution_count": null,
      "outputs": [
        {
          "output_type": "stream",
          "text": [
            "/content/drive/MyDrive/dacon_parking_data\n"
          ],
          "name": "stdout"
        }
      ]
    },
    {
      "cell_type": "markdown",
      "metadata": {
        "id": "wsZqf3LlOtDK"
      },
      "source": [
        "## Submission"
      ]
    },
    {
      "cell_type": "code",
      "metadata": {
        "colab": {
          "base_uri": "https://localhost:8080/"
        },
        "id": "j2netgq-U-UR",
        "outputId": "ca6e9813-ebbf-485c-e387-1d09c659a1a1"
      },
      "source": [
        "print(train_agg.shape)\n",
        "print(test_agg.shape)"
      ],
      "execution_count": null,
      "outputs": [
        {
          "output_type": "stream",
          "text": [
            "(423, 22)\n",
            "(150, 21)\n"
          ],
          "name": "stdout"
        }
      ]
    },
    {
      "cell_type": "code",
      "metadata": {
        "colab": {
          "base_uri": "https://localhost:8080/"
        },
        "id": "ltXrinerZuAl",
        "outputId": "dda13fde-fde6-494b-8945-a33c02572cf3"
      },
      "source": [
        "print(train_agg['등록차량수'].max())\n",
        "print(train_agg['등록차량수'].min())"
      ],
      "execution_count": null,
      "outputs": [
        {
          "output_type": "stream",
          "text": [
            "2550.0\n",
            "13.0\n"
          ],
          "name": "stdout"
        }
      ]
    },
    {
      "cell_type": "code",
      "metadata": {
        "colab": {
          "base_uri": "https://localhost:8080/",
          "height": 72
        },
        "id": "YPRbUY_rc7rP",
        "outputId": "f70e0c3c-4072-43e4-d95f-32a62f61b16b"
      },
      "source": [
        "str_model = str(final_model)\n",
        "str_model"
      ],
      "execution_count": null,
      "outputs": [
        {
          "output_type": "execute_result",
          "data": {
            "application/vnd.google.colaboratory.intrinsic+json": {
              "type": "string"
            },
            "text/plain": [
              "\"Lasso(alpha=1.73, copy_X=True, fit_intercept=False, max_iter=1000,\\n      normalize=False, positive=False, precompute=False, random_state=47,\\n      selection='cyclic', tol=0.0001, warm_start=False)\""
            ]
          },
          "metadata": {
            "tags": []
          },
          "execution_count": 202
        }
      ]
    },
    {
      "cell_type": "code",
      "metadata": {
        "id": "Vcr0BW2bEyDy",
        "colab": {
          "base_uri": "https://localhost:8080/"
        },
        "outputId": "6ca8c80e-c798-4191-ab00-0c1477cbe7b7"
      },
      "source": [
        "sample_submission = pd.read_csv('./data/sample_submission.csv')\n",
        "# MAKE PREDICTION\n",
        "prediction = predict_model(final_model, data=test_agg[[f for f in FEATS if f not in ['등록차량수']]])\n",
        "total_preds = prediction[\"Label\"]\n",
        "total_preds_dict = total_preds.to_dict()\n",
        "sample_submission['num'] = total_preds.values\n",
        "\n",
        "# SAVE OUTPUT\n",
        "prediction_name = f\"{now_time}_NFeatures-{len(FEATS)}\" # \n",
        "\n",
        "output_dir = f'{upper_dir_of_pycaret}/코드공유_submission'\n",
        "os.makedirs(output_dir, exist_ok=True)    \n",
        "write_path = os.path.join(output_dir, f\"{prediction_name}.csv\")\n",
        "print(\"Saving Final Output CSVs...\")\n",
        "sample_submission.to_csv(f'{write_path}',index=False)\n",
        "print(f\"writing csv : {write_path}\")\n",
        "\n",
        "import json\n",
        "# Save Config\n",
        "write_path = os.path.join(upper_dir_of_pycaret, f\"{prediction_name}_config.json\")\n",
        "config_dict = {k:v for k,v in zip(config_key, config_value)}\n",
        "print(\"Saving Final Config Dict...\")\n",
        "## json파일 저장 ##\n",
        "with open(write_path, \"w\") as fp:\n",
        "    print(f\"writing config : {write_path}\")\n",
        "    json.dump(config_dict, fp, indent=4)\n"
      ],
      "execution_count": null,
      "outputs": [
        {
          "output_type": "stream",
          "text": [
            "Saving Final Output CSVs...\n",
            "writing csv : /content/drive/MyDrive/dacon_parking_data/output_pycaret/0630_0059_LB111수정_lasso_외부데이터활용_단지코드별&지역별차량등록대수_변수추가/코드공유_submission/0630_0059_LB111수정_lasso_외부데이터활용_단지코드별&지역별차량등록대수_변수추가_NFeatures-22.csv\n",
            "Saving Final Config Dict...\n",
            "writing config : /content/drive/MyDrive/dacon_parking_data/output_pycaret/0630_0059_LB111수정_lasso_외부데이터활용_단지코드별&지역별차량등록대수_변수추가/0630_0059_LB111수정_lasso_외부데이터활용_단지코드별&지역별차량등록대수_변수추가_NFeatures-22_config.json\n"
          ],
          "name": "stdout"
        }
      ]
    },
    {
      "cell_type": "code",
      "metadata": {
        "colab": {
          "base_uri": "https://localhost:8080/"
        },
        "id": "xmmQlCPSs-nn",
        "outputId": "47de4e5f-5408-4f8d-87d9-5d0e43fcbff7"
      },
      "source": [
        "print(total_preds.max())\n",
        "print(total_preds.min())"
      ],
      "execution_count": null,
      "outputs": [
        {
          "output_type": "stream",
          "text": [
            "1601.8927001953125\n",
            "7.622137069702148\n"
          ],
          "name": "stdout"
        }
      ]
    },
    {
      "cell_type": "code",
      "metadata": {
        "colab": {
          "base_uri": "https://localhost:8080/",
          "height": 417
        },
        "id": "Xy7L8KPNVkNQ",
        "outputId": "96ce4f7d-f254-41d7-d65a-47e25a8b43d3"
      },
      "source": [
        "sample_submission"
      ],
      "execution_count": null,
      "outputs": [
        {
          "output_type": "execute_result",
          "data": {
            "text/html": [
              "<div>\n",
              "<style scoped>\n",
              "    .dataframe tbody tr th:only-of-type {\n",
              "        vertical-align: middle;\n",
              "    }\n",
              "\n",
              "    .dataframe tbody tr th {\n",
              "        vertical-align: top;\n",
              "    }\n",
              "\n",
              "    .dataframe thead th {\n",
              "        text-align: right;\n",
              "    }\n",
              "</style>\n",
              "<table border=\"1\" class=\"dataframe\">\n",
              "  <thead>\n",
              "    <tr style=\"text-align: right;\">\n",
              "      <th></th>\n",
              "      <th>code</th>\n",
              "      <th>num</th>\n",
              "    </tr>\n",
              "  </thead>\n",
              "  <tbody>\n",
              "    <tr>\n",
              "      <th>0</th>\n",
              "      <td>C1072</td>\n",
              "      <td>660.792542</td>\n",
              "    </tr>\n",
              "    <tr>\n",
              "      <th>1</th>\n",
              "      <td>C1128</td>\n",
              "      <td>1179.293823</td>\n",
              "    </tr>\n",
              "    <tr>\n",
              "      <th>2</th>\n",
              "      <td>C1456</td>\n",
              "      <td>511.687286</td>\n",
              "    </tr>\n",
              "    <tr>\n",
              "      <th>3</th>\n",
              "      <td>C1840</td>\n",
              "      <td>538.658325</td>\n",
              "    </tr>\n",
              "    <tr>\n",
              "      <th>4</th>\n",
              "      <td>C1332</td>\n",
              "      <td>1031.107422</td>\n",
              "    </tr>\n",
              "    <tr>\n",
              "      <th>...</th>\n",
              "      <td>...</td>\n",
              "      <td>...</td>\n",
              "    </tr>\n",
              "    <tr>\n",
              "      <th>145</th>\n",
              "      <td>C2456</td>\n",
              "      <td>205.214050</td>\n",
              "    </tr>\n",
              "    <tr>\n",
              "      <th>146</th>\n",
              "      <td>C1266</td>\n",
              "      <td>377.961090</td>\n",
              "    </tr>\n",
              "    <tr>\n",
              "      <th>147</th>\n",
              "      <td>C2152</td>\n",
              "      <td>7.622137</td>\n",
              "    </tr>\n",
              "    <tr>\n",
              "      <th>148</th>\n",
              "      <td>C1267</td>\n",
              "      <td>205.927429</td>\n",
              "    </tr>\n",
              "    <tr>\n",
              "      <th>149</th>\n",
              "      <td>C2189</td>\n",
              "      <td>60.106354</td>\n",
              "    </tr>\n",
              "  </tbody>\n",
              "</table>\n",
              "<p>150 rows × 2 columns</p>\n",
              "</div>"
            ],
            "text/plain": [
              "      code          num\n",
              "0    C1072   660.792542\n",
              "1    C1128  1179.293823\n",
              "2    C1456   511.687286\n",
              "3    C1840   538.658325\n",
              "4    C1332  1031.107422\n",
              "..     ...          ...\n",
              "145  C2456   205.214050\n",
              "146  C1266   377.961090\n",
              "147  C2152     7.622137\n",
              "148  C1267   205.927429\n",
              "149  C2189    60.106354\n",
              "\n",
              "[150 rows x 2 columns]"
            ]
          },
          "metadata": {
            "tags": []
          },
          "execution_count": 205
        }
      ]
    },
    {
      "cell_type": "code",
      "metadata": {
        "id": "7K5XBWuyc1Gy"
      },
      "source": [
        ""
      ],
      "execution_count": null,
      "outputs": []
    }
  ]
}