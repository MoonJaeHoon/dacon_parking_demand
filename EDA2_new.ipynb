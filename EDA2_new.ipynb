{
  "nbformat": 4,
  "nbformat_minor": 0,
  "metadata": {
    "colab": {
      "name": "EDA2_new.ipynb",
      "provenance": [],
      "collapsed_sections": [],
      "mount_file_id": "1CXhDFsdxNsYYCe0h1H4UcS9ppebU4i2u",
      "authorship_tag": "ABX9TyPz9ytbgeCt9BS4v09d14gA",
      "include_colab_link": true
    },
    "kernelspec": {
      "name": "python3",
      "display_name": "Python 3"
    },
    "language_info": {
      "name": "python"
    },
    "widgets": {
      "application/vnd.jupyter.widget-state+json": {
        "c104ea72f17f419c9779b4532d829168": {
          "model_module": "@jupyter-widgets/controls",
          "model_name": "IntProgressModel",
          "state": {
            "_view_name": "ProgressView",
            "style": "IPY_MODEL_71e6c85ef2ec4002b21c46fa6cf3228c",
            "_dom_classes": [],
            "description": "Processing: ",
            "_model_name": "IntProgressModel",
            "bar_style": "",
            "max": 3,
            "_view_module": "@jupyter-widgets/controls",
            "_model_module_version": "1.5.0",
            "value": 3,
            "_view_count": null,
            "_view_module_version": "1.5.0",
            "orientation": "horizontal",
            "min": 0,
            "description_tooltip": null,
            "_model_module": "@jupyter-widgets/controls",
            "layout": "IPY_MODEL_a6a56bea27c0469ea83ae333bcfd31f3"
          }
        },
        "71e6c85ef2ec4002b21c46fa6cf3228c": {
          "model_module": "@jupyter-widgets/controls",
          "model_name": "ProgressStyleModel",
          "state": {
            "_view_name": "StyleView",
            "_model_name": "ProgressStyleModel",
            "description_width": "",
            "_view_module": "@jupyter-widgets/base",
            "_model_module_version": "1.5.0",
            "_view_count": null,
            "_view_module_version": "1.2.0",
            "bar_color": null,
            "_model_module": "@jupyter-widgets/controls"
          }
        },
        "a6a56bea27c0469ea83ae333bcfd31f3": {
          "model_module": "@jupyter-widgets/base",
          "model_name": "LayoutModel",
          "state": {
            "_view_name": "LayoutView",
            "grid_template_rows": null,
            "right": null,
            "justify_content": null,
            "_view_module": "@jupyter-widgets/base",
            "overflow": null,
            "_model_module_version": "1.2.0",
            "_view_count": null,
            "flex_flow": null,
            "width": null,
            "min_width": null,
            "border": null,
            "align_items": null,
            "bottom": null,
            "_model_module": "@jupyter-widgets/base",
            "top": null,
            "grid_column": null,
            "overflow_y": null,
            "overflow_x": null,
            "grid_auto_flow": null,
            "grid_area": null,
            "grid_template_columns": null,
            "flex": null,
            "_model_name": "LayoutModel",
            "justify_items": null,
            "grid_row": null,
            "max_height": null,
            "align_content": null,
            "visibility": null,
            "align_self": null,
            "height": null,
            "min_height": null,
            "padding": null,
            "grid_auto_rows": null,
            "grid_gap": null,
            "max_width": null,
            "order": null,
            "_view_module_version": "1.2.0",
            "grid_template_areas": null,
            "object_position": null,
            "object_fit": null,
            "grid_auto_columns": null,
            "margin": null,
            "display": null,
            "left": null
          }
        },
        "20d076195f5643acaf6961cc93e87fc3": {
          "model_module": "@jupyter-widgets/controls",
          "model_name": "TextModel",
          "state": {
            "_view_name": "TextView",
            "style": "IPY_MODEL_3a5b82fbe82b451a913eb6bc5e1348ac",
            "_dom_classes": [],
            "description": "",
            "_model_name": "TextModel",
            "placeholder": "​",
            "_view_module": "@jupyter-widgets/controls",
            "_model_module_version": "1.5.0",
            "value": "Following data types have been inferred automatically, if they are correct press enter to continue or type 'quit' otherwise.",
            "_view_count": null,
            "disabled": false,
            "_view_module_version": "1.5.0",
            "continuous_update": true,
            "description_tooltip": null,
            "_model_module": "@jupyter-widgets/controls",
            "layout": "IPY_MODEL_253cd4c7fca54c9ca75ca8479bc000e8"
          }
        },
        "3a5b82fbe82b451a913eb6bc5e1348ac": {
          "model_module": "@jupyter-widgets/controls",
          "model_name": "DescriptionStyleModel",
          "state": {
            "_view_name": "StyleView",
            "_model_name": "DescriptionStyleModel",
            "description_width": "",
            "_view_module": "@jupyter-widgets/base",
            "_model_module_version": "1.5.0",
            "_view_count": null,
            "_view_module_version": "1.2.0",
            "_model_module": "@jupyter-widgets/controls"
          }
        },
        "253cd4c7fca54c9ca75ca8479bc000e8": {
          "model_module": "@jupyter-widgets/base",
          "model_name": "LayoutModel",
          "state": {
            "_view_name": "LayoutView",
            "grid_template_rows": null,
            "right": null,
            "justify_content": null,
            "_view_module": "@jupyter-widgets/base",
            "overflow": null,
            "_model_module_version": "1.2.0",
            "_view_count": null,
            "flex_flow": null,
            "width": "100%",
            "min_width": null,
            "border": null,
            "align_items": null,
            "bottom": null,
            "_model_module": "@jupyter-widgets/base",
            "top": null,
            "grid_column": null,
            "overflow_y": null,
            "overflow_x": null,
            "grid_auto_flow": null,
            "grid_area": null,
            "grid_template_columns": null,
            "flex": null,
            "_model_name": "LayoutModel",
            "justify_items": null,
            "grid_row": null,
            "max_height": null,
            "align_content": null,
            "visibility": null,
            "align_self": null,
            "height": null,
            "min_height": null,
            "padding": null,
            "grid_auto_rows": null,
            "grid_gap": null,
            "max_width": null,
            "order": null,
            "_view_module_version": "1.2.0",
            "grid_template_areas": null,
            "object_position": null,
            "object_fit": null,
            "grid_auto_columns": null,
            "margin": null,
            "display": null,
            "left": null
          }
        },
        "6684581714c84d53a1bc4a96b97376af": {
          "model_module": "@jupyter-widgets/controls",
          "model_name": "IntProgressModel",
          "state": {
            "_view_name": "ProgressView",
            "style": "IPY_MODEL_6236e2a5fc8e4bd48282474d62251552",
            "_dom_classes": [],
            "description": "Processing: ",
            "_model_name": "IntProgressModel",
            "bar_style": "",
            "max": 99,
            "_view_module": "@jupyter-widgets/controls",
            "_model_module_version": "1.5.0",
            "value": 99,
            "_view_count": null,
            "_view_module_version": "1.5.0",
            "orientation": "horizontal",
            "min": 0,
            "description_tooltip": null,
            "_model_module": "@jupyter-widgets/controls",
            "layout": "IPY_MODEL_752f4cc71708485ea5f8ca8dfd96de40"
          }
        },
        "6236e2a5fc8e4bd48282474d62251552": {
          "model_module": "@jupyter-widgets/controls",
          "model_name": "ProgressStyleModel",
          "state": {
            "_view_name": "StyleView",
            "_model_name": "ProgressStyleModel",
            "description_width": "",
            "_view_module": "@jupyter-widgets/base",
            "_model_module_version": "1.5.0",
            "_view_count": null,
            "_view_module_version": "1.2.0",
            "bar_color": null,
            "_model_module": "@jupyter-widgets/controls"
          }
        },
        "752f4cc71708485ea5f8ca8dfd96de40": {
          "model_module": "@jupyter-widgets/base",
          "model_name": "LayoutModel",
          "state": {
            "_view_name": "LayoutView",
            "grid_template_rows": null,
            "right": null,
            "justify_content": null,
            "_view_module": "@jupyter-widgets/base",
            "overflow": null,
            "_model_module_version": "1.2.0",
            "_view_count": null,
            "flex_flow": null,
            "width": null,
            "min_width": null,
            "border": null,
            "align_items": null,
            "bottom": null,
            "_model_module": "@jupyter-widgets/base",
            "top": null,
            "grid_column": null,
            "overflow_y": null,
            "overflow_x": null,
            "grid_auto_flow": null,
            "grid_area": null,
            "grid_template_columns": null,
            "flex": null,
            "_model_name": "LayoutModel",
            "justify_items": null,
            "grid_row": null,
            "max_height": null,
            "align_content": null,
            "visibility": null,
            "align_self": null,
            "height": null,
            "min_height": null,
            "padding": null,
            "grid_auto_rows": null,
            "grid_gap": null,
            "max_width": null,
            "order": null,
            "_view_module_version": "1.2.0",
            "grid_template_areas": null,
            "object_position": null,
            "object_fit": null,
            "grid_auto_columns": null,
            "margin": null,
            "display": null,
            "left": null
          }
        },
        "f0750724700443f8b78958aba4153b23": {
          "model_module": "@jupyter-widgets/controls",
          "model_name": "IntProgressModel",
          "state": {
            "_view_name": "ProgressView",
            "style": "IPY_MODEL_8f165b0e4d7e48dcb9a2b32f50644f9c",
            "_dom_classes": [],
            "description": "Processing: ",
            "_model_name": "IntProgressModel",
            "bar_style": "",
            "max": 3,
            "_view_module": "@jupyter-widgets/controls",
            "_model_module_version": "1.5.0",
            "value": 3,
            "_view_count": null,
            "_view_module_version": "1.5.0",
            "orientation": "horizontal",
            "min": 0,
            "description_tooltip": null,
            "_model_module": "@jupyter-widgets/controls",
            "layout": "IPY_MODEL_b516ede9474b4a7d9818d51d700d47cc"
          }
        },
        "8f165b0e4d7e48dcb9a2b32f50644f9c": {
          "model_module": "@jupyter-widgets/controls",
          "model_name": "ProgressStyleModel",
          "state": {
            "_view_name": "StyleView",
            "_model_name": "ProgressStyleModel",
            "description_width": "",
            "_view_module": "@jupyter-widgets/base",
            "_model_module_version": "1.5.0",
            "_view_count": null,
            "_view_module_version": "1.2.0",
            "bar_color": null,
            "_model_module": "@jupyter-widgets/controls"
          }
        },
        "b516ede9474b4a7d9818d51d700d47cc": {
          "model_module": "@jupyter-widgets/base",
          "model_name": "LayoutModel",
          "state": {
            "_view_name": "LayoutView",
            "grid_template_rows": null,
            "right": null,
            "justify_content": null,
            "_view_module": "@jupyter-widgets/base",
            "overflow": null,
            "_model_module_version": "1.2.0",
            "_view_count": null,
            "flex_flow": null,
            "width": null,
            "min_width": null,
            "border": null,
            "align_items": null,
            "bottom": null,
            "_model_module": "@jupyter-widgets/base",
            "top": null,
            "grid_column": null,
            "overflow_y": null,
            "overflow_x": null,
            "grid_auto_flow": null,
            "grid_area": null,
            "grid_template_columns": null,
            "flex": null,
            "_model_name": "LayoutModel",
            "justify_items": null,
            "grid_row": null,
            "max_height": null,
            "align_content": null,
            "visibility": null,
            "align_self": null,
            "height": null,
            "min_height": null,
            "padding": null,
            "grid_auto_rows": null,
            "grid_gap": null,
            "max_width": null,
            "order": null,
            "_view_module_version": "1.2.0",
            "grid_template_areas": null,
            "object_position": null,
            "object_fit": null,
            "grid_auto_columns": null,
            "margin": null,
            "display": null,
            "left": null
          }
        },
        "cd9505264cc144ecad8a81124cc2cf61": {
          "model_module": "@jupyter-widgets/controls",
          "model_name": "TextModel",
          "state": {
            "_view_name": "TextView",
            "style": "IPY_MODEL_861c70f6493847d3b410841755d2087c",
            "_dom_classes": [],
            "description": "",
            "_model_name": "TextModel",
            "placeholder": "​",
            "_view_module": "@jupyter-widgets/controls",
            "_model_module_version": "1.5.0",
            "value": "Following data types have been inferred automatically, if they are correct press enter to continue or type 'quit' otherwise.",
            "_view_count": null,
            "disabled": false,
            "_view_module_version": "1.5.0",
            "continuous_update": true,
            "description_tooltip": null,
            "_model_module": "@jupyter-widgets/controls",
            "layout": "IPY_MODEL_603adefc2c814dc799a0254bc8c34eb7"
          }
        },
        "861c70f6493847d3b410841755d2087c": {
          "model_module": "@jupyter-widgets/controls",
          "model_name": "DescriptionStyleModel",
          "state": {
            "_view_name": "StyleView",
            "_model_name": "DescriptionStyleModel",
            "description_width": "",
            "_view_module": "@jupyter-widgets/base",
            "_model_module_version": "1.5.0",
            "_view_count": null,
            "_view_module_version": "1.2.0",
            "_model_module": "@jupyter-widgets/controls"
          }
        },
        "603adefc2c814dc799a0254bc8c34eb7": {
          "model_module": "@jupyter-widgets/base",
          "model_name": "LayoutModel",
          "state": {
            "_view_name": "LayoutView",
            "grid_template_rows": null,
            "right": null,
            "justify_content": null,
            "_view_module": "@jupyter-widgets/base",
            "overflow": null,
            "_model_module_version": "1.2.0",
            "_view_count": null,
            "flex_flow": null,
            "width": "100%",
            "min_width": null,
            "border": null,
            "align_items": null,
            "bottom": null,
            "_model_module": "@jupyter-widgets/base",
            "top": null,
            "grid_column": null,
            "overflow_y": null,
            "overflow_x": null,
            "grid_auto_flow": null,
            "grid_area": null,
            "grid_template_columns": null,
            "flex": null,
            "_model_name": "LayoutModel",
            "justify_items": null,
            "grid_row": null,
            "max_height": null,
            "align_content": null,
            "visibility": null,
            "align_self": null,
            "height": null,
            "min_height": null,
            "padding": null,
            "grid_auto_rows": null,
            "grid_gap": null,
            "max_width": null,
            "order": null,
            "_view_module_version": "1.2.0",
            "grid_template_areas": null,
            "object_position": null,
            "object_fit": null,
            "grid_auto_columns": null,
            "margin": null,
            "display": null,
            "left": null
          }
        },
        "1988c1da242a4385affed944a46a8713": {
          "model_module": "@jupyter-widgets/controls",
          "model_name": "IntProgressModel",
          "state": {
            "_view_name": "ProgressView",
            "style": "IPY_MODEL_9e949dc051a044c790e05cba359c64e1",
            "_dom_classes": [],
            "description": "Processing: ",
            "_model_name": "IntProgressModel",
            "bar_style": "",
            "max": 4,
            "_view_module": "@jupyter-widgets/controls",
            "_model_module_version": "1.5.0",
            "value": 4,
            "_view_count": null,
            "_view_module_version": "1.5.0",
            "orientation": "horizontal",
            "min": 0,
            "description_tooltip": null,
            "_model_module": "@jupyter-widgets/controls",
            "layout": "IPY_MODEL_c4766310fce74393a9e1891d251000ed"
          }
        },
        "9e949dc051a044c790e05cba359c64e1": {
          "model_module": "@jupyter-widgets/controls",
          "model_name": "ProgressStyleModel",
          "state": {
            "_view_name": "StyleView",
            "_model_name": "ProgressStyleModel",
            "description_width": "",
            "_view_module": "@jupyter-widgets/base",
            "_model_module_version": "1.5.0",
            "_view_count": null,
            "_view_module_version": "1.2.0",
            "bar_color": null,
            "_model_module": "@jupyter-widgets/controls"
          }
        },
        "c4766310fce74393a9e1891d251000ed": {
          "model_module": "@jupyter-widgets/base",
          "model_name": "LayoutModel",
          "state": {
            "_view_name": "LayoutView",
            "grid_template_rows": null,
            "right": null,
            "justify_content": null,
            "_view_module": "@jupyter-widgets/base",
            "overflow": null,
            "_model_module_version": "1.2.0",
            "_view_count": null,
            "flex_flow": null,
            "width": null,
            "min_width": null,
            "border": null,
            "align_items": null,
            "bottom": null,
            "_model_module": "@jupyter-widgets/base",
            "top": null,
            "grid_column": null,
            "overflow_y": null,
            "overflow_x": null,
            "grid_auto_flow": null,
            "grid_area": null,
            "grid_template_columns": null,
            "flex": null,
            "_model_name": "LayoutModel",
            "justify_items": null,
            "grid_row": null,
            "max_height": null,
            "align_content": null,
            "visibility": null,
            "align_self": null,
            "height": null,
            "min_height": null,
            "padding": null,
            "grid_auto_rows": null,
            "grid_gap": null,
            "max_width": null,
            "order": null,
            "_view_module_version": "1.2.0",
            "grid_template_areas": null,
            "object_position": null,
            "object_fit": null,
            "grid_auto_columns": null,
            "margin": null,
            "display": null,
            "left": null
          }
        },
        "74f1f6b45539449e9f6afde50c73f0e5": {
          "model_module": "@jupyter-widgets/controls",
          "model_name": "IntProgressModel",
          "state": {
            "_view_name": "ProgressView",
            "style": "IPY_MODEL_6e27559a5c9d4ca1865ab5ddd69d8390",
            "_dom_classes": [],
            "description": "Processing: ",
            "_model_name": "IntProgressModel",
            "bar_style": "",
            "max": 7,
            "_view_module": "@jupyter-widgets/controls",
            "_model_module_version": "1.5.0",
            "value": 7,
            "_view_count": null,
            "_view_module_version": "1.5.0",
            "orientation": "horizontal",
            "min": 0,
            "description_tooltip": null,
            "_model_module": "@jupyter-widgets/controls",
            "layout": "IPY_MODEL_4e2b04754f644bd59cf2c7dbf149b746"
          }
        },
        "6e27559a5c9d4ca1865ab5ddd69d8390": {
          "model_module": "@jupyter-widgets/controls",
          "model_name": "ProgressStyleModel",
          "state": {
            "_view_name": "StyleView",
            "_model_name": "ProgressStyleModel",
            "description_width": "",
            "_view_module": "@jupyter-widgets/base",
            "_model_module_version": "1.5.0",
            "_view_count": null,
            "_view_module_version": "1.2.0",
            "bar_color": null,
            "_model_module": "@jupyter-widgets/controls"
          }
        },
        "4e2b04754f644bd59cf2c7dbf149b746": {
          "model_module": "@jupyter-widgets/base",
          "model_name": "LayoutModel",
          "state": {
            "_view_name": "LayoutView",
            "grid_template_rows": null,
            "right": null,
            "justify_content": null,
            "_view_module": "@jupyter-widgets/base",
            "overflow": null,
            "_model_module_version": "1.2.0",
            "_view_count": null,
            "flex_flow": null,
            "width": null,
            "min_width": null,
            "border": null,
            "align_items": null,
            "bottom": null,
            "_model_module": "@jupyter-widgets/base",
            "top": null,
            "grid_column": null,
            "overflow_y": null,
            "overflow_x": null,
            "grid_auto_flow": null,
            "grid_area": null,
            "grid_template_columns": null,
            "flex": null,
            "_model_name": "LayoutModel",
            "justify_items": null,
            "grid_row": null,
            "max_height": null,
            "align_content": null,
            "visibility": null,
            "align_self": null,
            "height": null,
            "min_height": null,
            "padding": null,
            "grid_auto_rows": null,
            "grid_gap": null,
            "max_width": null,
            "order": null,
            "_view_module_version": "1.2.0",
            "grid_template_areas": null,
            "object_position": null,
            "object_fit": null,
            "grid_auto_columns": null,
            "margin": null,
            "display": null,
            "left": null
          }
        },
        "68e2234c89b646d5ba409de06e767885": {
          "model_module": "@jupyter-widgets/controls",
          "model_name": "IntProgressModel",
          "state": {
            "_view_name": "ProgressView",
            "style": "IPY_MODEL_378a13c4593a4d4ca2502cd3a3af3255",
            "_dom_classes": [],
            "description": "Processing: ",
            "_model_name": "IntProgressModel",
            "bar_style": "",
            "max": 5,
            "_view_module": "@jupyter-widgets/controls",
            "_model_module_version": "1.5.0",
            "value": 5,
            "_view_count": null,
            "_view_module_version": "1.5.0",
            "orientation": "horizontal",
            "min": 0,
            "description_tooltip": null,
            "_model_module": "@jupyter-widgets/controls",
            "layout": "IPY_MODEL_736c1f66d7f748f1a6a53891743f6261"
          }
        },
        "378a13c4593a4d4ca2502cd3a3af3255": {
          "model_module": "@jupyter-widgets/controls",
          "model_name": "ProgressStyleModel",
          "state": {
            "_view_name": "StyleView",
            "_model_name": "ProgressStyleModel",
            "description_width": "",
            "_view_module": "@jupyter-widgets/base",
            "_model_module_version": "1.5.0",
            "_view_count": null,
            "_view_module_version": "1.2.0",
            "bar_color": null,
            "_model_module": "@jupyter-widgets/controls"
          }
        },
        "736c1f66d7f748f1a6a53891743f6261": {
          "model_module": "@jupyter-widgets/base",
          "model_name": "LayoutModel",
          "state": {
            "_view_name": "LayoutView",
            "grid_template_rows": null,
            "right": null,
            "justify_content": null,
            "_view_module": "@jupyter-widgets/base",
            "overflow": null,
            "_model_module_version": "1.2.0",
            "_view_count": null,
            "flex_flow": null,
            "width": null,
            "min_width": null,
            "border": null,
            "align_items": null,
            "bottom": null,
            "_model_module": "@jupyter-widgets/base",
            "top": null,
            "grid_column": null,
            "overflow_y": null,
            "overflow_x": null,
            "grid_auto_flow": null,
            "grid_area": null,
            "grid_template_columns": null,
            "flex": null,
            "_model_name": "LayoutModel",
            "justify_items": null,
            "grid_row": null,
            "max_height": null,
            "align_content": null,
            "visibility": null,
            "align_self": null,
            "height": null,
            "min_height": null,
            "padding": null,
            "grid_auto_rows": null,
            "grid_gap": null,
            "max_width": null,
            "order": null,
            "_view_module_version": "1.2.0",
            "grid_template_areas": null,
            "object_position": null,
            "object_fit": null,
            "grid_auto_columns": null,
            "margin": null,
            "display": null,
            "left": null
          }
        },
        "74826634237a49d78b6b1e3d2034ac9f": {
          "model_module": "@jupyter-widgets/controls",
          "model_name": "IntProgressModel",
          "state": {
            "_view_name": "ProgressView",
            "style": "IPY_MODEL_08ac73be680a447693f1b835912d969f",
            "_dom_classes": [],
            "description": "Processing: ",
            "_model_name": "IntProgressModel",
            "bar_style": "",
            "max": 5,
            "_view_module": "@jupyter-widgets/controls",
            "_model_module_version": "1.5.0",
            "value": 5,
            "_view_count": null,
            "_view_module_version": "1.5.0",
            "orientation": "horizontal",
            "min": 0,
            "description_tooltip": null,
            "_model_module": "@jupyter-widgets/controls",
            "layout": "IPY_MODEL_0abf3272201f499d919a2d428902a47f"
          }
        },
        "08ac73be680a447693f1b835912d969f": {
          "model_module": "@jupyter-widgets/controls",
          "model_name": "ProgressStyleModel",
          "state": {
            "_view_name": "StyleView",
            "_model_name": "ProgressStyleModel",
            "description_width": "",
            "_view_module": "@jupyter-widgets/base",
            "_model_module_version": "1.5.0",
            "_view_count": null,
            "_view_module_version": "1.2.0",
            "bar_color": null,
            "_model_module": "@jupyter-widgets/controls"
          }
        },
        "0abf3272201f499d919a2d428902a47f": {
          "model_module": "@jupyter-widgets/base",
          "model_name": "LayoutModel",
          "state": {
            "_view_name": "LayoutView",
            "grid_template_rows": null,
            "right": null,
            "justify_content": null,
            "_view_module": "@jupyter-widgets/base",
            "overflow": null,
            "_model_module_version": "1.2.0",
            "_view_count": null,
            "flex_flow": null,
            "width": null,
            "min_width": null,
            "border": null,
            "align_items": null,
            "bottom": null,
            "_model_module": "@jupyter-widgets/base",
            "top": null,
            "grid_column": null,
            "overflow_y": null,
            "overflow_x": null,
            "grid_auto_flow": null,
            "grid_area": null,
            "grid_template_columns": null,
            "flex": null,
            "_model_name": "LayoutModel",
            "justify_items": null,
            "grid_row": null,
            "max_height": null,
            "align_content": null,
            "visibility": null,
            "align_self": null,
            "height": null,
            "min_height": null,
            "padding": null,
            "grid_auto_rows": null,
            "grid_gap": null,
            "max_width": null,
            "order": null,
            "_view_module_version": "1.2.0",
            "grid_template_areas": null,
            "object_position": null,
            "object_fit": null,
            "grid_auto_columns": null,
            "margin": null,
            "display": null,
            "left": null
          }
        }
      }
    }
  },
  "cells": [
    {
      "cell_type": "markdown",
      "metadata": {
        "id": "view-in-github",
        "colab_type": "text"
      },
      "source": [
        "<a href=\"https://colab.research.google.com/github/MoonJaeHoon/dacon_parking_demand/blob/master/EDA2_new.ipynb\" target=\"_parent\"><img src=\"https://colab.research.google.com/assets/colab-badge.svg\" alt=\"Open In Colab\"/></a>"
      ]
    },
    {
      "cell_type": "code",
      "metadata": {
        "id": "Pe4zb2X2FwSk"
      },
      "source": [
        "# ## Plot 한글\n",
        "# # Step 1. Matplotlib 업그레이드\n",
        "# !pip install matplotlib -U\n",
        "\n",
        "# # Step 2. 한글 설치 및 사용 설정\n",
        "# !sudo apt-get install -y fonts-nanum\n",
        "# !sudo fc-cache -fv\n",
        "# !rm ~/.cache/matplotlib -rf\n",
        "\n",
        "# # Step 3. 런타임 재시작"
      ],
      "execution_count": 1,
      "outputs": []
    },
    {
      "cell_type": "code",
      "metadata": {
        "id": "rTWT2DU5Hmka",
        "colab": {
          "base_uri": "https://localhost:8080/"
        },
        "outputId": "3c6d0f45-c750-4462-ce5a-36f0548f190f"
      },
      "source": [
        "import os\n",
        "import pickle\n",
        "from tqdm import tqdm, tqdm_notebook\n",
        "from sklearn.ensemble import RandomForestRegressor\n",
        "import pandas as pd\n",
        "import random\n",
        "import numpy as np\n",
        "from pprint import  pprint\n",
        "import warnings\n",
        "warnings.filterwarnings('ignore')\n",
        "# 한글폰트 설정, 그래프 마이너스 표시 설정\n",
        "import matplotlib\n",
        "from matplotlib import font_manager, rc\n",
        "from matplotlib import pyplot as plt\n",
        "import platform\n",
        "import seaborn as sns\n",
        "\n",
        "if platform.system() == 'Windows':\n",
        "# 윈도우인 경우\n",
        "    font_name = font_manager.FontProperties(fname=\"c:/Windows/Fonts/malgun.ttf\").get_name()\n",
        "    rc('font', family=font_name)\n",
        "else:    \n",
        "# Mac 인 경우\n",
        "    rc('font', family='AppleGothic')\n",
        "\n",
        "plt.rcParams['font.family']=['NanumGothic', 'sans-serif']\n",
        "plt.rcParams['axes.unicode_minus'] = False\n",
        "matplotlib.rcParams['axes.unicode_minus'] = False\n",
        "\n",
        "seed=47\n",
        "def set_seed(seed: int = 42, contain_cuda: bool = False):\n",
        "    random.seed(seed)\n",
        "    np.random.seed(seed)\n",
        "\n",
        "    # if contain_cuda:\n",
        "    #     torch.backends.cudnn.deterministic = True\n",
        "    #     torch.backends.cudnn.benchmark = False\n",
        "\n",
        "    # torch.manual_seed(seed)\n",
        "    # torch.cuda.manual_seed(seed)\n",
        "    # torch.cuda.manual_seed_all(seed)\n",
        "    print(f\"seed set as {seed}\")\n",
        "set_seed(seed)"
      ],
      "execution_count": 2,
      "outputs": [
        {
          "output_type": "stream",
          "text": [
            "seed set as 47\n"
          ],
          "name": "stdout"
        }
      ]
    },
    {
      "cell_type": "code",
      "metadata": {
        "colab": {
          "base_uri": "https://localhost:8080/"
        },
        "id": "JgwyRp42K9gO",
        "outputId": "b255e6f5-38a3-4256-f99b-ecabb1f2ddfb"
      },
      "source": [
        "cd /content/drive/MyDrive/dacon_parking_data"
      ],
      "execution_count": 3,
      "outputs": [
        {
          "output_type": "stream",
          "text": [
            "/content/drive/MyDrive/dacon_parking_data\n"
          ],
          "name": "stdout"
        }
      ]
    },
    {
      "cell_type": "code",
      "metadata": {
        "id": "OcYJCwMrLAiT",
        "colab": {
          "base_uri": "https://localhost:8080/"
        },
        "outputId": "4fb68dfb-da0b-4ac8-c2cc-4c57038b6b0c"
      },
      "source": [
        "train = pd.read_csv('./data/train.csv')\n",
        "test = pd.read_csv('./data/test.csv')\n",
        "age_gender_info = pd.read_csv('./data/age_gender_info.csv')\n",
        "submission = pd.read_csv('./data/sample_submission.csv')\n",
        "print(f\"train.shape : {train.shape}\")\n",
        "print(f\"test.shape : {test.shape}\")\n",
        "\n",
        "# print(f\"len(train.columns) : {len(train.columns)}\")\n",
        "# print(f\"len(test.columns) : {len(test.columns)}\")"
      ],
      "execution_count": 4,
      "outputs": [
        {
          "output_type": "stream",
          "text": [
            "train.shape : (2952, 15)\n",
            "test.shape : (1022, 14)\n"
          ],
          "name": "stdout"
        }
      ]
    },
    {
      "cell_type": "code",
      "metadata": {
        "colab": {
          "base_uri": "https://localhost:8080/"
        },
        "id": "_D5tMNQCQH1c",
        "outputId": "7cc643ed-3bd5-4be6-b5a0-ecadc441bd10"
      },
      "source": [
        "# 결측치가 1개라도 존재하는 row들\n",
        "exist_nan_row_idx = train.isnull()[train.isnull().any(axis=1)].index\n",
        "# 결측치가 전혀 없었던 단지코드들\n",
        "no_nan_danjicode = list(set(train['단지코드'].unique()) - set(train.loc[exist_nan_row_idx,:]['단지코드'].unique()))\n",
        "print(len(no_nan_danjicode))\n",
        "print(no_nan_danjicode)"
      ],
      "execution_count": 5,
      "outputs": [
        {
          "output_type": "stream",
          "text": [
            "378\n",
            "['C1155', 'C1320', 'C1672', 'C2620', 'C1048', 'C1659', 'C1502', 'C2470', 'C1592', 'C1866', 'C2066', 'C1281', 'C2256', 'C2142', 'C2351', 'C1516', 'C1713', 'C1163', 'C2377', 'C2515', 'C1490', 'C2563', 'C1102', 'C2040', 'C1940', 'C1218', 'C1406', 'C2661', 'C1176', 'C2173', 'C2446', 'C1000', 'C2329', 'C2401', 'C2483', 'C1171', 'C1258', 'C2259', 'C2659', 'C1845', 'C1046', 'C1910', 'C2587', 'C1689', 'C1916', 'C2188', 'C2251', 'C1344', 'C1819', 'C1085', 'C2071', 'C2082', 'C1426', 'C2070', 'C1802', 'C1566', 'C1889', 'C1660', 'C2046', 'C2431', 'C1328', 'C2605', 'C1706', 'C2358', 'C1685', 'C1065', 'C2013', 'C2568', 'C1565', 'C2631', 'C2346', 'C2596', 'C1757', 'C1994', 'C2298', 'C2274', 'C1641', 'C1234', 'C1724', 'C1095', 'C2020', 'C2530', 'C1941', 'C2276', 'C1738', 'C1638', 'C1663', 'C2556', 'C1379', 'C2097', 'C2099', 'C1743', 'C1319', 'C2232', 'C2133', 'C2488', 'C1939', 'C1585', 'C1394', 'C1057', 'C1136', 'C2389', 'C2371', 'C1537', 'C1979', 'C1544', 'C1268', 'C1744', 'C2032', 'C1084', 'C2663', 'C2021', 'C1430', 'C1468', 'C2325', 'C1880', 'C1329', 'C2489', 'C2486', 'C2453', 'C1263', 'C1049', 'C2186', 'C2586', 'C1837', 'C1244', 'C1674', 'C2532', 'C1668', 'C1740', 'C2549', 'C2560', 'C2522', 'C1681', 'C2670', 'C2680', 'C1911', 'C2336', 'C1907', 'C1988', 'C1039', 'C1036', 'C1666', 'C1077', 'C1871', 'C2437', 'C2316', 'C1579', 'C2089', 'C1129', 'C2352', 'C2143', 'C2496', 'C1368', 'C2527', 'C2373', 'C2414', 'C1227', 'C1027', 'C1584', 'C2162', 'C2225', 'C1945', 'C2514', 'C1173', 'C2139', 'C2492', 'C1236', 'C1867', 'C2153', 'C1756', 'C1933', 'C2666', 'C1357', 'C1177', 'C1103', 'C2508', 'C1015', 'C1786', 'C2036', 'C2094', 'C1803', 'C1492', 'C2378', 'C1967', 'C1307', 'C1768', 'C1863', 'C2595', 'C2609', 'C2085', 'C2390', 'C1620', 'C2393', 'C1970', 'C2340', 'C2237', 'C1879', 'C2000', 'C2612', 'C2137', 'C2574', 'C1642', 'C2042', 'C1497', 'C1451', 'C1455', 'C2314', 'C2245', 'C1969', 'C1309', 'C2361', 'C1700', 'C1402', 'C1045', 'C2420', 'C2539', 'C1613', 'C2692', 'C2651', 'C2657', 'C1341', 'C1636', 'C2326', 'C2412', 'C2433', 'C2049', 'C2287', 'C1310', 'C2357', 'C2450', 'C2359', 'C2405', 'C1465', 'C2394', 'C2570', 'C1213', 'C2319', 'C2526', 'C1788', 'C2059', 'C1968', 'C2536', 'C2579', 'C2505', 'C2445', 'C1014', 'C2154', 'C1896', 'C1143', 'C2362', 'C1519', 'C1156', 'C2328', 'C1693', 'C1365', 'C2086', 'C1133', 'C1397', 'C1833', 'C1861', 'C2479', 'C1962', 'C2255', 'C1834', 'C1470', 'C2068', 'C1773', 'C2627', 'C1527', 'C2051', 'C2507', 'C1900', 'C1718', 'C2001', 'C2208', 'C1286', 'C1601', 'C2618', 'C1569', 'C2383', 'C2010', 'C2211', 'C1687', 'C1761', 'C1572', 'C1131', 'C1207', 'C2008', 'C1024', 'C1804', 'C1194', 'C2106', 'C1410', 'C2181', 'C2513', 'C2096', 'C2481', 'C2073', 'C1673', 'C1929', 'C2460', 'C1375', 'C2503', 'C2055', 'C2385', 'C1013', 'C2531', 'C2016', 'C1059', 'C1386', 'C1487', 'C1026', 'C1326', 'C1316', 'C2227', 'C2561', 'C1338', 'C2565', 'C2601', 'C1652', 'C1885', 'C2635', 'C1340', 'C1985', 'C1783', 'C2490', 'C1677', 'C2127', 'C2035', 'C2458', 'C1284', 'C1428', 'C2202', 'C1141', 'C1184', 'C1973', 'C1936', 'C1848', 'C2192', 'C1699', 'C1089', 'C1762', 'C1695', 'C1697', 'C1343', 'C1032', 'C2576', 'C2538', 'C2650', 'C1448', 'C2506', 'C1732', 'C1022', 'C1363', 'C2603', 'C1965', 'C1987', 'C2368', 'C1407', 'C2308', 'C1898', 'C1360', 'C1210', 'C2518', 'C2141', 'C1655', 'C1301', 'C1894', 'C2221', 'C1017', 'C2262', 'C1122', 'C1269', 'C1823', 'C1850', 'C1180', 'C1656']\n"
          ],
          "name": "stdout"
        }
      ]
    },
    {
      "cell_type": "code",
      "metadata": {
        "colab": {
          "base_uri": "https://localhost:8080/"
        },
        "id": "0vzo_ZhrLA5v",
        "outputId": "0bbdf5b9-abfd-4c15-937c-62c714a2174f"
      },
      "source": [
        "print(\"Train set NULL\")\n",
        "print({k:v for k,v in train.isnull().sum().to_dict().items() if v!=0})\n",
        "print(\"Test set NULL\")\n",
        "print({k:v for k,v in test.isnull().sum().to_dict().items() if v!=0})"
      ],
      "execution_count": 6,
      "outputs": [
        {
          "output_type": "stream",
          "text": [
            "Train set NULL\n",
            "{'임대보증금': 569, '임대료': 569, '도보 10분거리 내 지하철역 수(환승노선 수 반영)': 211, '도보 10분거리 내 버스정류장 수': 4}\n",
            "Test set NULL\n",
            "{'자격유형': 2, '임대보증금': 180, '임대료': 180, '도보 10분거리 내 지하철역 수(환승노선 수 반영)': 42}\n"
          ],
          "name": "stdout"
        }
      ]
    },
    {
      "cell_type": "code",
      "metadata": {
        "id": "jTzbY2cJLOcC"
      },
      "source": [
        "# 임대보증금과 임대료는 '-'을 null로 바꾼 후 float로 타입 변경\n",
        "train.loc[train.임대보증금=='-', '임대보증금'] = np.nan\n",
        "test.loc[test.임대보증금=='-', '임대보증금'] = np.nan\n",
        "train['임대보증금'] = train['임대보증금'].astype(float)\n",
        "test['임대보증금'] = test['임대보증금'].astype(float)\n",
        "\n",
        "train.loc[train.임대료=='-', '임대료'] = np.nan\n",
        "test.loc[test.임대료=='-', '임대료'] = np.nan\n",
        "train['임대료'] = train['임대료'].astype(float)\n",
        "test['임대료'] = test['임대료'].astype(float)"
      ],
      "execution_count": 7,
      "outputs": []
    },
    {
      "cell_type": "code",
      "metadata": {
        "id": "nD5bJiNxLgfC"
      },
      "source": [
        "# 임대보증금과 임대료가 NULL인 경우는 0으로 대체하는 것이 좋아보임\n",
        "train[['임대보증금', '임대료']] = train[['임대보증금', '임대료']].fillna(0)\n",
        "test[['임대보증금', '임대료']] = test[['임대보증금', '임대료']].fillna(0)"
      ],
      "execution_count": 8,
      "outputs": []
    },
    {
      "cell_type": "code",
      "metadata": {
        "id": "OjZDvMX-Lg-D",
        "colab": {
          "base_uri": "https://localhost:8080/"
        },
        "outputId": "bb0a470f-aefc-4c1d-d835-bf068bf64619"
      },
      "source": [
        "print(\"Train set NULL\")\n",
        "print({k:v for k,v in train.isnull().sum().to_dict().items() if v!=0})\n",
        "print(\"Test set NULL\")\n",
        "print({k:v for k,v in test.isnull().sum().to_dict().items() if v!=0})"
      ],
      "execution_count": 9,
      "outputs": [
        {
          "output_type": "stream",
          "text": [
            "Train set NULL\n",
            "{'도보 10분거리 내 지하철역 수(환승노선 수 반영)': 211, '도보 10분거리 내 버스정류장 수': 4}\n",
            "Test set NULL\n",
            "{'자격유형': 2, '도보 10분거리 내 지하철역 수(환승노선 수 반영)': 42}\n"
          ],
          "name": "stdout"
        }
      ]
    },
    {
      "cell_type": "code",
      "metadata": {
        "id": "ZeTe-sTA2v_3"
      },
      "source": [
        "cols = ['도보 10분거리 내 지하철역 수(환승노선 수 반영)', '도보 10분거리 내 버스정류장 수']\n",
        "train[cols] = train[cols].fillna(0)\n",
        "test[cols] = test[cols].fillna(0)"
      ],
      "execution_count": 10,
      "outputs": []
    },
    {
      "cell_type": "code",
      "metadata": {
        "colab": {
          "base_uri": "https://localhost:8080/",
          "height": 304
        },
        "id": "udtlx2GZ23o4",
        "outputId": "20b48efc-8de1-4bd1-f154-7ae1a4073be5"
      },
      "source": [
        "test[test.단지코드=='C2411'] # A로 채우면 될듯"
      ],
      "execution_count": 11,
      "outputs": [
        {
          "output_type": "execute_result",
          "data": {
            "text/html": [
              "<div>\n",
              "<style scoped>\n",
              "    .dataframe tbody tr th:only-of-type {\n",
              "        vertical-align: middle;\n",
              "    }\n",
              "\n",
              "    .dataframe tbody tr th {\n",
              "        vertical-align: top;\n",
              "    }\n",
              "\n",
              "    .dataframe thead th {\n",
              "        text-align: right;\n",
              "    }\n",
              "</style>\n",
              "<table border=\"1\" class=\"dataframe\">\n",
              "  <thead>\n",
              "    <tr style=\"text-align: right;\">\n",
              "      <th></th>\n",
              "      <th>단지코드</th>\n",
              "      <th>총세대수</th>\n",
              "      <th>임대건물구분</th>\n",
              "      <th>지역</th>\n",
              "      <th>공급유형</th>\n",
              "      <th>전용면적</th>\n",
              "      <th>전용면적별세대수</th>\n",
              "      <th>공가수</th>\n",
              "      <th>자격유형</th>\n",
              "      <th>임대보증금</th>\n",
              "      <th>임대료</th>\n",
              "      <th>도보 10분거리 내 지하철역 수(환승노선 수 반영)</th>\n",
              "      <th>도보 10분거리 내 버스정류장 수</th>\n",
              "      <th>단지내주차면수</th>\n",
              "    </tr>\n",
              "  </thead>\n",
              "  <tbody>\n",
              "    <tr>\n",
              "      <th>193</th>\n",
              "      <td>C2411</td>\n",
              "      <td>962</td>\n",
              "      <td>아파트</td>\n",
              "      <td>경상남도</td>\n",
              "      <td>국민임대</td>\n",
              "      <td>39.43</td>\n",
              "      <td>56</td>\n",
              "      <td>25.0</td>\n",
              "      <td>A</td>\n",
              "      <td>11992000.0</td>\n",
              "      <td>100720.0</td>\n",
              "      <td>0.0</td>\n",
              "      <td>2.0</td>\n",
              "      <td>840.0</td>\n",
              "    </tr>\n",
              "    <tr>\n",
              "      <th>194</th>\n",
              "      <td>C2411</td>\n",
              "      <td>962</td>\n",
              "      <td>아파트</td>\n",
              "      <td>경상남도</td>\n",
              "      <td>국민임대</td>\n",
              "      <td>39.72</td>\n",
              "      <td>336</td>\n",
              "      <td>25.0</td>\n",
              "      <td>A</td>\n",
              "      <td>11992000.0</td>\n",
              "      <td>100720.0</td>\n",
              "      <td>0.0</td>\n",
              "      <td>2.0</td>\n",
              "      <td>840.0</td>\n",
              "    </tr>\n",
              "    <tr>\n",
              "      <th>195</th>\n",
              "      <td>C2411</td>\n",
              "      <td>962</td>\n",
              "      <td>아파트</td>\n",
              "      <td>경상남도</td>\n",
              "      <td>국민임대</td>\n",
              "      <td>39.82</td>\n",
              "      <td>179</td>\n",
              "      <td>25.0</td>\n",
              "      <td>A</td>\n",
              "      <td>11992000.0</td>\n",
              "      <td>100720.0</td>\n",
              "      <td>0.0</td>\n",
              "      <td>2.0</td>\n",
              "      <td>840.0</td>\n",
              "    </tr>\n",
              "    <tr>\n",
              "      <th>196</th>\n",
              "      <td>C2411</td>\n",
              "      <td>962</td>\n",
              "      <td>아파트</td>\n",
              "      <td>경상남도</td>\n",
              "      <td>국민임대</td>\n",
              "      <td>46.90</td>\n",
              "      <td>240</td>\n",
              "      <td>25.0</td>\n",
              "      <td>NaN</td>\n",
              "      <td>71950000.0</td>\n",
              "      <td>37470.0</td>\n",
              "      <td>0.0</td>\n",
              "      <td>2.0</td>\n",
              "      <td>840.0</td>\n",
              "    </tr>\n",
              "    <tr>\n",
              "      <th>197</th>\n",
              "      <td>C2411</td>\n",
              "      <td>962</td>\n",
              "      <td>아파트</td>\n",
              "      <td>경상남도</td>\n",
              "      <td>국민임대</td>\n",
              "      <td>51.93</td>\n",
              "      <td>150</td>\n",
              "      <td>25.0</td>\n",
              "      <td>A</td>\n",
              "      <td>21586000.0</td>\n",
              "      <td>171480.0</td>\n",
              "      <td>0.0</td>\n",
              "      <td>2.0</td>\n",
              "      <td>840.0</td>\n",
              "    </tr>\n",
              "  </tbody>\n",
              "</table>\n",
              "</div>"
            ],
            "text/plain": [
              "      단지코드  총세대수  ... 도보 10분거리 내 버스정류장 수 단지내주차면수\n",
              "193  C2411   962  ...                2.0   840.0\n",
              "194  C2411   962  ...                2.0   840.0\n",
              "195  C2411   962  ...                2.0   840.0\n",
              "196  C2411   962  ...                2.0   840.0\n",
              "197  C2411   962  ...                2.0   840.0\n",
              "\n",
              "[5 rows x 14 columns]"
            ]
          },
          "metadata": {
            "tags": []
          },
          "execution_count": 11
        }
      ]
    },
    {
      "cell_type": "code",
      "metadata": {
        "id": "WPU9yYrq2yfH"
      },
      "source": [
        "test.loc[test.단지코드.isin(['C2411']) & test.자격유형.isnull(), '자격유형'] = 'A'"
      ],
      "execution_count": 12,
      "outputs": []
    },
    {
      "cell_type": "code",
      "metadata": {
        "colab": {
          "base_uri": "https://localhost:8080/",
          "height": 304
        },
        "id": "V9FACttL2z9v",
        "outputId": "0557191c-dfd3-4d44-df6a-e8870a1e59e0"
      },
      "source": [
        "test[test.단지코드=='C2253'].head() # 임대보증금과 임대료가 존재하는 경우 자격유형이 C => C로 채우면 될듯"
      ],
      "execution_count": 13,
      "outputs": [
        {
          "output_type": "execute_result",
          "data": {
            "text/html": [
              "<div>\n",
              "<style scoped>\n",
              "    .dataframe tbody tr th:only-of-type {\n",
              "        vertical-align: middle;\n",
              "    }\n",
              "\n",
              "    .dataframe tbody tr th {\n",
              "        vertical-align: top;\n",
              "    }\n",
              "\n",
              "    .dataframe thead th {\n",
              "        text-align: right;\n",
              "    }\n",
              "</style>\n",
              "<table border=\"1\" class=\"dataframe\">\n",
              "  <thead>\n",
              "    <tr style=\"text-align: right;\">\n",
              "      <th></th>\n",
              "      <th>단지코드</th>\n",
              "      <th>총세대수</th>\n",
              "      <th>임대건물구분</th>\n",
              "      <th>지역</th>\n",
              "      <th>공급유형</th>\n",
              "      <th>전용면적</th>\n",
              "      <th>전용면적별세대수</th>\n",
              "      <th>공가수</th>\n",
              "      <th>자격유형</th>\n",
              "      <th>임대보증금</th>\n",
              "      <th>임대료</th>\n",
              "      <th>도보 10분거리 내 지하철역 수(환승노선 수 반영)</th>\n",
              "      <th>도보 10분거리 내 버스정류장 수</th>\n",
              "      <th>단지내주차면수</th>\n",
              "    </tr>\n",
              "  </thead>\n",
              "  <tbody>\n",
              "    <tr>\n",
              "      <th>258</th>\n",
              "      <td>C2253</td>\n",
              "      <td>1161</td>\n",
              "      <td>아파트</td>\n",
              "      <td>강원도</td>\n",
              "      <td>영구임대</td>\n",
              "      <td>26.37</td>\n",
              "      <td>745</td>\n",
              "      <td>0.0</td>\n",
              "      <td>NaN</td>\n",
              "      <td>2249000.0</td>\n",
              "      <td>44770.0</td>\n",
              "      <td>0.0</td>\n",
              "      <td>2.0</td>\n",
              "      <td>173.0</td>\n",
              "    </tr>\n",
              "    <tr>\n",
              "      <th>259</th>\n",
              "      <td>C2253</td>\n",
              "      <td>1161</td>\n",
              "      <td>아파트</td>\n",
              "      <td>강원도</td>\n",
              "      <td>영구임대</td>\n",
              "      <td>31.32</td>\n",
              "      <td>239</td>\n",
              "      <td>0.0</td>\n",
              "      <td>C</td>\n",
              "      <td>3731000.0</td>\n",
              "      <td>83020.0</td>\n",
              "      <td>0.0</td>\n",
              "      <td>2.0</td>\n",
              "      <td>173.0</td>\n",
              "    </tr>\n",
              "    <tr>\n",
              "      <th>260</th>\n",
              "      <td>C2253</td>\n",
              "      <td>1161</td>\n",
              "      <td>아파트</td>\n",
              "      <td>강원도</td>\n",
              "      <td>영구임대</td>\n",
              "      <td>31.32</td>\n",
              "      <td>149</td>\n",
              "      <td>0.0</td>\n",
              "      <td>C</td>\n",
              "      <td>3731000.0</td>\n",
              "      <td>83020.0</td>\n",
              "      <td>0.0</td>\n",
              "      <td>2.0</td>\n",
              "      <td>173.0</td>\n",
              "    </tr>\n",
              "    <tr>\n",
              "      <th>261</th>\n",
              "      <td>C2253</td>\n",
              "      <td>1161</td>\n",
              "      <td>상가</td>\n",
              "      <td>강원도</td>\n",
              "      <td>임대상가</td>\n",
              "      <td>13.77</td>\n",
              "      <td>1</td>\n",
              "      <td>0.0</td>\n",
              "      <td>D</td>\n",
              "      <td>0.0</td>\n",
              "      <td>0.0</td>\n",
              "      <td>0.0</td>\n",
              "      <td>2.0</td>\n",
              "      <td>173.0</td>\n",
              "    </tr>\n",
              "    <tr>\n",
              "      <th>262</th>\n",
              "      <td>C2253</td>\n",
              "      <td>1161</td>\n",
              "      <td>상가</td>\n",
              "      <td>강원도</td>\n",
              "      <td>임대상가</td>\n",
              "      <td>22.89</td>\n",
              "      <td>1</td>\n",
              "      <td>0.0</td>\n",
              "      <td>D</td>\n",
              "      <td>0.0</td>\n",
              "      <td>0.0</td>\n",
              "      <td>0.0</td>\n",
              "      <td>2.0</td>\n",
              "      <td>173.0</td>\n",
              "    </tr>\n",
              "  </tbody>\n",
              "</table>\n",
              "</div>"
            ],
            "text/plain": [
              "      단지코드  총세대수  ... 도보 10분거리 내 버스정류장 수 단지내주차면수\n",
              "258  C2253  1161  ...                2.0   173.0\n",
              "259  C2253  1161  ...                2.0   173.0\n",
              "260  C2253  1161  ...                2.0   173.0\n",
              "261  C2253  1161  ...                2.0   173.0\n",
              "262  C2253  1161  ...                2.0   173.0\n",
              "\n",
              "[5 rows x 14 columns]"
            ]
          },
          "metadata": {
            "tags": []
          },
          "execution_count": 13
        }
      ]
    },
    {
      "cell_type": "code",
      "metadata": {
        "id": "DMWiJw0G21nG"
      },
      "source": [
        "test.loc[test.단지코드.isin(['C2253']) & test.자격유형.isnull(), '자격유형'] = 'C'"
      ],
      "execution_count": 14,
      "outputs": []
    },
    {
      "cell_type": "code",
      "metadata": {
        "colab": {
          "base_uri": "https://localhost:8080/"
        },
        "id": "9AMDZwda241N",
        "outputId": "39c18633-3b11-4636-d708-ef6e5cf17537"
      },
      "source": [
        "print(\"Train set NULL\")\n",
        "print({k:v for k,v in train.isnull().sum().to_dict().items() if v!=0})\n",
        "print(\"Test set NULL\")\n",
        "print({k:v for k,v in test.isnull().sum().to_dict().items() if v!=0})"
      ],
      "execution_count": 15,
      "outputs": [
        {
          "output_type": "stream",
          "text": [
            "Train set NULL\n",
            "{}\n",
            "Test set NULL\n",
            "{}\n"
          ],
          "name": "stdout"
        }
      ]
    },
    {
      "cell_type": "markdown",
      "metadata": {
        "id": "Eyk6LY4GCMVZ"
      },
      "source": [
        "+ 중복되는 데이터는 제거하고 분석을 진행하는 것이 좋아보임 (일단 중복제거 안하고 진행해보기)"
      ]
    },
    {
      "cell_type": "code",
      "metadata": {
        "id": "d6IOcVm8CKu8"
      },
      "source": [
        "# train = train.drop_duplicates()\n",
        "# test = test.drop_duplicates()"
      ],
      "execution_count": 16,
      "outputs": []
    },
    {
      "cell_type": "code",
      "metadata": {
        "colab": {
          "base_uri": "https://localhost:8080/",
          "height": 304
        },
        "id": "Lh_8Ayc5zrBk",
        "outputId": "9a07bdff-a5bc-49ba-e613-217d8e4dc959"
      },
      "source": [
        "train.head()"
      ],
      "execution_count": 17,
      "outputs": [
        {
          "output_type": "execute_result",
          "data": {
            "text/html": [
              "<div>\n",
              "<style scoped>\n",
              "    .dataframe tbody tr th:only-of-type {\n",
              "        vertical-align: middle;\n",
              "    }\n",
              "\n",
              "    .dataframe tbody tr th {\n",
              "        vertical-align: top;\n",
              "    }\n",
              "\n",
              "    .dataframe thead th {\n",
              "        text-align: right;\n",
              "    }\n",
              "</style>\n",
              "<table border=\"1\" class=\"dataframe\">\n",
              "  <thead>\n",
              "    <tr style=\"text-align: right;\">\n",
              "      <th></th>\n",
              "      <th>단지코드</th>\n",
              "      <th>총세대수</th>\n",
              "      <th>임대건물구분</th>\n",
              "      <th>지역</th>\n",
              "      <th>공급유형</th>\n",
              "      <th>전용면적</th>\n",
              "      <th>전용면적별세대수</th>\n",
              "      <th>공가수</th>\n",
              "      <th>자격유형</th>\n",
              "      <th>임대보증금</th>\n",
              "      <th>임대료</th>\n",
              "      <th>도보 10분거리 내 지하철역 수(환승노선 수 반영)</th>\n",
              "      <th>도보 10분거리 내 버스정류장 수</th>\n",
              "      <th>단지내주차면수</th>\n",
              "      <th>등록차량수</th>\n",
              "    </tr>\n",
              "  </thead>\n",
              "  <tbody>\n",
              "    <tr>\n",
              "      <th>0</th>\n",
              "      <td>C2483</td>\n",
              "      <td>900</td>\n",
              "      <td>아파트</td>\n",
              "      <td>경상북도</td>\n",
              "      <td>국민임대</td>\n",
              "      <td>39.72</td>\n",
              "      <td>134</td>\n",
              "      <td>38.0</td>\n",
              "      <td>A</td>\n",
              "      <td>15667000.0</td>\n",
              "      <td>103680.0</td>\n",
              "      <td>0.0</td>\n",
              "      <td>3.0</td>\n",
              "      <td>1425.0</td>\n",
              "      <td>1015.0</td>\n",
              "    </tr>\n",
              "    <tr>\n",
              "      <th>1</th>\n",
              "      <td>C2483</td>\n",
              "      <td>900</td>\n",
              "      <td>아파트</td>\n",
              "      <td>경상북도</td>\n",
              "      <td>국민임대</td>\n",
              "      <td>39.72</td>\n",
              "      <td>15</td>\n",
              "      <td>38.0</td>\n",
              "      <td>A</td>\n",
              "      <td>15667000.0</td>\n",
              "      <td>103680.0</td>\n",
              "      <td>0.0</td>\n",
              "      <td>3.0</td>\n",
              "      <td>1425.0</td>\n",
              "      <td>1015.0</td>\n",
              "    </tr>\n",
              "    <tr>\n",
              "      <th>2</th>\n",
              "      <td>C2483</td>\n",
              "      <td>900</td>\n",
              "      <td>아파트</td>\n",
              "      <td>경상북도</td>\n",
              "      <td>국민임대</td>\n",
              "      <td>51.93</td>\n",
              "      <td>385</td>\n",
              "      <td>38.0</td>\n",
              "      <td>A</td>\n",
              "      <td>27304000.0</td>\n",
              "      <td>184330.0</td>\n",
              "      <td>0.0</td>\n",
              "      <td>3.0</td>\n",
              "      <td>1425.0</td>\n",
              "      <td>1015.0</td>\n",
              "    </tr>\n",
              "    <tr>\n",
              "      <th>3</th>\n",
              "      <td>C2483</td>\n",
              "      <td>900</td>\n",
              "      <td>아파트</td>\n",
              "      <td>경상북도</td>\n",
              "      <td>국민임대</td>\n",
              "      <td>51.93</td>\n",
              "      <td>15</td>\n",
              "      <td>38.0</td>\n",
              "      <td>A</td>\n",
              "      <td>27304000.0</td>\n",
              "      <td>184330.0</td>\n",
              "      <td>0.0</td>\n",
              "      <td>3.0</td>\n",
              "      <td>1425.0</td>\n",
              "      <td>1015.0</td>\n",
              "    </tr>\n",
              "    <tr>\n",
              "      <th>4</th>\n",
              "      <td>C2483</td>\n",
              "      <td>900</td>\n",
              "      <td>아파트</td>\n",
              "      <td>경상북도</td>\n",
              "      <td>국민임대</td>\n",
              "      <td>51.93</td>\n",
              "      <td>41</td>\n",
              "      <td>38.0</td>\n",
              "      <td>A</td>\n",
              "      <td>27304000.0</td>\n",
              "      <td>184330.0</td>\n",
              "      <td>0.0</td>\n",
              "      <td>3.0</td>\n",
              "      <td>1425.0</td>\n",
              "      <td>1015.0</td>\n",
              "    </tr>\n",
              "  </tbody>\n",
              "</table>\n",
              "</div>"
            ],
            "text/plain": [
              "    단지코드  총세대수 임대건물구분  ... 도보 10분거리 내 버스정류장 수 단지내주차면수   등록차량수\n",
              "0  C2483   900    아파트  ...                3.0  1425.0  1015.0\n",
              "1  C2483   900    아파트  ...                3.0  1425.0  1015.0\n",
              "2  C2483   900    아파트  ...                3.0  1425.0  1015.0\n",
              "3  C2483   900    아파트  ...                3.0  1425.0  1015.0\n",
              "4  C2483   900    아파트  ...                3.0  1425.0  1015.0\n",
              "\n",
              "[5 rows x 15 columns]"
            ]
          },
          "metadata": {
            "tags": []
          },
          "execution_count": 17
        }
      ]
    },
    {
      "cell_type": "markdown",
      "metadata": {
        "id": "97UZ8tNxs5OU"
      },
      "source": [
        "### 자격유형 category 묶기\n",
        "\n",
        "> B, F, O는 다른 어떤 항목에 포함시켜 무조건 묶어줘야함\n",
        "\n",
        "\n",
        "1. O는 'J', 'L', 'K', 'N', 'M', 'O'로 묶어서 '행복주택_공급대상'으로\n",
        "2. B는 'B','H','G'로 묶어서 '국민임대_공급대상'으로\n",
        "3. F는 'C','I','F'로 묶어서 '영구임대_공급대상'으로"
      ]
    },
    {
      "cell_type": "code",
      "metadata": {
        "colab": {
          "base_uri": "https://localhost:8080/",
          "height": 511
        },
        "id": "mB_pOunD9nHw",
        "outputId": "6fd43b60-fa2c-480b-b47b-5ebe6597e190"
      },
      "source": [
        "# 자격유형의 항목들 중 train에는 있지만 test에는 존재하지 않는 항목들이 존재.\n",
        "pd.concat([train.자격유형.value_counts(), test.자격유형.value_counts()], axis=1)\n",
        "# B, F, O"
      ],
      "execution_count": 18,
      "outputs": [
        {
          "output_type": "execute_result",
          "data": {
            "text/html": [
              "<div>\n",
              "<style scoped>\n",
              "    .dataframe tbody tr th:only-of-type {\n",
              "        vertical-align: middle;\n",
              "    }\n",
              "\n",
              "    .dataframe tbody tr th {\n",
              "        vertical-align: top;\n",
              "    }\n",
              "\n",
              "    .dataframe thead th {\n",
              "        text-align: right;\n",
              "    }\n",
              "</style>\n",
              "<table border=\"1\" class=\"dataframe\">\n",
              "  <thead>\n",
              "    <tr style=\"text-align: right;\">\n",
              "      <th></th>\n",
              "      <th>자격유형</th>\n",
              "      <th>자격유형</th>\n",
              "    </tr>\n",
              "  </thead>\n",
              "  <tbody>\n",
              "    <tr>\n",
              "      <th>A</th>\n",
              "      <td>1801</td>\n",
              "      <td>573.0</td>\n",
              "    </tr>\n",
              "    <tr>\n",
              "      <th>D</th>\n",
              "      <td>569</td>\n",
              "      <td>180.0</td>\n",
              "    </tr>\n",
              "    <tr>\n",
              "      <th>H</th>\n",
              "      <td>155</td>\n",
              "      <td>92.0</td>\n",
              "    </tr>\n",
              "    <tr>\n",
              "      <th>J</th>\n",
              "      <td>114</td>\n",
              "      <td>84.0</td>\n",
              "    </tr>\n",
              "    <tr>\n",
              "      <th>C</th>\n",
              "      <td>95</td>\n",
              "      <td>35.0</td>\n",
              "    </tr>\n",
              "    <tr>\n",
              "      <th>I</th>\n",
              "      <td>49</td>\n",
              "      <td>7.0</td>\n",
              "    </tr>\n",
              "    <tr>\n",
              "      <th>E</th>\n",
              "      <td>37</td>\n",
              "      <td>10.0</td>\n",
              "    </tr>\n",
              "    <tr>\n",
              "      <th>L</th>\n",
              "      <td>33</td>\n",
              "      <td>12.0</td>\n",
              "    </tr>\n",
              "    <tr>\n",
              "      <th>K</th>\n",
              "      <td>33</td>\n",
              "      <td>16.0</td>\n",
              "    </tr>\n",
              "    <tr>\n",
              "      <th>N</th>\n",
              "      <td>30</td>\n",
              "      <td>10.0</td>\n",
              "    </tr>\n",
              "    <tr>\n",
              "      <th>B</th>\n",
              "      <td>21</td>\n",
              "      <td>NaN</td>\n",
              "    </tr>\n",
              "    <tr>\n",
              "      <th>G</th>\n",
              "      <td>9</td>\n",
              "      <td>1.0</td>\n",
              "    </tr>\n",
              "    <tr>\n",
              "      <th>F</th>\n",
              "      <td>3</td>\n",
              "      <td>NaN</td>\n",
              "    </tr>\n",
              "    <tr>\n",
              "      <th>M</th>\n",
              "      <td>2</td>\n",
              "      <td>2.0</td>\n",
              "    </tr>\n",
              "    <tr>\n",
              "      <th>O</th>\n",
              "      <td>1</td>\n",
              "      <td>NaN</td>\n",
              "    </tr>\n",
              "  </tbody>\n",
              "</table>\n",
              "</div>"
            ],
            "text/plain": [
              "   자격유형   자격유형\n",
              "A  1801  573.0\n",
              "D   569  180.0\n",
              "H   155   92.0\n",
              "J   114   84.0\n",
              "C    95   35.0\n",
              "I    49    7.0\n",
              "E    37   10.0\n",
              "L    33   12.0\n",
              "K    33   16.0\n",
              "N    30   10.0\n",
              "B    21    NaN\n",
              "G     9    1.0\n",
              "F     3    NaN\n",
              "M     2    2.0\n",
              "O     1    NaN"
            ]
          },
          "metadata": {
            "tags": []
          },
          "execution_count": 18
        }
      ]
    },
    {
      "cell_type": "markdown",
      "metadata": {
        "id": "g7_jtYkkuwfP"
      },
      "source": [
        "1. 'J', 'L', 'K', 'N', 'M', 'O' 묶어버리기 => 행복주택_공급대상"
      ]
    },
    {
      "cell_type": "code",
      "metadata": {
        "colab": {
          "base_uri": "https://localhost:8080/"
        },
        "id": "KDBefPtlsm-A",
        "outputId": "b086ba43-7dc3-469e-e619-f6c58c063754"
      },
      "source": [
        "# 'J', 'L', 'K', 'N', 'M', 'O' 는 공급유형이 행복주택인 경우에서만 나타남 이것만 따로 묶는게 좋을듯\n",
        "train.loc[train.자격유형.isin(['J', 'L', 'K', 'N', 'M', 'O']), '공급유형'].value_counts()"
      ],
      "execution_count": 19,
      "outputs": [
        {
          "output_type": "execute_result",
          "data": {
            "text/plain": [
              "행복주택    213\n",
              "Name: 공급유형, dtype: int64"
            ]
          },
          "metadata": {
            "tags": []
          },
          "execution_count": 19
        }
      ]
    },
    {
      "cell_type": "code",
      "metadata": {
        "colab": {
          "base_uri": "https://localhost:8080/"
        },
        "id": "KZgjm9W3sp-w",
        "outputId": "3157b86f-da2a-4540-ab7a-5c83f9c1ab00"
      },
      "source": [
        "train.loc[train.공급유형=='행복주택', '자격유형'].value_counts()"
      ],
      "execution_count": 20,
      "outputs": [
        {
          "output_type": "execute_result",
          "data": {
            "text/plain": [
              "J    114\n",
              "K     33\n",
              "L     33\n",
              "N     30\n",
              "M      2\n",
              "O      1\n",
              "Name: 자격유형, dtype: int64"
            ]
          },
          "metadata": {
            "tags": []
          },
          "execution_count": 20
        }
      ]
    },
    {
      "cell_type": "code",
      "metadata": {
        "id": "HCQvvAgKs3z_"
      },
      "source": [
        "train.loc[train.자격유형.isin(['J', 'L', 'K', 'N', 'M', 'O']), '자격유형'] = '행복주택_공급대상'\n",
        "test.loc[test.자격유형.isin(['J', 'L', 'K', 'N', 'M', 'O']), '자격유형'] = '행복주택_공급대상'"
      ],
      "execution_count": 21,
      "outputs": []
    },
    {
      "cell_type": "markdown",
      "metadata": {
        "id": "Rz5hnMYtu4gN"
      },
      "source": [
        "2. 'B','H','G' 묶어버리기 => 국민임대_공급대상"
      ]
    },
    {
      "cell_type": "code",
      "metadata": {
        "colab": {
          "base_uri": "https://localhost:8080/"
        },
        "id": "UG2ZPa6ns-Wy",
        "outputId": "c72f0304-8b41-4b49-a7a0-21004aa229b0"
      },
      "source": [
        "train.loc[train.자격유형=='B','공급유형'].value_counts()"
      ],
      "execution_count": 22,
      "outputs": [
        {
          "output_type": "execute_result",
          "data": {
            "text/plain": [
              "국민임대    21\n",
              "Name: 공급유형, dtype: int64"
            ]
          },
          "metadata": {
            "tags": []
          },
          "execution_count": 22
        }
      ]
    },
    {
      "cell_type": "code",
      "metadata": {
        "colab": {
          "base_uri": "https://localhost:8080/"
        },
        "id": "zQLn6j0htRZ1",
        "outputId": "6a1275e3-45e1-41da-b60f-16720832c031"
      },
      "source": [
        "train.loc[train.공급유형=='국민임대', '자격유형'].value_counts()"
      ],
      "execution_count": 23,
      "outputs": [
        {
          "output_type": "execute_result",
          "data": {
            "text/plain": [
              "A    1539\n",
              "H     155\n",
              "E      34\n",
              "B      21\n",
              "G       9\n",
              "Name: 자격유형, dtype: int64"
            ]
          },
          "metadata": {
            "tags": []
          },
          "execution_count": 23
        }
      ]
    },
    {
      "cell_type": "code",
      "metadata": {
        "colab": {
          "base_uri": "https://localhost:8080/"
        },
        "id": "jB6A14tUteq8",
        "outputId": "89a3447a-cda0-4c9c-b325-36f73a4d139e"
      },
      "source": [
        "train.loc[train.자격유형.isin(['A', 'H', 'E', 'B', 'G']), '공급유형'].value_counts()\n"
      ],
      "execution_count": 24,
      "outputs": [
        {
          "output_type": "execute_result",
          "data": {
            "text/plain": [
              "국민임대         1758\n",
              "공공임대(10년)     205\n",
              "공공임대(50년)      31\n",
              "공공임대(분납)       12\n",
              "장기전세            9\n",
              "영구임대            5\n",
              "공공임대(5년)        3\n",
              "Name: 공급유형, dtype: int64"
            ]
          },
          "metadata": {
            "tags": []
          },
          "execution_count": 24
        }
      ]
    },
    {
      "cell_type": "code",
      "metadata": {
        "colab": {
          "base_uri": "https://localhost:8080/"
        },
        "id": "mYW4do9ntqZf",
        "outputId": "0e71df56-6d64-4efc-ebef-d023b57b3fb4"
      },
      "source": [
        "train.loc[train.자격유형=='A','공급유형'].value_counts()"
      ],
      "execution_count": 25,
      "outputs": [
        {
          "output_type": "execute_result",
          "data": {
            "text/plain": [
              "국민임대         1539\n",
              "공공임대(10년)     205\n",
              "공공임대(50년)      31\n",
              "공공임대(분납)       12\n",
              "장기전세            9\n",
              "공공임대(5년)        3\n",
              "영구임대            2\n",
              "Name: 공급유형, dtype: int64"
            ]
          },
          "metadata": {
            "tags": []
          },
          "execution_count": 25
        }
      ]
    },
    {
      "cell_type": "code",
      "metadata": {
        "colab": {
          "base_uri": "https://localhost:8080/"
        },
        "id": "B3BAVdb2tsyT",
        "outputId": "586a5f3b-54fb-427b-9e80-1de5cd7f6992"
      },
      "source": [
        "print(train.loc[train.자격유형=='H','공급유형'].value_counts())\n",
        "print(test.loc[test.자격유형=='H','공급유형'].value_counts())"
      ],
      "execution_count": 26,
      "outputs": [
        {
          "output_type": "stream",
          "text": [
            "국민임대    155\n",
            "Name: 공급유형, dtype: int64\n",
            "국민임대    92\n",
            "Name: 공급유형, dtype: int64\n"
          ],
          "name": "stdout"
        }
      ]
    },
    {
      "cell_type": "code",
      "metadata": {
        "colab": {
          "base_uri": "https://localhost:8080/"
        },
        "id": "ZbCaGKcutt8H",
        "outputId": "c6e46737-9474-4adf-bba3-6379a47014f0"
      },
      "source": [
        "print(train.loc[train.자격유형=='E','공급유형'].value_counts())\n",
        "print(test.loc[test.자격유형=='E','공급유형'].value_counts())"
      ],
      "execution_count": 27,
      "outputs": [
        {
          "output_type": "stream",
          "text": [
            "국민임대    34\n",
            "영구임대     3\n",
            "Name: 공급유형, dtype: int64\n",
            "국민임대    10\n",
            "Name: 공급유형, dtype: int64\n"
          ],
          "name": "stdout"
        }
      ]
    },
    {
      "cell_type": "code",
      "metadata": {
        "colab": {
          "base_uri": "https://localhost:8080/"
        },
        "id": "kZcfLX5FtwGq",
        "outputId": "188ff7ba-82d3-4640-f7ea-ef7eb586f34d"
      },
      "source": [
        "print(train.loc[train.자격유형=='G','공급유형'].value_counts())\n",
        "print(test.loc[test.자격유형=='G','공급유형'].value_counts())"
      ],
      "execution_count": 28,
      "outputs": [
        {
          "output_type": "stream",
          "text": [
            "국민임대    9\n",
            "Name: 공급유형, dtype: int64\n",
            "국민임대    1\n",
            "Name: 공급유형, dtype: int64\n"
          ],
          "name": "stdout"
        }
      ]
    },
    {
      "cell_type": "code",
      "metadata": {
        "id": "kx8RG8savCAK"
      },
      "source": [
        "train.loc[train.자격유형.isin(['B','H','G']), '자격유형'] = '국민임대_공급대상'\n",
        "test.loc[test.자격유형.isin(['B','H','G']), '자격유형'] = '국민임대_공급대상'"
      ],
      "execution_count": 29,
      "outputs": []
    },
    {
      "cell_type": "markdown",
      "metadata": {
        "id": "cqCMZzemvK_u"
      },
      "source": [
        "3. 'F','C','I' 묶어버리기 => 국민임대_공급대상"
      ]
    },
    {
      "cell_type": "code",
      "metadata": {
        "colab": {
          "base_uri": "https://localhost:8080/"
        },
        "id": "sg5-qGj7vHYe",
        "outputId": "c3142615-9353-4c90-fb77-025ba2fa4be2"
      },
      "source": [
        "print(train.loc[train.자격유형=='F','공급유형'].value_counts())"
      ],
      "execution_count": 30,
      "outputs": [
        {
          "output_type": "stream",
          "text": [
            "영구임대    3\n",
            "Name: 공급유형, dtype: int64\n"
          ],
          "name": "stdout"
        }
      ]
    },
    {
      "cell_type": "code",
      "metadata": {
        "colab": {
          "base_uri": "https://localhost:8080/"
        },
        "id": "UE4cT51Gv2KL",
        "outputId": "d1d84094-c1fc-4b0d-9205-84baa5778629"
      },
      "source": [
        "print(train.loc[train.공급유형=='영구임대', '자격유형'].value_counts())\n",
        "print(test.loc[test.공급유형=='영구임대', '자격유형'].value_counts())"
      ],
      "execution_count": 31,
      "outputs": [
        {
          "output_type": "stream",
          "text": [
            "C    95\n",
            "I    49\n",
            "E     3\n",
            "F     3\n",
            "A     2\n",
            "Name: 자격유형, dtype: int64\n",
            "C    35\n",
            "I     7\n",
            "D     3\n",
            "Name: 자격유형, dtype: int64\n"
          ],
          "name": "stdout"
        }
      ]
    },
    {
      "cell_type": "code",
      "metadata": {
        "colab": {
          "base_uri": "https://localhost:8080/"
        },
        "id": "AIZAlPLbwDTv",
        "outputId": "21c1baeb-b9a1-4696-e025-0a58a1c22505"
      },
      "source": [
        "# C는 영구임대_공급대상에 포함.\n",
        "print(train.loc[train.자격유형=='C','공급유형'].value_counts())\n",
        "print(test.loc[test.자격유형=='C','공급유형'].value_counts())"
      ],
      "execution_count": 32,
      "outputs": [
        {
          "output_type": "stream",
          "text": [
            "영구임대    95\n",
            "Name: 공급유형, dtype: int64\n",
            "영구임대    35\n",
            "Name: 공급유형, dtype: int64\n"
          ],
          "name": "stdout"
        }
      ]
    },
    {
      "cell_type": "code",
      "metadata": {
        "colab": {
          "base_uri": "https://localhost:8080/"
        },
        "id": "OJL9q5LzwJp_",
        "outputId": "a20def45-f061-4048-9546-d4244481ca4c"
      },
      "source": [
        "# I도 영구임대_공급대상에 포함.\n",
        "print(train.loc[train.자격유형=='I','공급유형'].value_counts())\n",
        "print(test.loc[test.자격유형=='I','공급유형'].value_counts())"
      ],
      "execution_count": 33,
      "outputs": [
        {
          "output_type": "stream",
          "text": [
            "영구임대    49\n",
            "Name: 공급유형, dtype: int64\n",
            "영구임대    7\n",
            "Name: 공급유형, dtype: int64\n"
          ],
          "name": "stdout"
        }
      ]
    },
    {
      "cell_type": "code",
      "metadata": {
        "colab": {
          "base_uri": "https://localhost:8080/"
        },
        "id": "rpL6vP5pwOBv",
        "outputId": "d094a68b-fbac-459a-97a4-56b9d67e69a0"
      },
      "source": [
        "# E는 only 영구임대_공급대상 X\n",
        "print(train.loc[train.자격유형=='E','공급유형'].value_counts())\n",
        "print(test.loc[test.자격유형=='E','공급유형'].value_counts())"
      ],
      "execution_count": 34,
      "outputs": [
        {
          "output_type": "stream",
          "text": [
            "국민임대    34\n",
            "영구임대     3\n",
            "Name: 공급유형, dtype: int64\n",
            "국민임대    10\n",
            "Name: 공급유형, dtype: int64\n"
          ],
          "name": "stdout"
        }
      ]
    },
    {
      "cell_type": "code",
      "metadata": {
        "colab": {
          "base_uri": "https://localhost:8080/"
        },
        "id": "GSLn8C-rwRjR",
        "outputId": "9acb7074-0807-415e-db89-d22a3a9ed4c5"
      },
      "source": [
        "# A는 only 영구임대_공급대상 X\n",
        "print(train.loc[train.자격유형=='A','공급유형'].value_counts())\n",
        "print(test.loc[test.자격유형=='A','공급유형'].value_counts())"
      ],
      "execution_count": 35,
      "outputs": [
        {
          "output_type": "stream",
          "text": [
            "국민임대         1539\n",
            "공공임대(10년)     205\n",
            "공공임대(50년)      31\n",
            "공공임대(분납)       12\n",
            "장기전세            9\n",
            "공공임대(5년)        3\n",
            "영구임대            2\n",
            "Name: 공급유형, dtype: int64\n",
            "국민임대         519\n",
            "공공임대(10년)     35\n",
            "공공임대(50년)     13\n",
            "공공임대(분납)       6\n",
            "Name: 공급유형, dtype: int64\n"
          ],
          "name": "stdout"
        }
      ]
    },
    {
      "cell_type": "code",
      "metadata": {
        "colab": {
          "base_uri": "https://localhost:8080/"
        },
        "id": "lOxQBvUqwmns",
        "outputId": "c12fb200-4583-42da-8ab2-0bd755bb46a4"
      },
      "source": [
        "# D는 only 영구임대_공급대상 X\n",
        "print(train.loc[train.자격유형=='D','공급유형'].value_counts())\n",
        "print(test.loc[test.자격유형=='D','공급유형'].value_counts())"
      ],
      "execution_count": 36,
      "outputs": [
        {
          "output_type": "stream",
          "text": [
            "임대상가    562\n",
            "공공분양      7\n",
            "Name: 공급유형, dtype: int64\n",
            "임대상가    177\n",
            "영구임대      3\n",
            "Name: 공급유형, dtype: int64\n"
          ],
          "name": "stdout"
        }
      ]
    },
    {
      "cell_type": "code",
      "metadata": {
        "id": "u55OTzuJwxwI"
      },
      "source": [
        "train.loc[train.자격유형.isin(['C','I','F']), '자격유형'] = '영구임대_공급대상'\n",
        "test.loc[test.자격유형.isin(['C','I','F']), '자격유형'] = '영구임대_공급대상'"
      ],
      "execution_count": 37,
      "outputs": []
    },
    {
      "cell_type": "code",
      "metadata": {
        "colab": {
          "base_uri": "https://localhost:8080/"
        },
        "id": "SKV6WODryQne",
        "outputId": "cf329a92-5e67-4f78-d1d3-9390d2962ddf"
      },
      "source": [
        "print(train.자격유형.value_counts())\n",
        "print(test.자격유형.value_counts())"
      ],
      "execution_count": 38,
      "outputs": [
        {
          "output_type": "stream",
          "text": [
            "A            1801\n",
            "D             569\n",
            "행복주택_공급대상     213\n",
            "국민임대_공급대상     185\n",
            "영구임대_공급대상     147\n",
            "E              37\n",
            "Name: 자격유형, dtype: int64\n",
            "A            573\n",
            "D            180\n",
            "행복주택_공급대상    124\n",
            "국민임대_공급대상     93\n",
            "영구임대_공급대상     42\n",
            "E             10\n",
            "Name: 자격유형, dtype: int64\n"
          ],
          "name": "stdout"
        }
      ]
    },
    {
      "cell_type": "markdown",
      "metadata": {
        "id": "-cViB5cA96lI"
      },
      "source": [
        "### 공급유형의 category 묶어주기 (항목들 중 train에는 있지만 test에 존재하지 않는 항목들 존재)"
      ]
    },
    {
      "cell_type": "code",
      "metadata": {
        "colab": {
          "base_uri": "https://localhost:8080/",
          "height": 357
        },
        "id": "IEQ2AoW49mqR",
        "outputId": "549099dd-e59a-49c8-9aa5-473370b563b3"
      },
      "source": [
        "# 공급유형의 항목들 중 train에는 있지만 test에는 존재하지 않는 항목들이 존재.\n",
        "pd.concat([train.공급유형.value_counts(), test.공급유형.value_counts()], axis=1)\n",
        "# 장기전세, => 행복주택이랑 묶자\n",
        "# 공공임대(5년),공공분양 => 공공임대(10년), 공공임대(50년), 공공임대(분납)이랑 묶자."
      ],
      "execution_count": 39,
      "outputs": [
        {
          "output_type": "execute_result",
          "data": {
            "text/html": [
              "<div>\n",
              "<style scoped>\n",
              "    .dataframe tbody tr th:only-of-type {\n",
              "        vertical-align: middle;\n",
              "    }\n",
              "\n",
              "    .dataframe tbody tr th {\n",
              "        vertical-align: top;\n",
              "    }\n",
              "\n",
              "    .dataframe thead th {\n",
              "        text-align: right;\n",
              "    }\n",
              "</style>\n",
              "<table border=\"1\" class=\"dataframe\">\n",
              "  <thead>\n",
              "    <tr style=\"text-align: right;\">\n",
              "      <th></th>\n",
              "      <th>공급유형</th>\n",
              "      <th>공급유형</th>\n",
              "    </tr>\n",
              "  </thead>\n",
              "  <tbody>\n",
              "    <tr>\n",
              "      <th>국민임대</th>\n",
              "      <td>1758</td>\n",
              "      <td>622.0</td>\n",
              "    </tr>\n",
              "    <tr>\n",
              "      <th>임대상가</th>\n",
              "      <td>562</td>\n",
              "      <td>177.0</td>\n",
              "    </tr>\n",
              "    <tr>\n",
              "      <th>행복주택</th>\n",
              "      <td>213</td>\n",
              "      <td>124.0</td>\n",
              "    </tr>\n",
              "    <tr>\n",
              "      <th>공공임대(10년)</th>\n",
              "      <td>205</td>\n",
              "      <td>35.0</td>\n",
              "    </tr>\n",
              "    <tr>\n",
              "      <th>영구임대</th>\n",
              "      <td>152</td>\n",
              "      <td>45.0</td>\n",
              "    </tr>\n",
              "    <tr>\n",
              "      <th>공공임대(50년)</th>\n",
              "      <td>31</td>\n",
              "      <td>13.0</td>\n",
              "    </tr>\n",
              "    <tr>\n",
              "      <th>공공임대(분납)</th>\n",
              "      <td>12</td>\n",
              "      <td>6.0</td>\n",
              "    </tr>\n",
              "    <tr>\n",
              "      <th>장기전세</th>\n",
              "      <td>9</td>\n",
              "      <td>NaN</td>\n",
              "    </tr>\n",
              "    <tr>\n",
              "      <th>공공분양</th>\n",
              "      <td>7</td>\n",
              "      <td>NaN</td>\n",
              "    </tr>\n",
              "    <tr>\n",
              "      <th>공공임대(5년)</th>\n",
              "      <td>3</td>\n",
              "      <td>NaN</td>\n",
              "    </tr>\n",
              "  </tbody>\n",
              "</table>\n",
              "</div>"
            ],
            "text/plain": [
              "           공급유형   공급유형\n",
              "국민임대       1758  622.0\n",
              "임대상가        562  177.0\n",
              "행복주택        213  124.0\n",
              "공공임대(10년)   205   35.0\n",
              "영구임대        152   45.0\n",
              "공공임대(50년)    31   13.0\n",
              "공공임대(분납)     12    6.0\n",
              "장기전세          9    NaN\n",
              "공공분양          7    NaN\n",
              "공공임대(5년)      3    NaN"
            ]
          },
          "metadata": {
            "tags": []
          },
          "execution_count": 39
        }
      ]
    },
    {
      "cell_type": "code",
      "metadata": {
        "id": "hjoX-06lAYBn"
      },
      "source": [
        "result_median = pd.DataFrame(columns=['임대료','임대보증금'])\n",
        "for category in train.공급유형.unique():\n",
        "    temp_per_category = train.loc[train.공급유형==category,['임대료','임대보증금']].median(axis=0).to_frame().rename(columns={0:f\"{category}_median\"}).T\n",
        "    temp_per_category\n",
        "    result_median = pd.concat([result_median,temp_per_category],axis=0)\n",
        "\n",
        "result_mean = pd.DataFrame(columns=['임대료','임대보증금'])\n",
        "for category in train.공급유형.unique():\n",
        "    temp_per_category = train.loc[train.공급유형==category,['임대료','임대보증금']].mean(axis=0).to_frame().rename(columns={0:f\"{category}_mean\"}).T\n",
        "    temp_per_category\n",
        "    result_mean = pd.concat([result_mean,temp_per_category],axis=0)"
      ],
      "execution_count": 40,
      "outputs": []
    },
    {
      "cell_type": "code",
      "metadata": {
        "colab": {
          "base_uri": "https://localhost:8080/",
          "height": 904
        },
        "id": "VcHq9AGyHBy4",
        "outputId": "7ec6a367-c319-4373-e0a6-2e945ba855f1"
      },
      "source": [
        "# 임대료\n",
        "bar_width = 0.35\n",
        "index = np.arange(len(result_median))\n",
        "\n",
        "plt.figure(figsize=(20,15))\n",
        "\n",
        "p1 = plt.bar(index,result_median['임대료'],\n",
        "             width=bar_width,\n",
        "             color='b',\n",
        "             alpha=0.5,\n",
        "             )\n",
        "p2 = plt.bar(index + bar_width, result_mean['임대료'], \n",
        "             width=bar_width, \n",
        "             color='r', \n",
        "             alpha=0.5,\n",
        "            )\n",
        "\n",
        "plt.title('Median & Mean of 임대료 by 공급유형', fontsize=20)\n",
        "plt.xlabel('공급유형', fontsize=15)\n",
        "plt.xticks(index, [id.replace('_median','') for id in result_median.index], fontsize=9)\n",
        "plt.legend((p1[0], p2[0]), ('Median', 'Mean'), fontsize=15)\n",
        "plt.show()"
      ],
      "execution_count": 41,
      "outputs": [
        {
          "output_type": "display_data",
          "data": {
            "image/png": "[encoded data removed]",
            "text/plain": [
              "<Figure size 1440x1080 with 1 Axes>"
            ]
          },
          "metadata": {
            "tags": [],
            "needs_background": "light"
          }
        }
      ]
    },
    {
      "cell_type": "code",
      "metadata": {
        "colab": {
          "base_uri": "https://localhost:8080/",
          "height": 904
        },
        "id": "_23HPPJpDdpH",
        "outputId": "7d73d20b-fe23-42ce-b0e4-36bf88b74584"
      },
      "source": [
        "# 임대보증금\n",
        "\n",
        "bar_width = 0.35\n",
        "index = np.arange(len(result_median))\n",
        "\n",
        "plt.figure(figsize=(20,15))\n",
        "\n",
        "p1 = plt.bar(index,result_median['임대보증금'],\n",
        "             width=bar_width,\n",
        "             color='b',\n",
        "             alpha=0.5,\n",
        "             )\n",
        "p2 = plt.bar(index + bar_width, result_mean['임대보증금'], \n",
        "             width=bar_width, \n",
        "             color='r', \n",
        "             alpha=0.5,\n",
        "            )\n",
        "\n",
        "plt.title('Median & Mean of 임대보증금 by 공급유형', fontsize=20)\n",
        "plt.xlabel('공급유형', fontsize=15)\n",
        "plt.xticks(index, [id.replace('_median','') for id in result_median.index], fontsize=9)\n",
        "plt.legend((p1[0], p2[0]), ('Median', 'Mean'), fontsize=15)\n",
        "plt.show()"
      ],
      "execution_count": 42,
      "outputs": [
        {
          "output_type": "display_data",
          "data": {
            "image/png": "[encoded data removed]",
            "text/plain": [
              "<Figure size 1440x1080 with 1 Axes>"
            ]
          },
          "metadata": {
            "tags": [],
            "needs_background": "light"
          }
        }
      ]
    },
    {
      "cell_type": "markdown",
      "metadata": {
        "id": "7ihUKk3uAfwp"
      },
      "source": [
        "#### 유형별 신청자격(소득기준) : https://www.seoulhousing.kr/html/0101003.do"
      ]
    },
    {
      "cell_type": "markdown",
      "metadata": {
        "id": "e6NlQfwv_61U"
      },
      "source": [
        "공공임대 : 70% 이하\n",
        "- 5년·10년 공공임대주택\n",
        "    - 임대의무기간인 5년(10년)간 임대 후 분양 전환하여 입주자가 우선하여 소유권을 이전받을 수 있는 임대주택\n",
        "\n",
        "- 50년 공공임대\n",
        "    - 영구적인 임대를 목적으로 건설한 임대주택으로 임대개시일로부터 50년간 분양전환하지 않고 임대로만 거주할 수 있는 주택\n",
        "\n",
        "\n",
        "    (수도권) 입주자저축(청약저축, 주택청약종합저축)에 가입하여 1년이 경과한 자로서 매월 약정납입일에 월 납입금을 12회 이상 납입한 자\n",
        "    (수도권외 지역) 입주자저축(청약저축, 주택청약종합저축)에 가입하여 6개월이 경과한 자로서 매월 약정 납입일에 월 납입금을 6회 이상 납입한 자\n",
        "\n",
        "\n",
        "> "
      ]
    },
    {
      "cell_type": "code",
      "metadata": {
        "colab": {
          "base_uri": "https://localhost:8080/"
        },
        "id": "zAZpYTP08k59",
        "outputId": "7e90235e-f818-47ed-ac12-f02dca4f333e"
      },
      "source": [
        "# https://www.myhome.go.kr/hws/portal/cont/selectContRentalView.do#guide=RH106\n",
        "print(train.loc[train.공급유형.isin(['공공임대(5년)']),'전용면적'].min())\n",
        "print(train.loc[train.공급유형.isin(['공공임대(5년)']),'전용면적'].max())"
      ],
      "execution_count": 43,
      "outputs": [
        {
          "output_type": "stream",
          "text": [
            "39.9\n",
            "59.95\n"
          ],
          "name": "stdout"
        }
      ]
    },
    {
      "cell_type": "code",
      "metadata": {
        "colab": {
          "base_uri": "https://localhost:8080/"
        },
        "id": "Ag7OVjnqN4mB",
        "outputId": "02fbfc31-01d4-4f98-8194-5035f64d0ba5"
      },
      "source": [
        "# https://www.myhome.go.kr/hws/portal/cont/selectContRentalView.do#guide=RH106\n",
        "print(train.loc[train.공급유형.isin(['공공임대(10년)']),'전용면적'].min())\n",
        "print(train.loc[train.공급유형.isin(['공공임대(10년)']),'전용면적'].max())"
      ],
      "execution_count": 44,
      "outputs": [
        {
          "output_type": "stream",
          "text": [
            "49.76\n",
            "84.99\n"
          ],
          "name": "stdout"
        }
      ]
    },
    {
      "cell_type": "code",
      "metadata": {
        "colab": {
          "base_uri": "https://localhost:8080/"
        },
        "id": "U81IrXnqCsZC",
        "outputId": "2e82e448-f7a0-4bfa-86c8-40aee2004878"
      },
      "source": [
        "# https://www.myhome.go.kr/hws/portal/cont/selectContRentalView.do#guide=RH106\n",
        "print(train.loc[train.공급유형.isin(['공공임대(50년)']),'전용면적'].min())\n",
        "print(train.loc[train.공급유형.isin(['공공임대(50년)']),'전용면적'].max())"
      ],
      "execution_count": 45,
      "outputs": [
        {
          "output_type": "stream",
          "text": [
            "35.28\n",
            "49.95\n"
          ],
          "name": "stdout"
        }
      ]
    },
    {
      "cell_type": "code",
      "metadata": {
        "colab": {
          "base_uri": "https://localhost:8080/"
        },
        "id": "s-phFTKS9Puj",
        "outputId": "fc194d29-1c02-4def-ea85-a9c2c321f29a"
      },
      "source": [
        "print(train.loc[train.공급유형.isin(['공공임대(분납)']),'전용면적'].min())\n",
        "print(train.loc[train.공급유형.isin(['공공임대(분납)']),'전용면적'].max())"
      ],
      "execution_count": 46,
      "outputs": [
        {
          "output_type": "stream",
          "text": [
            "51.99\n",
            "84.99\n"
          ],
          "name": "stdout"
        }
      ]
    },
    {
      "cell_type": "markdown",
      "metadata": {
        "id": "1fO9p1Nj_OGb"
      },
      "source": [
        "행복주택 : 해당세대의 전년도 도시근로자 가구원수별 월평균소득 100%이하인 자\n",
        "\n",
        "* 대학생(본인+부모) 소득, 세대원 청년(본인) 소득, 맞벌이부부 120% 적용\n",
        "    * 계층별 소득기준에 1인가구 20%p, 2인가구 10%p 각각 가산한 소득기준 적용\n",
        "\n",
        "자산기준\n",
        "\n",
        "보유 부동산(건물+토지), 자동차의 가액이 기준금액 이하인 자\n",
        "\n",
        "- (총자산) 29,200만원이하(2021년도 기준)\n",
        "- (자동차) 3,496만원이하(2021년도 기준)\n",
        "\n",
        "\n"
      ]
    },
    {
      "cell_type": "code",
      "metadata": {
        "colab": {
          "base_uri": "https://localhost:8080/"
        },
        "id": "oDhhhzRo9e44",
        "outputId": "b920e21f-c3a2-42a7-bf85-5fa9e3c52bb3"
      },
      "source": [
        "# https://www.lh.or.kr/contents/cont.do?sCode=user&mPid=231&mId=232&menuYear=\n",
        "print(train.loc[train.공급유형.isin(['행복주택']),'전용면적'].min())\n",
        "print(train.loc[train.공급유형.isin(['행복주택']),'전용면적'].max())"
      ],
      "execution_count": 47,
      "outputs": [
        {
          "output_type": "stream",
          "text": [
            "16.02\n",
            "44.97\n"
          ],
          "name": "stdout"
        }
      ]
    },
    {
      "cell_type": "markdown",
      "metadata": {
        "id": "T9ve50qA-69n"
      },
      "source": [
        "국민임대 : 전년도 도시근로자 가구원수별 가구당 월평균소득의 70%(1인가구 90%, 2인가구 80%) 이하\n",
        "\n",
        "50%, 70% 이하\n",
        "(39㎡, 49㎡, 59㎡ 전용면적별 상이)\n",
        "\n",
        "자산기준\n",
        "\n",
        "- (총자산) 292,000만원 이하\n",
        "- (자동차) 3,496만원 이하\n"
      ]
    },
    {
      "cell_type": "code",
      "metadata": {
        "colab": {
          "base_uri": "https://localhost:8080/"
        },
        "id": "wu_OMZXf6yIK",
        "outputId": "5e1fcbbb-6b20-4523-b6bb-f27d2891fb46"
      },
      "source": [
        "# https://www.lh.or.kr/contents/cont.do\n",
        "print(train.loc[train.공급유형=='국민임대','전용면적'].min())\n",
        "print(train.loc[train.공급유형=='국민임대','전용면적'].max())"
      ],
      "execution_count": 48,
      "outputs": [
        {
          "output_type": "stream",
          "text": [
            "21.97\n",
            "59.99\n"
          ],
          "name": "stdout"
        }
      ]
    },
    {
      "cell_type": "markdown",
      "metadata": {
        "id": "JH493lDX9-5I"
      },
      "source": [
        "장기전세 : 전년도 도시근로자 가구당 월평균소득의 100퍼센트 이하 (건설형 장기전세주택은 70퍼센트 이하인 사람에게 우선적으로 공급)"
      ]
    },
    {
      "cell_type": "code",
      "metadata": {
        "colab": {
          "base_uri": "https://localhost:8080/"
        },
        "id": "IvpD5-IF2Da5",
        "outputId": "63cef7f8-d9c5-44a0-d565-7999d8536f22"
      },
      "source": [
        "# https://housing.seoul.go.kr/site/main/content/sh01_030600\n",
        "print(train.loc[train.공급유형=='장기전세','전용면적'].min())\n",
        "print(train.loc[train.공급유형=='장기전세','전용면적'].max())"
      ],
      "execution_count": 49,
      "outputs": [
        {
          "output_type": "stream",
          "text": [
            "23.32\n",
            "59.94\n"
          ],
          "name": "stdout"
        }
      ]
    },
    {
      "cell_type": "markdown",
      "metadata": {
        "id": "YWduGTGxANs5"
      },
      "source": [
        "영구임대 : 70% 이하\n",
        "(수급자 등 공고문 1순위 대상자 우선))"
      ]
    },
    {
      "cell_type": "code",
      "metadata": {
        "colab": {
          "base_uri": "https://localhost:8080/"
        },
        "id": "PlIC14qMANVt",
        "outputId": "c81eff75-75f8-4258-8bff-8e0bdca31ad3"
      },
      "source": [
        "# https://www.lh.or.kr/contents/cont.do\n",
        "print(train.loc[train.공급유형=='영구임대','전용면적'].min())\n",
        "print(train.loc[train.공급유형=='영구임대','전용면적'].max())"
      ],
      "execution_count": 50,
      "outputs": [
        {
          "output_type": "stream",
          "text": [
            "21.63\n",
            "52.74\n"
          ],
          "name": "stdout"
        }
      ]
    },
    {
      "cell_type": "markdown",
      "metadata": {
        "id": "trGgJWlz-Gbo"
      },
      "source": [
        "공공분양 : 전년도 도시 근로자 가구당 월평균소득 기준 이하인 자 (60㎡이하는 정보가 있는데..)\n",
        "\n",
        "- (자격) 해당 지역에 거주하는 무주택세대구성원으로 입주자저축에 가입한 자\n",
        "- (기타) 60㎡이하 주택에 청약하는 경우 '자산 및 소득' 요건을 만족해야 함\n",
        "\n",
        "> 특별공급 : 120~140%"
      ]
    },
    {
      "cell_type": "code",
      "metadata": {
        "colab": {
          "base_uri": "https://localhost:8080/"
        },
        "id": "l3mwmVg63Ge1",
        "outputId": "4da79748-e970-46f7-9830-6e060c88e8d6"
      },
      "source": [
        "# https://www.lh.or.kr/contents/cont.do\n",
        "# https://www.myhome.go.kr/hws/portal/cont/selectContLttotView.do#guide=LT304\n",
        "print(train.loc[train.공급유형=='공공분양','전용면적'].min())\n",
        "print(train.loc[train.공급유형=='공공분양','전용면적'].max())"
      ],
      "execution_count": 51,
      "outputs": [
        {
          "output_type": "stream",
          "text": [
            "74.94\n",
            "84.97\n"
          ],
          "name": "stdout"
        }
      ]
    },
    {
      "cell_type": "code",
      "metadata": {
        "colab": {
          "base_uri": "https://localhost:8080/"
        },
        "id": "Pvh0m-eD3j63",
        "outputId": "c15b8dd8-302d-4b0e-b4a4-51abacc2b49e"
      },
      "source": [
        "train.loc[train.공급유형=='공공분양','자격유형'].value_counts()"
      ],
      "execution_count": 52,
      "outputs": [
        {
          "output_type": "execute_result",
          "data": {
            "text/plain": [
              "D    7\n",
              "Name: 자격유형, dtype: int64"
            ]
          },
          "metadata": {
            "tags": []
          },
          "execution_count": 52
        }
      ]
    },
    {
      "cell_type": "code",
      "metadata": {
        "colab": {
          "base_uri": "https://localhost:8080/"
        },
        "id": "Sh4nSIDs33NS",
        "outputId": "b9487122-ef5c-4589-810b-608753acc3bb"
      },
      "source": [
        "print(train.loc[train.자격유형=='D','공급유형'].value_counts())\n",
        "print(test.loc[test.자격유형=='D','공급유형'].value_counts())"
      ],
      "execution_count": 53,
      "outputs": [
        {
          "output_type": "stream",
          "text": [
            "임대상가    562\n",
            "공공분양      7\n",
            "Name: 공급유형, dtype: int64\n",
            "임대상가    177\n",
            "영구임대      3\n",
            "Name: 공급유형, dtype: int64\n"
          ],
          "name": "stdout"
        }
      ]
    },
    {
      "cell_type": "code",
      "metadata": {
        "id": "JqUtFq0cNjJD"
      },
      "source": [
        "# 공공임대(5년), 공공임대(10년), 공공임대(50년), 공공임대(분납), 공공분양 묶어버리자.\n",
        "train.loc[train.공급유형.isin(['공공임대(5년)','공공임대(10년)','공공임대(50년)','공공임대(분납)','공공분양']),'공급유형'] = '공공임대(5년/10년/50년/분납/분양)'\n",
        "test.loc[test.공급유형.isin(['공공임대(5년)','공공임대(10년)','공공임대(50년)','공공임대(분납)','공공분양']),'공급유형'] = '공공임대(5년/10년/50년/분납/분양)'"
      ],
      "execution_count": 54,
      "outputs": []
    },
    {
      "cell_type": "code",
      "metadata": {
        "id": "U6cO98zeNjE3"
      },
      "source": [
        "# 장기전세, 행복주택 묶어버리자.\n",
        "train.loc[train.공급유형.isin(['장기전세','행복주택']),'공급유형'] = '장기전세/행복주택'\n",
        "test.loc[test.공급유형.isin(['장기전세','행복주택']),'공급유형'] = '장기전세/행복주택'"
      ],
      "execution_count": 55,
      "outputs": []
    },
    {
      "cell_type": "markdown",
      "metadata": {
        "id": "sp-6yowJ-Ax4"
      },
      "source": [
        "## 단지코드별로 agg"
      ]
    },
    {
      "cell_type": "code",
      "metadata": {
        "colab": {
          "base_uri": "https://localhost:8080/"
        },
        "id": "TVKW7BhtqmF3",
        "outputId": "b545b98b-2027-448e-81d4-ff24364f80bd"
      },
      "source": [
        "# 423개가 넘는 범주를 가지고 있다면, agg가 필요한 변수임\n",
        "print(len(set(train['단지코드']))) \n",
        "print('='*50)\n",
        "tr_nunique_groupby_danjicode = train.groupby(['단지코드']).nunique(dropna=False).sum(axis=0)\n",
        "tr_nunique_groupby_danjicode"
      ],
      "execution_count": 56,
      "outputs": [
        {
          "output_type": "stream",
          "text": [
            "423\n",
            "==================================================\n"
          ],
          "name": "stdout"
        },
        {
          "output_type": "execute_result",
          "data": {
            "text/plain": [
              "총세대수                             423\n",
              "임대건물구분                           456\n",
              "지역                               423\n",
              "공급유형                             484\n",
              "전용면적                            1898\n",
              "전용면적별세대수                        2230\n",
              "공가수                              423\n",
              "자격유형                             504\n",
              "임대보증금                           1277\n",
              "임대료                             1289\n",
              "도보 10분거리 내 지하철역 수(환승노선 수 반영)     423\n",
              "도보 10분거리 내 버스정류장 수               423\n",
              "단지내주차면수                          423\n",
              "등록차량수                            423\n",
              "dtype: int64"
            ]
          },
          "metadata": {
            "tags": []
          },
          "execution_count": 56
        }
      ]
    },
    {
      "cell_type": "code",
      "metadata": {
        "colab": {
          "base_uri": "https://localhost:8080/"
        },
        "id": "OufsU25FqyNR",
        "outputId": "07ca0b76-c077-47bf-e156-0162652758a4"
      },
      "source": [
        "# 150개가 넘는 범주를 가지고 있다면, agg가 필요한 변수임\n",
        "print(len(set(test['단지코드'])))\n",
        "print('='*50)\n",
        "te_nunique_groupby_danjicode = test.groupby(['단지코드']).nunique(dropna=False).sum(axis=0)\n",
        "te_nunique_groupby_danjicode"
      ],
      "execution_count": 57,
      "outputs": [
        {
          "output_type": "stream",
          "text": [
            "150\n",
            "==================================================\n"
          ],
          "name": "stdout"
        },
        {
          "output_type": "execute_result",
          "data": {
            "text/plain": [
              "총세대수                            150\n",
              "임대건물구분                          157\n",
              "지역                              150\n",
              "공급유형                            165\n",
              "전용면적                            693\n",
              "전용면적별세대수                        797\n",
              "공가수                             150\n",
              "자격유형                            176\n",
              "임대보증금                           459\n",
              "임대료                             461\n",
              "도보 10분거리 내 지하철역 수(환승노선 수 반영)    150\n",
              "도보 10분거리 내 버스정류장 수              150\n",
              "단지내주차면수                         150\n",
              "dtype: int64"
            ]
          },
          "metadata": {
            "tags": []
          },
          "execution_count": 57
        }
      ]
    },
    {
      "cell_type": "code",
      "metadata": {
        "colab": {
          "base_uri": "https://localhost:8080/"
        },
        "id": "qnvP3NYGq4xe",
        "outputId": "199d703b-b154-45ee-9694-608d7e7bfc20"
      },
      "source": [
        "# agg 필요없는 변수들\n",
        "tr_not_need_agg = ['단지코드']+tr_nunique_groupby_danjicode[tr_nunique_groupby_danjicode<=len(set(train['단지코드']))].index.tolist()\n",
        "print(tr_not_need_agg)\n",
        "print(len(tr_not_need_agg))\n",
        "te_not_need_agg = ['단지코드']+te_nunique_groupby_danjicode[te_nunique_groupby_danjicode<=len(set(test['단지코드']))].index.tolist()\n",
        "print(te_not_need_agg)\n",
        "print(len(te_not_need_agg))"
      ],
      "execution_count": 58,
      "outputs": [
        {
          "output_type": "stream",
          "text": [
            "['단지코드', '총세대수', '지역', '공가수', '도보 10분거리 내 지하철역 수(환승노선 수 반영)', '도보 10분거리 내 버스정류장 수', '단지내주차면수', '등록차량수']\n",
            "8\n",
            "['단지코드', '총세대수', '지역', '공가수', '도보 10분거리 내 지하철역 수(환승노선 수 반영)', '도보 10분거리 내 버스정류장 수', '단지내주차면수']\n",
            "7\n"
          ],
          "name": "stdout"
        }
      ]
    },
    {
      "cell_type": "code",
      "metadata": {
        "colab": {
          "base_uri": "https://localhost:8080/",
          "height": 240
        },
        "id": "gcEGzTWFvrHl",
        "outputId": "7b250442-2557-4af1-8d57-fbde400449c1"
      },
      "source": [
        "# agg 필요없는 변수들\n",
        "df = train.loc[:,tr_not_need_agg].drop_duplicates()\n",
        "print(df.shape)\n",
        "df_test = test.loc[:,te_not_need_agg].drop_duplicates()\n",
        "print(df_test.shape)\n",
        "df.head()"
      ],
      "execution_count": 59,
      "outputs": [
        {
          "output_type": "stream",
          "text": [
            "(423, 8)\n",
            "(150, 7)\n"
          ],
          "name": "stdout"
        },
        {
          "output_type": "execute_result",
          "data": {
            "text/html": [
              "<div>\n",
              "<style scoped>\n",
              "    .dataframe tbody tr th:only-of-type {\n",
              "        vertical-align: middle;\n",
              "    }\n",
              "\n",
              "    .dataframe tbody tr th {\n",
              "        vertical-align: top;\n",
              "    }\n",
              "\n",
              "    .dataframe thead th {\n",
              "        text-align: right;\n",
              "    }\n",
              "</style>\n",
              "<table border=\"1\" class=\"dataframe\">\n",
              "  <thead>\n",
              "    <tr style=\"text-align: right;\">\n",
              "      <th></th>\n",
              "      <th>단지코드</th>\n",
              "      <th>총세대수</th>\n",
              "      <th>지역</th>\n",
              "      <th>공가수</th>\n",
              "      <th>도보 10분거리 내 지하철역 수(환승노선 수 반영)</th>\n",
              "      <th>도보 10분거리 내 버스정류장 수</th>\n",
              "      <th>단지내주차면수</th>\n",
              "      <th>등록차량수</th>\n",
              "    </tr>\n",
              "  </thead>\n",
              "  <tbody>\n",
              "    <tr>\n",
              "      <th>0</th>\n",
              "      <td>C2483</td>\n",
              "      <td>900</td>\n",
              "      <td>경상북도</td>\n",
              "      <td>38.0</td>\n",
              "      <td>0.0</td>\n",
              "      <td>3.0</td>\n",
              "      <td>1425.0</td>\n",
              "      <td>1015.0</td>\n",
              "    </tr>\n",
              "    <tr>\n",
              "      <th>8</th>\n",
              "      <td>C2515</td>\n",
              "      <td>545</td>\n",
              "      <td>경상남도</td>\n",
              "      <td>17.0</td>\n",
              "      <td>0.0</td>\n",
              "      <td>3.0</td>\n",
              "      <td>624.0</td>\n",
              "      <td>205.0</td>\n",
              "    </tr>\n",
              "    <tr>\n",
              "      <th>15</th>\n",
              "      <td>C1407</td>\n",
              "      <td>1216</td>\n",
              "      <td>대전광역시</td>\n",
              "      <td>13.0</td>\n",
              "      <td>1.0</td>\n",
              "      <td>1.0</td>\n",
              "      <td>1285.0</td>\n",
              "      <td>1064.0</td>\n",
              "    </tr>\n",
              "    <tr>\n",
              "      <th>26</th>\n",
              "      <td>C1945</td>\n",
              "      <td>755</td>\n",
              "      <td>경기도</td>\n",
              "      <td>6.0</td>\n",
              "      <td>1.0</td>\n",
              "      <td>3.0</td>\n",
              "      <td>734.0</td>\n",
              "      <td>730.0</td>\n",
              "    </tr>\n",
              "    <tr>\n",
              "      <th>32</th>\n",
              "      <td>C1470</td>\n",
              "      <td>696</td>\n",
              "      <td>전라북도</td>\n",
              "      <td>14.0</td>\n",
              "      <td>0.0</td>\n",
              "      <td>2.0</td>\n",
              "      <td>645.0</td>\n",
              "      <td>553.0</td>\n",
              "    </tr>\n",
              "  </tbody>\n",
              "</table>\n",
              "</div>"
            ],
            "text/plain": [
              "     단지코드  총세대수     지역  ...  도보 10분거리 내 버스정류장 수  단지내주차면수   등록차량수\n",
              "0   C2483   900   경상북도  ...                 3.0   1425.0  1015.0\n",
              "8   C2515   545   경상남도  ...                 3.0    624.0   205.0\n",
              "15  C1407  1216  대전광역시  ...                 1.0   1285.0  1064.0\n",
              "26  C1945   755    경기도  ...                 3.0    734.0   730.0\n",
              "32  C1470   696   전라북도  ...                 2.0    645.0   553.0\n",
              "\n",
              "[5 rows x 8 columns]"
            ]
          },
          "metadata": {
            "tags": []
          },
          "execution_count": 59
        }
      ]
    },
    {
      "cell_type": "code",
      "metadata": {
        "colab": {
          "base_uri": "https://localhost:8080/"
        },
        "id": "5gwFGMbfroTm",
        "outputId": "caf15fec-454a-48b0-9ecd-e4bbad1b6e08"
      },
      "source": [
        "# agg 필요한 변수들\n",
        "tr_need_agg = tr_nunique_groupby_danjicode[tr_nunique_groupby_danjicode>len(set(train['단지코드']))].index.tolist()\n",
        "print(tr_need_agg)\n",
        "print(len(tr_need_agg))\n",
        "te_need_agg = te_nunique_groupby_danjicode[te_nunique_groupby_danjicode>len(set(test['단지코드']))].index.tolist()\n",
        "print(te_need_agg)\n",
        "print(len(te_need_agg))"
      ],
      "execution_count": 60,
      "outputs": [
        {
          "output_type": "stream",
          "text": [
            "['임대건물구분', '공급유형', '전용면적', '전용면적별세대수', '자격유형', '임대보증금', '임대료']\n",
            "7\n",
            "['임대건물구분', '공급유형', '전용면적', '전용면적별세대수', '자격유형', '임대보증금', '임대료']\n",
            "7\n"
          ],
          "name": "stdout"
        }
      ]
    },
    {
      "cell_type": "code",
      "metadata": {
        "colab": {
          "base_uri": "https://localhost:8080/"
        },
        "id": "57_-9gICxct9",
        "outputId": "07b1d92d-082a-469a-d9d8-a0bbcf37acd9"
      },
      "source": [
        "# continuous_variables : '전용면적','전용면적별세대수','임대보증금','임대료'\n",
        "continuous_variables = ['전용면적','전용면적별세대수','임대보증금','임대료']\n",
        "# https://rfriend.tistory.com/275\n",
        "contfeature = '전용면적'\n",
        "def reshaping_contfeature_by_pivot(input_df, from_data, contfeature):\n",
        "    agg_dict_for_map = from_data.groupby(['단지코드'])[contfeature].agg(['mean','median','min','max','std','count','sum']).to_dict()\n",
        "    result_df = input_df.copy()\n",
        "    for key in agg_dict_for_map.keys():\n",
        "        result_df[f'{contfeature}_{key}'] = input_df['단지코드'].map(agg_dict_for_map[key])\n",
        "    return result_df\n",
        "\n",
        "print(df.shape)\n",
        "for contfeature in continuous_variables:\n",
        "    df = reshaping_contfeature_by_pivot(df, train, contfeature)\n",
        "df = df.fillna(0).reset_index(drop=True)   # row가 1개뿐인 group의 std는 null값이 도출됨.\n",
        "print(df.shape)\n",
        "print('='*50)\n",
        "print(df_test.shape)\n",
        "for contfeature in continuous_variables:\n",
        "    df_test = reshaping_contfeature_by_pivot(df_test, test, contfeature)\n",
        "df_test = df_test.fillna(0).reset_index(drop=True)   # row가 1개뿐인 group의 std는 null값이 도출됨.\n",
        "print(df_test.shape)"
      ],
      "execution_count": 61,
      "outputs": [
        {
          "output_type": "stream",
          "text": [
            "(423, 8)\n",
            "(423, 36)\n",
            "==================================================\n",
            "(150, 7)\n",
            "(150, 35)\n"
          ],
          "name": "stdout"
        }
      ]
    },
    {
      "cell_type": "code",
      "metadata": {
        "colab": {
          "base_uri": "https://localhost:8080/"
        },
        "id": "PQP0w8n8lcu8",
        "outputId": "de905afe-43a3-47cf-ed24-b7197137816e"
      },
      "source": [
        "# categorical_variables : '임대건물구분', '공급유형', '자격유형'\n",
        "categorical_variables = ['임대건물구분', '공급유형', '자격유형']\n",
        "def reshaping_catfeature_by_pivot(data, catfeature, value_col):\n",
        "    result_df = data.drop_duplicates(['단지코드', catfeature]).assign(counter=1).pivot(index='단지코드', columns=catfeature, values=value_col).fillna(0)\n",
        "    result_df.columns.name = None\n",
        "    result_df = result_df.rename(columns={col:f\"{catfeature}_{col}_{value_col}\" for col in result_df.columns})\n",
        "    return result_df\n",
        "\n",
        "print(df.shape)\n",
        "for catfeature in categorical_variables:\n",
        "    reshaped_data = reshaping_catfeature_by_pivot(train, catfeature, value_col='counter').reset_index(drop=True)\n",
        "    df = pd.concat([df,reshaped_data],axis=1)\n",
        "print(df.shape)\n",
        "print('='*50)\n",
        "print(df_test.shape)\n",
        "for catfeature in categorical_variables:\n",
        "    reshaped_data = reshaping_catfeature_by_pivot(test, catfeature, value_col='counter').reset_index(drop=True)\n",
        "    df_test = pd.concat([df_test,reshaped_data],axis=1)\n",
        "print(df_test.shape)"
      ],
      "execution_count": 62,
      "outputs": [
        {
          "output_type": "stream",
          "text": [
            "(423, 36)\n",
            "(423, 49)\n",
            "==================================================\n",
            "(150, 35)\n",
            "(150, 48)\n"
          ],
          "name": "stdout"
        }
      ]
    },
    {
      "cell_type": "markdown",
      "metadata": {
        "id": "oQ1u3LIpPC-f"
      },
      "source": [
        "# Pycaret Modeling"
      ]
    },
    {
      "cell_type": "code",
      "metadata": {
        "colab": {
          "base_uri": "https://localhost:8080/"
        },
        "id": "mMcBUiXbO8Pz",
        "outputId": "180c22c6-55db-44d6-b643-97fb974abd25"
      },
      "source": [
        "!pip uninstall pycaret -y\n",
        "\n",
        "!pip install pycaret[full] ngboost shap"
      ],
      "execution_count": 63,
      "outputs": [
        {
          "output_type": "stream",
          "text": [
            "Uninstalling pycaret-2.3.1:\n",
            "  Successfully uninstalled pycaret-2.3.1\n",
            "Collecting pycaret[full]\n",
            "  Using cached https://files.pythonhosted.org/packages/da/99/18f151991b0f06107af9723417c64e304ae2133587f85ea734a90136b4ae/pycaret-2.3.1-py3-none-any.whl\n",
            "Requirement already satisfied: ngboost in /usr/local/lib/python3.7/dist-packages (0.3.11)\n",
            "Requirement already satisfied: shap in /usr/local/lib/python3.7/dist-packages (0.39.0)\n",
            "Requirement already satisfied: scikit-learn==0.23.2 in /usr/local/lib/python3.7/dist-packages (from pycaret[full]) (0.23.2)\n",
            "Requirement already satisfied: IPython in /usr/local/lib/python3.7/dist-packages (from pycaret[full]) (5.5.0)\n",
            "Requirement already satisfied: nltk in /usr/local/lib/python3.7/dist-packages (from pycaret[full]) (3.2.5)\n",
            "Requirement already satisfied: ipywidgets in /usr/local/lib/python3.7/dist-packages (from pycaret[full]) (7.6.3)\n",
            "Requirement already satisfied: kmodes>=0.10.1 in /usr/local/lib/python3.7/dist-packages (from pycaret[full]) (0.11.0)\n",
            "Requirement already satisfied: matplotlib in /usr/local/lib/python3.7/dist-packages (from pycaret[full]) (3.4.2)\n",
            "Requirement already satisfied: imbalanced-learn==0.7.0 in /usr/local/lib/python3.7/dist-packages (from pycaret[full]) (0.7.0)\n",
            "Requirement already satisfied: seaborn in /usr/local/lib/python3.7/dist-packages (from pycaret[full]) (0.11.1)\n",
            "Requirement already satisfied: pyod in /usr/local/lib/python3.7/dist-packages (from pycaret[full]) (0.8.9)\n",
            "Requirement already satisfied: joblib in /usr/local/lib/python3.7/dist-packages (from pycaret[full]) (1.0.1)\n",
            "Requirement already satisfied: umap-learn in /usr/local/lib/python3.7/dist-packages (from pycaret[full]) (0.5.1)\n",
            "Requirement already satisfied: yellowbrick>=1.0.1 in /usr/local/lib/python3.7/dist-packages (from pycaret[full]) (1.3.post1)\n",
            "Requirement already satisfied: plotly>=4.4.1 in /usr/local/lib/python3.7/dist-packages (from pycaret[full]) (4.4.1)\n",
            "Requirement already satisfied: cufflinks>=0.17.0 in /usr/local/lib/python3.7/dist-packages (from pycaret[full]) (0.17.3)\n",
            "Requirement already satisfied: pyLDAvis in /usr/local/lib/python3.7/dist-packages (from pycaret[full]) (3.3.1)\n",
            "Requirement already satisfied: pandas in /usr/local/lib/python3.7/dist-packages (from pycaret[full]) (1.1.5)\n",
            "Requirement already satisfied: mlxtend>=0.17.0 in /usr/local/lib/python3.7/dist-packages (from pycaret[full]) (0.18.0)\n",
            "Requirement already satisfied: pandas-profiling>=2.8.0 in /usr/local/lib/python3.7/dist-packages (from pycaret[full]) (3.0.0)\n",
            "Requirement already satisfied: scikit-plot in /usr/local/lib/python3.7/dist-packages (from pycaret[full]) (0.3.7)\n",
            "Requirement already satisfied: wordcloud in /usr/local/lib/python3.7/dist-packages (from pycaret[full]) (1.5.0)\n",
            "Requirement already satisfied: spacy<2.4.0 in /usr/local/lib/python3.7/dist-packages (from pycaret[full]) (2.2.4)\n",
            "Requirement already satisfied: lightgbm>=2.3.1 in /usr/local/lib/python3.7/dist-packages (from pycaret[full]) (3.2.1)\n",
            "Requirement already satisfied: numpy==1.19.5 in /usr/local/lib/python3.7/dist-packages (from pycaret[full]) (1.19.5)\n",
            "Requirement already satisfied: scipy<=1.5.4 in /usr/local/lib/python3.7/dist-packages (from pycaret[full]) (1.4.1)\n",
            "Requirement already satisfied: mlflow in /usr/local/lib/python3.7/dist-packages (from pycaret[full]) (1.18.0)\n",
            "Requirement already satisfied: gensim<4.0.0 in /usr/local/lib/python3.7/dist-packages (from pycaret[full]) (3.6.0)\n",
            "Requirement already satisfied: Boruta in /usr/local/lib/python3.7/dist-packages (from pycaret[full]) (0.3)\n",
            "Requirement already satisfied: textblob in /usr/local/lib/python3.7/dist-packages (from pycaret[full]) (0.15.3)\n",
            "Requirement already satisfied: tune-sklearn>=0.2.1; extra == \"full\" in /usr/local/lib/python3.7/dist-packages (from pycaret[full]) (0.3.0)\n",
            "Requirement already satisfied: azure-storage-blob; extra == \"full\" in /usr/local/lib/python3.7/dist-packages (from pycaret[full]) (12.8.1)\n",
            "Requirement already satisfied: google-cloud-storage; extra == \"full\" in /usr/local/lib/python3.7/dist-packages (from pycaret[full]) (1.18.1)\n",
            "Requirement already satisfied: optuna; extra == \"full\" in /usr/local/lib/python3.7/dist-packages (from pycaret[full]) (2.8.0)\n",
            "Requirement already satisfied: awscli; extra == \"full\" in /usr/local/lib/python3.7/dist-packages (from pycaret[full]) (1.19.101)\n",
            "Requirement already satisfied: hyperopt; extra == \"full\" in /usr/local/lib/python3.7/dist-packages (from pycaret[full]) (0.1.2)\n",
            "Requirement already satisfied: psutil; extra == \"full\" in /usr/local/lib/python3.7/dist-packages (from pycaret[full]) (5.4.8)\n",
            "Requirement already satisfied: xgboost>=1.1.0; extra == \"full\" in /usr/local/lib/python3.7/dist-packages (from pycaret[full]) (1.4.2)\n",
            "Requirement already satisfied: scikit-optimize>=0.8.1; extra == \"full\" in /usr/local/lib/python3.7/dist-packages (from pycaret[full]) (0.8.1)\n",
            "Requirement already satisfied: catboost>=0.23.2; extra == \"full\" in /usr/local/lib/python3.7/dist-packages (from pycaret[full]) (0.26)\n",
            "Requirement already satisfied: ray[tune]>=1.0.0; extra == \"full\" in /usr/local/lib/python3.7/dist-packages (from pycaret[full]) (1.4.0)\n",
            "Requirement already satisfied: tqdm>=4.3 in /usr/local/lib/python3.7/dist-packages (from ngboost) (4.41.1)\n",
            "Requirement already satisfied: lifelines>=0.25 in /usr/local/lib/python3.7/dist-packages (from ngboost) (0.26.0)\n",
            "Requirement already satisfied: slicer==0.0.7 in /usr/local/lib/python3.7/dist-packages (from shap) (0.0.7)\n",
            "Requirement already satisfied: cloudpickle in /usr/local/lib/python3.7/dist-packages (from shap) (1.3.0)\n",
            "Requirement already satisfied: numba in /usr/local/lib/python3.7/dist-packages (from shap) (0.51.2)\n",
            "Requirement already satisfied: threadpoolctl>=2.0.0 in /usr/local/lib/python3.7/dist-packages (from scikit-learn==0.23.2->pycaret[full]) (2.1.0)\n",
            "Requirement already satisfied: pygments in /usr/local/lib/python3.7/dist-packages (from IPython->pycaret[full]) (2.6.1)\n",
            "Requirement already satisfied: prompt-toolkit<2.0.0,>=1.0.4 in /usr/local/lib/python3.7/dist-packages (from IPython->pycaret[full]) (1.0.18)\n",
            "Requirement already satisfied: decorator in /usr/local/lib/python3.7/dist-packages (from IPython->pycaret[full]) (4.4.2)\n",
            "Requirement already satisfied: pickleshare in /usr/local/lib/python3.7/dist-packages (from IPython->pycaret[full]) (0.7.5)\n",
            "Requirement already satisfied: traitlets>=4.2 in /usr/local/lib/python3.7/dist-packages (from IPython->pycaret[full]) (5.0.5)\n",
            "Requirement already satisfied: pexpect; sys_platform != \"win32\" in /usr/local/lib/python3.7/dist-packages (from IPython->pycaret[full]) (4.8.0)\n",
            "Requirement already satisfied: simplegeneric>0.8 in /usr/local/lib/python3.7/dist-packages (from IPython->pycaret[full]) (0.8.1)\n",
            "Requirement already satisfied: setuptools>=18.5 in /usr/local/lib/python3.7/dist-packages (from IPython->pycaret[full]) (57.0.0)\n",
            "Requirement already satisfied: six in /usr/local/lib/python3.7/dist-packages (from nltk->pycaret[full]) (1.15.0)\n",
            "Requirement already satisfied: widgetsnbextension~=3.5.0 in /usr/local/lib/python3.7/dist-packages (from ipywidgets->pycaret[full]) (3.5.1)\n",
            "Requirement already satisfied: jupyterlab-widgets>=1.0.0; python_version >= \"3.6\" in /usr/local/lib/python3.7/dist-packages (from ipywidgets->pycaret[full]) (1.0.0)\n",
            "Requirement already satisfied: ipykernel>=4.5.1 in /usr/local/lib/python3.7/dist-packages (from ipywidgets->pycaret[full]) (4.10.1)\n",
            "Requirement already satisfied: nbformat>=4.2.0 in /usr/local/lib/python3.7/dist-packages (from ipywidgets->pycaret[full]) (5.1.3)\n",
            "Requirement already satisfied: pillow>=6.2.0 in /usr/local/lib/python3.7/dist-packages (from matplotlib->pycaret[full]) (7.1.2)\n",
            "Requirement already satisfied: python-dateutil>=2.7 in /usr/local/lib/python3.7/dist-packages (from matplotlib->pycaret[full]) (2.8.1)\n",
            "Requirement already satisfied: kiwisolver>=1.0.1 in /usr/local/lib/python3.7/dist-packages (from matplotlib->pycaret[full]) (1.3.1)\n",
            "Requirement already satisfied: pyparsing>=2.2.1 in /usr/local/lib/python3.7/dist-packages (from matplotlib->pycaret[full]) (2.4.7)\n",
            "Requirement already satisfied: cycler>=0.10 in /usr/local/lib/python3.7/dist-packages (from matplotlib->pycaret[full]) (0.10.0)\n",
            "Requirement already satisfied: statsmodels in /usr/local/lib/python3.7/dist-packages (from pyod->pycaret[full]) (0.10.2)\n",
            "Requirement already satisfied: pynndescent>=0.5 in /usr/local/lib/python3.7/dist-packages (from umap-learn->pycaret[full]) (0.5.2)\n",
            "Requirement already satisfied: retrying>=1.3.3 in /usr/local/lib/python3.7/dist-packages (from plotly>=4.4.1->pycaret[full]) (1.3.3)\n",
            "Requirement already satisfied: colorlover>=0.2.1 in /usr/local/lib/python3.7/dist-packages (from cufflinks>=0.17.0->pycaret[full]) (0.3.0)\n",
            "Requirement already satisfied: numexpr in /usr/local/lib/python3.7/dist-packages (from pyLDAvis->pycaret[full]) (2.7.3)\n",
            "Requirement already satisfied: sklearn in /usr/local/lib/python3.7/dist-packages (from pyLDAvis->pycaret[full]) (0.0)\n",
            "Requirement already satisfied: funcy in /usr/local/lib/python3.7/dist-packages (from pyLDAvis->pycaret[full]) (1.16)\n",
            "Requirement already satisfied: future in /usr/local/lib/python3.7/dist-packages (from pyLDAvis->pycaret[full]) (0.16.0)\n",
            "Requirement already satisfied: jinja2 in /usr/local/lib/python3.7/dist-packages (from pyLDAvis->pycaret[full]) (2.11.3)\n",
            "Requirement already satisfied: pytz>=2017.2 in /usr/local/lib/python3.7/dist-packages (from pandas->pycaret[full]) (2018.9)\n",
            "Requirement already satisfied: pydantic>=1.8.1 in /usr/local/lib/python3.7/dist-packages (from pandas-profiling>=2.8.0->pycaret[full]) (1.8.2)\n",
            "Collecting requests>=2.24.0\n",
            "\u001b[?25l  Downloading https://files.pythonhosted.org/packages/29/c1/24814557f1d22c56d50280771a17307e6bf87b70727d975fd6b2ce6b014a/requests-2.25.1-py2.py3-none-any.whl (61kB)\n",
            "\u001b[K     |████████████████████████████████| 61kB 2.9MB/s \n",
            "\u001b[?25hRequirement already satisfied: phik>=0.11.1 in /usr/local/lib/python3.7/dist-packages (from pandas-profiling>=2.8.0->pycaret[full]) (0.11.2)\n",
            "Requirement already satisfied: tangled-up-in-unicode==0.1.0 in /usr/local/lib/python3.7/dist-packages (from pandas-profiling>=2.8.0->pycaret[full]) (0.1.0)\n",
            "Requirement already satisfied: PyYAML>=5.0.0 in /usr/local/lib/python3.7/dist-packages (from pandas-profiling>=2.8.0->pycaret[full]) (5.4.1)\n",
            "Requirement already satisfied: htmlmin>=0.1.12 in /usr/local/lib/python3.7/dist-packages (from pandas-profiling>=2.8.0->pycaret[full]) (0.1.12)\n",
            "Requirement already satisfied: visions[type_image_path]==0.7.1 in /usr/local/lib/python3.7/dist-packages (from pandas-profiling>=2.8.0->pycaret[full]) (0.7.1)\n",
            "Requirement already satisfied: missingno>=0.4.2 in /usr/local/lib/python3.7/dist-packages (from pandas-profiling>=2.8.0->pycaret[full]) (0.4.2)\n",
            "Requirement already satisfied: murmurhash<1.1.0,>=0.28.0 in /usr/local/lib/python3.7/dist-packages (from spacy<2.4.0->pycaret[full]) (1.0.5)\n",
            "Requirement already satisfied: cymem<2.1.0,>=2.0.2 in /usr/local/lib/python3.7/dist-packages (from spacy<2.4.0->pycaret[full]) (2.0.5)\n",
            "Requirement already satisfied: wasabi<1.1.0,>=0.4.0 in /usr/local/lib/python3.7/dist-packages (from spacy<2.4.0->pycaret[full]) (0.8.2)\n",
            "Requirement already satisfied: thinc==7.4.0 in /usr/local/lib/python3.7/dist-packages (from spacy<2.4.0->pycaret[full]) (7.4.0)\n",
            "Requirement already satisfied: plac<1.2.0,>=0.9.6 in /usr/local/lib/python3.7/dist-packages (from spacy<2.4.0->pycaret[full]) (1.1.3)\n",
            "Requirement already satisfied: preshed<3.1.0,>=3.0.2 in /usr/local/lib/python3.7/dist-packages (from spacy<2.4.0->pycaret[full]) (3.0.5)\n",
            "Requirement already satisfied: blis<0.5.0,>=0.4.0 in /usr/local/lib/python3.7/dist-packages (from spacy<2.4.0->pycaret[full]) (0.4.1)\n",
            "Requirement already satisfied: catalogue<1.1.0,>=0.0.7 in /usr/local/lib/python3.7/dist-packages (from spacy<2.4.0->pycaret[full]) (1.0.0)\n",
            "Requirement already satisfied: srsly<1.1.0,>=1.0.2 in /usr/local/lib/python3.7/dist-packages (from spacy<2.4.0->pycaret[full]) (1.0.5)\n",
            "Requirement already satisfied: wheel in /usr/local/lib/python3.7/dist-packages (from lightgbm>=2.3.1->pycaret[full]) (0.36.2)\n",
            "Requirement already satisfied: alembic<=1.4.1 in /usr/local/lib/python3.7/dist-packages (from mlflow->pycaret[full]) (1.4.1)\n",
            "Requirement already satisfied: entrypoints in /usr/local/lib/python3.7/dist-packages (from mlflow->pycaret[full]) (0.3)\n",
            "Requirement already satisfied: querystring-parser in /usr/local/lib/python3.7/dist-packages (from mlflow->pycaret[full]) (1.2.4)\n",
            "Requirement already satisfied: protobuf>=3.7.0 in /usr/local/lib/python3.7/dist-packages (from mlflow->pycaret[full]) (3.12.4)\n",
            "Requirement already satisfied: packaging in /usr/local/lib/python3.7/dist-packages (from mlflow->pycaret[full]) (20.9)\n",
            "Requirement already satisfied: gitpython>=2.1.0 in /usr/local/lib/python3.7/dist-packages (from mlflow->pycaret[full]) (3.1.18)\n",
            "Requirement already satisfied: prometheus-flask-exporter in /usr/local/lib/python3.7/dist-packages (from mlflow->pycaret[full]) (0.18.2)\n",
            "Requirement already satisfied: sqlparse>=0.3.1 in /usr/local/lib/python3.7/dist-packages (from mlflow->pycaret[full]) (0.4.1)\n",
            "Requirement already satisfied: sqlalchemy in /usr/local/lib/python3.7/dist-packages (from mlflow->pycaret[full]) (1.4.18)\n",
            "Requirement already satisfied: gunicorn; platform_system != \"Windows\" in /usr/local/lib/python3.7/dist-packages (from mlflow->pycaret[full]) (20.1.0)\n",
            "Requirement already satisfied: click>=7.0 in /usr/local/lib/python3.7/dist-packages (from mlflow->pycaret[full]) (7.1.2)\n",
            "Requirement already satisfied: docker>=4.0.0 in /usr/local/lib/python3.7/dist-packages (from mlflow->pycaret[full]) (5.0.0)\n",
            "Requirement already satisfied: databricks-cli>=0.8.7 in /usr/local/lib/python3.7/dist-packages (from mlflow->pycaret[full]) (0.14.3)\n",
            "Requirement already satisfied: Flask in /usr/local/lib/python3.7/dist-packages (from mlflow->pycaret[full]) (1.1.4)\n",
            "Requirement already satisfied: smart-open>=1.2.1 in /usr/local/lib/python3.7/dist-packages (from gensim<4.0.0->pycaret[full]) (5.1.0)\n",
            "Requirement already satisfied: cryptography>=2.1.4 in /usr/local/lib/python3.7/dist-packages (from azure-storage-blob; extra == \"full\"->pycaret[full]) (3.4.7)\n",
            "Requirement already satisfied: azure-core<2.0.0,>=1.10.0 in /usr/local/lib/python3.7/dist-packages (from azure-storage-blob; extra == \"full\"->pycaret[full]) (1.15.0)\n",
            "Requirement already satisfied: msrest>=0.6.18 in /usr/local/lib/python3.7/dist-packages (from azure-storage-blob; extra == \"full\"->pycaret[full]) (0.6.21)\n",
            "Requirement already satisfied: google-cloud-core<2.0dev,>=1.0.0 in /usr/local/lib/python3.7/dist-packages (from google-cloud-storage; extra == \"full\"->pycaret[full]) (1.0.3)\n",
            "Requirement already satisfied: google-auth>=1.2.0 in /usr/local/lib/python3.7/dist-packages (from google-cloud-storage; extra == \"full\"->pycaret[full]) (1.31.0)\n",
            "Requirement already satisfied: google-resumable-media<0.5.0dev,>=0.3.1 in /usr/local/lib/python3.7/dist-packages (from google-cloud-storage; extra == \"full\"->pycaret[full]) (0.4.1)\n",
            "Requirement already satisfied: cliff in /usr/local/lib/python3.7/dist-packages (from optuna; extra == \"full\"->pycaret[full]) (3.8.0)\n",
            "Requirement already satisfied: colorlog in /usr/local/lib/python3.7/dist-packages (from optuna; extra == \"full\"->pycaret[full]) (5.0.1)\n",
            "Requirement already satisfied: cmaes>=0.8.2 in /usr/local/lib/python3.7/dist-packages (from optuna; extra == \"full\"->pycaret[full]) (0.8.2)\n",
            "Requirement already satisfied: colorama<0.4.4,>=0.2.5 in /usr/local/lib/python3.7/dist-packages (from awscli; extra == \"full\"->pycaret[full]) (0.4.3)\n",
            "Requirement already satisfied: docutils<0.16,>=0.10 in /usr/local/lib/python3.7/dist-packages (from awscli; extra == \"full\"->pycaret[full]) (0.15.2)\n",
            "Requirement already satisfied: botocore==1.20.101 in /usr/local/lib/python3.7/dist-packages (from awscli; extra == \"full\"->pycaret[full]) (1.20.101)\n",
            "Requirement already satisfied: rsa<4.8,>=3.1.2; python_version > \"2.7\" in /usr/local/lib/python3.7/dist-packages (from awscli; extra == \"full\"->pycaret[full]) (4.7.2)\n",
            "Requirement already satisfied: s3transfer<0.5.0,>=0.4.0 in /usr/local/lib/python3.7/dist-packages (from awscli; extra == \"full\"->pycaret[full]) (0.4.2)\n",
            "Requirement already satisfied: pymongo in /usr/local/lib/python3.7/dist-packages (from hyperopt; extra == \"full\"->pycaret[full]) (3.11.4)\n",
            "Requirement already satisfied: networkx in /usr/local/lib/python3.7/dist-packages (from hyperopt; extra == \"full\"->pycaret[full]) (2.5.1)\n",
            "Requirement already satisfied: pyaml>=16.9 in /usr/local/lib/python3.7/dist-packages (from scikit-optimize>=0.8.1; extra == \"full\"->pycaret[full]) (20.4.0)\n",
            "Requirement already satisfied: graphviz in /usr/local/lib/python3.7/dist-packages (from catboost>=0.23.2; extra == \"full\"->pycaret[full]) (0.10.1)\n",
            "Requirement already satisfied: msgpack<2.0.0,>=1.0.0 in /usr/local/lib/python3.7/dist-packages (from ray[tune]>=1.0.0; extra == \"full\"->pycaret[full]) (1.0.2)\n",
            "Requirement already satisfied: aiohttp-cors in /usr/local/lib/python3.7/dist-packages (from ray[tune]>=1.0.0; extra == \"full\"->pycaret[full]) (0.7.0)\n",
            "Requirement already satisfied: py-spy>=0.2.0 in /usr/local/lib/python3.7/dist-packages (from ray[tune]>=1.0.0; extra == \"full\"->pycaret[full]) (0.3.7)\n",
            "Requirement already satisfied: prometheus-client>=0.7.1 in /usr/local/lib/python3.7/dist-packages (from ray[tune]>=1.0.0; extra == \"full\"->pycaret[full]) (0.11.0)\n",
            "Requirement already satisfied: redis>=3.5.0 in /usr/local/lib/python3.7/dist-packages (from ray[tune]>=1.0.0; extra == \"full\"->pycaret[full]) (3.5.3)\n",
            "Requirement already satisfied: grpcio>=1.28.1 in /usr/local/lib/python3.7/dist-packages (from ray[tune]>=1.0.0; extra == \"full\"->pycaret[full]) (1.34.1)\n",
            "Requirement already satisfied: aiohttp in /usr/local/lib/python3.7/dist-packages (from ray[tune]>=1.0.0; extra == \"full\"->pycaret[full]) (3.7.4.post0)\n",
            "Requirement already satisfied: filelock in /usr/local/lib/python3.7/dist-packages (from ray[tune]>=1.0.0; extra == \"full\"->pycaret[full]) (3.0.12)\n",
            "Requirement already satisfied: opencensus in /usr/local/lib/python3.7/dist-packages (from ray[tune]>=1.0.0; extra == \"full\"->pycaret[full]) (0.7.13)\n",
            "Requirement already satisfied: jsonschema in /usr/local/lib/python3.7/dist-packages (from ray[tune]>=1.0.0; extra == \"full\"->pycaret[full]) (2.6.0)\n",
            "Requirement already satisfied: gpustat in /usr/local/lib/python3.7/dist-packages (from ray[tune]>=1.0.0; extra == \"full\"->pycaret[full]) (0.6.0)\n",
            "Requirement already satisfied: aioredis in /usr/local/lib/python3.7/dist-packages (from ray[tune]>=1.0.0; extra == \"full\"->pycaret[full]) (1.3.1)\n",
            "Requirement already satisfied: tensorboardX; extra == \"tune\" in /usr/local/lib/python3.7/dist-packages (from ray[tune]>=1.0.0; extra == \"full\"->pycaret[full]) (2.3)\n",
            "Requirement already satisfied: tabulate; extra == \"tune\" in /usr/local/lib/python3.7/dist-packages (from ray[tune]>=1.0.0; extra == \"full\"->pycaret[full]) (0.8.9)\n",
            "Requirement already satisfied: autograd>=1.3 in /usr/local/lib/python3.7/dist-packages (from lifelines>=0.25->ngboost) (1.3)\n",
            "Requirement already satisfied: autograd-gamma>=0.3 in /usr/local/lib/python3.7/dist-packages (from lifelines>=0.25->ngboost) (0.5.0)\n",
            "Requirement already satisfied: formulaic<0.3,>=0.2.2 in /usr/local/lib/python3.7/dist-packages (from lifelines>=0.25->ngboost) (0.2.3)\n",
            "Requirement already satisfied: llvmlite<0.35,>=0.34.0.dev0 in /usr/local/lib/python3.7/dist-packages (from numba->shap) (0.34.0)\n",
            "Requirement already satisfied: wcwidth in /usr/local/lib/python3.7/dist-packages (from prompt-toolkit<2.0.0,>=1.0.4->IPython->pycaret[full]) (0.2.5)\n",
            "Requirement already satisfied: ipython-genutils in /usr/local/lib/python3.7/dist-packages (from traitlets>=4.2->IPython->pycaret[full]) (0.2.0)\n",
            "Requirement already satisfied: ptyprocess>=0.5 in /usr/local/lib/python3.7/dist-packages (from pexpect; sys_platform != \"win32\"->IPython->pycaret[full]) (0.7.0)\n",
            "Requirement already satisfied: notebook>=4.4.1 in /usr/local/lib/python3.7/dist-packages (from widgetsnbextension~=3.5.0->ipywidgets->pycaret[full]) (5.3.1)\n",
            "Requirement already satisfied: jupyter-client in /usr/local/lib/python3.7/dist-packages (from ipykernel>=4.5.1->ipywidgets->pycaret[full]) (5.3.5)\n",
            "Requirement already satisfied: tornado>=4.0 in /usr/local/lib/python3.7/dist-packages (from ipykernel>=4.5.1->ipywidgets->pycaret[full]) (5.1.1)\n",
            "Requirement already satisfied: jupyter-core in /usr/local/lib/python3.7/dist-packages (from nbformat>=4.2.0->ipywidgets->pycaret[full]) (4.7.1)\n",
            "Requirement already satisfied: patsy>=0.4.0 in /usr/local/lib/python3.7/dist-packages (from statsmodels->pyod->pycaret[full]) (0.5.1)\n",
            "Requirement already satisfied: MarkupSafe>=0.23 in /usr/local/lib/python3.7/dist-packages (from jinja2->pyLDAvis->pycaret[full]) (2.0.1)\n",
            "Requirement already satisfied: typing-extensions>=3.7.4.3 in /usr/local/lib/python3.7/dist-packages (from pydantic>=1.8.1->pandas-profiling>=2.8.0->pycaret[full]) (3.7.4.3)\n",
            "Requirement already satisfied: urllib3<1.27,>=1.21.1 in /usr/local/lib/python3.7/dist-packages (from requests>=2.24.0->pandas-profiling>=2.8.0->pycaret[full]) (1.24.3)\n",
            "Requirement already satisfied: idna<3,>=2.5 in /usr/local/lib/python3.7/dist-packages (from requests>=2.24.0->pandas-profiling>=2.8.0->pycaret[full]) (2.10)\n",
            "Requirement already satisfied: chardet<5,>=3.0.2 in /usr/local/lib/python3.7/dist-packages (from requests>=2.24.0->pandas-profiling>=2.8.0->pycaret[full]) (3.0.4)\n",
            "Requirement already satisfied: certifi>=2017.4.17 in /usr/local/lib/python3.7/dist-packages (from requests>=2.24.0->pandas-profiling>=2.8.0->pycaret[full]) (2021.5.30)\n",
            "Requirement already satisfied: bottleneck in /usr/local/lib/python3.7/dist-packages (from visions[type_image_path]==0.7.1->pandas-profiling>=2.8.0->pycaret[full]) (1.3.2)\n",
            "Requirement already satisfied: attrs>=19.3.0 in /usr/local/lib/python3.7/dist-packages (from visions[type_image_path]==0.7.1->pandas-profiling>=2.8.0->pycaret[full]) (21.2.0)\n",
            "Requirement already satisfied: multimethod==1.4 in /usr/local/lib/python3.7/dist-packages (from visions[type_image_path]==0.7.1->pandas-profiling>=2.8.0->pycaret[full]) (1.4)\n",
            "Requirement already satisfied: imagehash; extra == \"type_image_path\" in /usr/local/lib/python3.7/dist-packages (from visions[type_image_path]==0.7.1->pandas-profiling>=2.8.0->pycaret[full]) (4.2.0)\n",
            "Requirement already satisfied: importlib-metadata>=0.20; python_version < \"3.8\" in /usr/local/lib/python3.7/dist-packages (from catalogue<1.1.0,>=0.0.7->spacy<2.4.0->pycaret[full]) (4.5.0)\n",
            "Requirement already satisfied: Mako in /usr/local/lib/python3.7/dist-packages (from alembic<=1.4.1->mlflow->pycaret[full]) (1.1.4)\n",
            "Requirement already satisfied: python-editor>=0.3 in /usr/local/lib/python3.7/dist-packages (from alembic<=1.4.1->mlflow->pycaret[full]) (1.0.4)\n",
            "Requirement already satisfied: gitdb<5,>=4.0.1 in /usr/local/lib/python3.7/dist-packages (from gitpython>=2.1.0->mlflow->pycaret[full]) (4.0.7)\n",
            "Requirement already satisfied: greenlet!=0.4.17; python_version >= \"3\" in /usr/local/lib/python3.7/dist-packages (from sqlalchemy->mlflow->pycaret[full]) (1.1.0)\n",
            "Requirement already satisfied: websocket-client>=0.32.0 in /usr/local/lib/python3.7/dist-packages (from docker>=4.0.0->mlflow->pycaret[full]) (1.1.0)\n",
            "Requirement already satisfied: Werkzeug<2.0,>=0.15 in /usr/local/lib/python3.7/dist-packages (from Flask->mlflow->pycaret[full]) (1.0.1)\n",
            "Requirement already satisfied: itsdangerous<2.0,>=0.24 in /usr/local/lib/python3.7/dist-packages (from Flask->mlflow->pycaret[full]) (1.1.0)\n",
            "Requirement already satisfied: cffi>=1.12 in /usr/local/lib/python3.7/dist-packages (from cryptography>=2.1.4->azure-storage-blob; extra == \"full\"->pycaret[full]) (1.14.5)\n",
            "Requirement already satisfied: requests-oauthlib>=0.5.0 in /usr/local/lib/python3.7/dist-packages (from msrest>=0.6.18->azure-storage-blob; extra == \"full\"->pycaret[full]) (1.3.0)\n",
            "Requirement already satisfied: isodate>=0.6.0 in /usr/local/lib/python3.7/dist-packages (from msrest>=0.6.18->azure-storage-blob; extra == \"full\"->pycaret[full]) (0.6.0)\n",
            "Requirement already satisfied: google-api-core<2.0.0dev,>=1.14.0 in /usr/local/lib/python3.7/dist-packages (from google-cloud-core<2.0dev,>=1.0.0->google-cloud-storage; extra == \"full\"->pycaret[full]) (1.26.3)\n",
            "Requirement already satisfied: pyasn1-modules>=0.2.1 in /usr/local/lib/python3.7/dist-packages (from google-auth>=1.2.0->google-cloud-storage; extra == \"full\"->pycaret[full]) (0.2.8)\n",
            "Requirement already satisfied: cachetools<5.0,>=2.0.0 in /usr/local/lib/python3.7/dist-packages (from google-auth>=1.2.0->google-cloud-storage; extra == \"full\"->pycaret[full]) (4.2.2)\n",
            "Requirement already satisfied: PrettyTable>=0.7.2 in /usr/local/lib/python3.7/dist-packages (from cliff->optuna; extra == \"full\"->pycaret[full]) (2.1.0)\n",
            "Requirement already satisfied: stevedore>=2.0.1 in /usr/local/lib/python3.7/dist-packages (from cliff->optuna; extra == \"full\"->pycaret[full]) (3.3.0)\n",
            "Requirement already satisfied: cmd2>=1.0.0 in /usr/local/lib/python3.7/dist-packages (from cliff->optuna; extra == \"full\"->pycaret[full]) (2.1.1)\n",
            "Requirement already satisfied: pbr!=2.1.0,>=2.0.0 in /usr/local/lib/python3.7/dist-packages (from cliff->optuna; extra == \"full\"->pycaret[full]) (5.6.0)\n",
            "Requirement already satisfied: jmespath<1.0.0,>=0.7.1 in /usr/local/lib/python3.7/dist-packages (from botocore==1.20.101->awscli; extra == \"full\"->pycaret[full]) (0.10.0)\n",
            "Requirement already satisfied: pyasn1>=0.1.3 in /usr/local/lib/python3.7/dist-packages (from rsa<4.8,>=3.1.2; python_version > \"2.7\"->awscli; extra == \"full\"->pycaret[full]) (0.4.8)\n",
            "Requirement already satisfied: multidict<7.0,>=4.5 in /usr/local/lib/python3.7/dist-packages (from aiohttp->ray[tune]>=1.0.0; extra == \"full\"->pycaret[full]) (5.1.0)\n",
            "Requirement already satisfied: async-timeout<4.0,>=3.0 in /usr/local/lib/python3.7/dist-packages (from aiohttp->ray[tune]>=1.0.0; extra == \"full\"->pycaret[full]) (3.0.1)\n",
            "Requirement already satisfied: yarl<2.0,>=1.0 in /usr/local/lib/python3.7/dist-packages (from aiohttp->ray[tune]>=1.0.0; extra == \"full\"->pycaret[full]) (1.6.3)\n",
            "Requirement already satisfied: opencensus-context==0.1.2 in /usr/local/lib/python3.7/dist-packages (from opencensus->ray[tune]>=1.0.0; extra == \"full\"->pycaret[full]) (0.1.2)\n",
            "Requirement already satisfied: nvidia-ml-py3>=7.352.0 in /usr/local/lib/python3.7/dist-packages (from gpustat->ray[tune]>=1.0.0; extra == \"full\"->pycaret[full]) (7.352.0)\n",
            "Requirement already satisfied: blessings>=1.6 in /usr/local/lib/python3.7/dist-packages (from gpustat->ray[tune]>=1.0.0; extra == \"full\"->pycaret[full]) (1.7)\n",
            "Requirement already satisfied: hiredis in /usr/local/lib/python3.7/dist-packages (from aioredis->ray[tune]>=1.0.0; extra == \"full\"->pycaret[full]) (2.0.0)\n",
            "Requirement already satisfied: interface-meta>=1.2 in /usr/local/lib/python3.7/dist-packages (from formulaic<0.3,>=0.2.2->lifelines>=0.25->ngboost) (1.2.3)\n",
            "Requirement already satisfied: astor in /usr/local/lib/python3.7/dist-packages (from formulaic<0.3,>=0.2.2->lifelines>=0.25->ngboost) (0.8.1)\n",
            "Requirement already satisfied: wrapt in /usr/local/lib/python3.7/dist-packages (from formulaic<0.3,>=0.2.2->lifelines>=0.25->ngboost) (1.12.1)\n",
            "Requirement already satisfied: terminado>=0.8.1 in /usr/local/lib/python3.7/dist-packages (from notebook>=4.4.1->widgetsnbextension~=3.5.0->ipywidgets->pycaret[full]) (0.10.1)\n",
            "Requirement already satisfied: nbconvert in /usr/local/lib/python3.7/dist-packages (from notebook>=4.4.1->widgetsnbextension~=3.5.0->ipywidgets->pycaret[full]) (5.6.1)\n",
            "Requirement already satisfied: Send2Trash in /usr/local/lib/python3.7/dist-packages (from notebook>=4.4.1->widgetsnbextension~=3.5.0->ipywidgets->pycaret[full]) (1.5.0)\n",
            "Requirement already satisfied: pyzmq>=13 in /usr/local/lib/python3.7/dist-packages (from jupyter-client->ipykernel>=4.5.1->ipywidgets->pycaret[full]) (22.1.0)\n",
            "Requirement already satisfied: PyWavelets in /usr/local/lib/python3.7/dist-packages (from imagehash; extra == \"type_image_path\"->visions[type_image_path]==0.7.1->pandas-profiling>=2.8.0->pycaret[full]) (1.1.1)\n",
            "Requirement already satisfied: zipp>=0.5 in /usr/local/lib/python3.7/dist-packages (from importlib-metadata>=0.20; python_version < \"3.8\"->catalogue<1.1.0,>=0.0.7->spacy<2.4.0->pycaret[full]) (3.4.1)\n",
            "Requirement already satisfied: smmap<5,>=3.0.1 in /usr/local/lib/python3.7/dist-packages (from gitdb<5,>=4.0.1->gitpython>=2.1.0->mlflow->pycaret[full]) (4.0.0)\n",
            "Requirement already satisfied: pycparser in /usr/local/lib/python3.7/dist-packages (from cffi>=1.12->cryptography>=2.1.4->azure-storage-blob; extra == \"full\"->pycaret[full]) (2.20)\n",
            "Requirement already satisfied: oauthlib>=3.0.0 in /usr/local/lib/python3.7/dist-packages (from requests-oauthlib>=0.5.0->msrest>=0.6.18->azure-storage-blob; extra == \"full\"->pycaret[full]) (3.1.1)\n",
            "Requirement already satisfied: googleapis-common-protos<2.0dev,>=1.6.0 in /usr/local/lib/python3.7/dist-packages (from google-api-core<2.0.0dev,>=1.14.0->google-cloud-core<2.0dev,>=1.0.0->google-cloud-storage; extra == \"full\"->pycaret[full]) (1.53.0)\n",
            "Requirement already satisfied: pyperclip>=1.6 in /usr/local/lib/python3.7/dist-packages (from cmd2>=1.0.0->cliff->optuna; extra == \"full\"->pycaret[full]) (1.8.2)\n",
            "Requirement already satisfied: defusedxml in /usr/local/lib/python3.7/dist-packages (from nbconvert->notebook>=4.4.1->widgetsnbextension~=3.5.0->ipywidgets->pycaret[full]) (0.7.1)\n",
            "Requirement already satisfied: bleach in /usr/local/lib/python3.7/dist-packages (from nbconvert->notebook>=4.4.1->widgetsnbextension~=3.5.0->ipywidgets->pycaret[full]) (3.3.0)\n",
            "Requirement already satisfied: pandocfilters>=1.4.1 in /usr/local/lib/python3.7/dist-packages (from nbconvert->notebook>=4.4.1->widgetsnbextension~=3.5.0->ipywidgets->pycaret[full]) (1.4.3)\n",
            "Requirement already satisfied: testpath in /usr/local/lib/python3.7/dist-packages (from nbconvert->notebook>=4.4.1->widgetsnbextension~=3.5.0->ipywidgets->pycaret[full]) (0.5.0)\n",
            "Requirement already satisfied: mistune<2,>=0.8.1 in /usr/local/lib/python3.7/dist-packages (from nbconvert->notebook>=4.4.1->widgetsnbextension~=3.5.0->ipywidgets->pycaret[full]) (0.8.4)\n",
            "Requirement already satisfied: webencodings in /usr/local/lib/python3.7/dist-packages (from bleach->nbconvert->notebook>=4.4.1->widgetsnbextension~=3.5.0->ipywidgets->pycaret[full]) (0.5.1)\n",
            "\u001b[31mERROR: ray 1.4.0 has requirement protobuf>=3.15.3, but you'll have protobuf 3.12.4 which is incompatible.\u001b[0m\n",
            "\u001b[31mERROR: pandas-profiling 3.0.0 has requirement tqdm>=4.48.2, but you'll have tqdm 4.41.1 which is incompatible.\u001b[0m\n",
            "\u001b[31mERROR: google-colab 1.0.0 has requirement requests~=2.23.0, but you'll have requests 2.25.1 which is incompatible.\u001b[0m\n",
            "\u001b[31mERROR: datascience 0.10.6 has requirement folium==0.2.1, but you'll have folium 0.8.3 which is incompatible.\u001b[0m\n",
            "Installing collected packages: pycaret, requests\n",
            "  Found existing installation: requests 2.23.0\n",
            "    Uninstalling requests-2.23.0:\n",
            "      Successfully uninstalled requests-2.23.0\n",
            "Successfully installed pycaret-2.3.1 requests-2.25.1\n"
          ],
          "name": "stdout"
        }
      ]
    },
    {
      "cell_type": "code",
      "metadata": {
        "colab": {
          "base_uri": "https://localhost:8080/"
        },
        "id": "xSJ8axTTPjpW",
        "outputId": "93ed84c8-a644-4caa-f07f-e68abd6a4d1f"
      },
      "source": [
        "df.columns"
      ],
      "execution_count": 64,
      "outputs": [
        {
          "output_type": "execute_result",
          "data": {
            "text/plain": [
              "Index(['단지코드', '총세대수', '지역', '공가수', '도보 10분거리 내 지하철역 수(환승노선 수 반영)',\n",
              "       '도보 10분거리 내 버스정류장 수', '단지내주차면수', '등록차량수', '전용면적_mean', '전용면적_median',\n",
              "       '전용면적_min', '전용면적_max', '전용면적_std', '전용면적_count', '전용면적_sum',\n",
              "       '전용면적별세대수_mean', '전용면적별세대수_median', '전용면적별세대수_min', '전용면적별세대수_max',\n",
              "       '전용면적별세대수_std', '전용면적별세대수_count', '전용면적별세대수_sum', '임대보증금_mean',\n",
              "       '임대보증금_median', '임대보증금_min', '임대보증금_max', '임대보증금_std', '임대보증금_count',\n",
              "       '임대보증금_sum', '임대료_mean', '임대료_median', '임대료_min', '임대료_max', '임대료_std',\n",
              "       '임대료_count', '임대료_sum', '임대건물구분_상가_counter', '임대건물구분_아파트_counter',\n",
              "       '공급유형_공공임대(5년/10년/50년/분납/분양)_counter', '공급유형_국민임대_counter',\n",
              "       '공급유형_영구임대_counter', '공급유형_임대상가_counter', '공급유형_장기전세/행복주택_counter',\n",
              "       '자격유형_A_counter', '자격유형_D_counter', '자격유형_E_counter',\n",
              "       '자격유형_국민임대_공급대상_counter', '자격유형_영구임대_공급대상_counter',\n",
              "       '자격유형_행복주택_공급대상_counter'],\n",
              "      dtype='object')"
            ]
          },
          "metadata": {
            "tags": []
          },
          "execution_count": 64
        }
      ]
    },
    {
      "cell_type": "code",
      "metadata": {
        "colab": {
          "base_uri": "https://localhost:8080/",
          "height": 1000,
          "referenced_widgets": [
            "c104ea72f17f419c9779b4532d829168",
            "71e6c85ef2ec4002b21c46fa6cf3228c",
            "a6a56bea27c0469ea83ae333bcfd31f3",
            "20d076195f5643acaf6961cc93e87fc3",
            "3a5b82fbe82b451a913eb6bc5e1348ac",
            "253cd4c7fca54c9ca75ca8479bc000e8",
            "6684581714c84d53a1bc4a96b97376af",
            "6236e2a5fc8e4bd48282474d62251552",
            "752f4cc71708485ea5f8ca8dfd96de40"
          ]
        },
        "id": "x4BlecinPlx5",
        "outputId": "e9bd06bc-9b65-4175-d4f1-e1ddf844e481"
      },
      "source": [
        "# Compare Models\n",
        "from pycaret.classification import *\n",
        "from pycaret.regression import *\n",
        "from pycaret.utils import check_metric\n",
        "\n",
        "FEATS = ['총세대수', '지역', '공가수', '도보 10분거리 내 지하철역 수(환승노선 수 반영)',\n",
        "       '도보 10분거리 내 버스정류장 수', '단지내주차면수', '등록차량수', '전용면적_mean', '전용면적_median',\n",
        "       '전용면적_min', '전용면적_max', '전용면적_std', '전용면적_count', '전용면적_sum',\n",
        "       '전용면적별세대수_mean', '전용면적별세대수_median', '전용면적별세대수_min', '전용면적별세대수_max',\n",
        "       '전용면적별세대수_std', '전용면적별세대수_count', '전용면적별세대수_sum', '임대보증금_mean',\n",
        "       '임대보증금_median', '임대보증금_min', '임대보증금_max', '임대보증금_std', '임대보증금_count',\n",
        "       '임대보증금_sum', '임대료_mean', '임대료_median', '임대료_min', '임대료_max', '임대료_std',\n",
        "       '임대료_count', '임대료_sum', '임대건물구분_상가_counter', '임대건물구분_아파트_counter',\n",
        "       '공급유형_공공임대(5년/10년/50년/분납/분양)_counter', '공급유형_국민임대_counter',\n",
        "       '공급유형_영구임대_counter', '공급유형_임대상가_counter', '공급유형_장기전세/행복주택_counter',\n",
        "       '자격유형_A_counter', '자격유형_D_counter', '자격유형_E_counter',\n",
        "       '자격유형_국민임대_공급대상_counter', '자격유형_영구임대_공급대상_counter',\n",
        "       '자격유형_행복주택_공급대상_counter']\n",
        "reg1 = setup(data = df[FEATS], target = '등록차량수')\n",
        "top5 = compare_models(n_select = 5, sort = 'MAE')\n",
        "print('\\n'.join([str(t) for t in top5]))\n",
        "df_top_by_comparing = pull()"
      ],
      "execution_count": 65,
      "outputs": [
        {
          "output_type": "display_data",
          "data": {
            "text/html": [
              "<div>\n",
              "<style scoped>\n",
              "    .dataframe tbody tr th:only-of-type {\n",
              "        vertical-align: middle;\n",
              "    }\n",
              "\n",
              "    .dataframe tbody tr th {\n",
              "        vertical-align: top;\n",
              "    }\n",
              "\n",
              "    .dataframe thead th {\n",
              "        text-align: right;\n",
              "    }\n",
              "</style>\n",
              "<table border=\"1\" class=\"dataframe\">\n",
              "  <thead>\n",
              "    <tr style=\"text-align: right;\">\n",
              "      <th></th>\n",
              "      <th>Model</th>\n",
              "      <th>MAE</th>\n",
              "      <th>MSE</th>\n",
              "      <th>RMSE</th>\n",
              "      <th>R2</th>\n",
              "      <th>RMSLE</th>\n",
              "      <th>MAPE</th>\n",
              "      <th>TT (Sec)</th>\n",
              "    </tr>\n",
              "  </thead>\n",
              "  <tbody>\n",
              "    <tr>\n",
              "      <th>et</th>\n",
              "      <td>Extra Trees Regressor</td>\n",
              "      <td>127.9983</td>\n",
              "      <td>3.653000e+04</td>\n",
              "      <td>188.5126</td>\n",
              "      <td>0.7513</td>\n",
              "      <td>0.3950</td>\n",
              "      <td>0.3751</td>\n",
              "      <td>0.507</td>\n",
              "    </tr>\n",
              "    <tr>\n",
              "      <th>llar</th>\n",
              "      <td>Lasso Least Angle Regression</td>\n",
              "      <td>128.0109</td>\n",
              "      <td>3.337946e+04</td>\n",
              "      <td>180.7341</td>\n",
              "      <td>0.7707</td>\n",
              "      <td>0.4096</td>\n",
              "      <td>0.3738</td>\n",
              "      <td>0.266</td>\n",
              "    </tr>\n",
              "    <tr>\n",
              "      <th>omp</th>\n",
              "      <td>Orthogonal Matching Pursuit</td>\n",
              "      <td>131.8740</td>\n",
              "      <td>3.455603e+04</td>\n",
              "      <td>184.3954</td>\n",
              "      <td>0.7570</td>\n",
              "      <td>0.5097</td>\n",
              "      <td>0.4200</td>\n",
              "      <td>0.014</td>\n",
              "    </tr>\n",
              "    <tr>\n",
              "      <th>xgboost</th>\n",
              "      <td>Extreme Gradient Boosting</td>\n",
              "      <td>133.9617</td>\n",
              "      <td>4.126403e+04</td>\n",
              "      <td>199.2220</td>\n",
              "      <td>0.7157</td>\n",
              "      <td>0.3900</td>\n",
              "      <td>0.3432</td>\n",
              "      <td>1.858</td>\n",
              "    </tr>\n",
              "    <tr>\n",
              "      <th>rf</th>\n",
              "      <td>Random Forest Regressor</td>\n",
              "      <td>133.9970</td>\n",
              "      <td>4.056077e+04</td>\n",
              "      <td>198.2411</td>\n",
              "      <td>0.7215</td>\n",
              "      <td>0.3950</td>\n",
              "      <td>0.3721</td>\n",
              "      <td>0.639</td>\n",
              "    </tr>\n",
              "    <tr>\n",
              "      <th>catboost</th>\n",
              "      <td>CatBoost Regressor</td>\n",
              "      <td>134.2421</td>\n",
              "      <td>4.105524e+04</td>\n",
              "      <td>198.7442</td>\n",
              "      <td>0.7277</td>\n",
              "      <td>0.4261</td>\n",
              "      <td>0.4137</td>\n",
              "      <td>8.564</td>\n",
              "    </tr>\n",
              "    <tr>\n",
              "      <th>gbr</th>\n",
              "      <td>Gradient Boosting Regressor</td>\n",
              "      <td>136.9346</td>\n",
              "      <td>4.263047e+04</td>\n",
              "      <td>203.3417</td>\n",
              "      <td>0.7069</td>\n",
              "      <td>0.4238</td>\n",
              "      <td>0.3966</td>\n",
              "      <td>0.171</td>\n",
              "    </tr>\n",
              "    <tr>\n",
              "      <th>lightgbm</th>\n",
              "      <td>Light Gradient Boosting Machine</td>\n",
              "      <td>138.3592</td>\n",
              "      <td>4.166734e+04</td>\n",
              "      <td>201.1598</td>\n",
              "      <td>0.7089</td>\n",
              "      <td>0.4693</td>\n",
              "      <td>0.3783</td>\n",
              "      <td>0.098</td>\n",
              "    </tr>\n",
              "    <tr>\n",
              "      <th>en</th>\n",
              "      <td>Elastic Net</td>\n",
              "      <td>143.4450</td>\n",
              "      <td>3.828633e+04</td>\n",
              "      <td>193.3125</td>\n",
              "      <td>0.7332</td>\n",
              "      <td>0.5339</td>\n",
              "      <td>0.4650</td>\n",
              "      <td>0.024</td>\n",
              "    </tr>\n",
              "    <tr>\n",
              "      <th>br</th>\n",
              "      <td>Bayesian Ridge</td>\n",
              "      <td>143.9871</td>\n",
              "      <td>3.995874e+04</td>\n",
              "      <td>198.0009</td>\n",
              "      <td>0.7221</td>\n",
              "      <td>0.4464</td>\n",
              "      <td>0.4495</td>\n",
              "      <td>0.016</td>\n",
              "    </tr>\n",
              "    <tr>\n",
              "      <th>lasso</th>\n",
              "      <td>Lasso Regression</td>\n",
              "      <td>145.9047</td>\n",
              "      <td>3.958185e+04</td>\n",
              "      <td>195.6675</td>\n",
              "      <td>0.7239</td>\n",
              "      <td>0.5272</td>\n",
              "      <td>0.4630</td>\n",
              "      <td>0.023</td>\n",
              "    </tr>\n",
              "    <tr>\n",
              "      <th>lr</th>\n",
              "      <td>Linear Regression</td>\n",
              "      <td>146.6763</td>\n",
              "      <td>4.087085e+04</td>\n",
              "      <td>200.7258</td>\n",
              "      <td>0.7121</td>\n",
              "      <td>0.4616</td>\n",
              "      <td>0.4499</td>\n",
              "      <td>0.292</td>\n",
              "    </tr>\n",
              "    <tr>\n",
              "      <th>ridge</th>\n",
              "      <td>Ridge Regression</td>\n",
              "      <td>149.9664</td>\n",
              "      <td>4.094630e+04</td>\n",
              "      <td>198.7625</td>\n",
              "      <td>0.7131</td>\n",
              "      <td>0.4932</td>\n",
              "      <td>0.4820</td>\n",
              "      <td>0.015</td>\n",
              "    </tr>\n",
              "    <tr>\n",
              "      <th>ada</th>\n",
              "      <td>AdaBoost Regressor</td>\n",
              "      <td>151.2740</td>\n",
              "      <td>4.595359e+04</td>\n",
              "      <td>212.2539</td>\n",
              "      <td>0.6843</td>\n",
              "      <td>0.5220</td>\n",
              "      <td>0.6430</td>\n",
              "      <td>0.123</td>\n",
              "    </tr>\n",
              "    <tr>\n",
              "      <th>dt</th>\n",
              "      <td>Decision Tree Regressor</td>\n",
              "      <td>165.6749</td>\n",
              "      <td>6.513638e+04</td>\n",
              "      <td>250.4668</td>\n",
              "      <td>0.5580</td>\n",
              "      <td>0.4832</td>\n",
              "      <td>0.4159</td>\n",
              "      <td>0.020</td>\n",
              "    </tr>\n",
              "    <tr>\n",
              "      <th>huber</th>\n",
              "      <td>Huber Regressor</td>\n",
              "      <td>255.3056</td>\n",
              "      <td>1.639850e+05</td>\n",
              "      <td>391.7333</td>\n",
              "      <td>-0.1136</td>\n",
              "      <td>0.7570</td>\n",
              "      <td>0.9069</td>\n",
              "      <td>0.055</td>\n",
              "    </tr>\n",
              "    <tr>\n",
              "      <th>knn</th>\n",
              "      <td>K Neighbors Regressor</td>\n",
              "      <td>267.9094</td>\n",
              "      <td>1.304919e+05</td>\n",
              "      <td>359.0736</td>\n",
              "      <td>0.0652</td>\n",
              "      <td>0.7341</td>\n",
              "      <td>1.0778</td>\n",
              "      <td>0.061</td>\n",
              "    </tr>\n",
              "    <tr>\n",
              "      <th>par</th>\n",
              "      <td>Passive Aggressive Regressor</td>\n",
              "      <td>596.6031</td>\n",
              "      <td>1.202626e+06</td>\n",
              "      <td>848.9141</td>\n",
              "      <td>-14.8290</td>\n",
              "      <td>1.0207</td>\n",
              "      <td>1.6998</td>\n",
              "      <td>0.016</td>\n",
              "    </tr>\n",
              "  </tbody>\n",
              "</table>\n",
              "</div>"
            ],
            "text/plain": [
              "                                    Model       MAE           MSE      RMSE  \\\n",
              "et                  Extra Trees Regressor  127.9983  3.653000e+04  188.5126   \n",
              "llar         Lasso Least Angle Regression  128.0109  3.337946e+04  180.7341   \n",
              "omp           Orthogonal Matching Pursuit  131.8740  3.455603e+04  184.3954   \n",
              "xgboost         Extreme Gradient Boosting  133.9617  4.126403e+04  199.2220   \n",
              "rf                Random Forest Regressor  133.9970  4.056077e+04  198.2411   \n",
              "catboost               CatBoost Regressor  134.2421  4.105524e+04  198.7442   \n",
              "gbr           Gradient Boosting Regressor  136.9346  4.263047e+04  203.3417   \n",
              "lightgbm  Light Gradient Boosting Machine  138.3592  4.166734e+04  201.1598   \n",
              "en                            Elastic Net  143.4450  3.828633e+04  193.3125   \n",
              "br                         Bayesian Ridge  143.9871  3.995874e+04  198.0009   \n",
              "lasso                    Lasso Regression  145.9047  3.958185e+04  195.6675   \n",
              "lr                      Linear Regression  146.6763  4.087085e+04  200.7258   \n",
              "ridge                    Ridge Regression  149.9664  4.094630e+04  198.7625   \n",
              "ada                    AdaBoost Regressor  151.2740  4.595359e+04  212.2539   \n",
              "dt                Decision Tree Regressor  165.6749  6.513638e+04  250.4668   \n",
              "huber                     Huber Regressor  255.3056  1.639850e+05  391.7333   \n",
              "knn                 K Neighbors Regressor  267.9094  1.304919e+05  359.0736   \n",
              "par          Passive Aggressive Regressor  596.6031  1.202626e+06  848.9141   \n",
              "\n",
              "               R2   RMSLE    MAPE  TT (Sec)  \n",
              "et         0.7513  0.3950  0.3751     0.507  \n",
              "llar       0.7707  0.4096  0.3738     0.266  \n",
              "omp        0.7570  0.5097  0.4200     0.014  \n",
              "xgboost    0.7157  0.3900  0.3432     1.858  \n",
              "rf         0.7215  0.3950  0.3721     0.639  \n",
              "catboost   0.7277  0.4261  0.4137     8.564  \n",
              "gbr        0.7069  0.4238  0.3966     0.171  \n",
              "lightgbm   0.7089  0.4693  0.3783     0.098  \n",
              "en         0.7332  0.5339  0.4650     0.024  \n",
              "br         0.7221  0.4464  0.4495     0.016  \n",
              "lasso      0.7239  0.5272  0.4630     0.023  \n",
              "lr         0.7121  0.4616  0.4499     0.292  \n",
              "ridge      0.7131  0.4932  0.4820     0.015  \n",
              "ada        0.6843  0.5220  0.6430     0.123  \n",
              "dt         0.5580  0.4832  0.4159     0.020  \n",
              "huber     -0.1136  0.7570  0.9069     0.055  \n",
              "knn        0.0652  0.7341  1.0778     0.061  \n",
              "par      -14.8290  1.0207  1.6998     0.016  "
            ]
          },
          "metadata": {
            "tags": []
          }
        },
        {
          "output_type": "stream",
          "text": [
            "ExtraTreesRegressor(bootstrap=False, ccp_alpha=0.0, criterion='mse',\n",
            "                    max_depth=None, max_features='auto', max_leaf_nodes=None,\n",
            "                    max_samples=None, min_impurity_decrease=0.0,\n",
            "                    min_impurity_split=None, min_samples_leaf=1,\n",
            "                    min_samples_split=2, min_weight_fraction_leaf=0.0,\n",
            "                    n_estimators=100, n_jobs=-1, oob_score=False,\n",
            "                    random_state=5914, verbose=0, warm_start=False)\n",
            "LassoLars(alpha=1.0, copy_X=True, eps=2.220446049250313e-16, fit_intercept=True,\n",
            "          fit_path=True, jitter=None, max_iter=500, normalize=True,\n",
            "          positive=False, precompute='auto', random_state=5914, verbose=False)\n",
            "OrthogonalMatchingPursuit(fit_intercept=True, n_nonzero_coefs=None,\n",
            "                          normalize=True, precompute='auto', tol=None)\n",
            "XGBRegressor(base_score=0.5, booster='gbtree', colsample_bylevel=1,\n",
            "             colsample_bynode=1, colsample_bytree=1, gamma=0, gpu_id=-1,\n",
            "             importance_type='gain', interaction_constraints='',\n",
            "             learning_rate=0.300000012, max_delta_step=0, max_depth=6,\n",
            "             min_child_weight=1, missing=nan, monotone_constraints='()',\n",
            "             n_estimators=100, n_jobs=-1, num_parallel_tree=1,\n",
            "             objective='reg:squarederror', random_state=5914, reg_alpha=0,\n",
            "             reg_lambda=1, scale_pos_weight=1, subsample=1, tree_method='auto',\n",
            "             validate_parameters=1, verbosity=0)\n",
            "RandomForestRegressor(bootstrap=True, ccp_alpha=0.0, criterion='mse',\n",
            "                      max_depth=None, max_features='auto', max_leaf_nodes=None,\n",
            "                      max_samples=None, min_impurity_decrease=0.0,\n",
            "                      min_impurity_split=None, min_samples_leaf=1,\n",
            "                      min_samples_split=2, min_weight_fraction_leaf=0.0,\n",
            "                      n_estimators=100, n_jobs=-1, oob_score=False,\n",
            "                      random_state=5914, verbose=0, warm_start=False)\n"
          ],
          "name": "stdout"
        }
      ]
    },
    {
      "cell_type": "code",
      "metadata": {
        "colab": {
          "base_uri": "https://localhost:8080/"
        },
        "id": "pYdb_wIGPrPj",
        "outputId": "1175b05f-f822-4f6b-8506-2fcf285edf32"
      },
      "source": [
        "# df_top_by_comparing.to_csv('./output_pycaret/00_compare_models.csv',index=True)\n",
        "df_top_by_comparing.index"
      ],
      "execution_count": 66,
      "outputs": [
        {
          "output_type": "execute_result",
          "data": {
            "text/plain": [
              "Index(['et', 'llar', 'omp', 'xgboost', 'rf', 'catboost', 'gbr', 'lightgbm',\n",
              "       'en', 'br', 'lasso', 'lr', 'ridge', 'ada', 'dt', 'huber', 'knn', 'par'],\n",
              "      dtype='object')"
            ]
          },
          "metadata": {
            "tags": []
          },
          "execution_count": 66
        }
      ]
    },
    {
      "cell_type": "code",
      "metadata": {
        "colab": {
          "base_uri": "https://localhost:8080/"
        },
        "id": "39BlICRWPt1k",
        "outputId": "aa43326e-43ec-4481-f119-76f9947863a7"
      },
      "source": [
        "# 모델들, grid score df, plot 등이 모두 저장되는 상위경로\n",
        "from datetime import timedelta, timezone, datetime\n",
        "\n",
        "now_time = datetime.now(timezone(timedelta(hours=9))).strftime('%m%d_%H%M')\n",
        "experiment_name = '_' + 'LB118_수정_pycaret으로_llar'\n",
        "\n",
        "now_time += experiment_name\n",
        "\n",
        "upper_dir_of_pycaret = f'/content/drive/MyDrive/dacon_parking_data/output_pycaret/{now_time}'\n",
        "print(f\"upper_dir_of_pycaret : {upper_dir_of_pycaret}\")\n",
        "\n",
        "fold=10\n",
        "# FEATS = [c for c in final_df.columns if c not in ['단지코드']]\n",
        "cat_features=[]\n",
        "continuous_features=[]\n",
        "target_feature = '등록차량수'\n",
        "\n",
        "print(f'FEATS : {len(FEATS)}')\n",
        "print(f\"target : {target_feature}\")\n",
        "print(f'cat_features : {len(cat_features)}')\n",
        "print(f'continuous_features : {len(continuous_features)}')"
      ],
      "execution_count": 72,
      "outputs": [
        {
          "output_type": "stream",
          "text": [
            "upper_dir_of_pycaret : /content/drive/MyDrive/dacon_parking_data/output_pycaret/0628_0125_LB118_수정_pycaret으로_llar\n",
            "FEATS : 48\n",
            "target : 등록차량수\n",
            "cat_features : 0\n",
            "continuous_features : 0\n"
          ],
          "name": "stdout"
        }
      ]
    },
    {
      "cell_type": "code",
      "metadata": {
        "colab": {
          "base_uri": "https://localhost:8080/"
        },
        "id": "LFBkCR_zP4IG",
        "outputId": "baaad09b-1594-43b1-a2ce-6c88106f6b40"
      },
      "source": [
        "copy_train = train[['단지코드','등록차량수']].drop_duplicates().reset_index(drop=True)\n",
        "no_nan_danjicode_idxes = copy_train.loc[copy_train['단지코드'].isin(no_nan_danjicode),:].index\n",
        "\n",
        "holdout = df[FEATS].iloc[no_nan_danjicode_idxes]\n",
        "holdout.shape"
      ],
      "execution_count": 74,
      "outputs": [
        {
          "output_type": "execute_result",
          "data": {
            "text/plain": [
              "(378, 48)"
            ]
          },
          "metadata": {
            "tags": []
          },
          "execution_count": 74
        }
      ]
    },
    {
      "cell_type": "markdown",
      "metadata": {
        "id": "sWXplGfDSPaD"
      },
      "source": [
        "# Training"
      ]
    },
    {
      "cell_type": "code",
      "metadata": {
        "colab": {
          "base_uri": "https://localhost:8080/",
          "height": 1000,
          "referenced_widgets": [
            "f0750724700443f8b78958aba4153b23",
            "8f165b0e4d7e48dcb9a2b32f50644f9c",
            "b516ede9474b4a7d9818d51d700d47cc",
            "cd9505264cc144ecad8a81124cc2cf61",
            "861c70f6493847d3b410841755d2087c",
            "603adefc2c814dc799a0254bc8c34eb7"
          ]
        },
        "id": "UzkHWFsTSP-V",
        "outputId": "26ca2c73-eb0d-4460-d809-c4e5df593136"
      },
      "source": [
        "settings = setup(\n",
        "                data=df[FEATS], \n",
        "                target=target_feature, \n",
        "                train_size=0.95, \n",
        "                categorical_features=cat_features, \n",
        "                numeric_features=continuous_features,\n",
        "                data_split_shuffle = True, # True가 default\n",
        "                # fold_strategy = last_fold,\n",
        "                # experiment_name=experiment_name,\n",
        "                # log_experiment=False,   # compare_model 할 때에는 하이퍼파라미터가 어떻게 튜닝되었는지 볼 수 있어서 유용하다고 한다.\n",
        "                )\n",
        "\n",
        "# from ngboost import NGBClassifier\n",
        "# ngc = NGBClassifier()\n",
        "# ngboost = create_model(ngc)\n",
        "\n",
        "model_name_list=['llar']   # 'et', 'catboost', 'rf', 'gbr', 'llar', 'omp', 'en', 'ada', 'br', 'lr', 'lasso', 'dt', 'ridge',\n",
        "ensemble_method = 'blend_models'  # 'blend_models', 'stack_models' ->  (Regression : 'create_stacknet'), (Classifier : 'stack_models'),\n",
        "meta_model_for_stack = 'xgboost' # If using stack_models"
      ],
      "execution_count": 75,
      "outputs": [
        {
          "output_type": "display_data",
          "data": {
            "text/html": [
              "<div>\n",
              "<style scoped>\n",
              "    .dataframe tbody tr th:only-of-type {\n",
              "        vertical-align: middle;\n",
              "    }\n",
              "\n",
              "    .dataframe tbody tr th {\n",
              "        vertical-align: top;\n",
              "    }\n",
              "\n",
              "    .dataframe thead th {\n",
              "        text-align: right;\n",
              "    }\n",
              "</style>\n",
              "<table border=\"1\" class=\"dataframe\">\n",
              "  <thead>\n",
              "    <tr style=\"text-align: right;\">\n",
              "      <th></th>\n",
              "      <th>Description</th>\n",
              "      <th>Value</th>\n",
              "    </tr>\n",
              "  </thead>\n",
              "  <tbody>\n",
              "    <tr>\n",
              "      <th>0</th>\n",
              "      <td>session_id</td>\n",
              "      <td>1174</td>\n",
              "    </tr>\n",
              "    <tr>\n",
              "      <th>1</th>\n",
              "      <td>Target</td>\n",
              "      <td>등록차량수</td>\n",
              "    </tr>\n",
              "    <tr>\n",
              "      <th>2</th>\n",
              "      <td>Original Data</td>\n",
              "      <td>(423, 48)</td>\n",
              "    </tr>\n",
              "    <tr>\n",
              "      <th>3</th>\n",
              "      <td>Missing Values</td>\n",
              "      <td>False</td>\n",
              "    </tr>\n",
              "    <tr>\n",
              "      <th>4</th>\n",
              "      <td>Numeric Features</td>\n",
              "      <td>34</td>\n",
              "    </tr>\n",
              "    <tr>\n",
              "      <th>5</th>\n",
              "      <td>Categorical Features</td>\n",
              "      <td>13</td>\n",
              "    </tr>\n",
              "    <tr>\n",
              "      <th>6</th>\n",
              "      <td>Ordinal Features</td>\n",
              "      <td>False</td>\n",
              "    </tr>\n",
              "    <tr>\n",
              "      <th>7</th>\n",
              "      <td>High Cardinality Features</td>\n",
              "      <td>False</td>\n",
              "    </tr>\n",
              "    <tr>\n",
              "      <th>8</th>\n",
              "      <td>High Cardinality Method</td>\n",
              "      <td>None</td>\n",
              "    </tr>\n",
              "    <tr>\n",
              "      <th>9</th>\n",
              "      <td>Transformed Train Set</td>\n",
              "      <td>(401, 57)</td>\n",
              "    </tr>\n",
              "    <tr>\n",
              "      <th>10</th>\n",
              "      <td>Transformed Test Set</td>\n",
              "      <td>(22, 57)</td>\n",
              "    </tr>\n",
              "    <tr>\n",
              "      <th>11</th>\n",
              "      <td>Shuffle Train-Test</td>\n",
              "      <td>True</td>\n",
              "    </tr>\n",
              "    <tr>\n",
              "      <th>12</th>\n",
              "      <td>Stratify Train-Test</td>\n",
              "      <td>False</td>\n",
              "    </tr>\n",
              "    <tr>\n",
              "      <th>13</th>\n",
              "      <td>Fold Generator</td>\n",
              "      <td>KFold</td>\n",
              "    </tr>\n",
              "    <tr>\n",
              "      <th>14</th>\n",
              "      <td>Fold Number</td>\n",
              "      <td>10</td>\n",
              "    </tr>\n",
              "    <tr>\n",
              "      <th>15</th>\n",
              "      <td>CPU Jobs</td>\n",
              "      <td>-1</td>\n",
              "    </tr>\n",
              "    <tr>\n",
              "      <th>16</th>\n",
              "      <td>Use GPU</td>\n",
              "      <td>False</td>\n",
              "    </tr>\n",
              "    <tr>\n",
              "      <th>17</th>\n",
              "      <td>Log Experiment</td>\n",
              "      <td>False</td>\n",
              "    </tr>\n",
              "    <tr>\n",
              "      <th>18</th>\n",
              "      <td>Experiment Name</td>\n",
              "      <td>reg-default-name</td>\n",
              "    </tr>\n",
              "    <tr>\n",
              "      <th>19</th>\n",
              "      <td>USI</td>\n",
              "      <td>7cf3</td>\n",
              "    </tr>\n",
              "    <tr>\n",
              "      <th>20</th>\n",
              "      <td>Imputation Type</td>\n",
              "      <td>simple</td>\n",
              "    </tr>\n",
              "    <tr>\n",
              "      <th>21</th>\n",
              "      <td>Iterative Imputation Iteration</td>\n",
              "      <td>None</td>\n",
              "    </tr>\n",
              "    <tr>\n",
              "      <th>22</th>\n",
              "      <td>Numeric Imputer</td>\n",
              "      <td>mean</td>\n",
              "    </tr>\n",
              "    <tr>\n",
              "      <th>23</th>\n",
              "      <td>Iterative Imputation Numeric Model</td>\n",
              "      <td>None</td>\n",
              "    </tr>\n",
              "    <tr>\n",
              "      <th>24</th>\n",
              "      <td>Categorical Imputer</td>\n",
              "      <td>constant</td>\n",
              "    </tr>\n",
              "    <tr>\n",
              "      <th>25</th>\n",
              "      <td>Iterative Imputation Categorical Model</td>\n",
              "      <td>None</td>\n",
              "    </tr>\n",
              "    <tr>\n",
              "      <th>26</th>\n",
              "      <td>Unknown Categoricals Handling</td>\n",
              "      <td>least_frequent</td>\n",
              "    </tr>\n",
              "    <tr>\n",
              "      <th>27</th>\n",
              "      <td>Normalize</td>\n",
              "      <td>False</td>\n",
              "    </tr>\n",
              "    <tr>\n",
              "      <th>28</th>\n",
              "      <td>Normalize Method</td>\n",
              "      <td>None</td>\n",
              "    </tr>\n",
              "    <tr>\n",
              "      <th>29</th>\n",
              "      <td>Transformation</td>\n",
              "      <td>False</td>\n",
              "    </tr>\n",
              "    <tr>\n",
              "      <th>30</th>\n",
              "      <td>Transformation Method</td>\n",
              "      <td>None</td>\n",
              "    </tr>\n",
              "    <tr>\n",
              "      <th>31</th>\n",
              "      <td>PCA</td>\n",
              "      <td>False</td>\n",
              "    </tr>\n",
              "    <tr>\n",
              "      <th>32</th>\n",
              "      <td>PCA Method</td>\n",
              "      <td>None</td>\n",
              "    </tr>\n",
              "    <tr>\n",
              "      <th>33</th>\n",
              "      <td>PCA Components</td>\n",
              "      <td>None</td>\n",
              "    </tr>\n",
              "    <tr>\n",
              "      <th>34</th>\n",
              "      <td>Ignore Low Variance</td>\n",
              "      <td>False</td>\n",
              "    </tr>\n",
              "    <tr>\n",
              "      <th>35</th>\n",
              "      <td>Combine Rare Levels</td>\n",
              "      <td>False</td>\n",
              "    </tr>\n",
              "    <tr>\n",
              "      <th>36</th>\n",
              "      <td>Rare Level Threshold</td>\n",
              "      <td>None</td>\n",
              "    </tr>\n",
              "    <tr>\n",
              "      <th>37</th>\n",
              "      <td>Numeric Binning</td>\n",
              "      <td>False</td>\n",
              "    </tr>\n",
              "    <tr>\n",
              "      <th>38</th>\n",
              "      <td>Remove Outliers</td>\n",
              "      <td>False</td>\n",
              "    </tr>\n",
              "    <tr>\n",
              "      <th>39</th>\n",
              "      <td>Outliers Threshold</td>\n",
              "      <td>None</td>\n",
              "    </tr>\n",
              "    <tr>\n",
              "      <th>40</th>\n",
              "      <td>Remove Multicollinearity</td>\n",
              "      <td>False</td>\n",
              "    </tr>\n",
              "    <tr>\n",
              "      <th>41</th>\n",
              "      <td>Multicollinearity Threshold</td>\n",
              "      <td>None</td>\n",
              "    </tr>\n",
              "    <tr>\n",
              "      <th>42</th>\n",
              "      <td>Clustering</td>\n",
              "      <td>False</td>\n",
              "    </tr>\n",
              "    <tr>\n",
              "      <th>43</th>\n",
              "      <td>Clustering Iteration</td>\n",
              "      <td>None</td>\n",
              "    </tr>\n",
              "    <tr>\n",
              "      <th>44</th>\n",
              "      <td>Polynomial Features</td>\n",
              "      <td>False</td>\n",
              "    </tr>\n",
              "    <tr>\n",
              "      <th>45</th>\n",
              "      <td>Polynomial Degree</td>\n",
              "      <td>None</td>\n",
              "    </tr>\n",
              "    <tr>\n",
              "      <th>46</th>\n",
              "      <td>Trignometry Features</td>\n",
              "      <td>False</td>\n",
              "    </tr>\n",
              "    <tr>\n",
              "      <th>47</th>\n",
              "      <td>Polynomial Threshold</td>\n",
              "      <td>None</td>\n",
              "    </tr>\n",
              "    <tr>\n",
              "      <th>48</th>\n",
              "      <td>Group Features</td>\n",
              "      <td>False</td>\n",
              "    </tr>\n",
              "    <tr>\n",
              "      <th>49</th>\n",
              "      <td>Feature Selection</td>\n",
              "      <td>False</td>\n",
              "    </tr>\n",
              "    <tr>\n",
              "      <th>50</th>\n",
              "      <td>Feature Selection Method</td>\n",
              "      <td>classic</td>\n",
              "    </tr>\n",
              "    <tr>\n",
              "      <th>51</th>\n",
              "      <td>Features Selection Threshold</td>\n",
              "      <td>None</td>\n",
              "    </tr>\n",
              "    <tr>\n",
              "      <th>52</th>\n",
              "      <td>Feature Interaction</td>\n",
              "      <td>False</td>\n",
              "    </tr>\n",
              "    <tr>\n",
              "      <th>53</th>\n",
              "      <td>Feature Ratio</td>\n",
              "      <td>False</td>\n",
              "    </tr>\n",
              "    <tr>\n",
              "      <th>54</th>\n",
              "      <td>Interaction Threshold</td>\n",
              "      <td>None</td>\n",
              "    </tr>\n",
              "    <tr>\n",
              "      <th>55</th>\n",
              "      <td>Transform Target</td>\n",
              "      <td>False</td>\n",
              "    </tr>\n",
              "    <tr>\n",
              "      <th>56</th>\n",
              "      <td>Transform Target Method</td>\n",
              "      <td>box-cox</td>\n",
              "    </tr>\n",
              "  </tbody>\n",
              "</table>\n",
              "</div>"
            ],
            "text/plain": [
              "                               Description             Value\n",
              "0                               session_id              1174\n",
              "1                                   Target             등록차량수\n",
              "2                            Original Data         (423, 48)\n",
              "3                           Missing Values             False\n",
              "4                         Numeric Features                34\n",
              "5                     Categorical Features                13\n",
              "6                         Ordinal Features             False\n",
              "7                High Cardinality Features             False\n",
              "8                  High Cardinality Method              None\n",
              "9                    Transformed Train Set         (401, 57)\n",
              "10                    Transformed Test Set          (22, 57)\n",
              "11                      Shuffle Train-Test              True\n",
              "12                     Stratify Train-Test             False\n",
              "13                          Fold Generator             KFold\n",
              "14                             Fold Number                10\n",
              "15                                CPU Jobs                -1\n",
              "16                                 Use GPU             False\n",
              "17                          Log Experiment             False\n",
              "18                         Experiment Name  reg-default-name\n",
              "19                                     USI              7cf3\n",
              "20                         Imputation Type            simple\n",
              "21          Iterative Imputation Iteration              None\n",
              "22                         Numeric Imputer              mean\n",
              "23      Iterative Imputation Numeric Model              None\n",
              "24                     Categorical Imputer          constant\n",
              "25  Iterative Imputation Categorical Model              None\n",
              "26           Unknown Categoricals Handling    least_frequent\n",
              "27                               Normalize             False\n",
              "28                        Normalize Method              None\n",
              "29                          Transformation             False\n",
              "30                   Transformation Method              None\n",
              "31                                     PCA             False\n",
              "32                              PCA Method              None\n",
              "33                          PCA Components              None\n",
              "34                     Ignore Low Variance             False\n",
              "35                     Combine Rare Levels             False\n",
              "36                    Rare Level Threshold              None\n",
              "37                         Numeric Binning             False\n",
              "38                         Remove Outliers             False\n",
              "39                      Outliers Threshold              None\n",
              "40                Remove Multicollinearity             False\n",
              "41             Multicollinearity Threshold              None\n",
              "42                              Clustering             False\n",
              "43                    Clustering Iteration              None\n",
              "44                     Polynomial Features             False\n",
              "45                       Polynomial Degree              None\n",
              "46                    Trignometry Features             False\n",
              "47                    Polynomial Threshold              None\n",
              "48                          Group Features             False\n",
              "49                       Feature Selection             False\n",
              "50                Feature Selection Method           classic\n",
              "51            Features Selection Threshold              None\n",
              "52                     Feature Interaction             False\n",
              "53                           Feature Ratio             False\n",
              "54                   Interaction Threshold              None\n",
              "55                        Transform Target             False\n",
              "56                 Transform Target Method           box-cox"
            ]
          },
          "metadata": {
            "tags": []
          }
        }
      ]
    },
    {
      "cell_type": "code",
      "metadata": {
        "id": "XwDzfdboSRQq"
      },
      "source": [
        "## Classification Models :  https://github.com/pycaret/pycaret/blob/master/pycaret/containers/models/classification.py\n",
        "## Regression Modelss : https://github.com/pycaret/pycaret/blob/master/pycaret/containers/models/regression.py\n",
        "\n",
        "## 각 단계마다 (create - tune - ensemble - finalize) 모델, 정보, plot 저장해주는 코드\n",
        "\n",
        "def plot_save_pycaret_model(name, model,mode='tune'):\n",
        "    # Feature Importance Plot 저장하기\n",
        "    plot_dir = f'{upper_dir_of_pycaret}/plot_result'\n",
        "    os.makedirs(plot_dir, exist_ok=True)\n",
        "    os.chdir(plot_dir)\n",
        "    # top10 feature\n",
        "    feature_importance_plot = plot_model(model, plot = 'feature', save=True)\n",
        "    os.rename(f'{plot_dir}/Feature Importance.png',f'{plot_dir}/{mode}_{name}_10_feature_importance.png')\n",
        "    # all feature\n",
        "    feature_importance_plot = plot_model(model, plot = 'feature_all', save=True)\n",
        "    os.rename(f'{plot_dir}/Feature Importance (All).png',f'{plot_dir}/{mode}_{name}_all_feature_importance.png')\n",
        "\n",
        "# def create_and_save_pycaret_model(name):\n",
        "#     created_model = create_model(name, cross_validation = True)\n",
        "#     # Display되는 score grid dataframe도 가져올 수가 있다. \n",
        "#     df_result_model = pull()\n",
        "#     df_result_model.to_csv(f'{upper_dir_of_pycaret}/{name}_create_grid_df.csv')\n",
        "#     # 실험결과를 저장하는 것도 가능하다.\n",
        "#     save_experiment(f'{upper_dir_of_pycaret}/{name}_create_exp_result')\n",
        "#     # 모델을 저장하는 것도 가능하다.\n",
        "#     save_model(created_model, f'{upper_dir_of_pycaret}/{name}_model_saved')\n",
        "#     return created_model\n",
        "\n",
        "def tune_and_save_pycaret_model(name, model, optimize = 'MAE', fold = fold, n_iter = 10):\n",
        "    print('Now Tuning the models....')\n",
        "    tuned_model = tune_model(model, optimize = optimize, fold = fold, n_iter = n_iter)   # \n",
        "    # Display되는 score grid dataframe도 가져올 수가 있다. \n",
        "    df_result_model = pull()\n",
        "    os.makedirs(f\"{upper_dir_of_pycaret}/grid_df\",exist_ok=True)\n",
        "    df_result_model.to_csv(f'{upper_dir_of_pycaret}/grid_df/{name}_tuned_grid_df.csv')\n",
        "    # 모델의 각종 plot을 저장하는 것도 가능하다.\n",
        "    plot_save_pycaret_model(name, tuned_model, mode='tune')\n",
        "    # 실험결과를 저장하는 것도 가능하다.\n",
        "    os.makedirs(f\"{upper_dir_of_pycaret}/expr\",exist_ok=True)\n",
        "    try:\n",
        "        save_experiment(f'{upper_dir_of_pycaret}/expr/{name}_tuned_exp_result')\n",
        "    except:\n",
        "        print('tuned model의 실험결과는 저장할 수 없습니다.')\n",
        "    # 모델을 저장하는 것도 가능하다.\n",
        "    os.makedirs(f\"{upper_dir_of_pycaret}/models\",exist_ok=True)\n",
        "    save_model(tuned_model, f'{upper_dir_of_pycaret}/models/{name}_tuned_model_saved')\n",
        "    return tuned_model\n",
        "\n",
        "def ensemble_and_save_pycaret_model(\n",
        "                                    model_name_list,\n",
        "                                    estimator_list,\n",
        "                                    fold = fold,\n",
        "                                    optimize = 'MAE',\n",
        "                                    meta_model = None,\n",
        "                                    mode = None,\n",
        "                                    ):\n",
        "    print('Now Ensemble the models....')\n",
        "    if mode=='blend_models':\n",
        "        ensembled_model = blend_models(estimator_list = estimator_list, fold = fold, optimize = optimize)\n",
        "    elif mode=='stack_models':\n",
        "        ensembled_model = stack_models(estimator_list = estimator_list, fold = fold, optimize = optimize, meta_model = meta_model)\n",
        "    # Display되는 score grid dataframe도 가져올 수가 있다. \n",
        "    df_result_model = pull()\n",
        "    name = '_'.join(model_name_list)\n",
        "    os.makedirs(f\"{upper_dir_of_pycaret}/grid_df\",exist_ok=True)\n",
        "    df_result_model.to_csv(f'{upper_dir_of_pycaret}/grid_df/{name}_ensembled_grid_df.csv')\n",
        "    # 모델의 각종 plot을 저장하는 것도 가능하다.\n",
        "    try:\n",
        "        plot_save_pycaret_model(name, ensembled_model, mode='ensemble')\n",
        "    except:\n",
        "        print(f'ensemble model은 변수중요도 plot을 저장할 수 없습니다')\n",
        "    # 실험결과를 저장하는 것도 가능하다.\n",
        "    os.makedirs(f\"{upper_dir_of_pycaret}/expr\",exist_ok=True)\n",
        "    try:\n",
        "        save_experiment(f'{upper_dir_of_pycaret}/expr/{name}_ensembled_exp_result')\n",
        "    except:\n",
        "        print(f'ensemble model은 실험결과를 저장할 수 없습니다')\n",
        "    # 모델을 저장하는 것도 가능하다.\n",
        "    os.makedirs(f\"{upper_dir_of_pycaret}/models\",exist_ok=True)\n",
        "    save_model(ensembled_model, f'{upper_dir_of_pycaret}/models/{name}_ensembled_model_saved')\n",
        "    return ensembled_model\n",
        "\n",
        "def finalize_and_save_pycaret_model(model_name_list,model,):\n",
        "    print('Now Finalizing the model....')\n",
        "    finalized_model = finalize_model(model)\n",
        "    # Display되는 score grid dataframe도 가져올 수가 있다. \n",
        "    df_result_model = pull()\n",
        "    name = '_'.join(model_name_list)\n",
        "    os.makedirs(f\"{upper_dir_of_pycaret}/grid_df\",exist_ok=True)\n",
        "    df_result_model.to_csv(f'{upper_dir_of_pycaret}/grid_df/{name}_finalized_grid_df.csv')\n",
        "    # 모델의 각종 plot을 저장하는 것도 가능하다.\n",
        "    try:\n",
        "        plot_save_pycaret_model(name, finalized_model, mode='finalize')\n",
        "    except:\n",
        "        print(f'final model은 변수중요도 plot을 저장할 수 없습니다')\n",
        "    # 실험결과를 저장하는 것도 가능하다.\n",
        "    os.makedirs(f\"{upper_dir_of_pycaret}/expr\",exist_ok=True)\n",
        "    try:\n",
        "        save_experiment(f'{upper_dir_of_pycaret}/expr/{name}_finalized_exp_result')\n",
        "    except:\n",
        "        print(f'final model은 실험결과를 저장할 수 없습니다')\n",
        "    # 모델을 저장하는 것도 가능하다.\n",
        "    os.makedirs(f\"{upper_dir_of_pycaret}/models\",exist_ok=True)\n",
        "    save_model(finalized_model, f'{upper_dir_of_pycaret}/models/{name}_finalized_model_saved')\n",
        "    return finalized_model\n"
      ],
      "execution_count": 76,
      "outputs": []
    },
    {
      "cell_type": "code",
      "metadata": {
        "id": "1YVAXhahSm5s"
      },
      "source": [
        "def ensemble_automl(\n",
        "                    final_df,\n",
        "                    holdout,\n",
        "                    FEATS,\n",
        "                    cat_features=[],\n",
        "                    continuous_features=[],\n",
        "                    seed=seed,\n",
        "                    model_name_list = model_name_list,\n",
        "                    ensemble_method = ensemble_method,\n",
        "                    meta_model_for_stack = meta_model_for_stack,\n",
        "                    settings = settings,\n",
        "                    ):\n",
        "\n",
        "    # final_df, holdout = datasets\n",
        "    random.seed(seed)\n",
        "    # fold_strategy = KFold(n_splits=10, shuffle=True, random_state=42)\n",
        "    settings = settings\n",
        "\n",
        "    # train_size만큼을 가지고 선언된 model_name_list 모델들을 학습을 함\n",
        "    # create_model(name, sort='MAE', cross_validation = True)\n",
        "    models_before_tune = [\n",
        "                            create_model(\n",
        "                                name, \n",
        "                                fold=fold,\n",
        "                                cross_validation = True,\n",
        "                                # cross_validation = False,\n",
        "                                ) \n",
        "                            for name in model_name_list]\n",
        "    # 앞서만든 모델들을 train_size만큼 가지고 튜닝함 (n_iter만큼 AutoML)\n",
        "    # models_after_tune = [tune_model(model, optimize = 'MAE', fold = 10, n_iter = 10) for model in models_before_tune]\n",
        "    models_after_tune = [tune_and_save_pycaret_model(name, model, optimize = 'MAE', fold = fold, n_iter = 10) for name, model in zip(model_name_list, models_before_tune)]\n",
        "\n",
        "\n",
        "    # 튜닝된 모델들을 train_size만큼 가지고 앙상블\n",
        "    if len(models_after_tune)<=1:\n",
        "        ensembled = models_after_tune[0]\n",
        "    else:\n",
        "        ensembled = ensemble_and_save_pycaret_model(model_name_list,estimator_list=models_after_tune,fold = fold,optimize = 'MAE',method = method,meta_model = meta_model_for_stack,mode = ensemble_method)\n",
        "    # elif ensemble_method=='blend_models':\n",
        "    #     ensembled = blend_models(estimator_list = models_after_tune, fold = 10, method = 'soft', optimize = 'MAE')\n",
        "    # elif ensemble_method=='stack_models':\n",
        "    #     ensembled = stack_models(estimator_list = models_after_tune, meta_model = meta_model_for_stack, fold = 10, optimize = 'MAE')\n",
        "\n",
        "    # 마지막 학습(Finalize)\n",
        "    # 앞서 앙상블된 모델을 => setup으로 나눠져 쓰지않았던 valid까지 포함된 100퍼센트를 사용하여 fitting함\n",
        "    final_model = finalize_and_save_pycaret_model(model_name_list,ensembled)\n",
        "\n",
        "    metric_result = []\n",
        "    prediction = predict_model(final_model, data=holdout[FEATS], )  # raw_score = True\n",
        "    df_holdout_score = pull()\n",
        "\n",
        "    os.makedirs(f\"{upper_dir_of_pycaret}/holdout_score\",exist_ok=True)\n",
        "    df_holdout_score.to_csv(f'{upper_dir_of_pycaret}/holdout_score/finalize_holdout_score.csv')\n",
        "\n",
        "    metric_result.append(f\"HoldOut 데이터 MAE: {check_metric(prediction['등록차량수'], prediction['Label'], metric = 'MAE')}\")\n",
        "    return final_model, metric_result\n"
      ],
      "execution_count": 77,
      "outputs": []
    },
    {
      "cell_type": "code",
      "metadata": {
        "colab": {
          "base_uri": "https://localhost:8080/",
          "height": 104,
          "referenced_widgets": [
            "1988c1da242a4385affed944a46a8713",
            "9e949dc051a044c790e05cba359c64e1",
            "c4766310fce74393a9e1891d251000ed",
            "74f1f6b45539449e9f6afde50c73f0e5",
            "6e27559a5c9d4ca1865ab5ddd69d8390",
            "4e2b04754f644bd59cf2c7dbf149b746",
            "68e2234c89b646d5ba409de06e767885",
            "378a13c4593a4d4ca2502cd3a3af3255",
            "736c1f66d7f748f1a6a53891743f6261",
            "74826634237a49d78b6b1e3d2034ac9f",
            "08ac73be680a447693f1b835912d969f",
            "0abf3272201f499d919a2d428902a47f"
          ]
        },
        "id": "VQDHOhaOSoHP",
        "outputId": "2481f986-dbe4-4a09-ecb4-a2ac4a2499d0"
      },
      "source": [
        "final_model, metric_result = ensemble_automl(\n",
        "                                            df,\n",
        "                                            holdout,\n",
        "                                            FEATS,\n",
        "                                            cat_features,\n",
        "                                            continuous_features,\n",
        "                                            seed=seed,\n",
        "                                            model_name_list=model_name_list,\n",
        "                                            ensemble_method = ensemble_method,\n",
        "                                            meta_model_for_stack = meta_model_for_stack,\n",
        "                                            )\n",
        "\n",
        "print(final_model)\n",
        "\n",
        "print(f\"ACC & AUC : \",'\\n'.join(metric_result))\n",
        "\n",
        "# <catboost.core.CatBoostRegressor object at 0x7ff1f02e06d0>\n",
        "# ACC & AUC :  HoldOut 데이터 MAE: 60.0347\n",
        "\n",
        "# LassoLars(alpha=1.0, copy_X=True, eps=0.1, fit_intercept=False, fit_path=True,\n",
        "#           jitter=None, max_iter=500, normalize=False, positive=False,\n",
        "#           precompute='auto', random_state=5914, verbose=False)\n",
        "# ACC & AUC :  HoldOut 데이터 MAE: 120.0388\n",
        "\n",
        "# HuberRegressor(alpha=0.0005, epsilon=1.1, fit_intercept=False, max_iter=100,\n",
        "#                tol=1e-05, warm_start=False)\n",
        "# ACC & AUC :  HoldOut 데이터 MAE: 121.9794\n"
      ],
      "execution_count": 78,
      "outputs": [
        {
          "output_type": "stream",
          "text": [
            "final model은 실험결과를 저장할 수 없습니다\n",
            "Transformation Pipeline and Model Succesfully Saved\n",
            "LassoLars(alpha=1.0, copy_X=True, eps=0.001, fit_intercept=True, fit_path=True,\n",
            "          jitter=None, max_iter=500, normalize=True, positive=False,\n",
            "          precompute='auto', random_state=1174, verbose=False)\n",
            "ACC & AUC :  HoldOut 데이터 MAE: 123.3064\n"
          ],
          "name": "stdout"
        }
      ]
    },
    {
      "cell_type": "code",
      "metadata": {
        "id": "R_rGbLVTSqWM"
      },
      "source": [
        "# 이번 Experiment Arg 관리\n",
        "config_key = [\n",
        "            'now_time',\n",
        "            'seed','fold','model_name_list','ensemble_method','meta_model_for_stack',\n",
        "            'cat_features','continuous_features','FEATS','LENGTH_FEATS',\n",
        "            ]\n",
        "config_value = [\n",
        "                now_time,\n",
        "                seed, fold, model_name_list, ensemble_method, meta_model_for_stack, \n",
        "                cat_features, continuous_features, FEATS,len(FEATS),]\n"
      ],
      "execution_count": 79,
      "outputs": []
    },
    {
      "cell_type": "code",
      "metadata": {
        "colab": {
          "base_uri": "https://localhost:8080/"
        },
        "id": "dPpCFBhCSv2g",
        "outputId": "d1ce7f46-ed4f-4d7b-dba4-7f0b8d682b8c"
      },
      "source": [
        "cd /content/drive/MyDrive/dacon_parking_data\n"
      ],
      "execution_count": 80,
      "outputs": [
        {
          "output_type": "stream",
          "text": [
            "/content/drive/MyDrive/dacon_parking_data\n"
          ],
          "name": "stdout"
        }
      ]
    },
    {
      "cell_type": "markdown",
      "metadata": {
        "id": "YhOhXqDISxtY"
      },
      "source": [
        "# Submission"
      ]
    },
    {
      "cell_type": "code",
      "metadata": {
        "colab": {
          "base_uri": "https://localhost:8080/"
        },
        "id": "UPszn3uRSv_S",
        "outputId": "bede0c3e-549b-4c05-8fe8-f22376c5c104"
      },
      "source": [
        "print(df.shape)\n",
        "print(df_test.shape)"
      ],
      "execution_count": 82,
      "outputs": [
        {
          "output_type": "stream",
          "text": [
            "(423, 49)\n",
            "(150, 48)\n"
          ],
          "name": "stdout"
        }
      ]
    },
    {
      "cell_type": "code",
      "metadata": {
        "colab": {
          "base_uri": "https://localhost:8080/"
        },
        "id": "2_pgYI_qS4mT",
        "outputId": "09950979-d911-48cd-81bf-1b7e2c772fdd"
      },
      "source": [
        "df['등록차량수'].max()\n"
      ],
      "execution_count": 83,
      "outputs": [
        {
          "output_type": "execute_result",
          "data": {
            "text/plain": [
              "2550.0"
            ]
          },
          "metadata": {
            "tags": []
          },
          "execution_count": 83
        }
      ]
    },
    {
      "cell_type": "code",
      "metadata": {
        "colab": {
          "base_uri": "https://localhost:8080/"
        },
        "id": "Y_Ra-ILFS7OH",
        "outputId": "670c4bcd-00a6-4138-8850-47a4d420e1ce"
      },
      "source": [
        "sample_submission = pd.read_csv('./data/sample_submission.csv')\n",
        "# MAKE PREDICTION\n",
        "prediction = predict_model(final_model, data=df_test[[f for f in FEATS if f not in ['등록차량수']]])\n",
        "total_preds = prediction[\"Label\"]\n",
        "total_preds_dict = total_preds.to_dict()\n",
        "sample_submission['num'] = sample_submission['code'].map(total_preds_dict)\n",
        "\n",
        "# SAVE OUTPUT\n",
        "prediction_name = f\"{now_time}_NFeatures-{len(FEATS)}\" # \n",
        "\n",
        "output_dir = f'{upper_dir_of_pycaret}/코드공유_submission'\n",
        "os.makedirs(output_dir, exist_ok=True)    \n",
        "write_path = os.path.join(output_dir, f\"{prediction_name}.csv\")\n",
        "print(\"Saving Final Output CSVs...\")\n",
        "sample_submission.to_csv(f'{write_path}',index=False)\n",
        "print(f\"writing csv : {write_path}\")\n",
        "\n",
        "import json\n",
        "# Save Config\n",
        "write_path = os.path.join(upper_dir_of_pycaret, f\"{prediction_name}_config.json\")\n",
        "config_dict = {k:v for k,v in zip(config_key, config_value)}\n",
        "print(\"Saving Final Config Dict...\")\n",
        "## json파일 저장 ##\n",
        "with open(write_path, \"w\") as fp:\n",
        "    print(f\"writing config : {write_path}\")\n",
        "    json.dump(config_dict, fp, indent=4)\n"
      ],
      "execution_count": 85,
      "outputs": [
        {
          "output_type": "stream",
          "text": [
            "Saving Final Output CSVs...\n",
            "writing csv : /content/drive/MyDrive/dacon_parking_data/output_pycaret/0628_0125_LB118_수정_pycaret으로_llar/코드공유_submission/0628_0125_LB118_수정_pycaret으로_llar_NFeatures-48.csv\n",
            "Saving Final Config Dict...\n",
            "writing config : /content/drive/MyDrive/dacon_parking_data/output_pycaret/0628_0125_LB118_수정_pycaret으로_llar/0628_0125_LB118_수정_pycaret으로_llar_NFeatures-48_config.json\n"
          ],
          "name": "stdout"
        }
      ]
    },
    {
      "cell_type": "code",
      "metadata": {
        "id": "5Ff3sMoKTAlA"
      },
      "source": [
        ""
      ],
      "execution_count": null,
      "outputs": []
    }
  ]
}