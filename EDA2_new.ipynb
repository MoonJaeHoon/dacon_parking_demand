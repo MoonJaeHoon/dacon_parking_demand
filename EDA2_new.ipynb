{
  "nbformat": 4,
  "nbformat_minor": 0,
  "metadata": {
    "colab": {
      "name": "EDA2_new.ipynb",
      "provenance": [],
      "collapsed_sections": [
        "97UZ8tNxs5OU"
      ],
      "mount_file_id": "1CXhDFsdxNsYYCe0h1H4UcS9ppebU4i2u",
      "authorship_tag": "ABX9TyPTnAECFYVhpfg7L67Zkxjy",
      "include_colab_link": true
    },
    "kernelspec": {
      "name": "python3",
      "display_name": "Python 3"
    },
    "language_info": {
      "name": "python"
    }
  },
  "cells": [
    {
      "cell_type": "markdown",
      "metadata": {
        "id": "view-in-github",
        "colab_type": "text"
      },
      "source": [
        "<a href=\"https://colab.research.google.com/github/MoonJaeHoon/dacon_parking_demand/blob/master/EDA2_new.ipynb\" target=\"_parent\"><img src=\"https://colab.research.google.com/assets/colab-badge.svg\" alt=\"Open In Colab\"/></a>"
      ]
    },
    {
      "cell_type": "code",
      "metadata": {
        "id": "Pe4zb2X2FwSk"
      },
      "source": [
        "# ## Plot 한글\n",
        "# # Step 1. Matplotlib 업그레이드\n",
        "# !pip install matplotlib -U\n",
        "\n",
        "# # Step 2. 한글 설치 및 사용 설정\n",
        "# !sudo apt-get install -y fonts-nanum\n",
        "# !sudo fc-cache -fv\n",
        "# !rm ~/.cache/matplotlib -rf\n",
        "\n",
        "# # Step 3. 런타임 재시작"
      ],
      "execution_count": 58,
      "outputs": []
    },
    {
      "cell_type": "code",
      "metadata": {
        "id": "rTWT2DU5Hmka",
        "colab": {
          "base_uri": "https://localhost:8080/"
        },
        "outputId": "a581576f-6191-4480-8bd3-b901052f6494"
      },
      "source": [
        "import os\n",
        "import pickle\n",
        "from tqdm import tqdm, tqdm_notebook\n",
        "from sklearn.ensemble import RandomForestRegressor\n",
        "import pandas as pd\n",
        "import random\n",
        "import numpy as np\n",
        "from pprint import  pprint\n",
        "import warnings\n",
        "warnings.filterwarnings('ignore')\n",
        "# 한글폰트 설정, 그래프 마이너스 표시 설정\n",
        "import matplotlib\n",
        "from matplotlib import font_manager, rc\n",
        "from matplotlib import pyplot as plt\n",
        "import platform\n",
        "import seaborn as sns\n",
        "\n",
        "if platform.system() == 'Windows':\n",
        "# 윈도우인 경우\n",
        "    font_name = font_manager.FontProperties(fname=\"c:/Windows/Fonts/malgun.ttf\").get_name()\n",
        "    rc('font', family=font_name)\n",
        "else:    \n",
        "# Mac 인 경우\n",
        "    rc('font', family='AppleGothic')\n",
        "\n",
        "plt.rcParams['font.family']=['NanumGothic', 'sans-serif']\n",
        "plt.rcParams['axes.unicode_minus'] = False\n",
        "matplotlib.rcParams['axes.unicode_minus'] = False\n",
        "\n",
        "seed=47\n",
        "def set_seed(seed: int = 42, contain_cuda: bool = False):\n",
        "    random.seed(seed)\n",
        "    np.random.seed(seed)\n",
        "\n",
        "    # if contain_cuda:\n",
        "    #     torch.backends.cudnn.deterministic = True\n",
        "    #     torch.backends.cudnn.benchmark = False\n",
        "\n",
        "    # torch.manual_seed(seed)\n",
        "    # torch.cuda.manual_seed(seed)\n",
        "    # torch.cuda.manual_seed_all(seed)\n",
        "    print(f\"seed set as {seed}\")\n",
        "set_seed(seed)"
      ],
      "execution_count": 59,
      "outputs": [
        {
          "output_type": "stream",
          "text": [
            "seed set as 47\n"
          ],
          "name": "stdout"
        }
      ]
    },
    {
      "cell_type": "code",
      "metadata": {
        "colab": {
          "base_uri": "https://localhost:8080/"
        },
        "id": "JgwyRp42K9gO",
        "outputId": "5e8f9e9b-94da-434b-fc09-5cca69eb02c1"
      },
      "source": [
        "cd /content/drive/MyDrive/dacon_parking_data"
      ],
      "execution_count": 60,
      "outputs": [
        {
          "output_type": "stream",
          "text": [
            "/content/drive/MyDrive/dacon_parking_data\n"
          ],
          "name": "stdout"
        }
      ]
    },
    {
      "cell_type": "code",
      "metadata": {
        "id": "OcYJCwMrLAiT",
        "colab": {
          "base_uri": "https://localhost:8080/"
        },
        "outputId": "16f7669e-c593-4292-e5ac-7753211209e8"
      },
      "source": [
        "train = pd.read_csv('./data/train.csv')\n",
        "test = pd.read_csv('./data/test.csv')\n",
        "age_gender_info = pd.read_csv('./data/age_gender_info.csv')\n",
        "submission = pd.read_csv('./data/sample_submission.csv')\n",
        "print(f\"train.shape : {train.shape}\")\n",
        "print(f\"test.shape : {test.shape}\")\n",
        "\n",
        "# print(f\"len(train.columns) : {len(train.columns)}\")\n",
        "# print(f\"len(test.columns) : {len(test.columns)}\")"
      ],
      "execution_count": 61,
      "outputs": [
        {
          "output_type": "stream",
          "text": [
            "train.shape : (2952, 15)\n",
            "test.shape : (1022, 14)\n"
          ],
          "name": "stdout"
        }
      ]
    },
    {
      "cell_type": "code",
      "metadata": {
        "colab": {
          "base_uri": "https://localhost:8080/"
        },
        "id": "0vzo_ZhrLA5v",
        "outputId": "b4c35f3b-6c41-4ca5-aea4-e45d77d5ee45"
      },
      "source": [
        "print(\"Train set NULL\")\n",
        "print({k:v for k,v in train.isnull().sum().to_dict().items() if v!=0})\n",
        "print(\"Test set NULL\")\n",
        "print({k:v for k,v in test.isnull().sum().to_dict().items() if v!=0})"
      ],
      "execution_count": 62,
      "outputs": [
        {
          "output_type": "stream",
          "text": [
            "Train set NULL\n",
            "{'임대보증금': 569, '임대료': 569, '도보 10분거리 내 지하철역 수(환승노선 수 반영)': 211, '도보 10분거리 내 버스정류장 수': 4}\n",
            "Test set NULL\n",
            "{'자격유형': 2, '임대보증금': 180, '임대료': 180, '도보 10분거리 내 지하철역 수(환승노선 수 반영)': 42}\n"
          ],
          "name": "stdout"
        }
      ]
    },
    {
      "cell_type": "code",
      "metadata": {
        "id": "jTzbY2cJLOcC"
      },
      "source": [
        "# 임대보증금과 임대료는 '-'을 null로 바꾼 후 float로 타입 변경\n",
        "train.loc[train.임대보증금=='-', '임대보증금'] = np.nan\n",
        "test.loc[test.임대보증금=='-', '임대보증금'] = np.nan\n",
        "train['임대보증금'] = train['임대보증금'].astype(float)\n",
        "test['임대보증금'] = test['임대보증금'].astype(float)\n",
        "\n",
        "train.loc[train.임대료=='-', '임대료'] = np.nan\n",
        "test.loc[test.임대료=='-', '임대료'] = np.nan\n",
        "train['임대료'] = train['임대료'].astype(float)\n",
        "test['임대료'] = test['임대료'].astype(float)"
      ],
      "execution_count": 63,
      "outputs": []
    },
    {
      "cell_type": "code",
      "metadata": {
        "id": "nD5bJiNxLgfC"
      },
      "source": [
        "# 임대보증금과 임대료가 NULL인 경우는 0으로 대체하는 것이 좋아보임\n",
        "train[['임대보증금', '임대료']] = train[['임대보증금', '임대료']].fillna(0)\n",
        "test[['임대보증금', '임대료']] = test[['임대보증금', '임대료']].fillna(0)"
      ],
      "execution_count": 64,
      "outputs": []
    },
    {
      "cell_type": "code",
      "metadata": {
        "id": "OjZDvMX-Lg-D",
        "colab": {
          "base_uri": "https://localhost:8080/"
        },
        "outputId": "bddae3be-cfae-482b-e374-901956d9a52c"
      },
      "source": [
        "print(\"Train set NULL\")\n",
        "print({k:v for k,v in train.isnull().sum().to_dict().items() if v!=0})\n",
        "print(\"Test set NULL\")\n",
        "print({k:v for k,v in test.isnull().sum().to_dict().items() if v!=0})"
      ],
      "execution_count": 65,
      "outputs": [
        {
          "output_type": "stream",
          "text": [
            "Train set NULL\n",
            "{'도보 10분거리 내 지하철역 수(환승노선 수 반영)': 211, '도보 10분거리 내 버스정류장 수': 4}\n",
            "Test set NULL\n",
            "{'자격유형': 2, '도보 10분거리 내 지하철역 수(환승노선 수 반영)': 42}\n"
          ],
          "name": "stdout"
        }
      ]
    },
    {
      "cell_type": "code",
      "metadata": {
        "id": "ZeTe-sTA2v_3"
      },
      "source": [
        "cols = ['도보 10분거리 내 지하철역 수(환승노선 수 반영)', '도보 10분거리 내 버스정류장 수']\n",
        "train[cols] = train[cols].fillna(0)\n",
        "test[cols] = test[cols].fillna(0)"
      ],
      "execution_count": 66,
      "outputs": []
    },
    {
      "cell_type": "code",
      "metadata": {
        "colab": {
          "base_uri": "https://localhost:8080/",
          "height": 304
        },
        "id": "udtlx2GZ23o4",
        "outputId": "efd414b7-f8ca-45bf-b94a-e7b32df3b954"
      },
      "source": [
        "test[test.단지코드=='C2411'] # A로 채우면 될듯"
      ],
      "execution_count": 67,
      "outputs": [
        {
          "output_type": "execute_result",
          "data": {
            "text/html": [
              "<div>\n",
              "<style scoped>\n",
              "    .dataframe tbody tr th:only-of-type {\n",
              "        vertical-align: middle;\n",
              "    }\n",
              "\n",
              "    .dataframe tbody tr th {\n",
              "        vertical-align: top;\n",
              "    }\n",
              "\n",
              "    .dataframe thead th {\n",
              "        text-align: right;\n",
              "    }\n",
              "</style>\n",
              "<table border=\"1\" class=\"dataframe\">\n",
              "  <thead>\n",
              "    <tr style=\"text-align: right;\">\n",
              "      <th></th>\n",
              "      <th>단지코드</th>\n",
              "      <th>총세대수</th>\n",
              "      <th>임대건물구분</th>\n",
              "      <th>지역</th>\n",
              "      <th>공급유형</th>\n",
              "      <th>전용면적</th>\n",
              "      <th>전용면적별세대수</th>\n",
              "      <th>공가수</th>\n",
              "      <th>자격유형</th>\n",
              "      <th>임대보증금</th>\n",
              "      <th>임대료</th>\n",
              "      <th>도보 10분거리 내 지하철역 수(환승노선 수 반영)</th>\n",
              "      <th>도보 10분거리 내 버스정류장 수</th>\n",
              "      <th>단지내주차면수</th>\n",
              "    </tr>\n",
              "  </thead>\n",
              "  <tbody>\n",
              "    <tr>\n",
              "      <th>193</th>\n",
              "      <td>C2411</td>\n",
              "      <td>962</td>\n",
              "      <td>아파트</td>\n",
              "      <td>경상남도</td>\n",
              "      <td>국민임대</td>\n",
              "      <td>39.43</td>\n",
              "      <td>56</td>\n",
              "      <td>25.0</td>\n",
              "      <td>A</td>\n",
              "      <td>11992000.0</td>\n",
              "      <td>100720.0</td>\n",
              "      <td>0.0</td>\n",
              "      <td>2.0</td>\n",
              "      <td>840.0</td>\n",
              "    </tr>\n",
              "    <tr>\n",
              "      <th>194</th>\n",
              "      <td>C2411</td>\n",
              "      <td>962</td>\n",
              "      <td>아파트</td>\n",
              "      <td>경상남도</td>\n",
              "      <td>국민임대</td>\n",
              "      <td>39.72</td>\n",
              "      <td>336</td>\n",
              "      <td>25.0</td>\n",
              "      <td>A</td>\n",
              "      <td>11992000.0</td>\n",
              "      <td>100720.0</td>\n",
              "      <td>0.0</td>\n",
              "      <td>2.0</td>\n",
              "      <td>840.0</td>\n",
              "    </tr>\n",
              "    <tr>\n",
              "      <th>195</th>\n",
              "      <td>C2411</td>\n",
              "      <td>962</td>\n",
              "      <td>아파트</td>\n",
              "      <td>경상남도</td>\n",
              "      <td>국민임대</td>\n",
              "      <td>39.82</td>\n",
              "      <td>179</td>\n",
              "      <td>25.0</td>\n",
              "      <td>A</td>\n",
              "      <td>11992000.0</td>\n",
              "      <td>100720.0</td>\n",
              "      <td>0.0</td>\n",
              "      <td>2.0</td>\n",
              "      <td>840.0</td>\n",
              "    </tr>\n",
              "    <tr>\n",
              "      <th>196</th>\n",
              "      <td>C2411</td>\n",
              "      <td>962</td>\n",
              "      <td>아파트</td>\n",
              "      <td>경상남도</td>\n",
              "      <td>국민임대</td>\n",
              "      <td>46.90</td>\n",
              "      <td>240</td>\n",
              "      <td>25.0</td>\n",
              "      <td>NaN</td>\n",
              "      <td>71950000.0</td>\n",
              "      <td>37470.0</td>\n",
              "      <td>0.0</td>\n",
              "      <td>2.0</td>\n",
              "      <td>840.0</td>\n",
              "    </tr>\n",
              "    <tr>\n",
              "      <th>197</th>\n",
              "      <td>C2411</td>\n",
              "      <td>962</td>\n",
              "      <td>아파트</td>\n",
              "      <td>경상남도</td>\n",
              "      <td>국민임대</td>\n",
              "      <td>51.93</td>\n",
              "      <td>150</td>\n",
              "      <td>25.0</td>\n",
              "      <td>A</td>\n",
              "      <td>21586000.0</td>\n",
              "      <td>171480.0</td>\n",
              "      <td>0.0</td>\n",
              "      <td>2.0</td>\n",
              "      <td>840.0</td>\n",
              "    </tr>\n",
              "  </tbody>\n",
              "</table>\n",
              "</div>"
            ],
            "text/plain": [
              "      단지코드  총세대수  ... 도보 10분거리 내 버스정류장 수 단지내주차면수\n",
              "193  C2411   962  ...                2.0   840.0\n",
              "194  C2411   962  ...                2.0   840.0\n",
              "195  C2411   962  ...                2.0   840.0\n",
              "196  C2411   962  ...                2.0   840.0\n",
              "197  C2411   962  ...                2.0   840.0\n",
              "\n",
              "[5 rows x 14 columns]"
            ]
          },
          "metadata": {
            "tags": []
          },
          "execution_count": 67
        }
      ]
    },
    {
      "cell_type": "code",
      "metadata": {
        "id": "WPU9yYrq2yfH"
      },
      "source": [
        "test.loc[test.단지코드.isin(['C2411']) & test.자격유형.isnull(), '자격유형'] = 'A'"
      ],
      "execution_count": 68,
      "outputs": []
    },
    {
      "cell_type": "code",
      "metadata": {
        "colab": {
          "base_uri": "https://localhost:8080/",
          "height": 304
        },
        "id": "V9FACttL2z9v",
        "outputId": "6acf51e4-be25-4f42-bc55-9797da08d8b1"
      },
      "source": [
        "test[test.단지코드=='C2253'].head() # 임대보증금과 임대료가 존재하는 경우 자격유형이 C => C로 채우면 될듯"
      ],
      "execution_count": 69,
      "outputs": [
        {
          "output_type": "execute_result",
          "data": {
            "text/html": [
              "<div>\n",
              "<style scoped>\n",
              "    .dataframe tbody tr th:only-of-type {\n",
              "        vertical-align: middle;\n",
              "    }\n",
              "\n",
              "    .dataframe tbody tr th {\n",
              "        vertical-align: top;\n",
              "    }\n",
              "\n",
              "    .dataframe thead th {\n",
              "        text-align: right;\n",
              "    }\n",
              "</style>\n",
              "<table border=\"1\" class=\"dataframe\">\n",
              "  <thead>\n",
              "    <tr style=\"text-align: right;\">\n",
              "      <th></th>\n",
              "      <th>단지코드</th>\n",
              "      <th>총세대수</th>\n",
              "      <th>임대건물구분</th>\n",
              "      <th>지역</th>\n",
              "      <th>공급유형</th>\n",
              "      <th>전용면적</th>\n",
              "      <th>전용면적별세대수</th>\n",
              "      <th>공가수</th>\n",
              "      <th>자격유형</th>\n",
              "      <th>임대보증금</th>\n",
              "      <th>임대료</th>\n",
              "      <th>도보 10분거리 내 지하철역 수(환승노선 수 반영)</th>\n",
              "      <th>도보 10분거리 내 버스정류장 수</th>\n",
              "      <th>단지내주차면수</th>\n",
              "    </tr>\n",
              "  </thead>\n",
              "  <tbody>\n",
              "    <tr>\n",
              "      <th>258</th>\n",
              "      <td>C2253</td>\n",
              "      <td>1161</td>\n",
              "      <td>아파트</td>\n",
              "      <td>강원도</td>\n",
              "      <td>영구임대</td>\n",
              "      <td>26.37</td>\n",
              "      <td>745</td>\n",
              "      <td>0.0</td>\n",
              "      <td>NaN</td>\n",
              "      <td>2249000.0</td>\n",
              "      <td>44770.0</td>\n",
              "      <td>0.0</td>\n",
              "      <td>2.0</td>\n",
              "      <td>173.0</td>\n",
              "    </tr>\n",
              "    <tr>\n",
              "      <th>259</th>\n",
              "      <td>C2253</td>\n",
              "      <td>1161</td>\n",
              "      <td>아파트</td>\n",
              "      <td>강원도</td>\n",
              "      <td>영구임대</td>\n",
              "      <td>31.32</td>\n",
              "      <td>239</td>\n",
              "      <td>0.0</td>\n",
              "      <td>C</td>\n",
              "      <td>3731000.0</td>\n",
              "      <td>83020.0</td>\n",
              "      <td>0.0</td>\n",
              "      <td>2.0</td>\n",
              "      <td>173.0</td>\n",
              "    </tr>\n",
              "    <tr>\n",
              "      <th>260</th>\n",
              "      <td>C2253</td>\n",
              "      <td>1161</td>\n",
              "      <td>아파트</td>\n",
              "      <td>강원도</td>\n",
              "      <td>영구임대</td>\n",
              "      <td>31.32</td>\n",
              "      <td>149</td>\n",
              "      <td>0.0</td>\n",
              "      <td>C</td>\n",
              "      <td>3731000.0</td>\n",
              "      <td>83020.0</td>\n",
              "      <td>0.0</td>\n",
              "      <td>2.0</td>\n",
              "      <td>173.0</td>\n",
              "    </tr>\n",
              "    <tr>\n",
              "      <th>261</th>\n",
              "      <td>C2253</td>\n",
              "      <td>1161</td>\n",
              "      <td>상가</td>\n",
              "      <td>강원도</td>\n",
              "      <td>임대상가</td>\n",
              "      <td>13.77</td>\n",
              "      <td>1</td>\n",
              "      <td>0.0</td>\n",
              "      <td>D</td>\n",
              "      <td>0.0</td>\n",
              "      <td>0.0</td>\n",
              "      <td>0.0</td>\n",
              "      <td>2.0</td>\n",
              "      <td>173.0</td>\n",
              "    </tr>\n",
              "    <tr>\n",
              "      <th>262</th>\n",
              "      <td>C2253</td>\n",
              "      <td>1161</td>\n",
              "      <td>상가</td>\n",
              "      <td>강원도</td>\n",
              "      <td>임대상가</td>\n",
              "      <td>22.89</td>\n",
              "      <td>1</td>\n",
              "      <td>0.0</td>\n",
              "      <td>D</td>\n",
              "      <td>0.0</td>\n",
              "      <td>0.0</td>\n",
              "      <td>0.0</td>\n",
              "      <td>2.0</td>\n",
              "      <td>173.0</td>\n",
              "    </tr>\n",
              "  </tbody>\n",
              "</table>\n",
              "</div>"
            ],
            "text/plain": [
              "      단지코드  총세대수  ... 도보 10분거리 내 버스정류장 수 단지내주차면수\n",
              "258  C2253  1161  ...                2.0   173.0\n",
              "259  C2253  1161  ...                2.0   173.0\n",
              "260  C2253  1161  ...                2.0   173.0\n",
              "261  C2253  1161  ...                2.0   173.0\n",
              "262  C2253  1161  ...                2.0   173.0\n",
              "\n",
              "[5 rows x 14 columns]"
            ]
          },
          "metadata": {
            "tags": []
          },
          "execution_count": 69
        }
      ]
    },
    {
      "cell_type": "code",
      "metadata": {
        "id": "DMWiJw0G21nG"
      },
      "source": [
        "test.loc[test.단지코드.isin(['C2253']) & test.자격유형.isnull(), '자격유형'] = 'C'"
      ],
      "execution_count": 70,
      "outputs": []
    },
    {
      "cell_type": "code",
      "metadata": {
        "colab": {
          "base_uri": "https://localhost:8080/"
        },
        "id": "9AMDZwda241N",
        "outputId": "ffdbf91a-18ac-48db-e33e-c838cb9a2f79"
      },
      "source": [
        "print(\"Train set NULL\")\n",
        "print({k:v for k,v in train.isnull().sum().to_dict().items() if v!=0})\n",
        "print(\"Test set NULL\")\n",
        "print({k:v for k,v in test.isnull().sum().to_dict().items() if v!=0})"
      ],
      "execution_count": 71,
      "outputs": [
        {
          "output_type": "stream",
          "text": [
            "Train set NULL\n",
            "{}\n",
            "Test set NULL\n",
            "{}\n"
          ],
          "name": "stdout"
        }
      ]
    },
    {
      "cell_type": "markdown",
      "metadata": {
        "id": "Eyk6LY4GCMVZ"
      },
      "source": [
        "+ 중복되는 데이터는 제거하고 분석을 진행하는 것이 좋아보임 (일단 중복제거 안하고 진행해보기)"
      ]
    },
    {
      "cell_type": "code",
      "metadata": {
        "id": "d6IOcVm8CKu8"
      },
      "source": [
        "# train = train.drop_duplicates()\n",
        "# test = test.drop_duplicates()"
      ],
      "execution_count": 72,
      "outputs": []
    },
    {
      "cell_type": "code",
      "metadata": {
        "colab": {
          "base_uri": "https://localhost:8080/",
          "height": 304
        },
        "id": "Lh_8Ayc5zrBk",
        "outputId": "18887947-59e9-407b-aec3-7cd9080646af"
      },
      "source": [
        "train.head()"
      ],
      "execution_count": 73,
      "outputs": [
        {
          "output_type": "execute_result",
          "data": {
            "text/html": [
              "<div>\n",
              "<style scoped>\n",
              "    .dataframe tbody tr th:only-of-type {\n",
              "        vertical-align: middle;\n",
              "    }\n",
              "\n",
              "    .dataframe tbody tr th {\n",
              "        vertical-align: top;\n",
              "    }\n",
              "\n",
              "    .dataframe thead th {\n",
              "        text-align: right;\n",
              "    }\n",
              "</style>\n",
              "<table border=\"1\" class=\"dataframe\">\n",
              "  <thead>\n",
              "    <tr style=\"text-align: right;\">\n",
              "      <th></th>\n",
              "      <th>단지코드</th>\n",
              "      <th>총세대수</th>\n",
              "      <th>임대건물구분</th>\n",
              "      <th>지역</th>\n",
              "      <th>공급유형</th>\n",
              "      <th>전용면적</th>\n",
              "      <th>전용면적별세대수</th>\n",
              "      <th>공가수</th>\n",
              "      <th>자격유형</th>\n",
              "      <th>임대보증금</th>\n",
              "      <th>임대료</th>\n",
              "      <th>도보 10분거리 내 지하철역 수(환승노선 수 반영)</th>\n",
              "      <th>도보 10분거리 내 버스정류장 수</th>\n",
              "      <th>단지내주차면수</th>\n",
              "      <th>등록차량수</th>\n",
              "    </tr>\n",
              "  </thead>\n",
              "  <tbody>\n",
              "    <tr>\n",
              "      <th>0</th>\n",
              "      <td>C2483</td>\n",
              "      <td>900</td>\n",
              "      <td>아파트</td>\n",
              "      <td>경상북도</td>\n",
              "      <td>국민임대</td>\n",
              "      <td>39.72</td>\n",
              "      <td>134</td>\n",
              "      <td>38.0</td>\n",
              "      <td>A</td>\n",
              "      <td>15667000.0</td>\n",
              "      <td>103680.0</td>\n",
              "      <td>0.0</td>\n",
              "      <td>3.0</td>\n",
              "      <td>1425.0</td>\n",
              "      <td>1015.0</td>\n",
              "    </tr>\n",
              "    <tr>\n",
              "      <th>1</th>\n",
              "      <td>C2483</td>\n",
              "      <td>900</td>\n",
              "      <td>아파트</td>\n",
              "      <td>경상북도</td>\n",
              "      <td>국민임대</td>\n",
              "      <td>39.72</td>\n",
              "      <td>15</td>\n",
              "      <td>38.0</td>\n",
              "      <td>A</td>\n",
              "      <td>15667000.0</td>\n",
              "      <td>103680.0</td>\n",
              "      <td>0.0</td>\n",
              "      <td>3.0</td>\n",
              "      <td>1425.0</td>\n",
              "      <td>1015.0</td>\n",
              "    </tr>\n",
              "    <tr>\n",
              "      <th>2</th>\n",
              "      <td>C2483</td>\n",
              "      <td>900</td>\n",
              "      <td>아파트</td>\n",
              "      <td>경상북도</td>\n",
              "      <td>국민임대</td>\n",
              "      <td>51.93</td>\n",
              "      <td>385</td>\n",
              "      <td>38.0</td>\n",
              "      <td>A</td>\n",
              "      <td>27304000.0</td>\n",
              "      <td>184330.0</td>\n",
              "      <td>0.0</td>\n",
              "      <td>3.0</td>\n",
              "      <td>1425.0</td>\n",
              "      <td>1015.0</td>\n",
              "    </tr>\n",
              "    <tr>\n",
              "      <th>3</th>\n",
              "      <td>C2483</td>\n",
              "      <td>900</td>\n",
              "      <td>아파트</td>\n",
              "      <td>경상북도</td>\n",
              "      <td>국민임대</td>\n",
              "      <td>51.93</td>\n",
              "      <td>15</td>\n",
              "      <td>38.0</td>\n",
              "      <td>A</td>\n",
              "      <td>27304000.0</td>\n",
              "      <td>184330.0</td>\n",
              "      <td>0.0</td>\n",
              "      <td>3.0</td>\n",
              "      <td>1425.0</td>\n",
              "      <td>1015.0</td>\n",
              "    </tr>\n",
              "    <tr>\n",
              "      <th>4</th>\n",
              "      <td>C2483</td>\n",
              "      <td>900</td>\n",
              "      <td>아파트</td>\n",
              "      <td>경상북도</td>\n",
              "      <td>국민임대</td>\n",
              "      <td>51.93</td>\n",
              "      <td>41</td>\n",
              "      <td>38.0</td>\n",
              "      <td>A</td>\n",
              "      <td>27304000.0</td>\n",
              "      <td>184330.0</td>\n",
              "      <td>0.0</td>\n",
              "      <td>3.0</td>\n",
              "      <td>1425.0</td>\n",
              "      <td>1015.0</td>\n",
              "    </tr>\n",
              "  </tbody>\n",
              "</table>\n",
              "</div>"
            ],
            "text/plain": [
              "    단지코드  총세대수 임대건물구분  ... 도보 10분거리 내 버스정류장 수 단지내주차면수   등록차량수\n",
              "0  C2483   900    아파트  ...                3.0  1425.0  1015.0\n",
              "1  C2483   900    아파트  ...                3.0  1425.0  1015.0\n",
              "2  C2483   900    아파트  ...                3.0  1425.0  1015.0\n",
              "3  C2483   900    아파트  ...                3.0  1425.0  1015.0\n",
              "4  C2483   900    아파트  ...                3.0  1425.0  1015.0\n",
              "\n",
              "[5 rows x 15 columns]"
            ]
          },
          "metadata": {
            "tags": []
          },
          "execution_count": 73
        }
      ]
    },
    {
      "cell_type": "markdown",
      "metadata": {
        "id": "-cViB5cA96lI"
      },
      "source": [
        "## 공급유형의 category 묶어주기 (항목들 중 train에는 있지만 test에 존재하지 않는 항목들 존재)"
      ]
    },
    {
      "cell_type": "code",
      "metadata": {
        "colab": {
          "base_uri": "https://localhost:8080/"
        },
        "id": "VYAxV-I95j1-",
        "outputId": "6f17059b-db4a-4b74-e7ec-1eed0e5cdb9a"
      },
      "source": [
        "train['공급유형'].value_counts()"
      ],
      "execution_count": 74,
      "outputs": [
        {
          "output_type": "execute_result",
          "data": {
            "text/plain": [
              "국민임대         1758\n",
              "임대상가          562\n",
              "행복주택          213\n",
              "공공임대(10년)     205\n",
              "영구임대          152\n",
              "공공임대(50년)      31\n",
              "공공임대(분납)       12\n",
              "장기전세            9\n",
              "공공분양            7\n",
              "공공임대(5년)        3\n",
              "Name: 공급유형, dtype: int64"
            ]
          },
          "metadata": {
            "tags": []
          },
          "execution_count": 74
        }
      ]
    },
    {
      "cell_type": "code",
      "metadata": {
        "colab": {
          "base_uri": "https://localhost:8080/",
          "height": 357
        },
        "id": "IEQ2AoW49mqR",
        "outputId": "98292fee-1e26-4117-9bf1-f600adb2d738"
      },
      "source": [
        "# 공급유형의 항목들 중 train에는 있지만 test에는 존재하지 않는 항목들이 존재.\n",
        "pd.concat([train.공급유형.value_counts(), test.공급유형.value_counts()], axis=1)\n",
        "# 장기전세, => \n",
        "# 공공분양, => \n",
        "# 공공임대(5년) => 공공임대(10년)과 묶자."
      ],
      "execution_count": 75,
      "outputs": [
        {
          "output_type": "execute_result",
          "data": {
            "text/html": [
              "<div>\n",
              "<style scoped>\n",
              "    .dataframe tbody tr th:only-of-type {\n",
              "        vertical-align: middle;\n",
              "    }\n",
              "\n",
              "    .dataframe tbody tr th {\n",
              "        vertical-align: top;\n",
              "    }\n",
              "\n",
              "    .dataframe thead th {\n",
              "        text-align: right;\n",
              "    }\n",
              "</style>\n",
              "<table border=\"1\" class=\"dataframe\">\n",
              "  <thead>\n",
              "    <tr style=\"text-align: right;\">\n",
              "      <th></th>\n",
              "      <th>공급유형</th>\n",
              "      <th>공급유형</th>\n",
              "    </tr>\n",
              "  </thead>\n",
              "  <tbody>\n",
              "    <tr>\n",
              "      <th>국민임대</th>\n",
              "      <td>1758</td>\n",
              "      <td>622.0</td>\n",
              "    </tr>\n",
              "    <tr>\n",
              "      <th>임대상가</th>\n",
              "      <td>562</td>\n",
              "      <td>177.0</td>\n",
              "    </tr>\n",
              "    <tr>\n",
              "      <th>행복주택</th>\n",
              "      <td>213</td>\n",
              "      <td>124.0</td>\n",
              "    </tr>\n",
              "    <tr>\n",
              "      <th>공공임대(10년)</th>\n",
              "      <td>205</td>\n",
              "      <td>35.0</td>\n",
              "    </tr>\n",
              "    <tr>\n",
              "      <th>영구임대</th>\n",
              "      <td>152</td>\n",
              "      <td>45.0</td>\n",
              "    </tr>\n",
              "    <tr>\n",
              "      <th>공공임대(50년)</th>\n",
              "      <td>31</td>\n",
              "      <td>13.0</td>\n",
              "    </tr>\n",
              "    <tr>\n",
              "      <th>공공임대(분납)</th>\n",
              "      <td>12</td>\n",
              "      <td>6.0</td>\n",
              "    </tr>\n",
              "    <tr>\n",
              "      <th>장기전세</th>\n",
              "      <td>9</td>\n",
              "      <td>NaN</td>\n",
              "    </tr>\n",
              "    <tr>\n",
              "      <th>공공분양</th>\n",
              "      <td>7</td>\n",
              "      <td>NaN</td>\n",
              "    </tr>\n",
              "    <tr>\n",
              "      <th>공공임대(5년)</th>\n",
              "      <td>3</td>\n",
              "      <td>NaN</td>\n",
              "    </tr>\n",
              "  </tbody>\n",
              "</table>\n",
              "</div>"
            ],
            "text/plain": [
              "           공급유형   공급유형\n",
              "국민임대       1758  622.0\n",
              "임대상가        562  177.0\n",
              "행복주택        213  124.0\n",
              "공공임대(10년)   205   35.0\n",
              "영구임대        152   45.0\n",
              "공공임대(50년)    31   13.0\n",
              "공공임대(분납)     12    6.0\n",
              "장기전세          9    NaN\n",
              "공공분양          7    NaN\n",
              "공공임대(5년)      3    NaN"
            ]
          },
          "metadata": {
            "tags": []
          },
          "execution_count": 75
        }
      ]
    },
    {
      "cell_type": "code",
      "metadata": {
        "colab": {
          "base_uri": "https://localhost:8080/"
        },
        "id": "L6Vfp2O37Fiz",
        "outputId": "12485837-5086-4ce3-c72d-9dc0b6cf3184"
      },
      "source": [
        "# 공공임대(5년)은 공공임대(10년)과 묶어버리자.\n",
        "# 공공임대(5년/10년)\n",
        "category = '공공임대(5년)'\n",
        "print('='*25 + f'\\n{category}')\n",
        "print(train.loc[train.공급유형==category,['임대료','임대보증금']].mean(axis=0))\n",
        "category = '공공임대(10년)'\n",
        "print('='*25 + f'\\n{category}')\n",
        "print(train.loc[train.공급유형==category,['임대료','임대보증금']].mean(axis=0))"
      ],
      "execution_count": 76,
      "outputs": [
        {
          "output_type": "stream",
          "text": [
            "=========================\n",
            "공공임대(5년)\n",
            "임대료        400000.0\n",
            "임대보증금    27000000.0\n",
            "dtype: float64\n",
            "=========================\n",
            "공공임대(10년)\n",
            "임대료      5.212868e+05\n",
            "임대보증금    5.098770e+07\n",
            "dtype: float64\n"
          ],
          "name": "stdout"
        }
      ]
    },
    {
      "cell_type": "code",
      "metadata": {
        "id": "NZnRBxCl0EYQ"
      },
      "source": [
        "train.loc[train.공급유형.isin(['공공임대(5년)','공공임대(10년)']),'공급유형'] = '공급유형(5년/10년)'\n",
        "test.loc[test.공급유형.isin(['공공임대(5년)','공공임대(10년)']),'공급유형'] = '공급유형(5년/10년)'"
      ],
      "execution_count": 106,
      "outputs": []
    },
    {
      "cell_type": "code",
      "metadata": {
        "colab": {
          "base_uri": "https://localhost:8080/"
        },
        "id": "hRmdtXvT7Cu_",
        "outputId": "b587ba0f-69a5-4011-8751-232a45a77c3e"
      },
      "source": [
        "# 공공분양은 과 묶어버리자.\n",
        "category = '공공분양'\n",
        "print('='*25 + f'\\n{category}')\n",
        "print(train.loc[train.공급유형==category,['임대료','임대보증금']].mean(axis=0))"
      ],
      "execution_count": 107,
      "outputs": [
        {
          "output_type": "stream",
          "text": [
            "=========================\n",
            "공공분양\n",
            "임대료      0.0\n",
            "임대보증금    0.0\n",
            "dtype: float64\n"
          ],
          "name": "stdout"
        }
      ]
    },
    {
      "cell_type": "code",
      "metadata": {
        "colab": {
          "base_uri": "https://localhost:8080/"
        },
        "id": "gCWO6Mn5_sgH",
        "outputId": "17e59f72-186c-4c06-ea2c-5bf4273cc38d"
      },
      "source": [
        "# 장기전세는 과 묶어보자.\n",
        "category = '장기전세'\n",
        "print('='*25 + f'\\n{category}')\n",
        "print(train.loc[train.공급유형==category,['임대료','임대보증금']].median(axis=0))"
      ],
      "execution_count": 108,
      "outputs": [
        {
          "output_type": "stream",
          "text": [
            "=========================\n",
            "장기전세\n",
            "임대료              0.0\n",
            "임대보증금    194562000.0\n",
            "dtype: float64\n"
          ],
          "name": "stdout"
        }
      ]
    },
    {
      "cell_type": "code",
      "metadata": {
        "id": "hjoX-06lAYBn"
      },
      "source": [
        "result_median = pd.DataFrame(columns=['임대료','임대보증금'])\n",
        "for category in train.공급유형.unique():\n",
        "    temp_per_category = train.loc[train.공급유형==category,['임대료','임대보증금']].median(axis=0).to_frame().rename(columns={0:f\"{category}_median\"}).T\n",
        "    temp_per_category\n",
        "    result_median = pd.concat([result_median,temp_per_category],axis=0)\n",
        "\n",
        "result_mean = pd.DataFrame(columns=['임대료','임대보증금'])\n",
        "for category in train.공급유형.unique():\n",
        "    temp_per_category = train.loc[train.공급유형==category,['임대료','임대보증금']].mean(axis=0).to_frame().rename(columns={0:f\"{category}_mean\"}).T\n",
        "    temp_per_category\n",
        "    result_mean = pd.concat([result_mean,temp_per_category],axis=0)"
      ],
      "execution_count": 109,
      "outputs": []
    },
    {
      "cell_type": "code",
      "metadata": {
        "colab": {
          "base_uri": "https://localhost:8080/",
          "height": 904
        },
        "id": "VcHq9AGyHBy4",
        "outputId": "11bca10e-481c-45b5-d9b5-cb735f880a4c"
      },
      "source": [
        "# 공공분양, 장기전세\n",
        "\n",
        "bar_width = 0.35\n",
        "index = np.arange(len(result_median))\n",
        "\n",
        "plt.figure(figsize=(20,15))\n",
        "\n",
        "p1 = plt.bar(index,result_median['임대료'],\n",
        "             width=bar_width,\n",
        "             color='b',\n",
        "             alpha=0.5,\n",
        "             )\n",
        "p2 = plt.bar(index + bar_width, result_mean['임대료'], \n",
        "             width=bar_width, \n",
        "             color='r', \n",
        "             alpha=0.5,\n",
        "            )\n",
        "\n",
        "plt.title('Median & Mean of 임대료 by 공급유형', fontsize=20)\n",
        "plt.xlabel('공급유형', fontsize=15)\n",
        "plt.xticks(index, [id.replace('_median','') for id in result_median.index], fontsize=9)\n",
        "plt.legend((p1[0], p2[0]), ('Median', 'Mean'), fontsize=15)\n",
        "plt.show()"
      ],
      "execution_count": 110,
      "outputs": [
        {
          "output_type": "display_data",
          "data": {
            "image/png": "[encoded data removed]",
            "text/plain": [
              "<Figure size 1440x1080 with 1 Axes>"
            ]
          },
          "metadata": {
            "tags": [],
            "needs_background": "light"
          }
        }
      ]
    },
    {
      "cell_type": "code",
      "metadata": {
        "colab": {
          "base_uri": "https://localhost:8080/",
          "height": 904
        },
        "id": "_23HPPJpDdpH",
        "outputId": "6c21fa87-1858-4fe6-c024-f40be253ddb0"
      },
      "source": [
        "bar_width = 0.35\n",
        "index = np.arange(len(result_median))\n",
        "\n",
        "plt.figure(figsize=(20,15))\n",
        "\n",
        "p1 = plt.bar(index,result_median['임대보증금'],\n",
        "             width=bar_width,\n",
        "             color='b',\n",
        "             alpha=0.5,\n",
        "             )\n",
        "p2 = plt.bar(index + bar_width, result_mean['임대보증금'], \n",
        "             width=bar_width, \n",
        "             color='r', \n",
        "             alpha=0.5,\n",
        "            )\n",
        "\n",
        "plt.title('Median & Mean of 임대보증금 by 공급유형', fontsize=20)\n",
        "plt.xlabel('공급유형', fontsize=15)\n",
        "plt.xticks(index, [id.replace('_median','') for id in result_median.index], fontsize=9)\n",
        "plt.legend((p1[0], p2[0]), ('Median', 'Mean'), fontsize=15)\n",
        "plt.show()"
      ],
      "execution_count": 111,
      "outputs": [
        {
          "output_type": "display_data",
          "data": {
            "image/png": "[encoded data removed]",
            "text/plain": [
              "<Figure size 1440x1080 with 1 Axes>"
            ]
          },
          "metadata": {
            "tags": [],
            "needs_background": "light"
          }
        }
      ]
    },
    {
      "cell_type": "code",
      "metadata": {
        "colab": {
          "base_uri": "https://localhost:8080/"
        },
        "id": "zAZpYTP08k59",
        "outputId": "58a4e21f-beed-4b00-c3eb-39de443cc0f4"
      },
      "source": [
        "\n",
        "print(train.loc[train.공급유형.isin(['공공임대(5년/10년)','공공임대(50년)']),'전용면적'].min())\n",
        "print(train.loc[train.공급유형.isin(['공공임대(5년/10년)','공공임대(50년)']),'전용면적'].max())"
      ],
      "execution_count": 127,
      "outputs": [
        {
          "output_type": "stream",
          "text": [
            "35.28\n",
            "49.95\n"
          ],
          "name": "stdout"
        }
      ]
    },
    {
      "cell_type": "code",
      "metadata": {
        "colab": {
          "base_uri": "https://localhost:8080/"
        },
        "id": "wu_OMZXf6yIK",
        "outputId": "147a988f-390b-4760-cc8b-4387531a646d"
      },
      "source": [
        "# https://www.lh.or.kr/contents/cont.do\n",
        "print(train.loc[train.공급유형=='국민임대','전용면적'].min())\n",
        "print(train.loc[train.공급유형=='국민임대','전용면적'].max())"
      ],
      "execution_count": 124,
      "outputs": [
        {
          "output_type": "stream",
          "text": [
            "21.97\n",
            "59.99\n"
          ],
          "name": "stdout"
        }
      ]
    },
    {
      "cell_type": "code",
      "metadata": {
        "colab": {
          "base_uri": "https://localhost:8080/"
        },
        "id": "IvpD5-IF2Da5",
        "outputId": "6faeee05-ce95-4640-fb8a-f1a8ccd152a4"
      },
      "source": [
        "# https://housing.seoul.go.kr/site/main/content/sh01_030600\n",
        "print(train.loc[train.공급유형=='장기전세','전용면적'].min())\n",
        "print(train.loc[train.공급유형=='장기전세','전용면적'].max())"
      ],
      "execution_count": 125,
      "outputs": [
        {
          "output_type": "stream",
          "text": [
            "23.32\n",
            "59.94\n"
          ],
          "name": "stdout"
        }
      ]
    },
    {
      "cell_type": "code",
      "metadata": {
        "colab": {
          "base_uri": "https://localhost:8080/"
        },
        "id": "l3mwmVg63Ge1",
        "outputId": "2a9aa6b3-13b7-4a11-92f3-c4bd13f19258"
      },
      "source": [
        "# https://www.lh.or.kr/contents/cont.do\n",
        "print(train.loc[train.공급유형=='공공분양','전용면적'].min())\n",
        "print(train.loc[train.공급유형=='공공분양','전용면적'].max())"
      ],
      "execution_count": 126,
      "outputs": [
        {
          "output_type": "stream",
          "text": [
            "74.94\n",
            "84.97\n"
          ],
          "name": "stdout"
        }
      ]
    },
    {
      "cell_type": "code",
      "metadata": {
        "colab": {
          "base_uri": "https://localhost:8080/"
        },
        "id": "Pvh0m-eD3j63",
        "outputId": "70d14613-4244-4ef9-a683-8570e303a017"
      },
      "source": [
        "train.loc[train.공급유형=='공공분양','자격유형'].value_counts()"
      ],
      "execution_count": 116,
      "outputs": [
        {
          "output_type": "execute_result",
          "data": {
            "text/plain": [
              "D    7\n",
              "Name: 자격유형, dtype: int64"
            ]
          },
          "metadata": {
            "tags": []
          },
          "execution_count": 116
        }
      ]
    },
    {
      "cell_type": "code",
      "metadata": {
        "colab": {
          "base_uri": "https://localhost:8080/"
        },
        "id": "Sh4nSIDs33NS",
        "outputId": "4dcd570c-a59c-4d3e-db9d-632b5fcdd40c"
      },
      "source": [
        "print(train.loc[train.자격유형=='D','공급유형'].value_counts())\n",
        "print(test.loc[test.자격유형=='D','공급유형'].value_counts())"
      ],
      "execution_count": 118,
      "outputs": [
        {
          "output_type": "stream",
          "text": [
            "임대상가    562\n",
            "공공분양      7\n",
            "Name: 공급유형, dtype: int64\n",
            "임대상가    177\n",
            "영구임대      3\n",
            "Name: 공급유형, dtype: int64\n"
          ],
          "name": "stdout"
        }
      ]
    },
    {
      "cell_type": "code",
      "metadata": {
        "colab": {
          "base_uri": "https://localhost:8080/"
        },
        "id": "jXahIXha31sm",
        "outputId": "9bb8a3da-ea83-41dc-bd4f-7460d1317a75"
      },
      "source": [
        "train.loc[train.공급유형=='장기전세','자격유형'].value_counts()"
      ],
      "execution_count": 119,
      "outputs": [
        {
          "output_type": "execute_result",
          "data": {
            "text/plain": [
              "A    9\n",
              "Name: 자격유형, dtype: int64"
            ]
          },
          "metadata": {
            "tags": []
          },
          "execution_count": 119
        }
      ]
    },
    {
      "cell_type": "code",
      "metadata": {
        "colab": {
          "base_uri": "https://localhost:8080/"
        },
        "id": "NeAJwzLx4Gal",
        "outputId": "94d332d4-1c87-4e17-cb18-b772070b74af"
      },
      "source": [
        "print(train.loc[train.자격유형=='A','공급유형'].value_counts())\n",
        "print(test.loc[test.자격유형=='A','공급유형'].value_counts())"
      ],
      "execution_count": 121,
      "outputs": [
        {
          "output_type": "stream",
          "text": [
            "국민임대            1539\n",
            "공급유형(5년/10년)     208\n",
            "공공임대(50년)         31\n",
            "공공임대(분납)          12\n",
            "장기전세               9\n",
            "영구임대               2\n",
            "Name: 공급유형, dtype: int64\n",
            "국민임대            519\n",
            "공급유형(5년/10년)     35\n",
            "공공임대(50년)        13\n",
            "공공임대(분납)          6\n",
            "Name: 공급유형, dtype: int64\n"
          ],
          "name": "stdout"
        }
      ]
    },
    {
      "cell_type": "markdown",
      "metadata": {
        "id": "97UZ8tNxs5OU"
      },
      "source": [
        "### 자격유형 category 묶기\n",
        "\n",
        "> B, F, O는 다른 어떤 항목에 포함시켜 무조건 묶어줘야함\n",
        "\n",
        "\n",
        "1. O는 'J', 'L', 'K', 'N', 'M', 'O'로 묶어서 '행복주택_공급대상'으로\n",
        "2. B는 'B','H','G'로 묶어서 '국민임대_공급대상'으로\n",
        "3. F는 'C','I','F'로 묶어서 '영구임대_공급대상'으로"
      ]
    },
    {
      "cell_type": "code",
      "metadata": {
        "colab": {
          "base_uri": "https://localhost:8080/",
          "height": 511
        },
        "id": "mB_pOunD9nHw",
        "outputId": "84a13653-d116-45f9-ba38-4813b751c40f"
      },
      "source": [
        "# 자격유형의 항목들 중 train에는 있지만 test에는 존재하지 않는 항목들이 존재.\n",
        "pd.concat([train.자격유형.value_counts(), test.자격유형.value_counts()], axis=1)\n",
        "# B, F, O"
      ],
      "execution_count": 82,
      "outputs": [
        {
          "output_type": "execute_result",
          "data": {
            "text/html": [
              "<div>\n",
              "<style scoped>\n",
              "    .dataframe tbody tr th:only-of-type {\n",
              "        vertical-align: middle;\n",
              "    }\n",
              "\n",
              "    .dataframe tbody tr th {\n",
              "        vertical-align: top;\n",
              "    }\n",
              "\n",
              "    .dataframe thead th {\n",
              "        text-align: right;\n",
              "    }\n",
              "</style>\n",
              "<table border=\"1\" class=\"dataframe\">\n",
              "  <thead>\n",
              "    <tr style=\"text-align: right;\">\n",
              "      <th></th>\n",
              "      <th>자격유형</th>\n",
              "      <th>자격유형</th>\n",
              "    </tr>\n",
              "  </thead>\n",
              "  <tbody>\n",
              "    <tr>\n",
              "      <th>A</th>\n",
              "      <td>1801</td>\n",
              "      <td>573.0</td>\n",
              "    </tr>\n",
              "    <tr>\n",
              "      <th>D</th>\n",
              "      <td>569</td>\n",
              "      <td>180.0</td>\n",
              "    </tr>\n",
              "    <tr>\n",
              "      <th>H</th>\n",
              "      <td>155</td>\n",
              "      <td>92.0</td>\n",
              "    </tr>\n",
              "    <tr>\n",
              "      <th>J</th>\n",
              "      <td>114</td>\n",
              "      <td>84.0</td>\n",
              "    </tr>\n",
              "    <tr>\n",
              "      <th>C</th>\n",
              "      <td>95</td>\n",
              "      <td>35.0</td>\n",
              "    </tr>\n",
              "    <tr>\n",
              "      <th>I</th>\n",
              "      <td>49</td>\n",
              "      <td>7.0</td>\n",
              "    </tr>\n",
              "    <tr>\n",
              "      <th>E</th>\n",
              "      <td>37</td>\n",
              "      <td>10.0</td>\n",
              "    </tr>\n",
              "    <tr>\n",
              "      <th>K</th>\n",
              "      <td>33</td>\n",
              "      <td>16.0</td>\n",
              "    </tr>\n",
              "    <tr>\n",
              "      <th>L</th>\n",
              "      <td>33</td>\n",
              "      <td>12.0</td>\n",
              "    </tr>\n",
              "    <tr>\n",
              "      <th>N</th>\n",
              "      <td>30</td>\n",
              "      <td>10.0</td>\n",
              "    </tr>\n",
              "    <tr>\n",
              "      <th>B</th>\n",
              "      <td>21</td>\n",
              "      <td>NaN</td>\n",
              "    </tr>\n",
              "    <tr>\n",
              "      <th>G</th>\n",
              "      <td>9</td>\n",
              "      <td>1.0</td>\n",
              "    </tr>\n",
              "    <tr>\n",
              "      <th>F</th>\n",
              "      <td>3</td>\n",
              "      <td>NaN</td>\n",
              "    </tr>\n",
              "    <tr>\n",
              "      <th>M</th>\n",
              "      <td>2</td>\n",
              "      <td>2.0</td>\n",
              "    </tr>\n",
              "    <tr>\n",
              "      <th>O</th>\n",
              "      <td>1</td>\n",
              "      <td>NaN</td>\n",
              "    </tr>\n",
              "  </tbody>\n",
              "</table>\n",
              "</div>"
            ],
            "text/plain": [
              "   자격유형   자격유형\n",
              "A  1801  573.0\n",
              "D   569  180.0\n",
              "H   155   92.0\n",
              "J   114   84.0\n",
              "C    95   35.0\n",
              "I    49    7.0\n",
              "E    37   10.0\n",
              "K    33   16.0\n",
              "L    33   12.0\n",
              "N    30   10.0\n",
              "B    21    NaN\n",
              "G     9    1.0\n",
              "F     3    NaN\n",
              "M     2    2.0\n",
              "O     1    NaN"
            ]
          },
          "metadata": {
            "tags": []
          },
          "execution_count": 82
        }
      ]
    },
    {
      "cell_type": "markdown",
      "metadata": {
        "id": "g7_jtYkkuwfP"
      },
      "source": [
        "1. 'J', 'L', 'K', 'N', 'M', 'O' 묶어버리기 => 행복주택_공급대상"
      ]
    },
    {
      "cell_type": "code",
      "metadata": {
        "colab": {
          "base_uri": "https://localhost:8080/"
        },
        "id": "KDBefPtlsm-A",
        "outputId": "a17b383c-566c-4bc8-f6a9-087f90ccaf9a"
      },
      "source": [
        "# 'J', 'L', 'K', 'N', 'M', 'O' 는 공급유형이 행복주택인 경우에서만 나타남 이것만 따로 묶는게 좋을듯\n",
        "train.loc[train.자격유형.isin(['J', 'L', 'K', 'N', 'M', 'O']), '공급유형'].value_counts()"
      ],
      "execution_count": 86,
      "outputs": [
        {
          "output_type": "execute_result",
          "data": {
            "text/plain": [
              "행복주택    213\n",
              "Name: 공급유형, dtype: int64"
            ]
          },
          "metadata": {
            "tags": []
          },
          "execution_count": 86
        }
      ]
    },
    {
      "cell_type": "code",
      "metadata": {
        "colab": {
          "base_uri": "https://localhost:8080/"
        },
        "id": "KZgjm9W3sp-w",
        "outputId": "91ee0882-51a9-4922-c664-21c98e12af1d"
      },
      "source": [
        "train.loc[train.공급유형=='행복주택', '자격유형'].value_counts()"
      ],
      "execution_count": 87,
      "outputs": [
        {
          "output_type": "execute_result",
          "data": {
            "text/plain": [
              "J    114\n",
              "L     33\n",
              "K     33\n",
              "N     30\n",
              "M      2\n",
              "O      1\n",
              "Name: 자격유형, dtype: int64"
            ]
          },
          "metadata": {
            "tags": []
          },
          "execution_count": 87
        }
      ]
    },
    {
      "cell_type": "code",
      "metadata": {
        "id": "HCQvvAgKs3z_"
      },
      "source": [
        "train.loc[train.자격유형.isin(['J', 'L', 'K', 'N', 'M', 'O']), '자격유형'] = '행복주택_공급대상'\n",
        "test.loc[test.자격유형.isin(['J', 'L', 'K', 'N', 'M', 'O']), '자격유형'] = '행복주택_공급대상'"
      ],
      "execution_count": 88,
      "outputs": []
    },
    {
      "cell_type": "markdown",
      "metadata": {
        "id": "Rz5hnMYtu4gN"
      },
      "source": [
        "2. 'B','H','G' 묶어버리기 => 국민임대_공급대상"
      ]
    },
    {
      "cell_type": "code",
      "metadata": {
        "colab": {
          "base_uri": "https://localhost:8080/"
        },
        "id": "UG2ZPa6ns-Wy",
        "outputId": "d6109949-c80d-4691-97f9-eefcd1ffee9b"
      },
      "source": [
        "train.loc[train.자격유형=='B','공급유형'].value_counts()"
      ],
      "execution_count": 89,
      "outputs": [
        {
          "output_type": "execute_result",
          "data": {
            "text/plain": [
              "국민임대    21\n",
              "Name: 공급유형, dtype: int64"
            ]
          },
          "metadata": {
            "tags": []
          },
          "execution_count": 89
        }
      ]
    },
    {
      "cell_type": "code",
      "metadata": {
        "colab": {
          "base_uri": "https://localhost:8080/"
        },
        "id": "zQLn6j0htRZ1",
        "outputId": "0c0af55e-d7cb-4769-fa58-4063febbf690"
      },
      "source": [
        "train.loc[train.공급유형=='국민임대', '자격유형'].value_counts()"
      ],
      "execution_count": 90,
      "outputs": [
        {
          "output_type": "execute_result",
          "data": {
            "text/plain": [
              "A    1539\n",
              "H     155\n",
              "E      34\n",
              "B      21\n",
              "G       9\n",
              "Name: 자격유형, dtype: int64"
            ]
          },
          "metadata": {
            "tags": []
          },
          "execution_count": 90
        }
      ]
    },
    {
      "cell_type": "code",
      "metadata": {
        "colab": {
          "base_uri": "https://localhost:8080/"
        },
        "id": "jB6A14tUteq8",
        "outputId": "b5b11d5a-c5ab-4302-ca9b-42ab93347288"
      },
      "source": [
        "train.loc[train.자격유형.isin(['A', 'H', 'E', 'B', 'G']), '공급유형'].value_counts()\n"
      ],
      "execution_count": 91,
      "outputs": [
        {
          "output_type": "execute_result",
          "data": {
            "text/plain": [
              "국민임대         1758\n",
              "공공임대(10년)     205\n",
              "공공임대(50년)      31\n",
              "공공임대(분납)       12\n",
              "장기전세            9\n",
              "영구임대            5\n",
              "공공임대(5년)        3\n",
              "Name: 공급유형, dtype: int64"
            ]
          },
          "metadata": {
            "tags": []
          },
          "execution_count": 91
        }
      ]
    },
    {
      "cell_type": "code",
      "metadata": {
        "colab": {
          "base_uri": "https://localhost:8080/"
        },
        "id": "mYW4do9ntqZf",
        "outputId": "f6c3e7e6-13a7-4030-c2dd-bc3a5c7f0bb3"
      },
      "source": [
        "train.loc[train.자격유형=='A','공급유형'].value_counts()"
      ],
      "execution_count": 92,
      "outputs": [
        {
          "output_type": "execute_result",
          "data": {
            "text/plain": [
              "국민임대         1539\n",
              "공공임대(10년)     205\n",
              "공공임대(50년)      31\n",
              "공공임대(분납)       12\n",
              "장기전세            9\n",
              "공공임대(5년)        3\n",
              "영구임대            2\n",
              "Name: 공급유형, dtype: int64"
            ]
          },
          "metadata": {
            "tags": []
          },
          "execution_count": 92
        }
      ]
    },
    {
      "cell_type": "code",
      "metadata": {
        "colab": {
          "base_uri": "https://localhost:8080/"
        },
        "id": "B3BAVdb2tsyT",
        "outputId": "4f9025ce-ed6b-442a-d969-dd3ce626fb4e"
      },
      "source": [
        "print(train.loc[train.자격유형=='H','공급유형'].value_counts())\n",
        "print(test.loc[test.자격유형=='H','공급유형'].value_counts())"
      ],
      "execution_count": 93,
      "outputs": [
        {
          "output_type": "stream",
          "text": [
            "국민임대    155\n",
            "Name: 공급유형, dtype: int64\n",
            "국민임대    92\n",
            "Name: 공급유형, dtype: int64\n"
          ],
          "name": "stdout"
        }
      ]
    },
    {
      "cell_type": "code",
      "metadata": {
        "colab": {
          "base_uri": "https://localhost:8080/"
        },
        "id": "ZbCaGKcutt8H",
        "outputId": "610248a0-1602-4857-a5a8-f018d758e7f9"
      },
      "source": [
        "print(train.loc[train.자격유형=='E','공급유형'].value_counts())\n",
        "print(test.loc[test.자격유형=='E','공급유형'].value_counts())"
      ],
      "execution_count": 94,
      "outputs": [
        {
          "output_type": "stream",
          "text": [
            "국민임대    34\n",
            "영구임대     3\n",
            "Name: 공급유형, dtype: int64\n",
            "국민임대    10\n",
            "Name: 공급유형, dtype: int64\n"
          ],
          "name": "stdout"
        }
      ]
    },
    {
      "cell_type": "code",
      "metadata": {
        "colab": {
          "base_uri": "https://localhost:8080/"
        },
        "id": "kZcfLX5FtwGq",
        "outputId": "bb456a30-01fb-46e6-ffc2-c50d195e5fa2"
      },
      "source": [
        "print(train.loc[train.자격유형=='G','공급유형'].value_counts())\n",
        "print(test.loc[test.자격유형=='G','공급유형'].value_counts())"
      ],
      "execution_count": 95,
      "outputs": [
        {
          "output_type": "stream",
          "text": [
            "국민임대    9\n",
            "Name: 공급유형, dtype: int64\n",
            "국민임대    1\n",
            "Name: 공급유형, dtype: int64\n"
          ],
          "name": "stdout"
        }
      ]
    },
    {
      "cell_type": "code",
      "metadata": {
        "id": "kx8RG8savCAK"
      },
      "source": [
        "train.loc[train.자격유형.isin(['B','H','G']), '자격유형'] = '국민임대_공급대상'\n",
        "test.loc[test.자격유형.isin(['B','H','G']), '자격유형'] = '국민임대_공급대상'"
      ],
      "execution_count": 96,
      "outputs": []
    },
    {
      "cell_type": "markdown",
      "metadata": {
        "id": "cqCMZzemvK_u"
      },
      "source": [
        "3. 'F','C','I' 묶어버리기 => 국민임대_공급대상"
      ]
    },
    {
      "cell_type": "code",
      "metadata": {
        "colab": {
          "base_uri": "https://localhost:8080/"
        },
        "id": "sg5-qGj7vHYe",
        "outputId": "a54e11a7-a32a-4356-df51-ed8e63786f24"
      },
      "source": [
        "print(train.loc[train.자격유형=='F','공급유형'].value_counts())"
      ],
      "execution_count": 97,
      "outputs": [
        {
          "output_type": "stream",
          "text": [
            "영구임대    3\n",
            "Name: 공급유형, dtype: int64\n"
          ],
          "name": "stdout"
        }
      ]
    },
    {
      "cell_type": "code",
      "metadata": {
        "colab": {
          "base_uri": "https://localhost:8080/"
        },
        "id": "UE4cT51Gv2KL",
        "outputId": "fe85317c-dc13-4814-c3d2-15d087f94d70"
      },
      "source": [
        "print(train.loc[train.공급유형=='영구임대', '자격유형'].value_counts())\n",
        "print(test.loc[test.공급유형=='영구임대', '자격유형'].value_counts())"
      ],
      "execution_count": 98,
      "outputs": [
        {
          "output_type": "stream",
          "text": [
            "C    95\n",
            "I    49\n",
            "F     3\n",
            "E     3\n",
            "A     2\n",
            "Name: 자격유형, dtype: int64\n",
            "C    35\n",
            "I     7\n",
            "D     3\n",
            "Name: 자격유형, dtype: int64\n"
          ],
          "name": "stdout"
        }
      ]
    },
    {
      "cell_type": "code",
      "metadata": {
        "colab": {
          "base_uri": "https://localhost:8080/"
        },
        "id": "AIZAlPLbwDTv",
        "outputId": "55fe3c8a-56bb-40e5-a505-c6bf576556c5"
      },
      "source": [
        "# C는 영구임대_공급대상에 포함.\n",
        "print(train.loc[train.자격유형=='C','공급유형'].value_counts())\n",
        "print(test.loc[test.자격유형=='C','공급유형'].value_counts())"
      ],
      "execution_count": 99,
      "outputs": [
        {
          "output_type": "stream",
          "text": [
            "영구임대    95\n",
            "Name: 공급유형, dtype: int64\n",
            "영구임대    35\n",
            "Name: 공급유형, dtype: int64\n"
          ],
          "name": "stdout"
        }
      ]
    },
    {
      "cell_type": "code",
      "metadata": {
        "colab": {
          "base_uri": "https://localhost:8080/"
        },
        "id": "OJL9q5LzwJp_",
        "outputId": "0500ce70-aa6c-45fb-9726-0670fd56e074"
      },
      "source": [
        "# I도 영구임대_공급대상에 포함.\n",
        "print(train.loc[train.자격유형=='I','공급유형'].value_counts())\n",
        "print(test.loc[test.자격유형=='I','공급유형'].value_counts())"
      ],
      "execution_count": 100,
      "outputs": [
        {
          "output_type": "stream",
          "text": [
            "영구임대    49\n",
            "Name: 공급유형, dtype: int64\n",
            "영구임대    7\n",
            "Name: 공급유형, dtype: int64\n"
          ],
          "name": "stdout"
        }
      ]
    },
    {
      "cell_type": "code",
      "metadata": {
        "colab": {
          "base_uri": "https://localhost:8080/"
        },
        "id": "rpL6vP5pwOBv",
        "outputId": "51bc32ee-9f49-42e6-e08b-cce8b85bd905"
      },
      "source": [
        "# E는 only 영구임대_공급대상 X\n",
        "print(train.loc[train.자격유형=='E','공급유형'].value_counts())\n",
        "print(test.loc[test.자격유형=='E','공급유형'].value_counts())"
      ],
      "execution_count": 101,
      "outputs": [
        {
          "output_type": "stream",
          "text": [
            "국민임대    34\n",
            "영구임대     3\n",
            "Name: 공급유형, dtype: int64\n",
            "국민임대    10\n",
            "Name: 공급유형, dtype: int64\n"
          ],
          "name": "stdout"
        }
      ]
    },
    {
      "cell_type": "code",
      "metadata": {
        "colab": {
          "base_uri": "https://localhost:8080/"
        },
        "id": "GSLn8C-rwRjR",
        "outputId": "b98ab033-e7b1-4225-9c1c-07506fb77b8b"
      },
      "source": [
        "# A는 only 영구임대_공급대상 X\n",
        "print(train.loc[train.자격유형=='A','공급유형'].value_counts())\n",
        "print(test.loc[test.자격유형=='A','공급유형'].value_counts())"
      ],
      "execution_count": 102,
      "outputs": [
        {
          "output_type": "stream",
          "text": [
            "국민임대         1539\n",
            "공공임대(10년)     205\n",
            "공공임대(50년)      31\n",
            "공공임대(분납)       12\n",
            "장기전세            9\n",
            "공공임대(5년)        3\n",
            "영구임대            2\n",
            "Name: 공급유형, dtype: int64\n",
            "국민임대         519\n",
            "공공임대(10년)     35\n",
            "공공임대(50년)     13\n",
            "공공임대(분납)       6\n",
            "Name: 공급유형, dtype: int64\n"
          ],
          "name": "stdout"
        }
      ]
    },
    {
      "cell_type": "code",
      "metadata": {
        "colab": {
          "base_uri": "https://localhost:8080/"
        },
        "id": "lOxQBvUqwmns",
        "outputId": "674efd3a-5f37-49d3-bbb9-2eb791b70a2e"
      },
      "source": [
        "# D는 only 영구임대_공급대상 X\n",
        "print(train.loc[train.자격유형=='D','공급유형'].value_counts())\n",
        "print(test.loc[test.자격유형=='D','공급유형'].value_counts())"
      ],
      "execution_count": 103,
      "outputs": [
        {
          "output_type": "stream",
          "text": [
            "임대상가    562\n",
            "공공분양      7\n",
            "Name: 공급유형, dtype: int64\n",
            "임대상가    177\n",
            "영구임대      3\n",
            "Name: 공급유형, dtype: int64\n"
          ],
          "name": "stdout"
        }
      ]
    },
    {
      "cell_type": "code",
      "metadata": {
        "id": "u55OTzuJwxwI"
      },
      "source": [
        "train.loc[train.자격유형.isin(['C','I','F']), '자격유형'] = '영구임대_공급대상'\n",
        "test.loc[test.자격유형.isin(['C','I','F']), '자격유형'] = '영구임대_공급대상'"
      ],
      "execution_count": 104,
      "outputs": []
    },
    {
      "cell_type": "code",
      "metadata": {
        "colab": {
          "base_uri": "https://localhost:8080/"
        },
        "id": "SKV6WODryQne",
        "outputId": "907b45d3-fab8-47c9-d585-bc988934a7dc"
      },
      "source": [
        "print(train.자격유형.value_counts())\n",
        "print(test.자격유형.value_counts())"
      ],
      "execution_count": 105,
      "outputs": [
        {
          "output_type": "stream",
          "text": [
            "A            1801\n",
            "D             569\n",
            "행복주택_공급대상     213\n",
            "국민임대_공급대상     185\n",
            "영구임대_공급대상     147\n",
            "E              37\n",
            "Name: 자격유형, dtype: int64\n",
            "A            573\n",
            "D            180\n",
            "행복주택_공급대상    124\n",
            "국민임대_공급대상     93\n",
            "영구임대_공급대상     42\n",
            "E             10\n",
            "Name: 자격유형, dtype: int64\n"
          ],
          "name": "stdout"
        }
      ]
    },
    {
      "cell_type": "markdown",
      "metadata": {
        "id": "sp-6yowJ-Ax4"
      },
      "source": [
        "## 단지코드별로 agg"
      ]
    },
    {
      "cell_type": "code",
      "metadata": {
        "colab": {
          "base_uri": "https://localhost:8080/"
        },
        "id": "TVKW7BhtqmF3",
        "outputId": "ea75007c-5feb-42da-f5f5-bfb8e13b372d"
      },
      "source": [
        "# 423개가 넘는 범주를 가지고 있다면, agg가 필요한 변수임\n",
        "print(len(set(train['단지코드']))) \n",
        "print('='*50)\n",
        "tr_nunique_groupby_danjicode = train.groupby(['단지코드']).nunique(dropna=False).sum(axis=0)\n",
        "tr_nunique_groupby_danjicode"
      ],
      "execution_count": 28,
      "outputs": [
        {
          "output_type": "stream",
          "text": [
            "423\n",
            "==================================================\n"
          ],
          "name": "stdout"
        },
        {
          "output_type": "execute_result",
          "data": {
            "text/plain": [
              "총세대수                             423\n",
              "임대건물구분                           456\n",
              "지역                               423\n",
              "공급유형                             488\n",
              "전용면적                            1898\n",
              "전용면적별세대수                        2230\n",
              "공가수                              423\n",
              "자격유형                             510\n",
              "임대보증금                           1277\n",
              "임대료                             1289\n",
              "도보 10분거리 내 지하철역 수(환승노선 수 반영)     423\n",
              "도보 10분거리 내 버스정류장 수               423\n",
              "단지내주차면수                          423\n",
              "등록차량수                            423\n",
              "dtype: int64"
            ]
          },
          "metadata": {
            "tags": []
          },
          "execution_count": 28
        }
      ]
    },
    {
      "cell_type": "code",
      "metadata": {
        "colab": {
          "base_uri": "https://localhost:8080/"
        },
        "id": "OufsU25FqyNR",
        "outputId": "c0751444-0a1a-49a8-c224-d63c1227dade"
      },
      "source": [
        "# 150개가 넘는 범주를 가지고 있다면, agg가 필요한 변수임\n",
        "print(len(set(test['단지코드'])))\n",
        "print('='*50)\n",
        "te_nunique_groupby_danjicode = test.groupby(['단지코드']).nunique(dropna=False).sum(axis=0)\n",
        "te_nunique_groupby_danjicode"
      ],
      "execution_count": 29,
      "outputs": [
        {
          "output_type": "stream",
          "text": [
            "150\n",
            "==================================================\n"
          ],
          "name": "stdout"
        },
        {
          "output_type": "execute_result",
          "data": {
            "text/plain": [
              "총세대수                            150\n",
              "임대건물구분                          157\n",
              "지역                              150\n",
              "공급유형                            167\n",
              "전용면적                            693\n",
              "전용면적별세대수                        797\n",
              "공가수                             150\n",
              "자격유형                            178\n",
              "임대보증금                           459\n",
              "임대료                             461\n",
              "도보 10분거리 내 지하철역 수(환승노선 수 반영)    150\n",
              "도보 10분거리 내 버스정류장 수              150\n",
              "단지내주차면수                         150\n",
              "dtype: int64"
            ]
          },
          "metadata": {
            "tags": []
          },
          "execution_count": 29
        }
      ]
    },
    {
      "cell_type": "code",
      "metadata": {
        "colab": {
          "base_uri": "https://localhost:8080/"
        },
        "id": "qnvP3NYGq4xe",
        "outputId": "f9e12631-24f4-4dee-b29a-a34e401b2c13"
      },
      "source": [
        "# agg 필요없는 변수들\n",
        "tr_not_need_agg = ['단지코드']+tr_nunique_groupby_danjicode[tr_nunique_groupby_danjicode<=len(set(train['단지코드']))].index.tolist()\n",
        "print(tr_not_need_agg)\n",
        "print(len(tr_not_need_agg))\n",
        "te_not_need_agg = ['단지코드']+te_nunique_groupby_danjicode[te_nunique_groupby_danjicode<=len(set(test['단지코드']))].index.tolist()\n",
        "print(te_not_need_agg)\n",
        "print(len(te_not_need_agg))"
      ],
      "execution_count": 30,
      "outputs": [
        {
          "output_type": "stream",
          "text": [
            "['단지코드', '총세대수', '지역', '공가수', '도보 10분거리 내 지하철역 수(환승노선 수 반영)', '도보 10분거리 내 버스정류장 수', '단지내주차면수', '등록차량수']\n",
            "8\n",
            "['단지코드', '총세대수', '지역', '공가수', '도보 10분거리 내 지하철역 수(환승노선 수 반영)', '도보 10분거리 내 버스정류장 수', '단지내주차면수']\n",
            "7\n"
          ],
          "name": "stdout"
        }
      ]
    },
    {
      "cell_type": "code",
      "metadata": {
        "colab": {
          "base_uri": "https://localhost:8080/",
          "height": 240
        },
        "id": "gcEGzTWFvrHl",
        "outputId": "1378c0c0-e80d-40ae-af06-0661ce1dda9c"
      },
      "source": [
        "# agg 필요없는 변수들\n",
        "df = train.loc[:,tr_not_need_agg].drop_duplicates()\n",
        "print(df.shape)\n",
        "df_test = test.loc[:,te_not_need_agg].drop_duplicates()\n",
        "print(df_test.shape)\n",
        "df.head()"
      ],
      "execution_count": 31,
      "outputs": [
        {
          "output_type": "stream",
          "text": [
            "(423, 8)\n",
            "(150, 7)\n"
          ],
          "name": "stdout"
        },
        {
          "output_type": "execute_result",
          "data": {
            "text/html": [
              "<div>\n",
              "<style scoped>\n",
              "    .dataframe tbody tr th:only-of-type {\n",
              "        vertical-align: middle;\n",
              "    }\n",
              "\n",
              "    .dataframe tbody tr th {\n",
              "        vertical-align: top;\n",
              "    }\n",
              "\n",
              "    .dataframe thead th {\n",
              "        text-align: right;\n",
              "    }\n",
              "</style>\n",
              "<table border=\"1\" class=\"dataframe\">\n",
              "  <thead>\n",
              "    <tr style=\"text-align: right;\">\n",
              "      <th></th>\n",
              "      <th>단지코드</th>\n",
              "      <th>총세대수</th>\n",
              "      <th>지역</th>\n",
              "      <th>공가수</th>\n",
              "      <th>도보 10분거리 내 지하철역 수(환승노선 수 반영)</th>\n",
              "      <th>도보 10분거리 내 버스정류장 수</th>\n",
              "      <th>단지내주차면수</th>\n",
              "      <th>등록차량수</th>\n",
              "    </tr>\n",
              "  </thead>\n",
              "  <tbody>\n",
              "    <tr>\n",
              "      <th>0</th>\n",
              "      <td>C2483</td>\n",
              "      <td>900</td>\n",
              "      <td>경상북도</td>\n",
              "      <td>38.0</td>\n",
              "      <td>0.0</td>\n",
              "      <td>3.0</td>\n",
              "      <td>1425.0</td>\n",
              "      <td>1015.0</td>\n",
              "    </tr>\n",
              "    <tr>\n",
              "      <th>8</th>\n",
              "      <td>C2515</td>\n",
              "      <td>545</td>\n",
              "      <td>경상남도</td>\n",
              "      <td>17.0</td>\n",
              "      <td>0.0</td>\n",
              "      <td>3.0</td>\n",
              "      <td>624.0</td>\n",
              "      <td>205.0</td>\n",
              "    </tr>\n",
              "    <tr>\n",
              "      <th>15</th>\n",
              "      <td>C1407</td>\n",
              "      <td>1216</td>\n",
              "      <td>대전광역시</td>\n",
              "      <td>13.0</td>\n",
              "      <td>1.0</td>\n",
              "      <td>1.0</td>\n",
              "      <td>1285.0</td>\n",
              "      <td>1064.0</td>\n",
              "    </tr>\n",
              "    <tr>\n",
              "      <th>26</th>\n",
              "      <td>C1945</td>\n",
              "      <td>755</td>\n",
              "      <td>경기도</td>\n",
              "      <td>6.0</td>\n",
              "      <td>1.0</td>\n",
              "      <td>3.0</td>\n",
              "      <td>734.0</td>\n",
              "      <td>730.0</td>\n",
              "    </tr>\n",
              "    <tr>\n",
              "      <th>32</th>\n",
              "      <td>C1470</td>\n",
              "      <td>696</td>\n",
              "      <td>전라북도</td>\n",
              "      <td>14.0</td>\n",
              "      <td>0.0</td>\n",
              "      <td>2.0</td>\n",
              "      <td>645.0</td>\n",
              "      <td>553.0</td>\n",
              "    </tr>\n",
              "  </tbody>\n",
              "</table>\n",
              "</div>"
            ],
            "text/plain": [
              "     단지코드  총세대수     지역  ...  도보 10분거리 내 버스정류장 수  단지내주차면수   등록차량수\n",
              "0   C2483   900   경상북도  ...                 3.0   1425.0  1015.0\n",
              "8   C2515   545   경상남도  ...                 3.0    624.0   205.0\n",
              "15  C1407  1216  대전광역시  ...                 1.0   1285.0  1064.0\n",
              "26  C1945   755    경기도  ...                 3.0    734.0   730.0\n",
              "32  C1470   696   전라북도  ...                 2.0    645.0   553.0\n",
              "\n",
              "[5 rows x 8 columns]"
            ]
          },
          "metadata": {
            "tags": []
          },
          "execution_count": 31
        }
      ]
    },
    {
      "cell_type": "code",
      "metadata": {
        "colab": {
          "base_uri": "https://localhost:8080/"
        },
        "id": "5gwFGMbfroTm",
        "outputId": "a453464d-ea4d-43b7-9b5a-790b40a1723c"
      },
      "source": [
        "# agg 필요한 변수들\n",
        "tr_need_agg = tr_nunique_groupby_danjicode[tr_nunique_groupby_danjicode>len(set(train['단지코드']))].index.tolist()\n",
        "print(tr_need_agg)\n",
        "print(len(tr_need_agg))\n",
        "te_need_agg = te_nunique_groupby_danjicode[te_nunique_groupby_danjicode>len(set(test['단지코드']))].index.tolist()\n",
        "print(te_need_agg)\n",
        "print(len(te_need_agg))"
      ],
      "execution_count": 32,
      "outputs": [
        {
          "output_type": "stream",
          "text": [
            "['임대건물구분', '공급유형', '전용면적', '전용면적별세대수', '자격유형', '임대보증금', '임대료']\n",
            "7\n",
            "['임대건물구분', '공급유형', '전용면적', '전용면적별세대수', '자격유형', '임대보증금', '임대료']\n",
            "7\n"
          ],
          "name": "stdout"
        }
      ]
    },
    {
      "cell_type": "code",
      "metadata": {
        "colab": {
          "base_uri": "https://localhost:8080/"
        },
        "id": "57_-9gICxct9",
        "outputId": "f64b56db-0687-4830-f0b9-a71adebb74c2"
      },
      "source": [
        "# continuous_variables : '전용면적','전용면적별세대수','임대보증금','임대료'\n",
        "continuous_variables = ['전용면적','전용면적별세대수','임대보증금','임대료']\n",
        "# https://rfriend.tistory.com/275\n",
        "contfeature = '전용면적'\n",
        "def reshaping_contfeature_by_pivot(input_df, from_data, contfeature):\n",
        "    agg_dict_for_map = from_data.groupby(['단지코드'])[contfeature].agg(['mean','median','min','max','std','count','sum']).to_dict()\n",
        "    result_df = input_df.copy()\n",
        "    for key in agg_dict_for_map.keys():\n",
        "        result_df[f'{contfeature}_{key}'] = input_df['단지코드'].map(agg_dict_for_map[key])\n",
        "    return result_df\n",
        "\n",
        "print(df.shape)\n",
        "for contfeature in continuous_variables:\n",
        "    df = reshaping_contfeature_by_pivot(df, train, contfeature)\n",
        "df = df.fillna(0).reset_index(drop=True)   # row가 1개뿐인 group의 std는 null값이 도출됨.\n",
        "print(df.shape)\n",
        "print('='*50)\n",
        "print(df_test.shape)\n",
        "for contfeature in continuous_variables:\n",
        "    df_test = reshaping_contfeature_by_pivot(df_test, test, contfeature)\n",
        "df_test = df_test.fillna(0).reset_index(drop=True)   # row가 1개뿐인 group의 std는 null값이 도출됨.\n",
        "print(df_test.shape)"
      ],
      "execution_count": 33,
      "outputs": [
        {
          "output_type": "stream",
          "text": [
            "(423, 8)\n",
            "(423, 36)\n",
            "==================================================\n",
            "(150, 7)\n",
            "(150, 35)\n"
          ],
          "name": "stdout"
        }
      ]
    },
    {
      "cell_type": "code",
      "metadata": {
        "colab": {
          "base_uri": "https://localhost:8080/"
        },
        "id": "PQP0w8n8lcu8",
        "outputId": "1b2c77e3-fb78-4448-ccf0-8338d8622f5d"
      },
      "source": [
        "# categorical_variables : '임대건물구분', '공급유형', '자격유형'\n",
        "categorical_variables = ['임대건물구분', '공급유형', '자격유형']\n",
        "def reshaping_catfeature_by_pivot(data, catfeature, value_col):\n",
        "    result_df = data.drop_duplicates(['단지코드', catfeature]).assign(counter=1).pivot(index='단지코드', columns=catfeature, values=value_col).fillna(0)\n",
        "    result_df.columns.name = None\n",
        "    result_df = result_df.rename(columns={col:f\"{catfeature}_{col}_{value_col}\" for col in result_df.columns})\n",
        "    return result_df\n",
        "\n",
        "print(df.shape)\n",
        "for catfeature in categorical_variables:\n",
        "    reshaped_data = reshaping_catfeature_by_pivot(train, catfeature, value_col='counter').reset_index(drop=True)\n",
        "    df = pd.concat([df,reshaped_data],axis=1)\n",
        "print(df.shape)\n",
        "print('='*50)\n",
        "print(df_test.shape)\n",
        "for catfeature in categorical_variables:\n",
        "    reshaped_data = reshaping_catfeature_by_pivot(test, catfeature, value_col='counter').reset_index(drop=True)\n",
        "    df_test = pd.concat([df_test,reshaped_data],axis=1)\n",
        "print(df_test.shape)"
      ],
      "execution_count": 34,
      "outputs": [
        {
          "output_type": "stream",
          "text": [
            "(423, 36)\n",
            "(423, 63)\n",
            "==================================================\n",
            "(150, 35)\n",
            "(150, 56)\n"
          ],
          "name": "stdout"
        }
      ]
    }
  ]
}